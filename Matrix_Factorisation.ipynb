{
  "nbformat": 4,
  "nbformat_minor": 0,
  "metadata": {
    "colab": {
      "name": "Matrix_Factorisation.ipynb",
      "version": "0.3.2",
      "provenance": [],
      "collapsed_sections": [],
      "toc_visible": true,
      "include_colab_link": true
    },
    "kernelspec": {
      "name": "python3",
      "display_name": "Python 3"
    },
    "accelerator": "GPU"
  },
  "cells": [
    {
      "cell_type": "markdown",
      "metadata": {
        "id": "view-in-github",
        "colab_type": "text"
      },
      "source": [
        "<a href=\"https://colab.research.google.com/github/thegreatwarlo/BeerPersonalization/blob/master/Matrix_Factorisation.ipynb\" target=\"_parent\"><img src=\"https://colab.research.google.com/assets/colab-badge.svg\" alt=\"Open In Colab\"/></a>"
      ]
    },
    {
      "metadata": {
        "id": "NfAiVolcpZvH",
        "colab_type": "text"
      },
      "cell_type": "markdown",
      "source": [
        "# Matrix Factorisation For Recomendation\n",
        "\n",
        "In this notebook we will look at how matrix facotrisation is done for the beer recommendation "
      ]
    },
    {
      "metadata": {
        "id": "Mssd0ltK8JDx",
        "colab_type": "text"
      },
      "cell_type": "markdown",
      "source": [
        "## Part 1: Data Preprocessing"
      ]
    },
    {
      "metadata": {
        "id": "M2Ca1Bu7ybHf",
        "colab_type": "code",
        "outputId": "9a72a9d6-1523-4123-d0e4-e722b3cbb386",
        "colab": {
          "base_uri": "https://localhost:8080/",
          "height": 106
        }
      },
      "cell_type": "code",
      "source": [
        "# based on Google Colab \n",
        "# python 3\n",
        "!pip install scikit-surprise"
      ],
      "execution_count": 25,
      "outputs": [
        {
          "output_type": "stream",
          "text": [
            "Requirement already satisfied: scikit-surprise in /usr/local/lib/python3.6/dist-packages (1.0.6)\n",
            "Requirement already satisfied: scipy>=1.0.0 in /usr/local/lib/python3.6/dist-packages (from scikit-surprise) (1.1.0)\n",
            "Requirement already satisfied: six>=1.10.0 in /usr/local/lib/python3.6/dist-packages (from scikit-surprise) (1.11.0)\n",
            "Requirement already satisfied: joblib>=0.11 in /usr/local/lib/python3.6/dist-packages (from scikit-surprise) (0.13.0)\n",
            "Requirement already satisfied: numpy>=1.11.2 in /usr/local/lib/python3.6/dist-packages (from scikit-surprise) (1.14.6)\n"
          ],
          "name": "stdout"
        }
      ]
    },
    {
      "metadata": {
        "id": "0UNJOz1iLEEz",
        "colab_type": "code",
        "colab": {}
      },
      "cell_type": "code",
      "source": [
        "import pandas as pd\n",
        "import numpy as np\n",
        "import os\n",
        "import itertools as it\n",
        "import matplotlib.pyplot as plt\n",
        "import matplotlib.pyplot as plt\n",
        "import gzip\n",
        "import pickle\n",
        "from sklearn.model_selection import train_test_split\n",
        "from matplotlib.ticker import FormatStrFormatter\n",
        "from surprise.model_selection import train_test_split\n",
        "from surprise import NMF, Reader, Dataset, SVD, NMF, accuracy, KNNWithMeans"
      ],
      "execution_count": 0,
      "outputs": []
    },
    {
      "metadata": {
        "id": "QneWL06UpaQk",
        "colab_type": "code",
        "outputId": "370c2ec5-76e3-44fb-89bd-ffdb9a08aa36",
        "colab": {
          "base_uri": "https://localhost:8080/",
          "height": 35
        }
      },
      "cell_type": "code",
      "source": [
        "from google.colab import drive\n",
        "drive.mount('/content/gdrive')"
      ],
      "execution_count": 27,
      "outputs": [
        {
          "output_type": "stream",
          "text": [
            "Drive already mounted at /content/gdrive; to attempt to forcibly remount, call drive.mount(\"/content/gdrive\", force_remount=True).\n"
          ],
          "name": "stdout"
        }
      ]
    },
    {
      "metadata": {
        "id": "5apjyVYtwt1H",
        "colab_type": "text"
      },
      "cell_type": "markdown",
      "source": [
        "### 1.1 Load Data"
      ]
    },
    {
      "metadata": {
        "id": "VrCif9HWaZt2",
        "colab_type": "code",
        "colab": {}
      },
      "cell_type": "code",
      "source": [
        "# load metadata from Google Drive \n",
        "# save as a list\n",
        "data = []\n",
        "one_complete_review = []\n",
        "\n",
        "\n",
        "with gzip.open('/content/gdrive/My Drive/Final Project/Beeradvocate.txt.gz', 'r') as f:\n",
        "  rb_file = f.readlines()\n",
        "data = []\n",
        "row_out = []\n",
        "\n",
        "for i in rb_file:\n",
        "    row = i.decode('utf-8', errors = 'replace')\n",
        "    #print(row)\n",
        "    if row == '\\n':\n",
        "      data.append(row_out)\n",
        "      row_out = []\n",
        "      continue\n",
        "    cat, field = row.split(\":\", 1)\n",
        "    #remove leading white spaces\n",
        "    field = field.rstrip()\n",
        "    row_out.append(field)"
      ],
      "execution_count": 0,
      "outputs": []
    },
    {
      "metadata": {
        "id": "Lsw0ncLmJrdH",
        "colab_type": "code",
        "colab": {}
      },
      "cell_type": "code",
      "source": [
        "# convert list to dataframe\n",
        "column_names = ['beer_name', 'beer_beerId', 'beer_brewer', 'beer_ABV', 'beer_style', \n",
        "                'review_appearance', 'review_aroma', 'review_palate', 'review_taste', \n",
        "                'review_overall', 'review_time', 'review_profileName', 'review_text']\n",
        "\n",
        "df = pd.DataFrame.from_records(data, columns=column_names)"
      ],
      "execution_count": 0,
      "outputs": []
    },
    {
      "metadata": {
        "id": "D7pe2FKQlAEl",
        "colab_type": "code",
        "outputId": "3aebe458-d66d-4b27-fa2b-085b6a076fe9",
        "colab": {
          "base_uri": "https://localhost:8080/",
          "height": 337
        }
      },
      "cell_type": "code",
      "source": [
        "# descriptive \n",
        "df.info()"
      ],
      "execution_count": 30,
      "outputs": [
        {
          "output_type": "stream",
          "text": [
            "<class 'pandas.core.frame.DataFrame'>\n",
            "RangeIndex: 1586614 entries, 0 to 1586613\n",
            "Data columns (total 13 columns):\n",
            "beer_name             1586614 non-null object\n",
            "beer_beerId           1586614 non-null object\n",
            "beer_brewer           1586614 non-null object\n",
            "beer_ABV              1586614 non-null object\n",
            "beer_style            1586614 non-null object\n",
            "review_appearance     1586614 non-null object\n",
            "review_aroma          1586614 non-null object\n",
            "review_palate         1586614 non-null object\n",
            "review_taste          1586614 non-null object\n",
            "review_overall        1586614 non-null object\n",
            "review_time           1586614 non-null object\n",
            "review_profileName    1586614 non-null object\n",
            "review_text           1586614 non-null object\n",
            "dtypes: object(13)\n",
            "memory usage: 157.4+ MB\n"
          ],
          "name": "stdout"
        }
      ]
    },
    {
      "metadata": {
        "id": "jf_Sd4_WK7kl",
        "colab_type": "code",
        "outputId": "589224a0-987c-47e8-92f5-1287fe3ce55e",
        "colab": {
          "base_uri": "https://localhost:8080/",
          "height": 307
        }
      },
      "cell_type": "code",
      "source": [
        "df.head(3)"
      ],
      "execution_count": 31,
      "outputs": [
        {
          "output_type": "execute_result",
          "data": {
            "text/html": [
              "<div>\n",
              "<style scoped>\n",
              "    .dataframe tbody tr th:only-of-type {\n",
              "        vertical-align: middle;\n",
              "    }\n",
              "\n",
              "    .dataframe tbody tr th {\n",
              "        vertical-align: top;\n",
              "    }\n",
              "\n",
              "    .dataframe thead th {\n",
              "        text-align: right;\n",
              "    }\n",
              "</style>\n",
              "<table border=\"1\" class=\"dataframe\">\n",
              "  <thead>\n",
              "    <tr style=\"text-align: right;\">\n",
              "      <th></th>\n",
              "      <th>beer_name</th>\n",
              "      <th>beer_beerId</th>\n",
              "      <th>beer_brewer</th>\n",
              "      <th>beer_ABV</th>\n",
              "      <th>beer_style</th>\n",
              "      <th>review_appearance</th>\n",
              "      <th>review_aroma</th>\n",
              "      <th>review_palate</th>\n",
              "      <th>review_taste</th>\n",
              "      <th>review_overall</th>\n",
              "      <th>review_time</th>\n",
              "      <th>review_profileName</th>\n",
              "      <th>review_text</th>\n",
              "    </tr>\n",
              "  </thead>\n",
              "  <tbody>\n",
              "    <tr>\n",
              "      <th>0</th>\n",
              "      <td>Sausa Weizen</td>\n",
              "      <td>47986</td>\n",
              "      <td>10325</td>\n",
              "      <td>5.00</td>\n",
              "      <td>Hefeweizen</td>\n",
              "      <td>2.5</td>\n",
              "      <td>2</td>\n",
              "      <td>1.5</td>\n",
              "      <td>1.5</td>\n",
              "      <td>1.5</td>\n",
              "      <td>1234817823</td>\n",
              "      <td>stcules</td>\n",
              "      <td>A lot of foam. But a lot.\\tIn the smell some ...</td>\n",
              "    </tr>\n",
              "    <tr>\n",
              "      <th>1</th>\n",
              "      <td>Red Moon</td>\n",
              "      <td>48213</td>\n",
              "      <td>10325</td>\n",
              "      <td>6.20</td>\n",
              "      <td>English Strong Ale</td>\n",
              "      <td>3</td>\n",
              "      <td>2.5</td>\n",
              "      <td>3</td>\n",
              "      <td>3</td>\n",
              "      <td>3</td>\n",
              "      <td>1235915097</td>\n",
              "      <td>stcules</td>\n",
              "      <td>Dark red color, light beige foam, average.\\tI...</td>\n",
              "    </tr>\n",
              "    <tr>\n",
              "      <th>2</th>\n",
              "      <td>Black Horse Black Beer</td>\n",
              "      <td>48215</td>\n",
              "      <td>10325</td>\n",
              "      <td>6.50</td>\n",
              "      <td>Foreign / Export Stout</td>\n",
              "      <td>3</td>\n",
              "      <td>2.5</td>\n",
              "      <td>3</td>\n",
              "      <td>3</td>\n",
              "      <td>3</td>\n",
              "      <td>1235916604</td>\n",
              "      <td>stcules</td>\n",
              "      <td>Almost totally black. Beige foam, quite compa...</td>\n",
              "    </tr>\n",
              "  </tbody>\n",
              "</table>\n",
              "</div>"
            ],
            "text/plain": [
              "                 beer_name beer_beerId beer_brewer beer_ABV  \\\n",
              "0             Sausa Weizen       47986       10325     5.00   \n",
              "1                 Red Moon       48213       10325     6.20   \n",
              "2   Black Horse Black Beer       48215       10325     6.50   \n",
              "\n",
              "                beer_style review_appearance review_aroma review_palate  \\\n",
              "0               Hefeweizen               2.5            2           1.5   \n",
              "1       English Strong Ale                 3          2.5             3   \n",
              "2   Foreign / Export Stout                 3          2.5             3   \n",
              "\n",
              "  review_taste review_overall  review_time review_profileName  \\\n",
              "0          1.5            1.5   1234817823            stcules   \n",
              "1            3              3   1235915097            stcules   \n",
              "2            3              3   1235916604            stcules   \n",
              "\n",
              "                                         review_text  \n",
              "0   A lot of foam. But a lot.\\tIn the smell some ...  \n",
              "1   Dark red color, light beige foam, average.\\tI...  \n",
              "2   Almost totally black. Beige foam, quite compa...  "
            ]
          },
          "metadata": {
            "tags": []
          },
          "execution_count": 31
        }
      ]
    },
    {
      "metadata": {
        "id": "smNuxKZYjdW1",
        "colab_type": "code",
        "outputId": "3d5ac0e8-8127-4ae3-efb7-49b35270c3e5",
        "colab": {
          "base_uri": "https://localhost:8080/",
          "height": 88
        }
      },
      "cell_type": "code",
      "source": [
        "print('The full dataset includes:')\n",
        "print('%d unique beers;' % df.beer_beerId.nunique())\n",
        "print('%d unique users;' % df.review_profileName.nunique())\n",
        "print('and %d reviews in total.' % df.shape[0])"
      ],
      "execution_count": 32,
      "outputs": [
        {
          "output_type": "stream",
          "text": [
            "The full dataset includes:\n",
            "66055 unique beers;\n",
            "33388 unique users;\n",
            "and 1586614 reviews in total.\n"
          ],
          "name": "stdout"
        }
      ]
    },
    {
      "metadata": {
        "id": "rPigP-ls6UEN",
        "colab_type": "text"
      },
      "cell_type": "markdown",
      "source": [
        "#### Users Description"
      ]
    },
    {
      "metadata": {
        "id": "Qt57koiXy7nw",
        "colab_type": "code",
        "colab": {}
      },
      "cell_type": "code",
      "source": [
        "num_review_byuser = df.review_profileName.value_counts()\n",
        "freq_list_user = np.array(list(dict(num_review_byuser).values()))"
      ],
      "execution_count": 0,
      "outputs": []
    },
    {
      "metadata": {
        "id": "njLY-TDOLD0B",
        "colab_type": "text"
      },
      "cell_type": "markdown",
      "source": [
        "We have 33388 unique users, among them ~28000 users have less than 30 reviews."
      ]
    },
    {
      "metadata": {
        "id": "QTjzagZ86V_L",
        "colab_type": "text"
      },
      "cell_type": "markdown",
      "source": [
        "#### Beer Description"
      ]
    },
    {
      "metadata": {
        "id": "E1llGa_Y6Zkr",
        "colab_type": "code",
        "colab": {}
      },
      "cell_type": "code",
      "source": [
        "num_review_bybeer = df.beer_name.value_counts()\n",
        "freq_list_beer = np.array(list(dict(num_review_bybeer).values()))"
      ],
      "execution_count": 0,
      "outputs": []
    },
    {
      "metadata": {
        "id": "DneoL1w4ncSk",
        "colab_type": "text"
      },
      "cell_type": "markdown",
      "source": [
        "### 1.2 Subset from Metadata"
      ]
    },
    {
      "metadata": {
        "id": "4w89UnKGn6tp",
        "colab_type": "code",
        "outputId": "1e07f900-6e73-431a-a02d-44bbaf55fa91",
        "colab": {
          "base_uri": "https://localhost:8080/",
          "height": 70
        }
      },
      "cell_type": "code",
      "source": [
        "# subset data for collabrotive filtering\n",
        "df1 = df[['beer_name', 'beer_beerId', 'review_profileName', 'review_overall', 'review_time']]\n",
        "print('Original data size: %s' % str(df1.shape)) \n",
        "\n",
        "# remove NA \n",
        "df1 = df1[pd.notnull(df1.beer_name) & pd.notnull(df1.review_profileName) & pd.notnull(df1.review_overall)]\n",
        "# remove blanks\n",
        "df1 = df1.loc[df1.review_profileName != '']\n",
        "df1 = df1.loc[df1.beer_name != '']\n",
        "df1 = df1.loc[df1.review_overall != '']\n",
        "print('After removing NAs and blanks: %s' % str(df1.shape)) \n",
        "\n",
        "# drop duplicate (beer&user) pairs, keep the latest rating\n",
        "df1['beer_user_pair'] = df1.beer_name + df1.review_profileName\n",
        "df1 = df1.sort_values(by=['review_time'], ascending=False).drop_duplicates(subset=['beer_user_pair'])\n",
        "print('After drop duplicate user-item pairs (only keep the latest rating), data size: %s' % str(df1.shape))\n",
        "\n",
        "# convert review ratings to numberic\n",
        "df1.review_overall = pd.to_numeric(df1.review_overall)"
      ],
      "execution_count": 35,
      "outputs": [
        {
          "output_type": "stream",
          "text": [
            "Original data size: (1586614, 5)\n",
            "After removing NAs and blanks: (1586266, 5)\n",
            "After drop duplicate user-item pairs (only keep the latest rating), data size: (1561405, 6)\n"
          ],
          "name": "stdout"
        }
      ]
    },
    {
      "metadata": {
        "id": "StxaZXa96OhD",
        "colab_type": "code",
        "outputId": "00b989d3-1f64-4981-b1ef-2b07a2714009",
        "colab": {
          "base_uri": "https://localhost:8080/",
          "height": 135
        }
      },
      "cell_type": "code",
      "source": [
        "df1.head(3)"
      ],
      "execution_count": 36,
      "outputs": [
        {
          "output_type": "execute_result",
          "data": {
            "text/html": [
              "<div>\n",
              "<style scoped>\n",
              "    .dataframe tbody tr th:only-of-type {\n",
              "        vertical-align: middle;\n",
              "    }\n",
              "\n",
              "    .dataframe tbody tr th {\n",
              "        vertical-align: top;\n",
              "    }\n",
              "\n",
              "    .dataframe thead th {\n",
              "        text-align: right;\n",
              "    }\n",
              "</style>\n",
              "<table border=\"1\" class=\"dataframe\">\n",
              "  <thead>\n",
              "    <tr style=\"text-align: right;\">\n",
              "      <th></th>\n",
              "      <th>beer_name</th>\n",
              "      <th>beer_beerId</th>\n",
              "      <th>review_profileName</th>\n",
              "      <th>review_overall</th>\n",
              "      <th>review_time</th>\n",
              "      <th>beer_user_pair</th>\n",
              "    </tr>\n",
              "  </thead>\n",
              "  <tbody>\n",
              "    <tr>\n",
              "      <th>581215</th>\n",
              "      <td>Pete's Wicked Strawberry Blonde</td>\n",
              "      <td>381</td>\n",
              "      <td>bk3nj</td>\n",
              "      <td>3.0</td>\n",
              "      <td>999999652</td>\n",
              "      <td>Pete's Wicked Strawberry Blonde bk3nj</td>\n",
              "    </tr>\n",
              "    <tr>\n",
              "      <th>1023623</th>\n",
              "      <td>Fiji Bitter</td>\n",
              "      <td>1480</td>\n",
              "      <td>Mark</td>\n",
              "      <td>4.0</td>\n",
              "      <td>999980551</td>\n",
              "      <td>Fiji Bitter Mark</td>\n",
              "    </tr>\n",
              "    <tr>\n",
              "      <th>1077899</th>\n",
              "      <td>Wolaver's India Pale Ale</td>\n",
              "      <td>399</td>\n",
              "      <td>bcm119</td>\n",
              "      <td>3.5</td>\n",
              "      <td>999903142</td>\n",
              "      <td>Wolaver's India Pale Ale bcm119</td>\n",
              "    </tr>\n",
              "  </tbody>\n",
              "</table>\n",
              "</div>"
            ],
            "text/plain": [
              "                                beer_name beer_beerId review_profileName  \\\n",
              "581215    Pete's Wicked Strawberry Blonde         381              bk3nj   \n",
              "1023623                       Fiji Bitter        1480               Mark   \n",
              "1077899          Wolaver's India Pale Ale         399             bcm119   \n",
              "\n",
              "         review_overall review_time                          beer_user_pair  \n",
              "581215              3.0   999999652   Pete's Wicked Strawberry Blonde bk3nj  \n",
              "1023623             4.0   999980551                        Fiji Bitter Mark  \n",
              "1077899             3.5   999903142         Wolaver's India Pale Ale bcm119  "
            ]
          },
          "metadata": {
            "tags": []
          },
          "execution_count": 36
        }
      ]
    },
    {
      "metadata": {
        "id": "m9Ht9Sa-OX_U",
        "colab_type": "text"
      },
      "cell_type": "markdown",
      "source": [
        "#### Subset low number of users and beers"
      ]
    },
    {
      "metadata": {
        "id": "0Jk6lij9ErZN",
        "colab_type": "code",
        "outputId": "f173cc7b-4601-43a9-a751-37c65c230c93",
        "colab": {
          "base_uri": "https://localhost:8080/",
          "height": 230
        }
      },
      "cell_type": "code",
      "source": [
        "# subset three columns\n",
        "cf = df1[['review_profileName', 'beer_name', 'review_overall']]\n",
        "\n",
        "# sort user by # of reviews\n",
        "cnt_user = dict(num_review_byuser)\n",
        "cf['user_freq'] = [cnt_user.get(x) for x in cf.review_profileName]\n",
        "\n",
        "# sort beer by # of reviews\n",
        "cnt_beer = dict(num_review_bybeer)\n",
        "cf['beer_freq'] = [cnt_beer.get(x) for x in cf.beer_name]\n",
        "\n",
        "# drop users with less than 10 reviews\n",
        "# drop beers with less than 5 reviews\n",
        "cf = cf.loc[cf.user_freq > 10]\n",
        "cf = cf.loc[cf.beer_freq > 5]"
      ],
      "execution_count": 37,
      "outputs": [
        {
          "output_type": "stream",
          "text": [
            "/usr/local/lib/python3.6/dist-packages/ipykernel_launcher.py:5: SettingWithCopyWarning: \n",
            "A value is trying to be set on a copy of a slice from a DataFrame.\n",
            "Try using .loc[row_indexer,col_indexer] = value instead\n",
            "\n",
            "See the caveats in the documentation: http://pandas.pydata.org/pandas-docs/stable/indexing.html#indexing-view-versus-copy\n",
            "  \"\"\"\n",
            "/usr/local/lib/python3.6/dist-packages/ipykernel_launcher.py:9: SettingWithCopyWarning: \n",
            "A value is trying to be set on a copy of a slice from a DataFrame.\n",
            "Try using .loc[row_indexer,col_indexer] = value instead\n",
            "\n",
            "See the caveats in the documentation: http://pandas.pydata.org/pandas-docs/stable/indexing.html#indexing-view-versus-copy\n",
            "  if __name__ == '__main__':\n"
          ],
          "name": "stderr"
        }
      ]
    },
    {
      "metadata": {
        "id": "FozoopjYKOrC",
        "colab_type": "code",
        "outputId": "f846d9ed-14bf-4f4c-9a4a-7233b8a76bd0",
        "colab": {
          "base_uri": "https://localhost:8080/",
          "height": 88
        }
      },
      "cell_type": "code",
      "source": [
        "print('After removing bottom users and beers,')\n",
        "print('%d unique beers;' % cf.beer_name.nunique())\n",
        "print('%d unique users;' % cf.review_profileName.nunique())\n",
        "print('and %d reviews in total.' % cf.shape[0])"
      ],
      "execution_count": 38,
      "outputs": [
        {
          "output_type": "stream",
          "text": [
            "After removing bottom users and beers,\n",
            "18925 unique beers;\n",
            "10189 unique users;\n",
            "and 1423856 reviews in total.\n"
          ],
          "name": "stdout"
        }
      ]
    },
    {
      "metadata": {
        "id": "coPrQ4D9JlmU",
        "colab_type": "code",
        "outputId": "536493a0-1ba0-4dc8-c34b-14566b595a07",
        "colab": {
          "base_uri": "https://localhost:8080/",
          "height": 135
        }
      },
      "cell_type": "code",
      "source": [
        "cf.head(3)"
      ],
      "execution_count": 39,
      "outputs": [
        {
          "output_type": "execute_result",
          "data": {
            "text/html": [
              "<div>\n",
              "<style scoped>\n",
              "    .dataframe tbody tr th:only-of-type {\n",
              "        vertical-align: middle;\n",
              "    }\n",
              "\n",
              "    .dataframe tbody tr th {\n",
              "        vertical-align: top;\n",
              "    }\n",
              "\n",
              "    .dataframe thead th {\n",
              "        text-align: right;\n",
              "    }\n",
              "</style>\n",
              "<table border=\"1\" class=\"dataframe\">\n",
              "  <thead>\n",
              "    <tr style=\"text-align: right;\">\n",
              "      <th></th>\n",
              "      <th>review_profileName</th>\n",
              "      <th>beer_name</th>\n",
              "      <th>review_overall</th>\n",
              "      <th>user_freq</th>\n",
              "      <th>beer_freq</th>\n",
              "    </tr>\n",
              "  </thead>\n",
              "  <tbody>\n",
              "    <tr>\n",
              "      <th>581215</th>\n",
              "      <td>bk3nj</td>\n",
              "      <td>Pete's Wicked Strawberry Blonde</td>\n",
              "      <td>3.0</td>\n",
              "      <td>45</td>\n",
              "      <td>298</td>\n",
              "    </tr>\n",
              "    <tr>\n",
              "      <th>1023623</th>\n",
              "      <td>Mark</td>\n",
              "      <td>Fiji Bitter</td>\n",
              "      <td>4.0</td>\n",
              "      <td>532</td>\n",
              "      <td>8</td>\n",
              "    </tr>\n",
              "    <tr>\n",
              "      <th>1077899</th>\n",
              "      <td>bcm119</td>\n",
              "      <td>Wolaver's India Pale Ale</td>\n",
              "      <td>3.5</td>\n",
              "      <td>175</td>\n",
              "      <td>257</td>\n",
              "    </tr>\n",
              "  </tbody>\n",
              "</table>\n",
              "</div>"
            ],
            "text/plain": [
              "        review_profileName                         beer_name  review_overall  \\\n",
              "581215               bk3nj   Pete's Wicked Strawberry Blonde             3.0   \n",
              "1023623               Mark                       Fiji Bitter             4.0   \n",
              "1077899             bcm119          Wolaver's India Pale Ale             3.5   \n",
              "\n",
              "         user_freq  beer_freq  \n",
              "581215          45        298  \n",
              "1023623        532          8  \n",
              "1077899        175        257  "
            ]
          },
          "metadata": {
            "tags": []
          },
          "execution_count": 39
        }
      ]
    },
    {
      "metadata": {
        "id": "Tl4y9c11PZvj",
        "colab_type": "text"
      },
      "cell_type": "markdown",
      "source": [
        "## Part 2: Prediction Models"
      ]
    },
    {
      "metadata": {
        "id": "ON1T-CcXvBBi",
        "colab_type": "code",
        "colab": {}
      },
      "cell_type": "code",
      "source": [
        "# define functions to generate prediction dataframe\n",
        "# get_Iu and get_Ui are borrowed from Surprise library\n",
        "def get_Iu(uid):\n",
        "    \"\"\"Return the number of items rated by given user\n",
        "    Args:\n",
        "        uid: The raw id of the user.\n",
        "    Returns:\n",
        "        The number of items rated by the user.\n",
        "    \"\"\"\n",
        "    try:\n",
        "        return len(trainset.ur[trainset.to_inner_uid(uid)])\n",
        "    except ValueError:  # user was not part of the trainset\n",
        "        return 0\n",
        "    \n",
        "def get_Ui(iid):\n",
        "    \"\"\"Return the number of users that have rated given item\n",
        "    Args:\n",
        "        iid: The raw id of the item.\n",
        "    Returns:\n",
        "        The number of users that have rated the item.\n",
        "    \"\"\"\n",
        "    try:\n",
        "        return len(trainset.ir[trainset.to_inner_iid(iid)])\n",
        "    except ValueError:  # item was not part of the trainset\n",
        "        return 0\n",
        "\n",
        "# customized function to get predictions\n",
        "def get_pred_df(pred):\n",
        "  pred_df = pd.DataFrame(pred, columns=['uid', 'iid', 'rui', 'est', 'details'])    \n",
        "  pred_df['Iu'] = pred_df.uid.apply(get_Iu)\n",
        "  pred_df['Ui'] = pred_df.iid.apply(get_Ui)\n",
        "  pred_df['err'] = abs(pred_df.est - pred_df.rui)\n",
        "  \n",
        "  # append review counts\n",
        "  pred_df['user_freq'] = [cnt_user.get(x) for x in pred_df.uid]\n",
        "  pred_df = pred_df.sort_values(by=['uid'])\n",
        "  \n",
        "  return pred_df"
      ],
      "execution_count": 0,
      "outputs": []
    },
    {
      "metadata": {
        "id": "rRUhL5QqZHMP",
        "colab_type": "code",
        "colab": {}
      },
      "cell_type": "code",
      "source": [
        "# train test split\n",
        "reader = Reader(rating_scale=(1, 5))\n",
        "data = Dataset.load_from_df(cf[['review_profileName', 'beer_name', 'review_overall']], reader)\n",
        "trainset, testset = train_test_split(data, test_size=.33)"
      ],
      "execution_count": 0,
      "outputs": []
    },
    {
      "metadata": {
        "id": "bpfWuilrgB0s",
        "colab_type": "text"
      },
      "cell_type": "markdown",
      "source": [
        "### 2.1 SVD"
      ]
    },
    {
      "metadata": {
        "id": "36qdidqdgIzN",
        "colab_type": "code",
        "outputId": "212d49b8-509b-4e10-8076-f04261c80c42",
        "colab": {
          "base_uri": "https://localhost:8080/",
          "height": 212
        }
      },
      "cell_type": "code",
      "source": [
        "# fit\n",
        "svd = SVD(n_factors = 30, lr_all = 0.01, reg_all = 0.05)\n",
        "svd.fit(trainset)\n",
        "\n",
        "# test \n",
        "svd_pred = svd.test(testset)\n",
        "accuracy.rmse(svd_pred, verbose=True)\n",
        "\n",
        "# predict\n",
        "svd_pred_df = get_pred_df(svd_pred)\n",
        "svd_pred_df.head()"
      ],
      "execution_count": 42,
      "outputs": [
        {
          "output_type": "stream",
          "text": [
            "RMSE: 0.5907\n"
          ],
          "name": "stdout"
        },
        {
          "output_type": "execute_result",
          "data": {
            "text/html": [
              "<div>\n",
              "<style scoped>\n",
              "    .dataframe tbody tr th:only-of-type {\n",
              "        vertical-align: middle;\n",
              "    }\n",
              "\n",
              "    .dataframe tbody tr th {\n",
              "        vertical-align: top;\n",
              "    }\n",
              "\n",
              "    .dataframe thead th {\n",
              "        text-align: right;\n",
              "    }\n",
              "</style>\n",
              "<table border=\"1\" class=\"dataframe\">\n",
              "  <thead>\n",
              "    <tr style=\"text-align: right;\">\n",
              "      <th></th>\n",
              "      <th>uid</th>\n",
              "      <th>iid</th>\n",
              "      <th>rui</th>\n",
              "      <th>est</th>\n",
              "      <th>details</th>\n",
              "      <th>Iu</th>\n",
              "      <th>Ui</th>\n",
              "      <th>err</th>\n",
              "      <th>user_freq</th>\n",
              "    </tr>\n",
              "  </thead>\n",
              "  <tbody>\n",
              "    <tr>\n",
              "      <th>66699</th>\n",
              "      <td>0110x011</td>\n",
              "      <td>Good Mojo</td>\n",
              "      <td>5.0</td>\n",
              "      <td>4.488709</td>\n",
              "      <td>{'was_impossible': False}</td>\n",
              "      <td>83</td>\n",
              "      <td>5</td>\n",
              "      <td>0.511291</td>\n",
              "      <td>139</td>\n",
              "    </tr>\n",
              "    <tr>\n",
              "      <th>365936</th>\n",
              "      <td>0110x011</td>\n",
              "      <td>AleSmith Speedway Stout - Barrel Aged</td>\n",
              "      <td>3.5</td>\n",
              "      <td>4.537887</td>\n",
              "      <td>{'was_impossible': False}</td>\n",
              "      <td>83</td>\n",
              "      <td>136</td>\n",
              "      <td>1.037887</td>\n",
              "      <td>139</td>\n",
              "    </tr>\n",
              "    <tr>\n",
              "      <th>144918</th>\n",
              "      <td>0110x011</td>\n",
              "      <td>Tovarish Imperial Espresso Stout</td>\n",
              "      <td>4.0</td>\n",
              "      <td>4.316270</td>\n",
              "      <td>{'was_impossible': False}</td>\n",
              "      <td>83</td>\n",
              "      <td>10</td>\n",
              "      <td>0.316270</td>\n",
              "      <td>139</td>\n",
              "    </tr>\n",
              "    <tr>\n",
              "      <th>246970</th>\n",
              "      <td>0110x011</td>\n",
              "      <td>Sanctification</td>\n",
              "      <td>5.0</td>\n",
              "      <td>4.514253</td>\n",
              "      <td>{'was_impossible': False}</td>\n",
              "      <td>83</td>\n",
              "      <td>291</td>\n",
              "      <td>0.485747</td>\n",
              "      <td>139</td>\n",
              "    </tr>\n",
              "    <tr>\n",
              "      <th>348056</th>\n",
              "      <td>0110x011</td>\n",
              "      <td>Arctic Devil Barley Wine</td>\n",
              "      <td>4.0</td>\n",
              "      <td>4.342719</td>\n",
              "      <td>{'was_impossible': False}</td>\n",
              "      <td>83</td>\n",
              "      <td>145</td>\n",
              "      <td>0.342719</td>\n",
              "      <td>139</td>\n",
              "    </tr>\n",
              "  </tbody>\n",
              "</table>\n",
              "</div>"
            ],
            "text/plain": [
              "              uid                                     iid  rui       est  \\\n",
              "66699    0110x011                               Good Mojo  5.0  4.488709   \n",
              "365936   0110x011   AleSmith Speedway Stout - Barrel Aged  3.5  4.537887   \n",
              "144918   0110x011        Tovarish Imperial Espresso Stout  4.0  4.316270   \n",
              "246970   0110x011                          Sanctification  5.0  4.514253   \n",
              "348056   0110x011                Arctic Devil Barley Wine  4.0  4.342719   \n",
              "\n",
              "                          details  Iu   Ui       err  user_freq  \n",
              "66699   {'was_impossible': False}  83    5  0.511291        139  \n",
              "365936  {'was_impossible': False}  83  136  1.037887        139  \n",
              "144918  {'was_impossible': False}  83   10  0.316270        139  \n",
              "246970  {'was_impossible': False}  83  291  0.485747        139  \n",
              "348056  {'was_impossible': False}  83  145  0.342719        139  "
            ]
          },
          "metadata": {
            "tags": []
          },
          "execution_count": 42
        }
      ]
    },
    {
      "metadata": {
        "id": "VpPn5nb07Nso",
        "colab_type": "code",
        "colab": {}
      },
      "cell_type": "code",
      "source": [
        "# predict on whole dataset\n",
        "trainset_s, testset_s = train_test_split(data, test_size=.99)\n",
        "\n",
        "svd_pred_s = svd.test(testset_s)\n",
        "svd_pred_df_s = get_pred_df(svd_pred_s)\n",
        "svd_pred_df_s.head()\n",
        "pickle.dump(svd_pred_df_s,open(\"/content/gdrive/My Drive/Final Project/svd_rec.sav\", 'wb'))"
      ],
      "execution_count": 0,
      "outputs": []
    },
    {
      "metadata": {
        "id": "cFTht8APvKvV",
        "colab_type": "text"
      },
      "cell_type": "markdown",
      "source": [
        "### 2.2 Non-negative Matrix Factorization (NMF)"
      ]
    },
    {
      "metadata": {
        "id": "IDi08dmivieq",
        "colab_type": "code",
        "outputId": "563f7dca-c04e-4701-c2a7-0be3037139e1",
        "colab": {
          "base_uri": "https://localhost:8080/",
          "height": 229
        }
      },
      "cell_type": "code",
      "source": [
        "# fit\n",
        "nmf = NMF(n_factors = 25, n_epochs = 50, reg_pu = 0.1, reg_qi = 0.1)\n",
        "nmf.fit(trainset)\n",
        "\n",
        "# test \n",
        "nmf_pred = nmf.test(testset)\n",
        "nmf_rmse = accuracy.rmse(nmf_pred, verbose=True) \n",
        "print('Test RMSE of NMF is %s' % round(nmf_rmse, 3))\n",
        "\n",
        "# predict\n",
        "nmf_pred_df = get_pred_df(nmf_pred)\n",
        "nmf_pred_df.head()"
      ],
      "execution_count": 44,
      "outputs": [
        {
          "output_type": "stream",
          "text": [
            "RMSE: 0.5980\n",
            "Test RMSE of NMF is 0.598\n"
          ],
          "name": "stdout"
        },
        {
          "output_type": "execute_result",
          "data": {
            "text/html": [
              "<div>\n",
              "<style scoped>\n",
              "    .dataframe tbody tr th:only-of-type {\n",
              "        vertical-align: middle;\n",
              "    }\n",
              "\n",
              "    .dataframe tbody tr th {\n",
              "        vertical-align: top;\n",
              "    }\n",
              "\n",
              "    .dataframe thead th {\n",
              "        text-align: right;\n",
              "    }\n",
              "</style>\n",
              "<table border=\"1\" class=\"dataframe\">\n",
              "  <thead>\n",
              "    <tr style=\"text-align: right;\">\n",
              "      <th></th>\n",
              "      <th>uid</th>\n",
              "      <th>iid</th>\n",
              "      <th>rui</th>\n",
              "      <th>est</th>\n",
              "      <th>details</th>\n",
              "      <th>Iu</th>\n",
              "      <th>Ui</th>\n",
              "      <th>err</th>\n",
              "      <th>user_freq</th>\n",
              "    </tr>\n",
              "  </thead>\n",
              "  <tbody>\n",
              "    <tr>\n",
              "      <th>66699</th>\n",
              "      <td>0110x011</td>\n",
              "      <td>Good Mojo</td>\n",
              "      <td>5.0</td>\n",
              "      <td>4.548092</td>\n",
              "      <td>{'was_impossible': False}</td>\n",
              "      <td>83</td>\n",
              "      <td>5</td>\n",
              "      <td>0.451908</td>\n",
              "      <td>139</td>\n",
              "    </tr>\n",
              "    <tr>\n",
              "      <th>365936</th>\n",
              "      <td>0110x011</td>\n",
              "      <td>AleSmith Speedway Stout - Barrel Aged</td>\n",
              "      <td>3.5</td>\n",
              "      <td>4.595024</td>\n",
              "      <td>{'was_impossible': False}</td>\n",
              "      <td>83</td>\n",
              "      <td>136</td>\n",
              "      <td>1.095024</td>\n",
              "      <td>139</td>\n",
              "    </tr>\n",
              "    <tr>\n",
              "      <th>144918</th>\n",
              "      <td>0110x011</td>\n",
              "      <td>Tovarish Imperial Espresso Stout</td>\n",
              "      <td>4.0</td>\n",
              "      <td>4.332879</td>\n",
              "      <td>{'was_impossible': False}</td>\n",
              "      <td>83</td>\n",
              "      <td>10</td>\n",
              "      <td>0.332879</td>\n",
              "      <td>139</td>\n",
              "    </tr>\n",
              "    <tr>\n",
              "      <th>246970</th>\n",
              "      <td>0110x011</td>\n",
              "      <td>Sanctification</td>\n",
              "      <td>5.0</td>\n",
              "      <td>4.551182</td>\n",
              "      <td>{'was_impossible': False}</td>\n",
              "      <td>83</td>\n",
              "      <td>291</td>\n",
              "      <td>0.448818</td>\n",
              "      <td>139</td>\n",
              "    </tr>\n",
              "    <tr>\n",
              "      <th>348056</th>\n",
              "      <td>0110x011</td>\n",
              "      <td>Arctic Devil Barley Wine</td>\n",
              "      <td>4.0</td>\n",
              "      <td>4.301966</td>\n",
              "      <td>{'was_impossible': False}</td>\n",
              "      <td>83</td>\n",
              "      <td>145</td>\n",
              "      <td>0.301966</td>\n",
              "      <td>139</td>\n",
              "    </tr>\n",
              "  </tbody>\n",
              "</table>\n",
              "</div>"
            ],
            "text/plain": [
              "              uid                                     iid  rui       est  \\\n",
              "66699    0110x011                               Good Mojo  5.0  4.548092   \n",
              "365936   0110x011   AleSmith Speedway Stout - Barrel Aged  3.5  4.595024   \n",
              "144918   0110x011        Tovarish Imperial Espresso Stout  4.0  4.332879   \n",
              "246970   0110x011                          Sanctification  5.0  4.551182   \n",
              "348056   0110x011                Arctic Devil Barley Wine  4.0  4.301966   \n",
              "\n",
              "                          details  Iu   Ui       err  user_freq  \n",
              "66699   {'was_impossible': False}  83    5  0.451908        139  \n",
              "365936  {'was_impossible': False}  83  136  1.095024        139  \n",
              "144918  {'was_impossible': False}  83   10  0.332879        139  \n",
              "246970  {'was_impossible': False}  83  291  0.448818        139  \n",
              "348056  {'was_impossible': False}  83  145  0.301966        139  "
            ]
          },
          "metadata": {
            "tags": []
          },
          "execution_count": 44
        }
      ]
    },
    {
      "metadata": {
        "id": "YOJZ-xruEA32",
        "colab_type": "code",
        "colab": {}
      },
      "cell_type": "code",
      "source": [
        "# predict on whole dataset\n",
        "nmf_pred_s = nmf.test(testset_s)\n",
        "nmf_pred_df_s = get_pred_df(nmf_pred_s)\n",
        "nmf_pred_df_s.head()\n",
        "pickle.dump(nmf_pred_df,open(\"/content/gdrive/My Drive/Final Project/nmf_rec.sav\", 'wb'))"
      ],
      "execution_count": 0,
      "outputs": []
    }
  ]
}