{
  "nbformat": 4,
  "nbformat_minor": 0,
  "metadata": {
    "colab": {
      "name": "Copy of 4571.ipynb",
      "version": "0.3.2",
      "provenance": [],
      "collapsed_sections": [],
      "toc_visible": true,
      "include_colab_link": true
    },
    "kernelspec": {
      "name": "python3",
      "display_name": "Python 3"
    },
    "accelerator": "GPU"
  },
  "cells": [
    {
      "cell_type": "markdown",
      "metadata": {
        "id": "view-in-github",
        "colab_type": "text"
      },
      "source": [
        "<a href=\"https://colab.research.google.com/github/elinsun/beer-recommendation-system/blob/master/compare%20model%20performance.ipynb\" target=\"_parent\"><img src=\"https://colab.research.google.com/assets/colab-badge.svg\" alt=\"Open In Colab\"/></a>"
      ]
    },
    {
      "metadata": {
        "id": "NfAiVolcpZvH",
        "colab_type": "text"
      },
      "cell_type": "markdown",
      "source": [
        "# Beer Recommendation\n",
        "Fall 2018, 4571 Recommendation System Final Project\n",
        "\n",
        "- Scalability: compare the performance of different algorithms among users/items with different number of reviews\n",
        "\n"
      ]
    },
    {
      "metadata": {
        "id": "Mssd0ltK8JDx",
        "colab_type": "text"
      },
      "cell_type": "markdown",
      "source": [
        "## Part 1: Data Preprocessing"
      ]
    },
    {
      "metadata": {
        "id": "M2Ca1Bu7ybHf",
        "colab_type": "code",
        "outputId": "29385477-b853-4544-a355-0e2290b3de94",
        "colab": {
          "base_uri": "https://localhost:8080/",
          "height": 193
        }
      },
      "cell_type": "code",
      "source": [
        "# based on Google Colab \n",
        "# python 3\n",
        "!pip install scikit-surprise"
      ],
      "execution_count": 1,
      "outputs": [
        {
          "output_type": "stream",
          "text": [
            "Requirement already satisfied: scikit-surprise in /usr/local/lib/python3.6/dist-packages (1.0.6)\n",
            "Requirement already satisfied: scipy>=1.0.0 in /usr/local/lib/python3.6/dist-packages (from scikit-surprise) (1.1.0)\n",
            "Requirement already satisfied: six>=1.10.0 in /usr/local/lib/python3.6/dist-packages (from scikit-surprise) (1.11.0)\n",
            "Requirement already satisfied: joblib>=0.11 in /usr/local/lib/python3.6/dist-packages (from scikit-surprise) (0.13.0)\n",
            "Requirement already satisfied: numpy>=1.11.2 in /usr/local/lib/python3.6/dist-packages (from scikit-surprise) (1.14.6)\n"
          ],
          "name": "stdout"
        }
      ]
    },
    {
      "metadata": {
        "id": "0UNJOz1iLEEz",
        "colab_type": "code",
        "colab": {}
      },
      "cell_type": "code",
      "source": [
        "import pandas as pd\n",
        "import numpy as np\n",
        "import os\n",
        "import itertools as it\n",
        "import matplotlib.pyplot as plt\n",
        "import matplotlib.pyplot as plt\n",
        "\n",
        "from sklearn.model_selection import train_test_split\n",
        "from matplotlib.ticker import FormatStrFormatter\n",
        "from surprise.model_selection import train_test_split\n",
        "from surprise import NMF, Reader, Dataset, SVD, NMF, accuracy, KNNWithMeans"
      ],
      "execution_count": 0,
      "outputs": []
    },
    {
      "metadata": {
        "id": "QneWL06UpaQk",
        "colab_type": "code",
        "outputId": "529cd4b8-c70e-4584-dddf-77b448dfd763",
        "colab": {
          "base_uri": "https://localhost:8080/",
          "height": 74
        }
      },
      "cell_type": "code",
      "source": [
        "from google.colab import drive\n",
        "drive.mount('/content/gdrive')"
      ],
      "execution_count": 3,
      "outputs": [
        {
          "output_type": "stream",
          "text": [
            "Drive already mounted at /content/gdrive; to attempt to forcibly remount, call drive.mount(\"/content/gdrive\", force_remount=True).\n"
          ],
          "name": "stdout"
        }
      ]
    },
    {
      "metadata": {
        "id": "5apjyVYtwt1H",
        "colab_type": "text"
      },
      "cell_type": "markdown",
      "source": [
        "### 1.1 Load Data"
      ]
    },
    {
      "metadata": {
        "id": "VrCif9HWaZt2",
        "colab_type": "code",
        "colab": {}
      },
      "cell_type": "code",
      "source": [
        "# load metadata from Google Drive \n",
        "# save as a list\n",
        "data = []\n",
        "one_complete_review = []\n",
        "\n",
        "with open('/content/gdrive/My Drive/beeradvocate.txt', 'r') as f:\n",
        "  for i in f: \n",
        "    #row = i.decode(encoding = 'UTF-8',errors = 'ignore')\n",
        "    row = i.replace('beer/', 'beer_').replace('review/','review_') \n",
        "    if row == '\\n':\n",
        "      data.append(one_complete_review)\n",
        "      one_complete_review = []\n",
        "      continue\n",
        "    row = row.split(\": \", 1)[1].rstrip()\n",
        "    one_complete_review.append(row)"
      ],
      "execution_count": 0,
      "outputs": []
    },
    {
      "metadata": {
        "id": "Lsw0ncLmJrdH",
        "colab_type": "code",
        "colab": {}
      },
      "cell_type": "code",
      "source": [
        "# convert list to dataframe\n",
        "column_names = ['beer_name', 'beer_beerId', 'beer_brewer', 'beer_ABV', 'beer_style', \n",
        "                'review_appearance', 'review_aroma', 'review_palate', 'review_taste', \n",
        "                'review_overall', 'review_time', 'review_profileName', 'review_text']\n",
        "\n",
        "df = pd.DataFrame.from_records(data, columns=column_names)"
      ],
      "execution_count": 0,
      "outputs": []
    },
    {
      "metadata": {
        "id": "D7pe2FKQlAEl",
        "colab_type": "code",
        "outputId": "a1174144-adb0-46d0-9bb2-eca972bfc98a",
        "colab": {
          "base_uri": "https://localhost:8080/",
          "height": 323
        }
      },
      "cell_type": "code",
      "source": [
        "# descriptive \n",
        "df.info()"
      ],
      "execution_count": 6,
      "outputs": [
        {
          "output_type": "stream",
          "text": [
            "<class 'pandas.core.frame.DataFrame'>\n",
            "RangeIndex: 1586614 entries, 0 to 1586613\n",
            "Data columns (total 13 columns):\n",
            "beer_name             1586614 non-null object\n",
            "beer_beerId           1586614 non-null object\n",
            "beer_brewer           1586614 non-null object\n",
            "beer_ABV              1586614 non-null object\n",
            "beer_style            1586614 non-null object\n",
            "review_appearance     1586614 non-null object\n",
            "review_aroma          1586614 non-null object\n",
            "review_palate         1586614 non-null object\n",
            "review_taste          1586614 non-null object\n",
            "review_overall        1586614 non-null object\n",
            "review_time           1586614 non-null object\n",
            "review_profileName    1586614 non-null object\n",
            "review_text           1586614 non-null object\n",
            "dtypes: object(13)\n",
            "memory usage: 157.4+ MB\n"
          ],
          "name": "stdout"
        }
      ]
    },
    {
      "metadata": {
        "id": "jf_Sd4_WK7kl",
        "colab_type": "code",
        "outputId": "69753931-fae0-492c-b5aa-1f3c07b0319b",
        "colab": {
          "base_uri": "https://localhost:8080/",
          "height": 335
        }
      },
      "cell_type": "code",
      "source": [
        "df.head(3)"
      ],
      "execution_count": 7,
      "outputs": [
        {
          "output_type": "execute_result",
          "data": {
            "text/html": [
              "<div>\n",
              "<style scoped>\n",
              "    .dataframe tbody tr th:only-of-type {\n",
              "        vertical-align: middle;\n",
              "    }\n",
              "\n",
              "    .dataframe tbody tr th {\n",
              "        vertical-align: top;\n",
              "    }\n",
              "\n",
              "    .dataframe thead th {\n",
              "        text-align: right;\n",
              "    }\n",
              "</style>\n",
              "<table border=\"1\" class=\"dataframe\">\n",
              "  <thead>\n",
              "    <tr style=\"text-align: right;\">\n",
              "      <th></th>\n",
              "      <th>beer_name</th>\n",
              "      <th>beer_beerId</th>\n",
              "      <th>beer_brewer</th>\n",
              "      <th>beer_ABV</th>\n",
              "      <th>beer_style</th>\n",
              "      <th>review_appearance</th>\n",
              "      <th>review_aroma</th>\n",
              "      <th>review_palate</th>\n",
              "      <th>review_taste</th>\n",
              "      <th>review_overall</th>\n",
              "      <th>review_time</th>\n",
              "      <th>review_profileName</th>\n",
              "      <th>review_text</th>\n",
              "    </tr>\n",
              "  </thead>\n",
              "  <tbody>\n",
              "    <tr>\n",
              "      <th>0</th>\n",
              "      <td>Sausa Weizen</td>\n",
              "      <td>47986</td>\n",
              "      <td>10325</td>\n",
              "      <td>5.00</td>\n",
              "      <td>Hefeweizen</td>\n",
              "      <td>2.5</td>\n",
              "      <td>2</td>\n",
              "      <td>1.5</td>\n",
              "      <td>1.5</td>\n",
              "      <td>1.5</td>\n",
              "      <td>1234817823</td>\n",
              "      <td>stcules</td>\n",
              "      <td>A lot of foam. But a lot.\\tIn the smell some b...</td>\n",
              "    </tr>\n",
              "    <tr>\n",
              "      <th>1</th>\n",
              "      <td>Red Moon</td>\n",
              "      <td>48213</td>\n",
              "      <td>10325</td>\n",
              "      <td>6.20</td>\n",
              "      <td>English Strong Ale</td>\n",
              "      <td>3</td>\n",
              "      <td>2.5</td>\n",
              "      <td>3</td>\n",
              "      <td>3</td>\n",
              "      <td>3</td>\n",
              "      <td>1235915097</td>\n",
              "      <td>stcules</td>\n",
              "      <td>Dark red color, light beige foam, average.\\tIn...</td>\n",
              "    </tr>\n",
              "    <tr>\n",
              "      <th>2</th>\n",
              "      <td>Black Horse Black Beer</td>\n",
              "      <td>48215</td>\n",
              "      <td>10325</td>\n",
              "      <td>6.50</td>\n",
              "      <td>Foreign / Export Stout</td>\n",
              "      <td>3</td>\n",
              "      <td>2.5</td>\n",
              "      <td>3</td>\n",
              "      <td>3</td>\n",
              "      <td>3</td>\n",
              "      <td>1235916604</td>\n",
              "      <td>stcules</td>\n",
              "      <td>Almost totally black. Beige foam, quite compac...</td>\n",
              "    </tr>\n",
              "  </tbody>\n",
              "</table>\n",
              "</div>"
            ],
            "text/plain": [
              "                beer_name beer_beerId beer_brewer beer_ABV  \\\n",
              "0            Sausa Weizen       47986       10325     5.00   \n",
              "1                Red Moon       48213       10325     6.20   \n",
              "2  Black Horse Black Beer       48215       10325     6.50   \n",
              "\n",
              "               beer_style review_appearance review_aroma review_palate  \\\n",
              "0              Hefeweizen               2.5            2           1.5   \n",
              "1      English Strong Ale                 3          2.5             3   \n",
              "2  Foreign / Export Stout                 3          2.5             3   \n",
              "\n",
              "  review_taste review_overall review_time review_profileName  \\\n",
              "0          1.5            1.5  1234817823            stcules   \n",
              "1            3              3  1235915097            stcules   \n",
              "2            3              3  1235916604            stcules   \n",
              "\n",
              "                                         review_text  \n",
              "0  A lot of foam. But a lot.\\tIn the smell some b...  \n",
              "1  Dark red color, light beige foam, average.\\tIn...  \n",
              "2  Almost totally black. Beige foam, quite compac...  "
            ]
          },
          "metadata": {
            "tags": []
          },
          "execution_count": 7
        }
      ]
    },
    {
      "metadata": {
        "id": "smNuxKZYjdW1",
        "colab_type": "code",
        "outputId": "8a638eef-8e05-4f78-c29b-9ea9db4ba6b6",
        "colab": {
          "base_uri": "https://localhost:8080/",
          "height": 85
        }
      },
      "cell_type": "code",
      "source": [
        "print('The full dataset includes:')\n",
        "print('%d unique beers;' % df.beer_beerId.nunique())\n",
        "print('%d unique users;' % df.review_profileName.nunique())\n",
        "print('and %d reviews in total.' % df.shape[0])"
      ],
      "execution_count": 8,
      "outputs": [
        {
          "output_type": "stream",
          "text": [
            "The full dataset includes:\n",
            "66055 unique beers;\n",
            "33388 unique users;\n",
            "and 1586614 reviews in total.\n"
          ],
          "name": "stdout"
        }
      ]
    },
    {
      "metadata": {
        "id": "p43O38umy4Y2",
        "colab_type": "text"
      },
      "cell_type": "markdown",
      "source": [
        "### 1.2 Exploratory Data Analysis"
      ]
    },
    {
      "metadata": {
        "id": "rPigP-ls6UEN",
        "colab_type": "text"
      },
      "cell_type": "markdown",
      "source": [
        "#### users"
      ]
    },
    {
      "metadata": {
        "id": "Qt57koiXy7nw",
        "colab_type": "code",
        "colab": {}
      },
      "cell_type": "code",
      "source": [
        "num_review_byuser = df.review_profileName.value_counts()\n",
        "freq_list_user = np.array(list(dict(num_review_byuser).values()))"
      ],
      "execution_count": 0,
      "outputs": []
    },
    {
      "metadata": {
        "id": "hLlMub79L2Au",
        "colab_type": "code",
        "outputId": "787d253d-266e-43d0-fd34-285a77d0d300",
        "colab": {
          "base_uri": "https://localhost:8080/",
          "height": 265
        }
      },
      "cell_type": "code",
      "source": [
        "plt.figure(figsize=(14, 4))\n",
        "plt.hist(freq_list_user, bins=300)\n",
        "plt.show()"
      ],
      "execution_count": 10,
      "outputs": [
        {
          "output_type": "display_data",
          "data": {
            "image/png": "[encoded data removed]",
            "text/plain": [
              "<matplotlib.figure.Figure at 0x7f6c5d1b4be0>"
            ]
          },
          "metadata": {
            "tags": []
          }
        }
      ]
    },
    {
      "metadata": {
        "id": "WGifsVmBy8GW",
        "colab_type": "code",
        "outputId": "35a39b59-fcbc-4c2f-c548-4c0d6999bee2",
        "colab": {
          "base_uri": "https://localhost:8080/",
          "height": 294
        }
      },
      "cell_type": "code",
      "source": [
        "user5more = freq_list_user[np.where(freq_list_user >= 300)]\n",
        "user5less = freq_list_user[np.where(freq_list_user < 300)]\n",
        "\n",
        "plt.figure(figsize=(14, 4))\n",
        "\n",
        "plt.subplot(121)\n",
        "plt.hist(user5less, bins=30)\n",
        "plt.title('# of users (with Less than 300 reviews)')\n",
        "plt.xlabel('# of reviews')\n",
        "plt.axhline(y=1000, color='r', linestyle='-')\n",
        "\n",
        "plt.subplot(122)\n",
        "plt.hist(user5more, bins=300)\n",
        "plt.title('# of users (with More than 300 reviews)')\n",
        "plt.xlabel('# of reviews')\n",
        "\n",
        "plt.show()"
      ],
      "execution_count": 11,
      "outputs": [
        {
          "output_type": "display_data",
          "data": {
            "image/png": "[encoded data removed]",
            "text/plain": [
              "<matplotlib.figure.Figure at 0x7f6c5d0706a0>"
            ]
          },
          "metadata": {
            "tags": []
          }
        }
      ]
    },
    {
      "metadata": {
        "id": "njLY-TDOLD0B",
        "colab_type": "text"
      },
      "cell_type": "markdown",
      "source": [
        "We have 33388 unique users, among them ~28000 users have less than 30 reviews."
      ]
    },
    {
      "metadata": {
        "id": "QTjzagZ86V_L",
        "colab_type": "text"
      },
      "cell_type": "markdown",
      "source": [
        "#### beers"
      ]
    },
    {
      "metadata": {
        "id": "E1llGa_Y6Zkr",
        "colab_type": "code",
        "colab": {}
      },
      "cell_type": "code",
      "source": [
        "num_review_bybeer = df.beer_name.value_counts()\n",
        "freq_list_beer = np.array(list(dict(num_review_bybeer).values()))"
      ],
      "execution_count": 0,
      "outputs": []
    },
    {
      "metadata": {
        "id": "ddXjZ0dh6sFZ",
        "colab_type": "code",
        "outputId": "5e81bba4-a3c7-4b8a-dda9-a13d97fd4cec",
        "colab": {
          "base_uri": "https://localhost:8080/",
          "height": 294
        }
      },
      "cell_type": "code",
      "source": [
        "beer5more = freq_list_beer[np.where(freq_list_beer >= 200)]\n",
        "beer5less = freq_list_beer[np.where(freq_list_beer < 200)]\n",
        "\n",
        "plt.figure(figsize=(14, 4))\n",
        "\n",
        "plt.subplot(121)\n",
        "plt.hist(beer5less, bins=40)\n",
        "plt.title('histogram of beer with Less than 200 reviews')\n",
        "plt.xlabel('# of reviews')\n",
        "plt.axhline(y=1200, color='r', linestyle='-')\n",
        "\n",
        "plt.subplot(122)\n",
        "plt.hist(beer5more, bins=300)\n",
        "plt.title('histogram of beer with More than 200 reviews')\n",
        "plt.xlabel('# of reviews')\n",
        "\n",
        "plt.show()"
      ],
      "execution_count": 13,
      "outputs": [
        {
          "output_type": "display_data",
          "data": {
            "image/png": "[encoded data removed]",
            "text/plain": [
              "<matplotlib.figure.Figure at 0x7f6c5a5b57b8>"
            ]
          },
          "metadata": {
            "tags": []
          }
        }
      ]
    },
    {
      "metadata": {
        "id": "DneoL1w4ncSk",
        "colab_type": "text"
      },
      "cell_type": "markdown",
      "source": [
        "### 1.3 Subset from Metadata"
      ]
    },
    {
      "metadata": {
        "id": "4w89UnKGn6tp",
        "colab_type": "code",
        "outputId": "93f7ecd9-94df-434f-fe04-e75d68d02467",
        "colab": {
          "base_uri": "https://localhost:8080/",
          "height": 68
        }
      },
      "cell_type": "code",
      "source": [
        "# subset data for collabrotive filtering\n",
        "df1 = df[['beer_name', 'beer_beerId', 'review_profileName', 'review_overall', 'review_time']]\n",
        "print('Original data size: %s' % str(df1.shape)) \n",
        "\n",
        "# remove NA \n",
        "df1 = df1[pd.notnull(df1.beer_name) & pd.notnull(df1.review_profileName) & pd.notnull(df1.review_overall)]\n",
        "# remove blanks\n",
        "df1 = df1.loc[df1.review_profileName != '']\n",
        "df1 = df1.loc[df1.beer_name != '']\n",
        "df1 = df1.loc[df1.review_overall != '']\n",
        "print('After removing NAs and blanks: %s' % str(df1.shape)) \n",
        "\n",
        "# drop duplicate (beer&user) pairs, keep the latest rating\n",
        "df1['beer_user_pair'] = df1.beer_name + df1.review_profileName\n",
        "df1 = df1.sort_values(by=['review_time'], ascending=False).drop_duplicates(subset=['beer_user_pair'])\n",
        "print('After drop duplicate user-item pairs (only keep the latest rating), data size: %s' % str(df1.shape))\n",
        "\n",
        "# convert review ratings to numberic\n",
        "df1.review_overall = pd.to_numeric(df1.review_overall)"
      ],
      "execution_count": 14,
      "outputs": [
        {
          "output_type": "stream",
          "text": [
            "Original data size: (1586614, 5)\n",
            "After removing NAs and blanks: (1586266, 5)\n",
            "After drop duplicate user-item pairs (only keep the latest rating), data size: (1561405, 6)\n"
          ],
          "name": "stdout"
        }
      ]
    },
    {
      "metadata": {
        "id": "StxaZXa96OhD",
        "colab_type": "code",
        "outputId": "97fd46e3-13ec-46c3-c36c-42c054d913da",
        "colab": {
          "base_uri": "https://localhost:8080/",
          "height": 193
        }
      },
      "cell_type": "code",
      "source": [
        "df1.head(3)"
      ],
      "execution_count": 15,
      "outputs": [
        {
          "output_type": "execute_result",
          "data": {
            "text/html": [
              "<div>\n",
              "<style scoped>\n",
              "    .dataframe tbody tr th:only-of-type {\n",
              "        vertical-align: middle;\n",
              "    }\n",
              "\n",
              "    .dataframe tbody tr th {\n",
              "        vertical-align: top;\n",
              "    }\n",
              "\n",
              "    .dataframe thead th {\n",
              "        text-align: right;\n",
              "    }\n",
              "</style>\n",
              "<table border=\"1\" class=\"dataframe\">\n",
              "  <thead>\n",
              "    <tr style=\"text-align: right;\">\n",
              "      <th></th>\n",
              "      <th>beer_name</th>\n",
              "      <th>beer_beerId</th>\n",
              "      <th>review_profileName</th>\n",
              "      <th>review_overall</th>\n",
              "      <th>review_time</th>\n",
              "      <th>beer_user_pair</th>\n",
              "    </tr>\n",
              "  </thead>\n",
              "  <tbody>\n",
              "    <tr>\n",
              "      <th>581215</th>\n",
              "      <td>Pete's Wicked Strawberry Blonde</td>\n",
              "      <td>381</td>\n",
              "      <td>bk3nj</td>\n",
              "      <td>3.0</td>\n",
              "      <td>999999652</td>\n",
              "      <td>Pete's Wicked Strawberry Blondebk3nj</td>\n",
              "    </tr>\n",
              "    <tr>\n",
              "      <th>1023623</th>\n",
              "      <td>Fiji Bitter</td>\n",
              "      <td>1480</td>\n",
              "      <td>Mark</td>\n",
              "      <td>4.0</td>\n",
              "      <td>999980551</td>\n",
              "      <td>Fiji BitterMark</td>\n",
              "    </tr>\n",
              "    <tr>\n",
              "      <th>1077899</th>\n",
              "      <td>Wolaver's India Pale Ale</td>\n",
              "      <td>399</td>\n",
              "      <td>bcm119</td>\n",
              "      <td>3.5</td>\n",
              "      <td>999903142</td>\n",
              "      <td>Wolaver's India Pale Alebcm119</td>\n",
              "    </tr>\n",
              "  </tbody>\n",
              "</table>\n",
              "</div>"
            ],
            "text/plain": [
              "                               beer_name beer_beerId review_profileName  \\\n",
              "581215   Pete's Wicked Strawberry Blonde         381              bk3nj   \n",
              "1023623                      Fiji Bitter        1480               Mark   \n",
              "1077899         Wolaver's India Pale Ale         399             bcm119   \n",
              "\n",
              "         review_overall review_time                        beer_user_pair  \n",
              "581215              3.0   999999652  Pete's Wicked Strawberry Blondebk3nj  \n",
              "1023623             4.0   999980551                       Fiji BitterMark  \n",
              "1077899             3.5   999903142        Wolaver's India Pale Alebcm119  "
            ]
          },
          "metadata": {
            "tags": []
          },
          "execution_count": 15
        }
      ]
    },
    {
      "metadata": {
        "id": "m9Ht9Sa-OX_U",
        "colab_type": "text"
      },
      "cell_type": "markdown",
      "source": [
        "#### remove bottom users and beers"
      ]
    },
    {
      "metadata": {
        "id": "0Jk6lij9ErZN",
        "colab_type": "code",
        "outputId": "e0d0ba12-3949-47dc-bf2b-0404c4968b2e",
        "colab": {
          "base_uri": "https://localhost:8080/",
          "height": 261
        }
      },
      "cell_type": "code",
      "source": [
        "# subset three columns\n",
        "cf = df1[['review_profileName', 'beer_name', 'review_overall']]\n",
        "\n",
        "# sort user by # of reviews\n",
        "cnt_user = dict(num_review_byuser)\n",
        "cf['user_freq'] = [cnt_user.get(x) for x in cf.review_profileName]\n",
        "\n",
        "# sort beer by # of reviews\n",
        "cnt_beer = dict(num_review_bybeer)\n",
        "cf['beer_freq'] = [cnt_beer.get(x) for x in cf.beer_name]\n",
        "\n",
        "# drop users with less than 10 reviews\n",
        "# drop beers with less than 5 reviews\n",
        "cf = cf.loc[cf.user_freq > 10]\n",
        "cf = cf.loc[cf.beer_freq > 5]"
      ],
      "execution_count": 16,
      "outputs": [
        {
          "output_type": "stream",
          "text": [
            "/usr/local/lib/python3.6/dist-packages/ipykernel_launcher.py:5: SettingWithCopyWarning: \n",
            "A value is trying to be set on a copy of a slice from a DataFrame.\n",
            "Try using .loc[row_indexer,col_indexer] = value instead\n",
            "\n",
            "See the caveats in the documentation: http://pandas.pydata.org/pandas-docs/stable/indexing.html#indexing-view-versus-copy\n",
            "  \"\"\"\n",
            "/usr/local/lib/python3.6/dist-packages/ipykernel_launcher.py:9: SettingWithCopyWarning: \n",
            "A value is trying to be set on a copy of a slice from a DataFrame.\n",
            "Try using .loc[row_indexer,col_indexer] = value instead\n",
            "\n",
            "See the caveats in the documentation: http://pandas.pydata.org/pandas-docs/stable/indexing.html#indexing-view-versus-copy\n",
            "  if __name__ == '__main__':\n"
          ],
          "name": "stderr"
        }
      ]
    },
    {
      "metadata": {
        "id": "FozoopjYKOrC",
        "colab_type": "code",
        "outputId": "8080c090-5eb5-4210-cd18-995fa8883628",
        "colab": {
          "base_uri": "https://localhost:8080/",
          "height": 85
        }
      },
      "cell_type": "code",
      "source": [
        "print('After removing bottom users and beers,')\n",
        "print('%d unique beers;' % cf.beer_name.nunique())\n",
        "print('%d unique users;' % cf.review_profileName.nunique())\n",
        "print('and %d reviews in total.' % cf.shape[0])"
      ],
      "execution_count": 17,
      "outputs": [
        {
          "output_type": "stream",
          "text": [
            "After removing bottom users and beers,\n",
            "18925 unique beers;\n",
            "10189 unique users;\n",
            "and 1423856 reviews in total.\n"
          ],
          "name": "stdout"
        }
      ]
    },
    {
      "metadata": {
        "id": "coPrQ4D9JlmU",
        "colab_type": "code",
        "outputId": "45bf2739-1582-4c2e-9f2c-0f8c477dd730",
        "colab": {
          "base_uri": "https://localhost:8080/",
          "height": 142
        }
      },
      "cell_type": "code",
      "source": [
        "cf.head(3)"
      ],
      "execution_count": 18,
      "outputs": [
        {
          "output_type": "execute_result",
          "data": {
            "text/html": [
              "<div>\n",
              "<style scoped>\n",
              "    .dataframe tbody tr th:only-of-type {\n",
              "        vertical-align: middle;\n",
              "    }\n",
              "\n",
              "    .dataframe tbody tr th {\n",
              "        vertical-align: top;\n",
              "    }\n",
              "\n",
              "    .dataframe thead th {\n",
              "        text-align: right;\n",
              "    }\n",
              "</style>\n",
              "<table border=\"1\" class=\"dataframe\">\n",
              "  <thead>\n",
              "    <tr style=\"text-align: right;\">\n",
              "      <th></th>\n",
              "      <th>review_profileName</th>\n",
              "      <th>beer_name</th>\n",
              "      <th>review_overall</th>\n",
              "      <th>user_freq</th>\n",
              "      <th>beer_freq</th>\n",
              "    </tr>\n",
              "  </thead>\n",
              "  <tbody>\n",
              "    <tr>\n",
              "      <th>581215</th>\n",
              "      <td>bk3nj</td>\n",
              "      <td>Pete's Wicked Strawberry Blonde</td>\n",
              "      <td>3.0</td>\n",
              "      <td>45</td>\n",
              "      <td>298</td>\n",
              "    </tr>\n",
              "    <tr>\n",
              "      <th>1023623</th>\n",
              "      <td>Mark</td>\n",
              "      <td>Fiji Bitter</td>\n",
              "      <td>4.0</td>\n",
              "      <td>532</td>\n",
              "      <td>8</td>\n",
              "    </tr>\n",
              "    <tr>\n",
              "      <th>1077899</th>\n",
              "      <td>bcm119</td>\n",
              "      <td>Wolaver's India Pale Ale</td>\n",
              "      <td>3.5</td>\n",
              "      <td>175</td>\n",
              "      <td>257</td>\n",
              "    </tr>\n",
              "  </tbody>\n",
              "</table>\n",
              "</div>"
            ],
            "text/plain": [
              "        review_profileName                        beer_name  review_overall  \\\n",
              "581215               bk3nj  Pete's Wicked Strawberry Blonde             3.0   \n",
              "1023623               Mark                      Fiji Bitter             4.0   \n",
              "1077899             bcm119         Wolaver's India Pale Ale             3.5   \n",
              "\n",
              "         user_freq  beer_freq  \n",
              "581215          45        298  \n",
              "1023623        532          8  \n",
              "1077899        175        257  "
            ]
          },
          "metadata": {
            "tags": []
          },
          "execution_count": 18
        }
      ]
    },
    {
      "metadata": {
        "id": "blk5sjcwKiPh",
        "colab_type": "code",
        "outputId": "02747640-8f60-44e3-8305-2f4408c7d40d",
        "colab": {
          "base_uri": "https://localhost:8080/",
          "height": 389
        }
      },
      "cell_type": "code",
      "source": [
        "# user \n",
        "freq = cf.review_profileName.value_counts()\n",
        "freq = np.array(list(dict(freq).values()))\n",
        "\n",
        "plt.figure(figsize=(14, 6))\n",
        "plt.subplot(121)\n",
        "plt.boxplot(freq, 0, 'rs', 0)\n",
        "plt.title('# of reviews for each user')\n",
        "\n",
        "plt.subplot(122)\n",
        "plt.hist(freq, bins=400)\n",
        "\n",
        "plt.show()"
      ],
      "execution_count": 19,
      "outputs": [
        {
          "output_type": "display_data",
          "data": {
            "image/png": "[encoded data removed]",
            "text/plain": [
              "<matplotlib.figure.Figure at 0x7f6c5a47c5c0>"
            ]
          },
          "metadata": {
            "tags": []
          }
        }
      ]
    },
    {
      "metadata": {
        "id": "1HOYWMt-OExk",
        "colab_type": "code",
        "outputId": "e8808bc2-b32d-4fe8-9e77-b87994d73fef",
        "colab": {
          "base_uri": "https://localhost:8080/",
          "height": 389
        }
      },
      "cell_type": "code",
      "source": [
        "# beer\n",
        "freqb = cf.beer_name.value_counts()\n",
        "freqb = np.array(list(dict(freqb).values()))\n",
        "\n",
        "plt.figure(figsize=(14, 6))\n",
        "plt.subplot(121)\n",
        "plt.boxplot(freqb, 0, 'rs', 0)\n",
        "plt.title('# of reviews for each beer')\n",
        "\n",
        "plt.subplot(122)\n",
        "plt.hist(freqb, bins=250)\n",
        "\n",
        "plt.show()"
      ],
      "execution_count": 20,
      "outputs": [
        {
          "output_type": "display_data",
          "data": {
            "image/png": "[encoded data removed]",
            "text/plain": [
              "<matplotlib.figure.Figure at 0x7f6c5a08d198>"
            ]
          },
          "metadata": {
            "tags": []
          }
        }
      ]
    },
    {
      "metadata": {
        "id": "u0cr1LlnOSd8",
        "colab_type": "text"
      },
      "cell_type": "markdown",
      "source": [
        "#### split into two groups\n",
        "- users with more than 100 reviews;\n",
        "- users with less than 100 reviews."
      ]
    },
    {
      "metadata": {
        "id": "d_36fdtMCcNo",
        "colab_type": "code",
        "outputId": "ad821675-86fd-470f-a704-e3ca1187639b",
        "colab": {
          "base_uri": "https://localhost:8080/",
          "height": 204
        }
      },
      "cell_type": "code",
      "source": [
        "# split into two groups\n",
        "threshold = 100\n",
        "\n",
        "more = cf.loc[cf.user_freq > threshold]\n",
        "less = cf.loc[cf.user_freq <= threshold]\n",
        "\n",
        "more.head()"
      ],
      "execution_count": 21,
      "outputs": [
        {
          "output_type": "execute_result",
          "data": {
            "text/html": [
              "<div>\n",
              "<style scoped>\n",
              "    .dataframe tbody tr th:only-of-type {\n",
              "        vertical-align: middle;\n",
              "    }\n",
              "\n",
              "    .dataframe tbody tr th {\n",
              "        vertical-align: top;\n",
              "    }\n",
              "\n",
              "    .dataframe thead th {\n",
              "        text-align: right;\n",
              "    }\n",
              "</style>\n",
              "<table border=\"1\" class=\"dataframe\">\n",
              "  <thead>\n",
              "    <tr style=\"text-align: right;\">\n",
              "      <th></th>\n",
              "      <th>review_profileName</th>\n",
              "      <th>beer_name</th>\n",
              "      <th>review_overall</th>\n",
              "      <th>user_freq</th>\n",
              "      <th>beer_freq</th>\n",
              "    </tr>\n",
              "  </thead>\n",
              "  <tbody>\n",
              "    <tr>\n",
              "      <th>1023623</th>\n",
              "      <td>Mark</td>\n",
              "      <td>Fiji Bitter</td>\n",
              "      <td>4.0</td>\n",
              "      <td>532</td>\n",
              "      <td>8</td>\n",
              "    </tr>\n",
              "    <tr>\n",
              "      <th>1077899</th>\n",
              "      <td>bcm119</td>\n",
              "      <td>Wolaver's India Pale Ale</td>\n",
              "      <td>3.5</td>\n",
              "      <td>175</td>\n",
              "      <td>257</td>\n",
              "    </tr>\n",
              "    <tr>\n",
              "      <th>797362</th>\n",
              "      <td>Jason</td>\n",
              "      <td>Lindemans Framboise</td>\n",
              "      <td>3.5</td>\n",
              "      <td>2350</td>\n",
              "      <td>903</td>\n",
              "    </tr>\n",
              "    <tr>\n",
              "      <th>808675</th>\n",
              "      <td>Jason</td>\n",
              "      <td>Chapeau Framboise Lambic</td>\n",
              "      <td>4.0</td>\n",
              "      <td>2350</td>\n",
              "      <td>44</td>\n",
              "    </tr>\n",
              "    <tr>\n",
              "      <th>961766</th>\n",
              "      <td>Jason</td>\n",
              "      <td>Dooryard Ale</td>\n",
              "      <td>3.0</td>\n",
              "      <td>2350</td>\n",
              "      <td>13</td>\n",
              "    </tr>\n",
              "  </tbody>\n",
              "</table>\n",
              "</div>"
            ],
            "text/plain": [
              "        review_profileName                 beer_name  review_overall  \\\n",
              "1023623               Mark               Fiji Bitter             4.0   \n",
              "1077899             bcm119  Wolaver's India Pale Ale             3.5   \n",
              "797362               Jason       Lindemans Framboise             3.5   \n",
              "808675               Jason  Chapeau Framboise Lambic             4.0   \n",
              "961766               Jason              Dooryard Ale             3.0   \n",
              "\n",
              "         user_freq  beer_freq  \n",
              "1023623        532          8  \n",
              "1077899        175        257  \n",
              "797362        2350        903  \n",
              "808675        2350         44  \n",
              "961766        2350         13  "
            ]
          },
          "metadata": {
            "tags": []
          },
          "execution_count": 21
        }
      ]
    },
    {
      "metadata": {
        "id": "gB63pBeQW33K",
        "colab_type": "code",
        "outputId": "ecdbe79a-6cb9-467a-8c2f-c944d15dc1a7",
        "colab": {
          "base_uri": "https://localhost:8080/",
          "height": 420
        }
      },
      "cell_type": "code",
      "source": [
        "# visualize two groups\n",
        "print('group > %d has the size: %s' % (threshold, str(more.shape)))\n",
        "\n",
        "freqm = more.review_profileName.value_counts()\n",
        "freqm = np.array(list(dict(freqm).values()))\n",
        "\n",
        "plt.figure(figsize=(14, 6))\n",
        "plt.subplot(121)\n",
        "plt.boxplot(freqm, 0, 'rs', 0)\n",
        "plt.title('# of reviews for each user (more than 50 reviews)')\n",
        "\n",
        "plt.subplot(122)\n",
        "plt.hist(freqm, bins=200)\n",
        "plt.ylabel('# of users')\n",
        "plt.xlabel('# of reviews')\n",
        "plt.show()"
      ],
      "execution_count": 22,
      "outputs": [
        {
          "output_type": "stream",
          "text": [
            "group > 100 has the size: (1186781, 5)\n"
          ],
          "name": "stdout"
        },
        {
          "output_type": "display_data",
          "data": {
            "image/png": "[encoded data removed]",
            "text/plain": [
              "<matplotlib.figure.Figure at 0x7f6ccf280fd0>"
            ]
          },
          "metadata": {
            "tags": []
          }
        }
      ]
    },
    {
      "metadata": {
        "id": "s7jWO3jrXGbi",
        "colab_type": "code",
        "outputId": "ded7f14a-1099-434c-9d58-97cf00c14864",
        "colab": {
          "base_uri": "https://localhost:8080/",
          "height": 420
        }
      },
      "cell_type": "code",
      "source": [
        "# visualize two groups\n",
        "print('group <= %d has the size: %s' % (threshold, str(less.shape)))\n",
        "\n",
        "freql = less.review_profileName.value_counts()\n",
        "freql = np.array(list(dict(freql).values()))\n",
        "\n",
        "plt.figure(figsize=(14, 6))\n",
        "plt.subplot(121)\n",
        "plt.boxplot(freql, 0, 'rs', 0)\n",
        "plt.title('# of reviews for each user (less than 50 reviews)')\n",
        "\n",
        "plt.subplot(122)\n",
        "plt.hist(freql, bins=100)\n",
        "plt.ylabel('# of users')\n",
        "plt.xlabel('# of reviews')\n",
        "plt.show()"
      ],
      "execution_count": 23,
      "outputs": [
        {
          "output_type": "stream",
          "text": [
            "group <= 100 has the size: (237075, 5)\n"
          ],
          "name": "stdout"
        },
        {
          "output_type": "display_data",
          "data": {
            "image/png": "[encoded data removed]",
            "text/plain": [
              "<matplotlib.figure.Figure at 0x7f6c5a284080>"
            ]
          },
          "metadata": {
            "tags": []
          }
        }
      ]
    },
    {
      "metadata": {
        "id": "Tl4y9c11PZvj",
        "colab_type": "text"
      },
      "cell_type": "markdown",
      "source": [
        "## Part 2: Prediction Models"
      ]
    },
    {
      "metadata": {
        "id": "ON1T-CcXvBBi",
        "colab_type": "code",
        "colab": {}
      },
      "cell_type": "code",
      "source": [
        "# define functions to generate prediction dataframe\n",
        "# get_Iu and get_Ui are borrowed from Surprise library\n",
        "def get_Iu(uid):\n",
        "    \"\"\"Return the number of items rated by given user\n",
        "    Args:\n",
        "        uid: The raw id of the user.\n",
        "    Returns:\n",
        "        The number of items rated by the user.\n",
        "    \"\"\"\n",
        "    try:\n",
        "        return len(trainset.ur[trainset.to_inner_uid(uid)])\n",
        "    except ValueError:  # user was not part of the trainset\n",
        "        return 0\n",
        "    \n",
        "def get_Ui(iid):\n",
        "    \"\"\"Return the number of users that have rated given item\n",
        "    Args:\n",
        "        iid: The raw id of the item.\n",
        "    Returns:\n",
        "        The number of users that have rated the item.\n",
        "    \"\"\"\n",
        "    try:\n",
        "        return len(trainset.ir[trainset.to_inner_iid(iid)])\n",
        "    except ValueError:  # item was not part of the trainset\n",
        "        return 0\n",
        "\n",
        "# customized function to get predictions\n",
        "def get_pred_df(pred):\n",
        "  pred_df = pd.DataFrame(pred, columns=['uid', 'iid', 'rui', 'est', 'details'])    \n",
        "  pred_df['Iu'] = pred_df.uid.apply(get_Iu)\n",
        "  pred_df['Ui'] = pred_df.iid.apply(get_Ui)\n",
        "  pred_df['err'] = abs(pred_df.est - pred_df.rui)\n",
        "  \n",
        "  # append review counts\n",
        "  pred_df['user_freq'] = [cnt_user.get(x) for x in pred_df.uid]\n",
        "  pred_df = pred_df.sort_values(by=['uid'])\n",
        "  \n",
        "  return pred_df"
      ],
      "execution_count": 0,
      "outputs": []
    },
    {
      "metadata": {
        "id": "rRUhL5QqZHMP",
        "colab_type": "code",
        "colab": {}
      },
      "cell_type": "code",
      "source": [
        "# train test split\n",
        "reader = Reader(rating_scale=(1, 5))\n",
        "data = Dataset.load_from_df(cf[['review_profileName', 'beer_name', 'review_overall']], reader)\n",
        "trainset, testset = train_test_split(data, test_size=.33)"
      ],
      "execution_count": 0,
      "outputs": []
    },
    {
      "metadata": {
        "id": "bpfWuilrgB0s",
        "colab_type": "text"
      },
      "cell_type": "markdown",
      "source": [
        "### 2.1 SVD"
      ]
    },
    {
      "metadata": {
        "id": "36qdidqdgIzN",
        "colab_type": "code",
        "outputId": "6f35cc04-7828-4655-b9ce-d9dda56a5e27",
        "colab": {
          "base_uri": "https://localhost:8080/",
          "height": 221
        }
      },
      "cell_type": "code",
      "source": [
        "# fit\n",
        "svd = SVD(n_factors = 30, lr_all = 0.01, reg_all = 0.05)\n",
        "svd.fit(trainset)\n",
        "\n",
        "# test \n",
        "svd_pred = svd.test(testset)\n",
        "accuracy.rmse(svd_pred, verbose=True)\n",
        "\n",
        "# predict\n",
        "svd_pred_df = get_pred_df(svd_pred)\n",
        "svd_pred_df.head()"
      ],
      "execution_count": 26,
      "outputs": [
        {
          "output_type": "stream",
          "text": [
            "RMSE: 0.5918\n"
          ],
          "name": "stdout"
        },
        {
          "output_type": "execute_result",
          "data": {
            "text/html": [
              "<div>\n",
              "<style scoped>\n",
              "    .dataframe tbody tr th:only-of-type {\n",
              "        vertical-align: middle;\n",
              "    }\n",
              "\n",
              "    .dataframe tbody tr th {\n",
              "        vertical-align: top;\n",
              "    }\n",
              "\n",
              "    .dataframe thead th {\n",
              "        text-align: right;\n",
              "    }\n",
              "</style>\n",
              "<table border=\"1\" class=\"dataframe\">\n",
              "  <thead>\n",
              "    <tr style=\"text-align: right;\">\n",
              "      <th></th>\n",
              "      <th>uid</th>\n",
              "      <th>iid</th>\n",
              "      <th>rui</th>\n",
              "      <th>est</th>\n",
              "      <th>details</th>\n",
              "      <th>Iu</th>\n",
              "      <th>Ui</th>\n",
              "      <th>err</th>\n",
              "      <th>user_freq</th>\n",
              "    </tr>\n",
              "  </thead>\n",
              "  <tbody>\n",
              "    <tr>\n",
              "      <th>290211</th>\n",
              "      <td>0110x011</td>\n",
              "      <td>AleSmith Speedway Stout - Barrel Aged</td>\n",
              "      <td>3.5</td>\n",
              "      <td>4.456199</td>\n",
              "      <td>{'was_impossible': False}</td>\n",
              "      <td>96</td>\n",
              "      <td>119</td>\n",
              "      <td>0.956199</td>\n",
              "      <td>139</td>\n",
              "    </tr>\n",
              "    <tr>\n",
              "      <th>165605</th>\n",
              "      <td>0110x011</td>\n",
              "      <td>Ølfabrikken Porter</td>\n",
              "      <td>5.0</td>\n",
              "      <td>4.289061</td>\n",
              "      <td>{'was_impossible': False}</td>\n",
              "      <td>96</td>\n",
              "      <td>186</td>\n",
              "      <td>0.710939</td>\n",
              "      <td>139</td>\n",
              "    </tr>\n",
              "    <tr>\n",
              "      <th>178605</th>\n",
              "      <td>0110x011</td>\n",
              "      <td>Trade Winds Tripel</td>\n",
              "      <td>4.0</td>\n",
              "      <td>3.982781</td>\n",
              "      <td>{'was_impossible': False}</td>\n",
              "      <td>96</td>\n",
              "      <td>152</td>\n",
              "      <td>0.017219</td>\n",
              "      <td>139</td>\n",
              "    </tr>\n",
              "    <tr>\n",
              "      <th>45000</th>\n",
              "      <td>0110x011</td>\n",
              "      <td>Darkness</td>\n",
              "      <td>3.5</td>\n",
              "      <td>4.454796</td>\n",
              "      <td>{'was_impossible': False}</td>\n",
              "      <td>96</td>\n",
              "      <td>431</td>\n",
              "      <td>0.954796</td>\n",
              "      <td>139</td>\n",
              "    </tr>\n",
              "    <tr>\n",
              "      <th>358838</th>\n",
              "      <td>0110x011</td>\n",
              "      <td>AleSmith Old Numbskull</td>\n",
              "      <td>4.0</td>\n",
              "      <td>4.242964</td>\n",
              "      <td>{'was_impossible': False}</td>\n",
              "      <td>96</td>\n",
              "      <td>240</td>\n",
              "      <td>0.242964</td>\n",
              "      <td>139</td>\n",
              "    </tr>\n",
              "  </tbody>\n",
              "</table>\n",
              "</div>"
            ],
            "text/plain": [
              "             uid                                    iid  rui       est  \\\n",
              "290211  0110x011  AleSmith Speedway Stout - Barrel Aged  3.5  4.456199   \n",
              "165605  0110x011                     Ølfabrikken Porter  5.0  4.289061   \n",
              "178605  0110x011                     Trade Winds Tripel  4.0  3.982781   \n",
              "45000   0110x011                               Darkness  3.5  4.454796   \n",
              "358838  0110x011                 AleSmith Old Numbskull  4.0  4.242964   \n",
              "\n",
              "                          details  Iu   Ui       err  user_freq  \n",
              "290211  {'was_impossible': False}  96  119  0.956199        139  \n",
              "165605  {'was_impossible': False}  96  186  0.710939        139  \n",
              "178605  {'was_impossible': False}  96  152  0.017219        139  \n",
              "45000   {'was_impossible': False}  96  431  0.954796        139  \n",
              "358838  {'was_impossible': False}  96  240  0.242964        139  "
            ]
          },
          "metadata": {
            "tags": []
          },
          "execution_count": 26
        }
      ]
    },
    {
      "metadata": {
        "id": "VpPn5nb07Nso",
        "colab_type": "code",
        "colab": {
          "base_uri": "https://localhost:8080/",
          "height": 204
        },
        "outputId": "c66cfa74-2c34-4690-8dd8-f621621573a3"
      },
      "cell_type": "code",
      "source": [
        "# predict on whole dataset\n",
        "trainset_s, testset_s = train_test_split(data, test_size=.99)\n",
        "\n",
        "svd_pred_s = svd.test(testset_s)\n",
        "svd_pred_df_s = get_pred_df(svd_pred_s)\n",
        "svd_pred_df_s.head()"
      ],
      "execution_count": 27,
      "outputs": [
        {
          "output_type": "execute_result",
          "data": {
            "text/html": [
              "<div>\n",
              "<style scoped>\n",
              "    .dataframe tbody tr th:only-of-type {\n",
              "        vertical-align: middle;\n",
              "    }\n",
              "\n",
              "    .dataframe tbody tr th {\n",
              "        vertical-align: top;\n",
              "    }\n",
              "\n",
              "    .dataframe thead th {\n",
              "        text-align: right;\n",
              "    }\n",
              "</style>\n",
              "<table border=\"1\" class=\"dataframe\">\n",
              "  <thead>\n",
              "    <tr style=\"text-align: right;\">\n",
              "      <th></th>\n",
              "      <th>uid</th>\n",
              "      <th>iid</th>\n",
              "      <th>rui</th>\n",
              "      <th>est</th>\n",
              "      <th>details</th>\n",
              "      <th>Iu</th>\n",
              "      <th>Ui</th>\n",
              "      <th>err</th>\n",
              "      <th>user_freq</th>\n",
              "    </tr>\n",
              "  </thead>\n",
              "  <tbody>\n",
              "    <tr>\n",
              "      <th>806007</th>\n",
              "      <td>0110x011</td>\n",
              "      <td>AleSmith My Bloody Valentine</td>\n",
              "      <td>5.0</td>\n",
              "      <td>4.402617</td>\n",
              "      <td>{'was_impossible': False}</td>\n",
              "      <td>96</td>\n",
              "      <td>28</td>\n",
              "      <td>0.597383</td>\n",
              "      <td>139</td>\n",
              "    </tr>\n",
              "    <tr>\n",
              "      <th>521413</th>\n",
              "      <td>0110x011</td>\n",
              "      <td>IPA</td>\n",
              "      <td>4.0</td>\n",
              "      <td>3.796212</td>\n",
              "      <td>{'was_impossible': False}</td>\n",
              "      <td>96</td>\n",
              "      <td>722</td>\n",
              "      <td>0.203788</td>\n",
              "      <td>139</td>\n",
              "    </tr>\n",
              "    <tr>\n",
              "      <th>1346677</th>\n",
              "      <td>0110x011</td>\n",
              "      <td>Black Orchard</td>\n",
              "      <td>4.5</td>\n",
              "      <td>3.770330</td>\n",
              "      <td>{'was_impossible': False}</td>\n",
              "      <td>96</td>\n",
              "      <td>153</td>\n",
              "      <td>0.729670</td>\n",
              "      <td>139</td>\n",
              "    </tr>\n",
              "    <tr>\n",
              "      <th>522388</th>\n",
              "      <td>0110x011</td>\n",
              "      <td>Phunky Duck</td>\n",
              "      <td>4.5</td>\n",
              "      <td>4.573722</td>\n",
              "      <td>{'was_impossible': False}</td>\n",
              "      <td>96</td>\n",
              "      <td>11</td>\n",
              "      <td>0.073722</td>\n",
              "      <td>139</td>\n",
              "    </tr>\n",
              "    <tr>\n",
              "      <th>1187411</th>\n",
              "      <td>0110x011</td>\n",
              "      <td>Stone Imperial Russian Stout</td>\n",
              "      <td>4.0</td>\n",
              "      <td>4.310620</td>\n",
              "      <td>{'was_impossible': False}</td>\n",
              "      <td>96</td>\n",
              "      <td>1383</td>\n",
              "      <td>0.310620</td>\n",
              "      <td>139</td>\n",
              "    </tr>\n",
              "  </tbody>\n",
              "</table>\n",
              "</div>"
            ],
            "text/plain": [
              "              uid                           iid  rui       est  \\\n",
              "806007   0110x011  AleSmith My Bloody Valentine  5.0  4.402617   \n",
              "521413   0110x011                           IPA  4.0  3.796212   \n",
              "1346677  0110x011                 Black Orchard  4.5  3.770330   \n",
              "522388   0110x011                   Phunky Duck  4.5  4.573722   \n",
              "1187411  0110x011  Stone Imperial Russian Stout  4.0  4.310620   \n",
              "\n",
              "                           details  Iu    Ui       err  user_freq  \n",
              "806007   {'was_impossible': False}  96    28  0.597383        139  \n",
              "521413   {'was_impossible': False}  96   722  0.203788        139  \n",
              "1346677  {'was_impossible': False}  96   153  0.729670        139  \n",
              "522388   {'was_impossible': False}  96    11  0.073722        139  \n",
              "1187411  {'was_impossible': False}  96  1383  0.310620        139  "
            ]
          },
          "metadata": {
            "tags": []
          },
          "execution_count": 27
        }
      ]
    },
    {
      "metadata": {
        "id": "cFTht8APvKvV",
        "colab_type": "text"
      },
      "cell_type": "markdown",
      "source": [
        "### 2.2 Non-negative Matrix Factorization (NMF)"
      ]
    },
    {
      "metadata": {
        "id": "IDi08dmivieq",
        "colab_type": "code",
        "outputId": "78ffba30-f1a2-4559-ee63-dc6196b822ff",
        "colab": {
          "base_uri": "https://localhost:8080/",
          "height": 238
        }
      },
      "cell_type": "code",
      "source": [
        "# fit\n",
        "nmf = NMF(n_factors = 25, n_epochs = 50, reg_pu = 0.1, reg_qi = 0.1)\n",
        "nmf.fit(trainset)\n",
        "\n",
        "# test \n",
        "nmf_pred = nmf.test(testset)\n",
        "nmf_rmse = accuracy.rmse(nmf_pred, verbose=True) \n",
        "print('Test RMSE of NMF is %s' % round(nmf_rmse, 3))\n",
        "\n",
        "# predict\n",
        "nmf_pred_df = get_pred_df(nmf_pred)\n",
        "nmf_pred_df.head()"
      ],
      "execution_count": 28,
      "outputs": [
        {
          "output_type": "stream",
          "text": [
            "RMSE: 0.5988\n",
            "Test RMSE of NMF is 0.599\n"
          ],
          "name": "stdout"
        },
        {
          "output_type": "execute_result",
          "data": {
            "text/html": [
              "<div>\n",
              "<style scoped>\n",
              "    .dataframe tbody tr th:only-of-type {\n",
              "        vertical-align: middle;\n",
              "    }\n",
              "\n",
              "    .dataframe tbody tr th {\n",
              "        vertical-align: top;\n",
              "    }\n",
              "\n",
              "    .dataframe thead th {\n",
              "        text-align: right;\n",
              "    }\n",
              "</style>\n",
              "<table border=\"1\" class=\"dataframe\">\n",
              "  <thead>\n",
              "    <tr style=\"text-align: right;\">\n",
              "      <th></th>\n",
              "      <th>uid</th>\n",
              "      <th>iid</th>\n",
              "      <th>rui</th>\n",
              "      <th>est</th>\n",
              "      <th>details</th>\n",
              "      <th>Iu</th>\n",
              "      <th>Ui</th>\n",
              "      <th>err</th>\n",
              "      <th>user_freq</th>\n",
              "    </tr>\n",
              "  </thead>\n",
              "  <tbody>\n",
              "    <tr>\n",
              "      <th>290211</th>\n",
              "      <td>0110x011</td>\n",
              "      <td>AleSmith Speedway Stout - Barrel Aged</td>\n",
              "      <td>3.5</td>\n",
              "      <td>4.484630</td>\n",
              "      <td>{'was_impossible': False}</td>\n",
              "      <td>96</td>\n",
              "      <td>119</td>\n",
              "      <td>0.984630</td>\n",
              "      <td>139</td>\n",
              "    </tr>\n",
              "    <tr>\n",
              "      <th>165605</th>\n",
              "      <td>0110x011</td>\n",
              "      <td>Ølfabrikken Porter</td>\n",
              "      <td>5.0</td>\n",
              "      <td>4.351899</td>\n",
              "      <td>{'was_impossible': False}</td>\n",
              "      <td>96</td>\n",
              "      <td>186</td>\n",
              "      <td>0.648101</td>\n",
              "      <td>139</td>\n",
              "    </tr>\n",
              "    <tr>\n",
              "      <th>178605</th>\n",
              "      <td>0110x011</td>\n",
              "      <td>Trade Winds Tripel</td>\n",
              "      <td>4.0</td>\n",
              "      <td>3.801678</td>\n",
              "      <td>{'was_impossible': False}</td>\n",
              "      <td>96</td>\n",
              "      <td>152</td>\n",
              "      <td>0.198322</td>\n",
              "      <td>139</td>\n",
              "    </tr>\n",
              "    <tr>\n",
              "      <th>45000</th>\n",
              "      <td>0110x011</td>\n",
              "      <td>Darkness</td>\n",
              "      <td>3.5</td>\n",
              "      <td>4.433841</td>\n",
              "      <td>{'was_impossible': False}</td>\n",
              "      <td>96</td>\n",
              "      <td>431</td>\n",
              "      <td>0.933841</td>\n",
              "      <td>139</td>\n",
              "    </tr>\n",
              "    <tr>\n",
              "      <th>358838</th>\n",
              "      <td>0110x011</td>\n",
              "      <td>AleSmith Old Numbskull</td>\n",
              "      <td>4.0</td>\n",
              "      <td>4.141262</td>\n",
              "      <td>{'was_impossible': False}</td>\n",
              "      <td>96</td>\n",
              "      <td>240</td>\n",
              "      <td>0.141262</td>\n",
              "      <td>139</td>\n",
              "    </tr>\n",
              "  </tbody>\n",
              "</table>\n",
              "</div>"
            ],
            "text/plain": [
              "             uid                                    iid  rui       est  \\\n",
              "290211  0110x011  AleSmith Speedway Stout - Barrel Aged  3.5  4.484630   \n",
              "165605  0110x011                     Ølfabrikken Porter  5.0  4.351899   \n",
              "178605  0110x011                     Trade Winds Tripel  4.0  3.801678   \n",
              "45000   0110x011                               Darkness  3.5  4.433841   \n",
              "358838  0110x011                 AleSmith Old Numbskull  4.0  4.141262   \n",
              "\n",
              "                          details  Iu   Ui       err  user_freq  \n",
              "290211  {'was_impossible': False}  96  119  0.984630        139  \n",
              "165605  {'was_impossible': False}  96  186  0.648101        139  \n",
              "178605  {'was_impossible': False}  96  152  0.198322        139  \n",
              "45000   {'was_impossible': False}  96  431  0.933841        139  \n",
              "358838  {'was_impossible': False}  96  240  0.141262        139  "
            ]
          },
          "metadata": {
            "tags": []
          },
          "execution_count": 28
        }
      ]
    },
    {
      "metadata": {
        "id": "YOJZ-xruEA32",
        "colab_type": "code",
        "colab": {
          "base_uri": "https://localhost:8080/",
          "height": 204
        },
        "outputId": "76a417ee-0919-4471-ff6d-4941c72b9147"
      },
      "cell_type": "code",
      "source": [
        "# predict on whole dataset\n",
        "nmf_pred_s = nmf.test(testset_s)\n",
        "nmf_pred_df_s = get_pred_df(nmf_pred_s)\n",
        "nmf_pred_df_s.head()"
      ],
      "execution_count": 29,
      "outputs": [
        {
          "output_type": "execute_result",
          "data": {
            "text/html": [
              "<div>\n",
              "<style scoped>\n",
              "    .dataframe tbody tr th:only-of-type {\n",
              "        vertical-align: middle;\n",
              "    }\n",
              "\n",
              "    .dataframe tbody tr th {\n",
              "        vertical-align: top;\n",
              "    }\n",
              "\n",
              "    .dataframe thead th {\n",
              "        text-align: right;\n",
              "    }\n",
              "</style>\n",
              "<table border=\"1\" class=\"dataframe\">\n",
              "  <thead>\n",
              "    <tr style=\"text-align: right;\">\n",
              "      <th></th>\n",
              "      <th>uid</th>\n",
              "      <th>iid</th>\n",
              "      <th>rui</th>\n",
              "      <th>est</th>\n",
              "      <th>details</th>\n",
              "      <th>Iu</th>\n",
              "      <th>Ui</th>\n",
              "      <th>err</th>\n",
              "      <th>user_freq</th>\n",
              "    </tr>\n",
              "  </thead>\n",
              "  <tbody>\n",
              "    <tr>\n",
              "      <th>806007</th>\n",
              "      <td>0110x011</td>\n",
              "      <td>AleSmith My Bloody Valentine</td>\n",
              "      <td>5.0</td>\n",
              "      <td>4.310716</td>\n",
              "      <td>{'was_impossible': False}</td>\n",
              "      <td>96</td>\n",
              "      <td>28</td>\n",
              "      <td>0.689284</td>\n",
              "      <td>139</td>\n",
              "    </tr>\n",
              "    <tr>\n",
              "      <th>521413</th>\n",
              "      <td>0110x011</td>\n",
              "      <td>IPA</td>\n",
              "      <td>4.0</td>\n",
              "      <td>3.830144</td>\n",
              "      <td>{'was_impossible': False}</td>\n",
              "      <td>96</td>\n",
              "      <td>722</td>\n",
              "      <td>0.169856</td>\n",
              "      <td>139</td>\n",
              "    </tr>\n",
              "    <tr>\n",
              "      <th>1346677</th>\n",
              "      <td>0110x011</td>\n",
              "      <td>Black Orchard</td>\n",
              "      <td>4.5</td>\n",
              "      <td>3.666003</td>\n",
              "      <td>{'was_impossible': False}</td>\n",
              "      <td>96</td>\n",
              "      <td>153</td>\n",
              "      <td>0.833997</td>\n",
              "      <td>139</td>\n",
              "    </tr>\n",
              "    <tr>\n",
              "      <th>522388</th>\n",
              "      <td>0110x011</td>\n",
              "      <td>Phunky Duck</td>\n",
              "      <td>4.5</td>\n",
              "      <td>4.515852</td>\n",
              "      <td>{'was_impossible': False}</td>\n",
              "      <td>96</td>\n",
              "      <td>11</td>\n",
              "      <td>0.015852</td>\n",
              "      <td>139</td>\n",
              "    </tr>\n",
              "    <tr>\n",
              "      <th>1187411</th>\n",
              "      <td>0110x011</td>\n",
              "      <td>Stone Imperial Russian Stout</td>\n",
              "      <td>4.0</td>\n",
              "      <td>4.272664</td>\n",
              "      <td>{'was_impossible': False}</td>\n",
              "      <td>96</td>\n",
              "      <td>1383</td>\n",
              "      <td>0.272664</td>\n",
              "      <td>139</td>\n",
              "    </tr>\n",
              "  </tbody>\n",
              "</table>\n",
              "</div>"
            ],
            "text/plain": [
              "              uid                           iid  rui       est  \\\n",
              "806007   0110x011  AleSmith My Bloody Valentine  5.0  4.310716   \n",
              "521413   0110x011                           IPA  4.0  3.830144   \n",
              "1346677  0110x011                 Black Orchard  4.5  3.666003   \n",
              "522388   0110x011                   Phunky Duck  4.5  4.515852   \n",
              "1187411  0110x011  Stone Imperial Russian Stout  4.0  4.272664   \n",
              "\n",
              "                           details  Iu    Ui       err  user_freq  \n",
              "806007   {'was_impossible': False}  96    28  0.689284        139  \n",
              "521413   {'was_impossible': False}  96   722  0.169856        139  \n",
              "1346677  {'was_impossible': False}  96   153  0.833997        139  \n",
              "522388   {'was_impossible': False}  96    11  0.015852        139  \n",
              "1187411  {'was_impossible': False}  96  1383  0.272664        139  "
            ]
          },
          "metadata": {
            "tags": []
          },
          "execution_count": 29
        }
      ]
    },
    {
      "metadata": {
        "id": "KfC9a_wKxjS1",
        "colab_type": "text"
      },
      "cell_type": "markdown",
      "source": [
        "### 2.3 KNN user-based"
      ]
    },
    {
      "metadata": {
        "id": "gKeSGs2wVvae",
        "colab_type": "text"
      },
      "cell_type": "markdown",
      "source": [
        "#### 2.3.1 KNN on whole dataset (after trimmed)"
      ]
    },
    {
      "metadata": {
        "id": "-DqBR73DRgXN",
        "colab_type": "code",
        "colab": {
          "base_uri": "https://localhost:8080/",
          "height": 323
        },
        "outputId": "6a37dad9-bfbd-4aec-a046-14f7e7ca0f9a"
      },
      "cell_type": "code",
      "source": [
        "# model set up\n",
        "sim_options = {'name': 'pearson', 'user_based': True, 'min_support':10}  \n",
        "knnmean = KNNWithMeans(k=300, \n",
        "                       min_k=10, \n",
        "                       sim_options=sim_options, \n",
        "                       verbose=True)\n",
        "# fit\n",
        "knnmean.fit(trainset)\n",
        "\n",
        "# test\n",
        "knn_pred = knnmean.test(testset)\n",
        "\n",
        "# predict\n",
        "knn_pred_df = get_pred_df(knn_pred)\n",
        "knn_pred_df.head()"
      ],
      "execution_count": 30,
      "outputs": [
        {
          "output_type": "stream",
          "text": [
            "Computing the pearson similarity matrix...\n",
            "Done computing similarity matrix.\n"
          ],
          "name": "stdout"
        },
        {
          "output_type": "execute_result",
          "data": {
            "text/html": [
              "<div>\n",
              "<style scoped>\n",
              "    .dataframe tbody tr th:only-of-type {\n",
              "        vertical-align: middle;\n",
              "    }\n",
              "\n",
              "    .dataframe tbody tr th {\n",
              "        vertical-align: top;\n",
              "    }\n",
              "\n",
              "    .dataframe thead th {\n",
              "        text-align: right;\n",
              "    }\n",
              "</style>\n",
              "<table border=\"1\" class=\"dataframe\">\n",
              "  <thead>\n",
              "    <tr style=\"text-align: right;\">\n",
              "      <th></th>\n",
              "      <th>uid</th>\n",
              "      <th>iid</th>\n",
              "      <th>rui</th>\n",
              "      <th>est</th>\n",
              "      <th>details</th>\n",
              "      <th>Iu</th>\n",
              "      <th>Ui</th>\n",
              "      <th>err</th>\n",
              "      <th>user_freq</th>\n",
              "    </tr>\n",
              "  </thead>\n",
              "  <tbody>\n",
              "    <tr>\n",
              "      <th>290211</th>\n",
              "      <td>0110x011</td>\n",
              "      <td>AleSmith Speedway Stout - Barrel Aged</td>\n",
              "      <td>3.5</td>\n",
              "      <td>4.648255</td>\n",
              "      <td>{'actual_k': 78, 'was_impossible': False}</td>\n",
              "      <td>96</td>\n",
              "      <td>119</td>\n",
              "      <td>1.148255</td>\n",
              "      <td>139</td>\n",
              "    </tr>\n",
              "    <tr>\n",
              "      <th>165605</th>\n",
              "      <td>0110x011</td>\n",
              "      <td>Ølfabrikken Porter</td>\n",
              "      <td>5.0</td>\n",
              "      <td>4.554331</td>\n",
              "      <td>{'actual_k': 126, 'was_impossible': False}</td>\n",
              "      <td>96</td>\n",
              "      <td>186</td>\n",
              "      <td>0.445669</td>\n",
              "      <td>139</td>\n",
              "    </tr>\n",
              "    <tr>\n",
              "      <th>178605</th>\n",
              "      <td>0110x011</td>\n",
              "      <td>Trade Winds Tripel</td>\n",
              "      <td>4.0</td>\n",
              "      <td>4.156846</td>\n",
              "      <td>{'actual_k': 86, 'was_impossible': False}</td>\n",
              "      <td>96</td>\n",
              "      <td>152</td>\n",
              "      <td>0.156846</td>\n",
              "      <td>139</td>\n",
              "    </tr>\n",
              "    <tr>\n",
              "      <th>45000</th>\n",
              "      <td>0110x011</td>\n",
              "      <td>Darkness</td>\n",
              "      <td>3.5</td>\n",
              "      <td>4.534420</td>\n",
              "      <td>{'actual_k': 234, 'was_impossible': False}</td>\n",
              "      <td>96</td>\n",
              "      <td>431</td>\n",
              "      <td>1.034420</td>\n",
              "      <td>139</td>\n",
              "    </tr>\n",
              "    <tr>\n",
              "      <th>358838</th>\n",
              "      <td>0110x011</td>\n",
              "      <td>AleSmith Old Numbskull</td>\n",
              "      <td>4.0</td>\n",
              "      <td>4.448587</td>\n",
              "      <td>{'actual_k': 155, 'was_impossible': False}</td>\n",
              "      <td>96</td>\n",
              "      <td>240</td>\n",
              "      <td>0.448587</td>\n",
              "      <td>139</td>\n",
              "    </tr>\n",
              "  </tbody>\n",
              "</table>\n",
              "</div>"
            ],
            "text/plain": [
              "             uid                                    iid  rui       est  \\\n",
              "290211  0110x011  AleSmith Speedway Stout - Barrel Aged  3.5  4.648255   \n",
              "165605  0110x011                     Ølfabrikken Porter  5.0  4.554331   \n",
              "178605  0110x011                     Trade Winds Tripel  4.0  4.156846   \n",
              "45000   0110x011                               Darkness  3.5  4.534420   \n",
              "358838  0110x011                 AleSmith Old Numbskull  4.0  4.448587   \n",
              "\n",
              "                                           details  Iu   Ui       err  \\\n",
              "290211   {'actual_k': 78, 'was_impossible': False}  96  119  1.148255   \n",
              "165605  {'actual_k': 126, 'was_impossible': False}  96  186  0.445669   \n",
              "178605   {'actual_k': 86, 'was_impossible': False}  96  152  0.156846   \n",
              "45000   {'actual_k': 234, 'was_impossible': False}  96  431  1.034420   \n",
              "358838  {'actual_k': 155, 'was_impossible': False}  96  240  0.448587   \n",
              "\n",
              "        user_freq  \n",
              "290211        139  \n",
              "165605        139  \n",
              "178605        139  \n",
              "45000         139  \n",
              "358838        139  "
            ]
          },
          "metadata": {
            "tags": []
          },
          "execution_count": 30
        }
      ]
    },
    {
      "metadata": {
        "id": "q6NgKWt0WdgZ",
        "colab_type": "code",
        "colab": {
          "base_uri": "https://localhost:8080/",
          "height": 289
        },
        "outputId": "e422c855-9b36-4816-994a-254aee1b4db2"
      },
      "cell_type": "code",
      "source": [
        "# predict whole dataset\n",
        "knn_pred_s = knnmean.test(testset_s)\n",
        "knn_pred_df_s = get_pred_df(knn_pred_s)\n",
        "knn_pred_df_s.head()"
      ],
      "execution_count": 31,
      "outputs": [
        {
          "output_type": "execute_result",
          "data": {
            "text/html": [
              "<div>\n",
              "<style scoped>\n",
              "    .dataframe tbody tr th:only-of-type {\n",
              "        vertical-align: middle;\n",
              "    }\n",
              "\n",
              "    .dataframe tbody tr th {\n",
              "        vertical-align: top;\n",
              "    }\n",
              "\n",
              "    .dataframe thead th {\n",
              "        text-align: right;\n",
              "    }\n",
              "</style>\n",
              "<table border=\"1\" class=\"dataframe\">\n",
              "  <thead>\n",
              "    <tr style=\"text-align: right;\">\n",
              "      <th></th>\n",
              "      <th>uid</th>\n",
              "      <th>iid</th>\n",
              "      <th>rui</th>\n",
              "      <th>est</th>\n",
              "      <th>details</th>\n",
              "      <th>Iu</th>\n",
              "      <th>Ui</th>\n",
              "      <th>err</th>\n",
              "      <th>user_freq</th>\n",
              "    </tr>\n",
              "  </thead>\n",
              "  <tbody>\n",
              "    <tr>\n",
              "      <th>806007</th>\n",
              "      <td>0110x011</td>\n",
              "      <td>AleSmith My Bloody Valentine</td>\n",
              "      <td>5.0</td>\n",
              "      <td>4.744699</td>\n",
              "      <td>{'actual_k': 21, 'was_impossible': False}</td>\n",
              "      <td>96</td>\n",
              "      <td>28</td>\n",
              "      <td>0.255301</td>\n",
              "      <td>139</td>\n",
              "    </tr>\n",
              "    <tr>\n",
              "      <th>521413</th>\n",
              "      <td>0110x011</td>\n",
              "      <td>IPA</td>\n",
              "      <td>4.0</td>\n",
              "      <td>3.999608</td>\n",
              "      <td>{'actual_k': 300, 'was_impossible': False}</td>\n",
              "      <td>96</td>\n",
              "      <td>722</td>\n",
              "      <td>0.000392</td>\n",
              "      <td>139</td>\n",
              "    </tr>\n",
              "    <tr>\n",
              "      <th>1346677</th>\n",
              "      <td>0110x011</td>\n",
              "      <td>Black Orchard</td>\n",
              "      <td>4.5</td>\n",
              "      <td>3.844070</td>\n",
              "      <td>{'actual_k': 98, 'was_impossible': False}</td>\n",
              "      <td>96</td>\n",
              "      <td>153</td>\n",
              "      <td>0.655930</td>\n",
              "      <td>139</td>\n",
              "    </tr>\n",
              "    <tr>\n",
              "      <th>522388</th>\n",
              "      <td>0110x011</td>\n",
              "      <td>Phunky Duck</td>\n",
              "      <td>4.5</td>\n",
              "      <td>4.182292</td>\n",
              "      <td>{'actual_k': 9, 'was_impossible': False}</td>\n",
              "      <td>96</td>\n",
              "      <td>11</td>\n",
              "      <td>0.317708</td>\n",
              "      <td>139</td>\n",
              "    </tr>\n",
              "    <tr>\n",
              "      <th>1187411</th>\n",
              "      <td>0110x011</td>\n",
              "      <td>Stone Imperial Russian Stout</td>\n",
              "      <td>4.0</td>\n",
              "      <td>4.491330</td>\n",
              "      <td>{'actual_k': 300, 'was_impossible': False}</td>\n",
              "      <td>96</td>\n",
              "      <td>1383</td>\n",
              "      <td>0.491330</td>\n",
              "      <td>139</td>\n",
              "    </tr>\n",
              "  </tbody>\n",
              "</table>\n",
              "</div>"
            ],
            "text/plain": [
              "              uid                           iid  rui       est  \\\n",
              "806007   0110x011  AleSmith My Bloody Valentine  5.0  4.744699   \n",
              "521413   0110x011                           IPA  4.0  3.999608   \n",
              "1346677  0110x011                 Black Orchard  4.5  3.844070   \n",
              "522388   0110x011                   Phunky Duck  4.5  4.182292   \n",
              "1187411  0110x011  Stone Imperial Russian Stout  4.0  4.491330   \n",
              "\n",
              "                                            details  Iu    Ui       err  \\\n",
              "806007    {'actual_k': 21, 'was_impossible': False}  96    28  0.255301   \n",
              "521413   {'actual_k': 300, 'was_impossible': False}  96   722  0.000392   \n",
              "1346677   {'actual_k': 98, 'was_impossible': False}  96   153  0.655930   \n",
              "522388     {'actual_k': 9, 'was_impossible': False}  96    11  0.317708   \n",
              "1187411  {'actual_k': 300, 'was_impossible': False}  96  1383  0.491330   \n",
              "\n",
              "         user_freq  \n",
              "806007         139  \n",
              "521413         139  \n",
              "1346677        139  \n",
              "522388         139  \n",
              "1187411        139  "
            ]
          },
          "metadata": {
            "tags": []
          },
          "execution_count": 31
        }
      ]
    },
    {
      "metadata": {
        "id": "t33gjdly-q6o",
        "colab_type": "text"
      },
      "cell_type": "markdown",
      "source": [
        "#### 2.3.2 KNN on two separate sets"
      ]
    },
    {
      "metadata": {
        "id": "iM7GIvfC-XFM",
        "colab_type": "code",
        "colab": {}
      },
      "cell_type": "code",
      "source": [
        "# set up model\n",
        "sim_options = {'name': 'pearson', 'user_based': True, 'min_support':10}  \n",
        "knnmean1 = KNNWithMeans(k=300, \n",
        "                       min_k=10, \n",
        "                       sim_options=sim_options, \n",
        "                       verbose=True)\n",
        "\n",
        "knnmean2 = KNNWithMeans(k=300, \n",
        "                       min_k=10, \n",
        "                       sim_options=sim_options, \n",
        "                       verbose=True)"
      ],
      "execution_count": 0,
      "outputs": []
    },
    {
      "metadata": {
        "id": "vp3N5GSTh9II",
        "colab_type": "text"
      },
      "cell_type": "markdown",
      "source": [
        "##### 1) users with more than 100 reviews"
      ]
    },
    {
      "metadata": {
        "id": "FJNCa2XGhVdm",
        "colab_type": "code",
        "outputId": "7436f5fc-7a59-4980-9830-d751a4aafaf0",
        "colab": {
          "base_uri": "https://localhost:8080/",
          "height": 68
        }
      },
      "cell_type": "code",
      "source": [
        "# split train & test \n",
        "knn_more = Dataset.load_from_df(more[['review_profileName', 'beer_name', 'review_overall']], reader)\n",
        "trainset_more, testset_more = train_test_split(knn_more, test_size=.33)\n",
        "\n",
        "# fit\n",
        "knnmean1.fit(trainset_more)"
      ],
      "execution_count": 33,
      "outputs": [
        {
          "output_type": "stream",
          "text": [
            "Computing the pearson similarity matrix...\n",
            "Done computing similarity matrix.\n"
          ],
          "name": "stdout"
        },
        {
          "output_type": "execute_result",
          "data": {
            "text/plain": [
              "<surprise.prediction_algorithms.knns.KNNWithMeans at 0x7f6c505ce710>"
            ]
          },
          "metadata": {
            "tags": []
          },
          "execution_count": 33
        }
      ]
    },
    {
      "metadata": {
        "id": "tTX66ugkiSF3",
        "colab_type": "code",
        "colab": {}
      },
      "cell_type": "code",
      "source": [
        "# test\n",
        "pred_more = knnmean1.test(testset_more)"
      ],
      "execution_count": 0,
      "outputs": []
    },
    {
      "metadata": {
        "id": "yT5i-8NnCH5U",
        "colab_type": "code",
        "outputId": "30078ef7-7b6d-4f99-cfed-f12adbaf06fc",
        "colab": {
          "base_uri": "https://localhost:8080/",
          "height": 289
        }
      },
      "cell_type": "code",
      "source": [
        "# prediction\n",
        "pred_more_df = get_pred_df(pred_more)\n",
        "pred_more_df.head()"
      ],
      "execution_count": 35,
      "outputs": [
        {
          "output_type": "execute_result",
          "data": {
            "text/html": [
              "<div>\n",
              "<style scoped>\n",
              "    .dataframe tbody tr th:only-of-type {\n",
              "        vertical-align: middle;\n",
              "    }\n",
              "\n",
              "    .dataframe tbody tr th {\n",
              "        vertical-align: top;\n",
              "    }\n",
              "\n",
              "    .dataframe thead th {\n",
              "        text-align: right;\n",
              "    }\n",
              "</style>\n",
              "<table border=\"1\" class=\"dataframe\">\n",
              "  <thead>\n",
              "    <tr style=\"text-align: right;\">\n",
              "      <th></th>\n",
              "      <th>uid</th>\n",
              "      <th>iid</th>\n",
              "      <th>rui</th>\n",
              "      <th>est</th>\n",
              "      <th>details</th>\n",
              "      <th>Iu</th>\n",
              "      <th>Ui</th>\n",
              "      <th>err</th>\n",
              "      <th>user_freq</th>\n",
              "    </tr>\n",
              "  </thead>\n",
              "  <tbody>\n",
              "    <tr>\n",
              "      <th>36529</th>\n",
              "      <td>0110x011</td>\n",
              "      <td>Lindemans Framboise</td>\n",
              "      <td>4.0</td>\n",
              "      <td>4.209181</td>\n",
              "      <td>{'actual_k': 190, 'was_impossible': False}</td>\n",
              "      <td>96</td>\n",
              "      <td>542</td>\n",
              "      <td>0.209181</td>\n",
              "      <td>139</td>\n",
              "    </tr>\n",
              "    <tr>\n",
              "      <th>63325</th>\n",
              "      <td>0110x011</td>\n",
              "      <td>Girardin Gueuze 1882 (Black Label)</td>\n",
              "      <td>5.0</td>\n",
              "      <td>4.633036</td>\n",
              "      <td>{'actual_k': 174, 'was_impossible': False}</td>\n",
              "      <td>96</td>\n",
              "      <td>299</td>\n",
              "      <td>0.366964</td>\n",
              "      <td>139</td>\n",
              "    </tr>\n",
              "    <tr>\n",
              "      <th>293358</th>\n",
              "      <td>0110x011</td>\n",
              "      <td>Blind Pig IPA</td>\n",
              "      <td>4.5</td>\n",
              "      <td>4.717479</td>\n",
              "      <td>{'actual_k': 300, 'was_impossible': False}</td>\n",
              "      <td>96</td>\n",
              "      <td>727</td>\n",
              "      <td>0.217479</td>\n",
              "      <td>139</td>\n",
              "    </tr>\n",
              "    <tr>\n",
              "      <th>237507</th>\n",
              "      <td>0110x011</td>\n",
              "      <td>Double Barrel Ale</td>\n",
              "      <td>4.0</td>\n",
              "      <td>4.231004</td>\n",
              "      <td>{'actual_k': 144, 'was_impossible': False}</td>\n",
              "      <td>96</td>\n",
              "      <td>344</td>\n",
              "      <td>0.231004</td>\n",
              "      <td>139</td>\n",
              "    </tr>\n",
              "    <tr>\n",
              "      <th>187938</th>\n",
              "      <td>0110x011</td>\n",
              "      <td>Saison De Lente, 100% Brett</td>\n",
              "      <td>3.5</td>\n",
              "      <td>4.181818</td>\n",
              "      <td>{'actual_k': 5, 'was_impossible': False}</td>\n",
              "      <td>96</td>\n",
              "      <td>5</td>\n",
              "      <td>0.681818</td>\n",
              "      <td>139</td>\n",
              "    </tr>\n",
              "  </tbody>\n",
              "</table>\n",
              "</div>"
            ],
            "text/plain": [
              "             uid                                 iid  rui       est  \\\n",
              "36529   0110x011                 Lindemans Framboise  4.0  4.209181   \n",
              "63325   0110x011  Girardin Gueuze 1882 (Black Label)  5.0  4.633036   \n",
              "293358  0110x011                       Blind Pig IPA  4.5  4.717479   \n",
              "237507  0110x011                   Double Barrel Ale  4.0  4.231004   \n",
              "187938  0110x011         Saison De Lente, 100% Brett  3.5  4.181818   \n",
              "\n",
              "                                           details  Iu   Ui       err  \\\n",
              "36529   {'actual_k': 190, 'was_impossible': False}  96  542  0.209181   \n",
              "63325   {'actual_k': 174, 'was_impossible': False}  96  299  0.366964   \n",
              "293358  {'actual_k': 300, 'was_impossible': False}  96  727  0.217479   \n",
              "237507  {'actual_k': 144, 'was_impossible': False}  96  344  0.231004   \n",
              "187938    {'actual_k': 5, 'was_impossible': False}  96    5  0.681818   \n",
              "\n",
              "        user_freq  \n",
              "36529         139  \n",
              "63325         139  \n",
              "293358        139  \n",
              "237507        139  \n",
              "187938        139  "
            ]
          },
          "metadata": {
            "tags": []
          },
          "execution_count": 35
        }
      ]
    },
    {
      "metadata": {
        "id": "dEoKi3PtiHHP",
        "colab_type": "text"
      },
      "cell_type": "markdown",
      "source": [
        "##### 2) users with less than 100 reviews"
      ]
    },
    {
      "metadata": {
        "id": "yb7Z-JWuguWZ",
        "colab_type": "code",
        "outputId": "cc93a498-0c8e-48be-b458-83e44602289d",
        "colab": {
          "base_uri": "https://localhost:8080/",
          "height": 68
        }
      },
      "cell_type": "code",
      "source": [
        "# split train & test \n",
        "knn_less = Dataset.load_from_df(less[['review_profileName', 'beer_name', 'review_overall']], reader)\n",
        "trainset_less, testset_less = train_test_split(knn_less, test_size=.33)\n",
        "\n",
        "# fit\n",
        "knnmean2.fit(trainset_less)"
      ],
      "execution_count": 36,
      "outputs": [
        {
          "output_type": "stream",
          "text": [
            "Computing the pearson similarity matrix...\n",
            "Done computing similarity matrix.\n"
          ],
          "name": "stdout"
        },
        {
          "output_type": "execute_result",
          "data": {
            "text/plain": [
              "<surprise.prediction_algorithms.knns.KNNWithMeans at 0x7f6c505ce518>"
            ]
          },
          "metadata": {
            "tags": []
          },
          "execution_count": 36
        }
      ]
    },
    {
      "metadata": {
        "id": "jR97JJkJmB88",
        "colab_type": "code",
        "outputId": "765919ae-681e-45ca-c6ee-432ae6b9a87b",
        "colab": {
          "base_uri": "https://localhost:8080/",
          "height": 255
        }
      },
      "cell_type": "code",
      "source": [
        "# test\n",
        "pred_less = knnmean2.test(testset_less)\n",
        "\n",
        "# predict\n",
        "pred_less_df = get_pred_df(pred_less)\n",
        "pred_less_df.head()"
      ],
      "execution_count": 37,
      "outputs": [
        {
          "output_type": "execute_result",
          "data": {
            "text/html": [
              "<div>\n",
              "<style scoped>\n",
              "    .dataframe tbody tr th:only-of-type {\n",
              "        vertical-align: middle;\n",
              "    }\n",
              "\n",
              "    .dataframe tbody tr th {\n",
              "        vertical-align: top;\n",
              "    }\n",
              "\n",
              "    .dataframe thead th {\n",
              "        text-align: right;\n",
              "    }\n",
              "</style>\n",
              "<table border=\"1\" class=\"dataframe\">\n",
              "  <thead>\n",
              "    <tr style=\"text-align: right;\">\n",
              "      <th></th>\n",
              "      <th>uid</th>\n",
              "      <th>iid</th>\n",
              "      <th>rui</th>\n",
              "      <th>est</th>\n",
              "      <th>details</th>\n",
              "      <th>Iu</th>\n",
              "      <th>Ui</th>\n",
              "      <th>err</th>\n",
              "      <th>user_freq</th>\n",
              "    </tr>\n",
              "  </thead>\n",
              "  <tbody>\n",
              "    <tr>\n",
              "      <th>43923</th>\n",
              "      <td>01121987</td>\n",
              "      <td>Sierra Nevada Summerfest Lager</td>\n",
              "      <td>5.0</td>\n",
              "      <td>4.325000</td>\n",
              "      <td>{'actual_k': 0, 'was_impossible': False}</td>\n",
              "      <td>21</td>\n",
              "      <td>854</td>\n",
              "      <td>0.675000</td>\n",
              "      <td>29</td>\n",
              "    </tr>\n",
              "    <tr>\n",
              "      <th>14006</th>\n",
              "      <td>01121987</td>\n",
              "      <td>König Pilsener</td>\n",
              "      <td>5.0</td>\n",
              "      <td>4.325000</td>\n",
              "      <td>{'actual_k': 0, 'was_impossible': False}</td>\n",
              "      <td>21</td>\n",
              "      <td>138</td>\n",
              "      <td>0.675000</td>\n",
              "      <td>29</td>\n",
              "    </tr>\n",
              "    <tr>\n",
              "      <th>49527</th>\n",
              "      <td>01121987</td>\n",
              "      <td>Revenante</td>\n",
              "      <td>4.5</td>\n",
              "      <td>3.863734</td>\n",
              "      <td>{'was_impossible': True, 'reason': 'User and/o...</td>\n",
              "      <td>21</td>\n",
              "      <td>5</td>\n",
              "      <td>0.636266</td>\n",
              "      <td>29</td>\n",
              "    </tr>\n",
              "    <tr>\n",
              "      <th>32205</th>\n",
              "      <td>01121987</td>\n",
              "      <td>No.926</td>\n",
              "      <td>3.0</td>\n",
              "      <td>3.863734</td>\n",
              "      <td>{'was_impossible': True, 'reason': 'User and/o...</td>\n",
              "      <td>21</td>\n",
              "      <td>7</td>\n",
              "      <td>0.863734</td>\n",
              "      <td>29</td>\n",
              "    </tr>\n",
              "    <tr>\n",
              "      <th>64653</th>\n",
              "      <td>01121987</td>\n",
              "      <td>Wacko</td>\n",
              "      <td>4.0</td>\n",
              "      <td>4.325000</td>\n",
              "      <td>{'actual_k': 0, 'was_impossible': False}</td>\n",
              "      <td>21</td>\n",
              "      <td>271</td>\n",
              "      <td>0.325000</td>\n",
              "      <td>29</td>\n",
              "    </tr>\n",
              "  </tbody>\n",
              "</table>\n",
              "</div>"
            ],
            "text/plain": [
              "            uid                             iid  rui       est  \\\n",
              "43923  01121987  Sierra Nevada Summerfest Lager  5.0  4.325000   \n",
              "14006  01121987                  König Pilsener  5.0  4.325000   \n",
              "49527  01121987                       Revenante  4.5  3.863734   \n",
              "32205  01121987                          No.926  3.0  3.863734   \n",
              "64653  01121987                           Wacko  4.0  4.325000   \n",
              "\n",
              "                                                 details  Iu   Ui       err  \\\n",
              "43923           {'actual_k': 0, 'was_impossible': False}  21  854  0.675000   \n",
              "14006           {'actual_k': 0, 'was_impossible': False}  21  138  0.675000   \n",
              "49527  {'was_impossible': True, 'reason': 'User and/o...  21    5  0.636266   \n",
              "32205  {'was_impossible': True, 'reason': 'User and/o...  21    7  0.863734   \n",
              "64653           {'actual_k': 0, 'was_impossible': False}  21  271  0.325000   \n",
              "\n",
              "       user_freq  \n",
              "43923         29  \n",
              "14006         29  \n",
              "49527         29  \n",
              "32205         29  \n",
              "64653         29  "
            ]
          },
          "metadata": {
            "tags": []
          },
          "execution_count": 37
        }
      ]
    },
    {
      "metadata": {
        "id": "oc4gpLRZwEKL",
        "colab_type": "text"
      },
      "cell_type": "markdown",
      "source": [
        "## Part 3: Summary\n",
        "\n",
        "summarize rmse dict for three models"
      ]
    },
    {
      "metadata": {
        "id": "-vAMuELLK4rw",
        "colab_type": "code",
        "colab": {}
      },
      "cell_type": "code",
      "source": [
        "# define function to get group prediction error\n",
        "def error_bygroup(pred_df, model_name):\n",
        "  \"\"\"\n",
        "  input complete pred_error df\n",
        "  output pred_error by group\n",
        "  \"\"\"\n",
        "  # cut into groups\n",
        "  bins = [10, 20, 30, 40, 50, 100, 200, 500, 1000, 2000, 6000]\n",
        "  labels = ['11-20', '21-30', '31-40', '41-50', '51-100', '101-200', \n",
        "            '201-500', '501-1000', '1001-2000', '2001-6000']\n",
        "  \n",
        "  # add group label\n",
        "  pred_df['review_group'] = pd.cut(pred_df['user_freq'], bins = bins, labels = labels)\n",
        "  \n",
        "  # calculate group mean\n",
        "  pred_df = pred_df.groupby('review_group').mean()\n",
        "  \n",
        "  # rename the error column\n",
        "  #pred_df['err'].columns = model_name\n",
        "  pred_df = pred_df.rename(columns = {'err':model_name})\n",
        "  return pred_df"
      ],
      "execution_count": 0,
      "outputs": []
    },
    {
      "metadata": {
        "id": "hnlezxZfwHPM",
        "colab_type": "code",
        "colab": {}
      },
      "cell_type": "code",
      "source": [
        "# get prediction error\n",
        "#knn_pred_df = pd.concat([pred_more_df, pred_less_df])\n",
        "svd_err = error_bygroup(svd_pred_df_s, 'SVD')\n",
        "nmf_err = error_bygroup(nmf_pred_df_s, 'NMF')\n",
        "knn_err_separate = error_bygroup(knn_pred_df, 'KNN_separate')\n",
        "knn_err = error_bygroup(knn_pred_df_s, 'KNN')"
      ],
      "execution_count": 0,
      "outputs": []
    },
    {
      "metadata": {
        "id": "kwuOdNv0M4Sb",
        "colab_type": "code",
        "colab": {
          "base_uri": "https://localhost:8080/",
          "height": 390
        },
        "outputId": "a713dbb6-df57-45c8-90cf-fd42cd013fa5"
      },
      "cell_type": "code",
      "source": [
        "svd_err"
      ],
      "execution_count": 40,
      "outputs": [
        {
          "output_type": "execute_result",
          "data": {
            "text/html": [
              "<div>\n",
              "<style scoped>\n",
              "    .dataframe tbody tr th:only-of-type {\n",
              "        vertical-align: middle;\n",
              "    }\n",
              "\n",
              "    .dataframe tbody tr th {\n",
              "        vertical-align: top;\n",
              "    }\n",
              "\n",
              "    .dataframe thead th {\n",
              "        text-align: right;\n",
              "    }\n",
              "</style>\n",
              "<table border=\"1\" class=\"dataframe\">\n",
              "  <thead>\n",
              "    <tr style=\"text-align: right;\">\n",
              "      <th></th>\n",
              "      <th>rui</th>\n",
              "      <th>est</th>\n",
              "      <th>Iu</th>\n",
              "      <th>Ui</th>\n",
              "      <th>SVD</th>\n",
              "      <th>user_freq</th>\n",
              "    </tr>\n",
              "    <tr>\n",
              "      <th>review_group</th>\n",
              "      <th></th>\n",
              "      <th></th>\n",
              "      <th></th>\n",
              "      <th></th>\n",
              "      <th></th>\n",
              "      <th></th>\n",
              "    </tr>\n",
              "  </thead>\n",
              "  <tbody>\n",
              "    <tr>\n",
              "      <th>11-20</th>\n",
              "      <td>3.876334</td>\n",
              "      <td>3.864814</td>\n",
              "      <td>10.047549</td>\n",
              "      <td>484.514739</td>\n",
              "      <td>0.485092</td>\n",
              "      <td>15.272332</td>\n",
              "    </tr>\n",
              "    <tr>\n",
              "      <th>21-30</th>\n",
              "      <td>3.867792</td>\n",
              "      <td>3.861820</td>\n",
              "      <td>16.484335</td>\n",
              "      <td>477.102584</td>\n",
              "      <td>0.471674</td>\n",
              "      <td>25.161404</td>\n",
              "    </tr>\n",
              "    <tr>\n",
              "      <th>31-40</th>\n",
              "      <td>3.872536</td>\n",
              "      <td>3.871796</td>\n",
              "      <td>22.909403</td>\n",
              "      <td>476.438351</td>\n",
              "      <td>0.451212</td>\n",
              "      <td>35.312275</td>\n",
              "    </tr>\n",
              "    <tr>\n",
              "      <th>41-50</th>\n",
              "      <td>3.851459</td>\n",
              "      <td>3.848700</td>\n",
              "      <td>29.713441</td>\n",
              "      <td>469.898206</td>\n",
              "      <td>0.454081</td>\n",
              "      <td>45.465454</td>\n",
              "    </tr>\n",
              "    <tr>\n",
              "      <th>51-100</th>\n",
              "      <td>3.861376</td>\n",
              "      <td>3.860053</td>\n",
              "      <td>48.816031</td>\n",
              "      <td>464.054594</td>\n",
              "      <td>0.440550</td>\n",
              "      <td>74.972292</td>\n",
              "    </tr>\n",
              "    <tr>\n",
              "      <th>101-200</th>\n",
              "      <td>3.847407</td>\n",
              "      <td>3.843248</td>\n",
              "      <td>95.957656</td>\n",
              "      <td>438.502729</td>\n",
              "      <td>0.428582</td>\n",
              "      <td>148.588843</td>\n",
              "    </tr>\n",
              "    <tr>\n",
              "      <th>201-500</th>\n",
              "      <td>3.821577</td>\n",
              "      <td>3.818489</td>\n",
              "      <td>216.072762</td>\n",
              "      <td>385.220485</td>\n",
              "      <td>0.425761</td>\n",
              "      <td>337.724441</td>\n",
              "    </tr>\n",
              "    <tr>\n",
              "      <th>501-1000</th>\n",
              "      <td>3.800901</td>\n",
              "      <td>3.797336</td>\n",
              "      <td>455.659793</td>\n",
              "      <td>322.302371</td>\n",
              "      <td>0.416111</td>\n",
              "      <td>724.033393</td>\n",
              "    </tr>\n",
              "    <tr>\n",
              "      <th>1001-2000</th>\n",
              "      <td>3.770877</td>\n",
              "      <td>3.777202</td>\n",
              "      <td>857.134705</td>\n",
              "      <td>250.426657</td>\n",
              "      <td>0.429688</td>\n",
              "      <td>1424.771419</td>\n",
              "    </tr>\n",
              "    <tr>\n",
              "      <th>2001-6000</th>\n",
              "      <td>3.801460</td>\n",
              "      <td>3.798292</td>\n",
              "      <td>1728.049662</td>\n",
              "      <td>195.629417</td>\n",
              "      <td>0.391022</td>\n",
              "      <td>2918.156187</td>\n",
              "    </tr>\n",
              "  </tbody>\n",
              "</table>\n",
              "</div>"
            ],
            "text/plain": [
              "                   rui       est           Iu          Ui       SVD  \\\n",
              "review_group                                                          \n",
              "11-20         3.876334  3.864814    10.047549  484.514739  0.485092   \n",
              "21-30         3.867792  3.861820    16.484335  477.102584  0.471674   \n",
              "31-40         3.872536  3.871796    22.909403  476.438351  0.451212   \n",
              "41-50         3.851459  3.848700    29.713441  469.898206  0.454081   \n",
              "51-100        3.861376  3.860053    48.816031  464.054594  0.440550   \n",
              "101-200       3.847407  3.843248    95.957656  438.502729  0.428582   \n",
              "201-500       3.821577  3.818489   216.072762  385.220485  0.425761   \n",
              "501-1000      3.800901  3.797336   455.659793  322.302371  0.416111   \n",
              "1001-2000     3.770877  3.777202   857.134705  250.426657  0.429688   \n",
              "2001-6000     3.801460  3.798292  1728.049662  195.629417  0.391022   \n",
              "\n",
              "                user_freq  \n",
              "review_group               \n",
              "11-20           15.272332  \n",
              "21-30           25.161404  \n",
              "31-40           35.312275  \n",
              "41-50           45.465454  \n",
              "51-100          74.972292  \n",
              "101-200        148.588843  \n",
              "201-500        337.724441  \n",
              "501-1000       724.033393  \n",
              "1001-2000     1424.771419  \n",
              "2001-6000     2918.156187  "
            ]
          },
          "metadata": {
            "tags": []
          },
          "execution_count": 40
        }
      ]
    },
    {
      "metadata": {
        "id": "1f7yezfz5vtL",
        "colab_type": "code",
        "outputId": "986e57fb-737a-47a6-9839-b95dc236f2c4",
        "colab": {
          "base_uri": "https://localhost:8080/",
          "height": 390
        }
      },
      "cell_type": "code",
      "source": [
        "# combine three models\n",
        "final = pd.concat([svd_err['SVD'], nmf_err['NMF'], knn_err['KNN'], \n",
        "                   knn_err_separate['KNN_separate']], axis=1)\n",
        "final"
      ],
      "execution_count": 41,
      "outputs": [
        {
          "output_type": "execute_result",
          "data": {
            "text/html": [
              "<div>\n",
              "<style scoped>\n",
              "    .dataframe tbody tr th:only-of-type {\n",
              "        vertical-align: middle;\n",
              "    }\n",
              "\n",
              "    .dataframe tbody tr th {\n",
              "        vertical-align: top;\n",
              "    }\n",
              "\n",
              "    .dataframe thead th {\n",
              "        text-align: right;\n",
              "    }\n",
              "</style>\n",
              "<table border=\"1\" class=\"dataframe\">\n",
              "  <thead>\n",
              "    <tr style=\"text-align: right;\">\n",
              "      <th></th>\n",
              "      <th>SVD</th>\n",
              "      <th>NMF</th>\n",
              "      <th>KNN</th>\n",
              "      <th>KNN_separate</th>\n",
              "    </tr>\n",
              "    <tr>\n",
              "      <th>review_group</th>\n",
              "      <th></th>\n",
              "      <th></th>\n",
              "      <th></th>\n",
              "      <th></th>\n",
              "    </tr>\n",
              "  </thead>\n",
              "  <tbody>\n",
              "    <tr>\n",
              "      <th>11-20</th>\n",
              "      <td>0.485092</td>\n",
              "      <td>0.429954</td>\n",
              "      <td>0.568254</td>\n",
              "      <td>0.615583</td>\n",
              "    </tr>\n",
              "    <tr>\n",
              "      <th>21-30</th>\n",
              "      <td>0.471674</td>\n",
              "      <td>0.437020</td>\n",
              "      <td>0.522346</td>\n",
              "      <td>0.591084</td>\n",
              "    </tr>\n",
              "    <tr>\n",
              "      <th>31-40</th>\n",
              "      <td>0.451212</td>\n",
              "      <td>0.429192</td>\n",
              "      <td>0.459078</td>\n",
              "      <td>0.534035</td>\n",
              "    </tr>\n",
              "    <tr>\n",
              "      <th>41-50</th>\n",
              "      <td>0.454081</td>\n",
              "      <td>0.439216</td>\n",
              "      <td>0.443307</td>\n",
              "      <td>0.511602</td>\n",
              "    </tr>\n",
              "    <tr>\n",
              "      <th>51-100</th>\n",
              "      <td>0.440550</td>\n",
              "      <td>0.433000</td>\n",
              "      <td>0.420268</td>\n",
              "      <td>0.484177</td>\n",
              "    </tr>\n",
              "    <tr>\n",
              "      <th>101-200</th>\n",
              "      <td>0.428582</td>\n",
              "      <td>0.426116</td>\n",
              "      <td>0.406777</td>\n",
              "      <td>0.458136</td>\n",
              "    </tr>\n",
              "    <tr>\n",
              "      <th>201-500</th>\n",
              "      <td>0.425761</td>\n",
              "      <td>0.424207</td>\n",
              "      <td>0.407021</td>\n",
              "      <td>0.450171</td>\n",
              "    </tr>\n",
              "    <tr>\n",
              "      <th>501-1000</th>\n",
              "      <td>0.416111</td>\n",
              "      <td>0.412020</td>\n",
              "      <td>0.399250</td>\n",
              "      <td>0.434849</td>\n",
              "    </tr>\n",
              "    <tr>\n",
              "      <th>1001-2000</th>\n",
              "      <td>0.429688</td>\n",
              "      <td>0.423088</td>\n",
              "      <td>0.420488</td>\n",
              "      <td>0.453761</td>\n",
              "    </tr>\n",
              "    <tr>\n",
              "      <th>2001-6000</th>\n",
              "      <td>0.391022</td>\n",
              "      <td>0.379558</td>\n",
              "      <td>0.385752</td>\n",
              "      <td>0.412165</td>\n",
              "    </tr>\n",
              "  </tbody>\n",
              "</table>\n",
              "</div>"
            ],
            "text/plain": [
              "                   SVD       NMF       KNN  KNN_separate\n",
              "review_group                                            \n",
              "11-20         0.485092  0.429954  0.568254      0.615583\n",
              "21-30         0.471674  0.437020  0.522346      0.591084\n",
              "31-40         0.451212  0.429192  0.459078      0.534035\n",
              "41-50         0.454081  0.439216  0.443307      0.511602\n",
              "51-100        0.440550  0.433000  0.420268      0.484177\n",
              "101-200       0.428582  0.426116  0.406777      0.458136\n",
              "201-500       0.425761  0.424207  0.407021      0.450171\n",
              "501-1000      0.416111  0.412020  0.399250      0.434849\n",
              "1001-2000     0.429688  0.423088  0.420488      0.453761\n",
              "2001-6000     0.391022  0.379558  0.385752      0.412165"
            ]
          },
          "metadata": {
            "tags": []
          },
          "execution_count": 41
        }
      ]
    },
    {
      "metadata": {
        "id": "qgoVf-J-i2Kh",
        "colab_type": "text"
      },
      "cell_type": "markdown",
      "source": [
        "According to the error matrix above, using two separate groups in KNN will significantly imrove model accuracy. For the purpose of compare model performance over all review groups, we will use the result of 'KNN on whole dataset' to compare."
      ]
    },
    {
      "metadata": {
        "id": "MpV5o72s6Ccx",
        "colab_type": "code",
        "outputId": "501c6f9f-2369-432b-de64-88e2edc124b9",
        "colab": {
          "base_uri": "https://localhost:8080/",
          "height": 376
        }
      },
      "cell_type": "code",
      "source": [
        "# visualize\n",
        "x = [20, 30, 40, 50, 100, 200, 500, 1000, 2000, 6000]\n",
        "y_svd = svd_err['SVD'].values.tolist()\n",
        "y_nmf = nmf_err['NMF'].values.tolist()\n",
        "y_knn = knn_err['KNN'].values.tolist()\n",
        "\n",
        "plt.plot(x, y_svd, '.r-') \n",
        "plt.plot(x, y_nmf, '.b-') \n",
        "plt.plot(x, y_knn, '.g-') \n",
        "plt.legend(('SVD', 'NMF', 'KNN'), loc='upper right')\n",
        "\n",
        "plt.xlabel('number of reviews')\n",
        "plt.ylabel('test rmse')\n",
        "plt.title('Compare model performance over different # of reviews')\n",
        "\n",
        "plt.show()"
      ],
      "execution_count": 44,
      "outputs": [
        {
          "output_type": "display_data",
          "data": {
            "image/png": "[encoded data removed]",
            "text/plain": [
              "<matplotlib.figure.Figure at 0x7f6c5a065a58>"
            ]
          },
          "metadata": {
            "tags": []
          }
        }
      ]
    },
    {
      "metadata": {
        "id": "aHnekAeGjwbx",
        "colab_type": "code",
        "colab": {
          "base_uri": "https://localhost:8080/",
          "height": 376
        },
        "outputId": "1a78aef9-d843-4ebc-8b8d-a43c06c682a0"
      },
      "cell_type": "code",
      "source": [
        "# visualize: reviews 10-200\n",
        "\n",
        "x = [20, 30, 40, 50, 100, 200]\n",
        "y_svd = svd_err['SVD'].values.tolist()[:6]\n",
        "y_nmf = nmf_err['NMF'].values.tolist()[:6]\n",
        "y_knn = knn_err['KNN'].values.tolist()[:6]\n",
        "\n",
        "plt.plot(x, y_svd, '.r-') \n",
        "plt.plot(x, y_nmf, '.b-') \n",
        "plt.plot(x, y_knn, '.g-') \n",
        "plt.legend(('SVD', 'NMF', 'KNN'), loc='upper right')\n",
        "\n",
        "plt.xlabel('number of reviews')\n",
        "plt.ylabel('test rmse')\n",
        "plt.title('Compare model performance over different # of reviews (0~200)')\n",
        "\n",
        "plt.show()"
      ],
      "execution_count": 49,
      "outputs": [
        {
          "output_type": "display_data",
          "data": {
            "image/png": "[encoded data removed]",
            "text/plain": [
              "<matplotlib.figure.Figure at 0x7f6c5a164128>"
            ]
          },
          "metadata": {
            "tags": []
          }
        }
      ]
    }
  ]
}