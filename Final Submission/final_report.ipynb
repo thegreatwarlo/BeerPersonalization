{
  "nbformat": 4,
  "nbformat_minor": 0,
  "metadata": {
    "colab": {
      "name": "final_report.ipynb",
      "version": "0.3.2",
      "provenance": [],
      "collapsed_sections": [],
      "toc_visible": true
    },
    "kernelspec": {
      "name": "python3",
      "display_name": "Python 3"
    },
    "accelerator": "GPU"
  },
  "cells": [
    {
      "metadata": {
        "id": "NfAiVolcpZvH",
        "colab_type": "text"
      },
      "cell_type": "markdown",
      "source": [
        "# Beer Recommendation\n",
        "Fall 2018, 4571 Recommendation System Final Project\n"
      ]
    },
    {
      "metadata": {
        "id": "wvkoRZf3dmea",
        "colab_type": "text"
      },
      "cell_type": "markdown",
      "source": [
        "##### Background\n",
        "For this project, we pretend to be an online craft beer retailer. We want to develop an algorithm to make purchase recommendations to our customers when they visit our website. The recommendations should be personalized based on the customer’s taste and preferences while helping customers discover new beers they have not tried before. We are imagining each user will have up to 10 Unranked recommended items each time they visit our website.\n"
      ]
    },
    {
      "metadata": {
        "id": "mGxWqybBdq0J",
        "colab_type": "text"
      },
      "cell_type": "markdown",
      "source": [
        "##### Challenges\n",
        "Our project will focus on tackling the following challenges\n",
        "- How can we build recommendations that take into account user preferences and taste?\n",
        "- How do we ensure that there is enough variety among the set of beers that are recommended during each user session?\n",
        "- How do we encourage users to explore beers/styles that they have not tried before - either because they are newly released items (not many reviews) or because they are a different type than the one usually consumed by the user? (serendipitous recommendations/novelty items)\n",
        "- How do we provide recommendations for users that just joined the service? (cold start problem)\n",
        "- How do we ensure that the model is adaptable to new features? \n"
      ]
    },
    {
      "metadata": {
        "id": "_NCozKaod6F4",
        "colab_type": "text"
      },
      "cell_type": "markdown",
      "source": [
        "##### In short:\n",
        "- Scalability: compare the performance of different algorithms among users/items with different number of reviews\n",
        "- Seredipity:\n",
        "- Cold start:\n",
        "- add more here....\n",
        "\n"
      ]
    },
    {
      "metadata": {
        "id": "nx77iX32dyG9",
        "colab_type": "text"
      },
      "cell_type": "markdown",
      "source": [
        "##### Approach\n",
        "(I think we need to have this cell updated)\n",
        "\n",
        "Our recommendations will be based on a number of different approaches, each of them targeting to one of more business challenges\n",
        "- Collaborative filtering/model based methods (targeting challenge #1)\n",
        "- Popular items (#3, #4)\n",
        "- Item based features (#2, #3)\n",
        "- User Preferences (#4)\n",
        "\n",
        "The goal is to combine these elements into an parallel ensemble /mixed (#5) methods that can provide quality predictions for different user groups.\n"
      ]
    },
    {
      "metadata": {
        "id": "FPaclL30eMJj",
        "colab_type": "text"
      },
      "cell_type": "markdown",
      "source": [
        "##### Data Source\n",
        "- Data source: the BeerAdvocate dataset of beer reviews \n",
        "- We pretend that the data represents reviews given by our user base after trying different beers. Each entry in the dataset includes information such as userID, beerID, ratings (aroma, appearance, overall, etc) from 1 to 5, and review text.\n"
      ]
    },
    {
      "metadata": {
        "id": "Mssd0ltK8JDx",
        "colab_type": "text"
      },
      "cell_type": "markdown",
      "source": [
        "## Part 1: Data Preprocessing"
      ]
    },
    {
      "metadata": {
        "id": "M2Ca1Bu7ybHf",
        "colab_type": "code",
        "outputId": "1f053a86-d498-4c47-9a64-9d98a9edbdd6",
        "colab": {
          "base_uri": "https://localhost:8080/",
          "height": 523
        }
      },
      "cell_type": "code",
      "source": [
        "# based on Google Colab \n",
        "# python 3\n",
        "!pip install scikit-surprise"
      ],
      "execution_count": 1,
      "outputs": [
        {
          "output_type": "stream",
          "text": [
            "Collecting scikit-surprise\n",
            "\u001b[?25l  Downloading https://files.pythonhosted.org/packages/4d/fc/cd4210b247d1dca421c25994740cbbf03c5e980e31881f10eaddf45fdab0/scikit-surprise-1.0.6.tar.gz (3.3MB)\n",
            "\u001b[K    100% |████████████████████████████████| 3.3MB 9.3MB/s \n",
            "\u001b[?25hRequirement already satisfied: joblib>=0.11 in /usr/local/lib/python3.6/dist-packages (from scikit-surprise) (0.13.0)\n",
            "Requirement already satisfied: numpy>=1.11.2 in /usr/local/lib/python3.6/dist-packages (from scikit-surprise) (1.14.6)\n",
            "Requirement already satisfied: scipy>=1.0.0 in /usr/local/lib/python3.6/dist-packages (from scikit-surprise) (1.1.0)\n",
            "Requirement already satisfied: six>=1.10.0 in /usr/local/lib/python3.6/dist-packages (from scikit-surprise) (1.11.0)\n",
            "Building wheels for collected packages: scikit-surprise\n",
            "  Running setup.py bdist_wheel for scikit-surprise ... \u001b[?25l-\b \b\\\b \b|\b \b/\b \b-\b \b\\\b \b|\b \b/\b \b-\b \b\\\b \b|\b \b/\b \b-\b \bdone\n",
            "\u001b[?25h  Stored in directory: /root/.cache/pip/wheels/ec/c0/55/3a28eab06b53c220015063ebbdb81213cd3dcbb72c088251ec\n",
            "Successfully built scikit-surprise\n",
            "Installing collected packages: scikit-surprise\n",
            "Successfully installed scikit-surprise-1.0.6\n"
          ],
          "name": "stdout"
        }
      ]
    },
    {
      "metadata": {
        "id": "0UNJOz1iLEEz",
        "colab_type": "code",
        "colab": {}
      },
      "cell_type": "code",
      "source": [
        "import pandas as pd\n",
        "import numpy as np\n",
        "import os\n",
        "import itertools as it\n",
        "import matplotlib.pyplot as plt\n",
        "import matplotlib.pyplot as plt\n",
        "\n",
        "from sklearn.model_selection import train_test_split\n",
        "from matplotlib.ticker import FormatStrFormatter\n",
        "from surprise.model_selection import train_test_split\n",
        "from surprise import NMF, Reader, Dataset, SVD, NMF, accuracy, KNNWithMeans"
      ],
      "execution_count": 0,
      "outputs": []
    },
    {
      "metadata": {
        "id": "QneWL06UpaQk",
        "colab_type": "code",
        "outputId": "3f3e28ae-c39a-49e0-cb37-0342d4ee2c41",
        "colab": {
          "base_uri": "https://localhost:8080/",
          "height": 210
        }
      },
      "cell_type": "code",
      "source": [
        "from google.colab import drive\n",
        "drive.mount('/content/gdrive')"
      ],
      "execution_count": 3,
      "outputs": [
        {
          "output_type": "stream",
          "text": [
            "Go to this URL in a browser: https://accounts.google.com/o/oauth2/auth?client_id=947318989803-6bn6qk8qdgf4n4g3pfee6491hc0brc4i.apps.googleusercontent.com&redirect_uri=urn%3Aietf%3Awg%3Aoauth%3A2.0%3Aoob&scope=email%20https%3A%2F%2Fwww.googleapis.com%2Fauth%2Fdocs.test%20https%3A%2F%2Fwww.googleapis.com%2Fauth%2Fdrive%20https%3A%2F%2Fwww.googleapis.com%2Fauth%2Fdrive.photos.readonly%20https%3A%2F%2Fwww.googleapis.com%2Fauth%2Fpeopleapi.readonly&response_type=code\n",
            "\n",
            "Enter your authorization code:\n",
            "··········\n",
            "Mounted at /content/gdrive\n"
          ],
          "name": "stdout"
        }
      ]
    },
    {
      "metadata": {
        "id": "5apjyVYtwt1H",
        "colab_type": "text"
      },
      "cell_type": "markdown",
      "source": [
        "### 1.1 Load Data"
      ]
    },
    {
      "metadata": {
        "id": "VrCif9HWaZt2",
        "colab_type": "code",
        "colab": {}
      },
      "cell_type": "code",
      "source": [
        "# load metadata from Google Drive \n",
        "# save as a list\n",
        "data = []\n",
        "one_complete_review = []\n",
        "\n",
        "with open('/content/gdrive/My Drive/beeradvocate.txt', 'r') as f:\n",
        "  for i in f: \n",
        "    #row = i.decode(encoding = 'UTF-8',errors = 'ignore')\n",
        "    row = i.replace('beer/', 'beer_').replace('review/','review_') \n",
        "    if row == '\\n':\n",
        "      data.append(one_complete_review)\n",
        "      one_complete_review = []\n",
        "      continue\n",
        "    row = row.split(\": \", 1)[1].rstrip()\n",
        "    one_complete_review.append(row)"
      ],
      "execution_count": 0,
      "outputs": []
    },
    {
      "metadata": {
        "id": "Lsw0ncLmJrdH",
        "colab_type": "code",
        "colab": {}
      },
      "cell_type": "code",
      "source": [
        "# convert list to dataframe\n",
        "column_names = ['beer_name', 'beer_beerId', 'beer_brewer', 'beer_ABV', 'beer_style', \n",
        "                'review_appearance', 'review_aroma', 'review_palate', 'review_taste', \n",
        "                'review_overall', 'review_time', 'review_profileName', 'review_text']\n",
        "\n",
        "df = pd.DataFrame.from_records(data, columns=column_names)"
      ],
      "execution_count": 0,
      "outputs": []
    },
    {
      "metadata": {
        "id": "D7pe2FKQlAEl",
        "colab_type": "code",
        "outputId": "1e2387b8-cfc3-4882-9ad8-443d78f904b7",
        "colab": {
          "base_uri": "https://localhost:8080/",
          "height": 323
        }
      },
      "cell_type": "code",
      "source": [
        "# descriptive \n",
        "df.info()"
      ],
      "execution_count": 6,
      "outputs": [
        {
          "output_type": "stream",
          "text": [
            "<class 'pandas.core.frame.DataFrame'>\n",
            "RangeIndex: 1586614 entries, 0 to 1586613\n",
            "Data columns (total 13 columns):\n",
            "beer_name             1586614 non-null object\n",
            "beer_beerId           1586614 non-null object\n",
            "beer_brewer           1586614 non-null object\n",
            "beer_ABV              1586614 non-null object\n",
            "beer_style            1586614 non-null object\n",
            "review_appearance     1586614 non-null object\n",
            "review_aroma          1586614 non-null object\n",
            "review_palate         1586614 non-null object\n",
            "review_taste          1586614 non-null object\n",
            "review_overall        1586614 non-null object\n",
            "review_time           1586614 non-null object\n",
            "review_profileName    1586614 non-null object\n",
            "review_text           1586614 non-null object\n",
            "dtypes: object(13)\n",
            "memory usage: 157.4+ MB\n"
          ],
          "name": "stdout"
        }
      ]
    },
    {
      "metadata": {
        "id": "jf_Sd4_WK7kl",
        "colab_type": "code",
        "outputId": "4ad9c8ec-625d-4da2-c157-c90e2416efd2",
        "colab": {
          "base_uri": "https://localhost:8080/",
          "height": 355
        }
      },
      "cell_type": "code",
      "source": [
        "df.head(3)"
      ],
      "execution_count": 7,
      "outputs": [
        {
          "output_type": "execute_result",
          "data": {
            "text/html": [
              "<div>\n",
              "<style scoped>\n",
              "    .dataframe tbody tr th:only-of-type {\n",
              "        vertical-align: middle;\n",
              "    }\n",
              "\n",
              "    .dataframe tbody tr th {\n",
              "        vertical-align: top;\n",
              "    }\n",
              "\n",
              "    .dataframe thead th {\n",
              "        text-align: right;\n",
              "    }\n",
              "</style>\n",
              "<table border=\"1\" class=\"dataframe\">\n",
              "  <thead>\n",
              "    <tr style=\"text-align: right;\">\n",
              "      <th></th>\n",
              "      <th>beer_name</th>\n",
              "      <th>beer_beerId</th>\n",
              "      <th>beer_brewer</th>\n",
              "      <th>beer_ABV</th>\n",
              "      <th>beer_style</th>\n",
              "      <th>review_appearance</th>\n",
              "      <th>review_aroma</th>\n",
              "      <th>review_palate</th>\n",
              "      <th>review_taste</th>\n",
              "      <th>review_overall</th>\n",
              "      <th>review_time</th>\n",
              "      <th>review_profileName</th>\n",
              "      <th>review_text</th>\n",
              "    </tr>\n",
              "  </thead>\n",
              "  <tbody>\n",
              "    <tr>\n",
              "      <th>0</th>\n",
              "      <td>Sausa Weizen</td>\n",
              "      <td>47986</td>\n",
              "      <td>10325</td>\n",
              "      <td>5.00</td>\n",
              "      <td>Hefeweizen</td>\n",
              "      <td>2.5</td>\n",
              "      <td>2</td>\n",
              "      <td>1.5</td>\n",
              "      <td>1.5</td>\n",
              "      <td>1.5</td>\n",
              "      <td>1234817823</td>\n",
              "      <td>stcules</td>\n",
              "      <td>A lot of foam. But a lot.\\tIn the smell some b...</td>\n",
              "    </tr>\n",
              "    <tr>\n",
              "      <th>1</th>\n",
              "      <td>Red Moon</td>\n",
              "      <td>48213</td>\n",
              "      <td>10325</td>\n",
              "      <td>6.20</td>\n",
              "      <td>English Strong Ale</td>\n",
              "      <td>3</td>\n",
              "      <td>2.5</td>\n",
              "      <td>3</td>\n",
              "      <td>3</td>\n",
              "      <td>3</td>\n",
              "      <td>1235915097</td>\n",
              "      <td>stcules</td>\n",
              "      <td>Dark red color, light beige foam, average.\\tIn...</td>\n",
              "    </tr>\n",
              "    <tr>\n",
              "      <th>2</th>\n",
              "      <td>Black Horse Black Beer</td>\n",
              "      <td>48215</td>\n",
              "      <td>10325</td>\n",
              "      <td>6.50</td>\n",
              "      <td>Foreign / Export Stout</td>\n",
              "      <td>3</td>\n",
              "      <td>2.5</td>\n",
              "      <td>3</td>\n",
              "      <td>3</td>\n",
              "      <td>3</td>\n",
              "      <td>1235916604</td>\n",
              "      <td>stcules</td>\n",
              "      <td>Almost totally black. Beige foam, quite compac...</td>\n",
              "    </tr>\n",
              "  </tbody>\n",
              "</table>\n",
              "</div>"
            ],
            "text/plain": [
              "                beer_name beer_beerId beer_brewer beer_ABV  \\\n",
              "0            Sausa Weizen       47986       10325     5.00   \n",
              "1                Red Moon       48213       10325     6.20   \n",
              "2  Black Horse Black Beer       48215       10325     6.50   \n",
              "\n",
              "               beer_style review_appearance review_aroma review_palate  \\\n",
              "0              Hefeweizen               2.5            2           1.5   \n",
              "1      English Strong Ale                 3          2.5             3   \n",
              "2  Foreign / Export Stout                 3          2.5             3   \n",
              "\n",
              "  review_taste review_overall review_time review_profileName  \\\n",
              "0          1.5            1.5  1234817823            stcules   \n",
              "1            3              3  1235915097            stcules   \n",
              "2            3              3  1235916604            stcules   \n",
              "\n",
              "                                         review_text  \n",
              "0  A lot of foam. But a lot.\\tIn the smell some b...  \n",
              "1  Dark red color, light beige foam, average.\\tIn...  \n",
              "2  Almost totally black. Beige foam, quite compac...  "
            ]
          },
          "metadata": {
            "tags": []
          },
          "execution_count": 7
        }
      ]
    },
    {
      "metadata": {
        "id": "smNuxKZYjdW1",
        "colab_type": "code",
        "outputId": "383f0841-29bb-449d-80f0-d364e5461797",
        "colab": {
          "base_uri": "https://localhost:8080/",
          "height": 84
        }
      },
      "cell_type": "code",
      "source": [
        "print('The full dataset includes:')\n",
        "print('%d unique beers;' % df.beer_beerId.nunique())\n",
        "print('%d unique users;' % df.review_profileName.nunique())\n",
        "print('and %d reviews in total.' % df.shape[0])"
      ],
      "execution_count": 8,
      "outputs": [
        {
          "output_type": "stream",
          "text": [
            "The full dataset includes:\n",
            "66055 unique beers;\n",
            "33388 unique users;\n",
            "and 1586614 reviews in total.\n"
          ],
          "name": "stdout"
        }
      ]
    },
    {
      "metadata": {
        "id": "p43O38umy4Y2",
        "colab_type": "text"
      },
      "cell_type": "markdown",
      "source": [
        "### 1.2 Exploratory Data Analysis"
      ]
    },
    {
      "metadata": {
        "id": "rPigP-ls6UEN",
        "colab_type": "text"
      },
      "cell_type": "markdown",
      "source": [
        "#### users"
      ]
    },
    {
      "metadata": {
        "id": "Qt57koiXy7nw",
        "colab_type": "code",
        "colab": {}
      },
      "cell_type": "code",
      "source": [
        "num_review_byuser = df.review_profileName.value_counts()\n",
        "freq_list_user = np.array(list(dict(num_review_byuser).values()))"
      ],
      "execution_count": 0,
      "outputs": []
    },
    {
      "metadata": {
        "id": "hLlMub79L2Au",
        "colab_type": "code",
        "outputId": "45488ade-77c0-4ce6-c6b3-1363ca0e408d",
        "colab": {
          "base_uri": "https://localhost:8080/",
          "height": 304
        }
      },
      "cell_type": "code",
      "source": [
        "plt.figure(figsize=(14, 4))\n",
        "plt.hist(freq_list_user, bins=300)\n",
        "plt.show()"
      ],
      "execution_count": 10,
      "outputs": [
        {
          "output_type": "display_data",
          "data": {
            "image/png": "[encoded data removed]",
            "text/plain": [
              "<matplotlib.figure.Figure at 0x7f1bad3d5e48>"
            ]
          },
          "metadata": {
            "tags": []
          }
        }
      ]
    },
    {
      "metadata": {
        "id": "WGifsVmBy8GW",
        "colab_type": "code",
        "outputId": "ead115ae-8531-4ef1-fdc2-e76a9941e790",
        "colab": {
          "base_uri": "https://localhost:8080/",
          "height": 334
        }
      },
      "cell_type": "code",
      "source": [
        "user5more = freq_list_user[np.where(freq_list_user >= 300)]\n",
        "user5less = freq_list_user[np.where(freq_list_user < 300)]\n",
        "\n",
        "plt.figure(figsize=(14, 4))\n",
        "\n",
        "plt.subplot(121)\n",
        "plt.hist(user5less, bins=30)\n",
        "plt.title('# of users (with Less than 300 reviews)')\n",
        "plt.xlabel('# of reviews')\n",
        "plt.axhline(y=1000, color='r', linestyle='-')\n",
        "\n",
        "plt.subplot(122)\n",
        "plt.hist(user5more, bins=300)\n",
        "plt.title('# of users (with More than 300 reviews)')\n",
        "plt.xlabel('# of reviews')\n",
        "\n",
        "plt.show()"
      ],
      "execution_count": 11,
      "outputs": [
        {
          "output_type": "display_data",
          "data": {
            "image/png": "[encoded data removed]",
            "text/plain": [
              "<matplotlib.figure.Figure at 0x7f1bad30ca20>"
            ]
          },
          "metadata": {
            "tags": []
          }
        }
      ]
    },
    {
      "metadata": {
        "id": "njLY-TDOLD0B",
        "colab_type": "text"
      },
      "cell_type": "markdown",
      "source": [
        "We have 33388 unique users, among them ~28000 users have less than 30 reviews."
      ]
    },
    {
      "metadata": {
        "id": "QTjzagZ86V_L",
        "colab_type": "text"
      },
      "cell_type": "markdown",
      "source": [
        "#### beers"
      ]
    },
    {
      "metadata": {
        "id": "E1llGa_Y6Zkr",
        "colab_type": "code",
        "colab": {}
      },
      "cell_type": "code",
      "source": [
        "num_review_bybeer = df.beer_name.value_counts()\n",
        "freq_list_beer = np.array(list(dict(num_review_bybeer).values()))"
      ],
      "execution_count": 0,
      "outputs": []
    },
    {
      "metadata": {
        "id": "ddXjZ0dh6sFZ",
        "colab_type": "code",
        "outputId": "43297c7b-d72c-452f-d1a9-c680a013ac2f",
        "colab": {
          "base_uri": "https://localhost:8080/",
          "height": 334
        }
      },
      "cell_type": "code",
      "source": [
        "beer5more = freq_list_beer[np.where(freq_list_beer >= 200)]\n",
        "beer5less = freq_list_beer[np.where(freq_list_beer < 200)]\n",
        "\n",
        "plt.figure(figsize=(14, 4))\n",
        "\n",
        "plt.subplot(121)\n",
        "plt.hist(beer5less, bins=40)\n",
        "plt.title('histogram of beer with Less than 200 reviews')\n",
        "plt.xlabel('# of reviews')\n",
        "plt.axhline(y=1200, color='r', linestyle='-')\n",
        "\n",
        "plt.subplot(122)\n",
        "plt.hist(beer5more, bins=300)\n",
        "plt.title('histogram of beer with More than 200 reviews')\n",
        "plt.xlabel('# of reviews')\n",
        "\n",
        "plt.show()"
      ],
      "execution_count": 13,
      "outputs": [
        {
          "output_type": "display_data",
          "data": {
            "image/png": "[encoded data removed]",
            "text/plain": [
              "<matplotlib.figure.Figure at 0x7f1b58db8320>"
            ]
          },
          "metadata": {
            "tags": []
          }
        }
      ]
    },
    {
      "metadata": {
        "id": "DneoL1w4ncSk",
        "colab_type": "text"
      },
      "cell_type": "markdown",
      "source": [
        "### 1.3 Subset from Metadata"
      ]
    },
    {
      "metadata": {
        "id": "4w89UnKGn6tp",
        "colab_type": "code",
        "outputId": "a14050fb-a27f-4c0f-f189-5556034a0eb9",
        "colab": {
          "base_uri": "https://localhost:8080/",
          "height": 68
        }
      },
      "cell_type": "code",
      "source": [
        "# subset data for collabrotive filtering\n",
        "df1 = df[['beer_name', 'beer_beerId', 'review_profileName', 'review_overall', 'review_time']]\n",
        "print('Original data size: %s' % str(df1.shape)) \n",
        "\n",
        "# remove NA \n",
        "df1 = df1[pd.notnull(df1.beer_name) & pd.notnull(df1.review_profileName) & pd.notnull(df1.review_overall)]\n",
        "# remove blanks\n",
        "df1 = df1.loc[df1.review_profileName != '']\n",
        "df1 = df1.loc[df1.beer_name != '']\n",
        "df1 = df1.loc[df1.review_overall != '']\n",
        "print('After removing NAs and blanks: %s' % str(df1.shape)) \n",
        "\n",
        "# drop duplicate (beer&user) pairs, keep the latest rating\n",
        "df1['beer_user_pair'] = df1.beer_name + df1.review_profileName\n",
        "df1 = df1.sort_values(by=['review_time'], ascending=False).drop_duplicates(subset=['beer_user_pair'])\n",
        "print('After drop duplicate user-item pairs (only keep the latest rating), data size: %s' % str(df1.shape))\n",
        "\n",
        "# convert review ratings to numberic\n",
        "df1.review_overall = pd.to_numeric(df1.review_overall)"
      ],
      "execution_count": 14,
      "outputs": [
        {
          "output_type": "stream",
          "text": [
            "Original data size: (1586614, 5)\n",
            "After removing NAs and blanks: (1586266, 5)\n",
            "After drop duplicate user-item pairs (only keep the latest rating), data size: (1561405, 6)\n"
          ],
          "name": "stdout"
        }
      ]
    },
    {
      "metadata": {
        "id": "StxaZXa96OhD",
        "colab_type": "code",
        "outputId": "7f17a84d-b15e-444b-e3dd-3097a2e2e833",
        "colab": {
          "base_uri": "https://localhost:8080/",
          "height": 267
        }
      },
      "cell_type": "code",
      "source": [
        "df1.head(3)"
      ],
      "execution_count": 15,
      "outputs": [
        {
          "output_type": "execute_result",
          "data": {
            "text/html": [
              "<div>\n",
              "<style scoped>\n",
              "    .dataframe tbody tr th:only-of-type {\n",
              "        vertical-align: middle;\n",
              "    }\n",
              "\n",
              "    .dataframe tbody tr th {\n",
              "        vertical-align: top;\n",
              "    }\n",
              "\n",
              "    .dataframe thead th {\n",
              "        text-align: right;\n",
              "    }\n",
              "</style>\n",
              "<table border=\"1\" class=\"dataframe\">\n",
              "  <thead>\n",
              "    <tr style=\"text-align: right;\">\n",
              "      <th></th>\n",
              "      <th>beer_name</th>\n",
              "      <th>beer_beerId</th>\n",
              "      <th>review_profileName</th>\n",
              "      <th>review_overall</th>\n",
              "      <th>review_time</th>\n",
              "      <th>beer_user_pair</th>\n",
              "    </tr>\n",
              "  </thead>\n",
              "  <tbody>\n",
              "    <tr>\n",
              "      <th>581215</th>\n",
              "      <td>Pete's Wicked Strawberry Blonde</td>\n",
              "      <td>381</td>\n",
              "      <td>bk3nj</td>\n",
              "      <td>3.0</td>\n",
              "      <td>999999652</td>\n",
              "      <td>Pete's Wicked Strawberry Blondebk3nj</td>\n",
              "    </tr>\n",
              "    <tr>\n",
              "      <th>1023623</th>\n",
              "      <td>Fiji Bitter</td>\n",
              "      <td>1480</td>\n",
              "      <td>Mark</td>\n",
              "      <td>4.0</td>\n",
              "      <td>999980551</td>\n",
              "      <td>Fiji BitterMark</td>\n",
              "    </tr>\n",
              "    <tr>\n",
              "      <th>1077899</th>\n",
              "      <td>Wolaver's India Pale Ale</td>\n",
              "      <td>399</td>\n",
              "      <td>bcm119</td>\n",
              "      <td>3.5</td>\n",
              "      <td>999903142</td>\n",
              "      <td>Wolaver's India Pale Alebcm119</td>\n",
              "    </tr>\n",
              "  </tbody>\n",
              "</table>\n",
              "</div>"
            ],
            "text/plain": [
              "                               beer_name beer_beerId review_profileName  \\\n",
              "581215   Pete's Wicked Strawberry Blonde         381              bk3nj   \n",
              "1023623                      Fiji Bitter        1480               Mark   \n",
              "1077899         Wolaver's India Pale Ale         399             bcm119   \n",
              "\n",
              "         review_overall review_time                        beer_user_pair  \n",
              "581215              3.0   999999652  Pete's Wicked Strawberry Blondebk3nj  \n",
              "1023623             4.0   999980551                       Fiji BitterMark  \n",
              "1077899             3.5   999903142        Wolaver's India Pale Alebcm119  "
            ]
          },
          "metadata": {
            "tags": []
          },
          "execution_count": 15
        }
      ]
    },
    {
      "metadata": {
        "id": "m9Ht9Sa-OX_U",
        "colab_type": "text"
      },
      "cell_type": "markdown",
      "source": [
        "#### remove bottom users and beers"
      ]
    },
    {
      "metadata": {
        "id": "0Jk6lij9ErZN",
        "colab_type": "code",
        "outputId": "af2afe70-c445-4700-dde5-9cf34a5eb0f9",
        "colab": {
          "base_uri": "https://localhost:8080/",
          "height": 281
        }
      },
      "cell_type": "code",
      "source": [
        "# subset three columns\n",
        "cf = df1[['review_profileName', 'beer_name', 'review_overall']]\n",
        "\n",
        "# sort user by # of reviews\n",
        "cnt_user = dict(num_review_byuser)\n",
        "cf['user_freq'] = [cnt_user.get(x) for x in cf.review_profileName]\n",
        "\n",
        "# sort beer by # of reviews\n",
        "cnt_beer = dict(num_review_bybeer)\n",
        "cf['beer_freq'] = [cnt_beer.get(x) for x in cf.beer_name]\n",
        "\n",
        "# drop users with less than 10 reviews\n",
        "# drop beers with less than 5 reviews\n",
        "cf = cf.loc[cf.user_freq > 10]\n",
        "cf = cf.loc[cf.beer_freq > 5]"
      ],
      "execution_count": 16,
      "outputs": [
        {
          "output_type": "stream",
          "text": [
            "/usr/local/lib/python3.6/dist-packages/ipykernel_launcher.py:5: SettingWithCopyWarning: \n",
            "A value is trying to be set on a copy of a slice from a DataFrame.\n",
            "Try using .loc[row_indexer,col_indexer] = value instead\n",
            "\n",
            "See the caveats in the documentation: http://pandas.pydata.org/pandas-docs/stable/indexing.html#indexing-view-versus-copy\n",
            "  \"\"\"\n",
            "/usr/local/lib/python3.6/dist-packages/ipykernel_launcher.py:9: SettingWithCopyWarning: \n",
            "A value is trying to be set on a copy of a slice from a DataFrame.\n",
            "Try using .loc[row_indexer,col_indexer] = value instead\n",
            "\n",
            "See the caveats in the documentation: http://pandas.pydata.org/pandas-docs/stable/indexing.html#indexing-view-versus-copy\n",
            "  if __name__ == '__main__':\n"
          ],
          "name": "stderr"
        }
      ]
    },
    {
      "metadata": {
        "id": "FozoopjYKOrC",
        "colab_type": "code",
        "outputId": "aefddf21-8a61-435d-dc9e-23b1538237f8",
        "colab": {
          "base_uri": "https://localhost:8080/",
          "height": 84
        }
      },
      "cell_type": "code",
      "source": [
        "print('After removing bottom users and beers,')\n",
        "print('%d unique beers;' % cf.beer_name.nunique())\n",
        "print('%d unique users;' % cf.review_profileName.nunique())\n",
        "print('and %d reviews in total.' % cf.shape[0])"
      ],
      "execution_count": 17,
      "outputs": [
        {
          "output_type": "stream",
          "text": [
            "After removing bottom users and beers,\n",
            "18925 unique beers;\n",
            "10189 unique users;\n",
            "and 1423856 reviews in total.\n"
          ],
          "name": "stdout"
        }
      ]
    },
    {
      "metadata": {
        "id": "coPrQ4D9JlmU",
        "colab_type": "code",
        "outputId": "eac70600-36ad-44f7-9779-fefc3aec26c4",
        "colab": {
          "base_uri": "https://localhost:8080/",
          "height": 142
        }
      },
      "cell_type": "code",
      "source": [
        "cf.head(3)"
      ],
      "execution_count": 18,
      "outputs": [
        {
          "output_type": "execute_result",
          "data": {
            "text/html": [
              "<div>\n",
              "<style scoped>\n",
              "    .dataframe tbody tr th:only-of-type {\n",
              "        vertical-align: middle;\n",
              "    }\n",
              "\n",
              "    .dataframe tbody tr th {\n",
              "        vertical-align: top;\n",
              "    }\n",
              "\n",
              "    .dataframe thead th {\n",
              "        text-align: right;\n",
              "    }\n",
              "</style>\n",
              "<table border=\"1\" class=\"dataframe\">\n",
              "  <thead>\n",
              "    <tr style=\"text-align: right;\">\n",
              "      <th></th>\n",
              "      <th>review_profileName</th>\n",
              "      <th>beer_name</th>\n",
              "      <th>review_overall</th>\n",
              "      <th>user_freq</th>\n",
              "      <th>beer_freq</th>\n",
              "    </tr>\n",
              "  </thead>\n",
              "  <tbody>\n",
              "    <tr>\n",
              "      <th>581215</th>\n",
              "      <td>bk3nj</td>\n",
              "      <td>Pete's Wicked Strawberry Blonde</td>\n",
              "      <td>3.0</td>\n",
              "      <td>45</td>\n",
              "      <td>298</td>\n",
              "    </tr>\n",
              "    <tr>\n",
              "      <th>1023623</th>\n",
              "      <td>Mark</td>\n",
              "      <td>Fiji Bitter</td>\n",
              "      <td>4.0</td>\n",
              "      <td>532</td>\n",
              "      <td>8</td>\n",
              "    </tr>\n",
              "    <tr>\n",
              "      <th>1077899</th>\n",
              "      <td>bcm119</td>\n",
              "      <td>Wolaver's India Pale Ale</td>\n",
              "      <td>3.5</td>\n",
              "      <td>175</td>\n",
              "      <td>257</td>\n",
              "    </tr>\n",
              "  </tbody>\n",
              "</table>\n",
              "</div>"
            ],
            "text/plain": [
              "        review_profileName                        beer_name  review_overall  \\\n",
              "581215               bk3nj  Pete's Wicked Strawberry Blonde             3.0   \n",
              "1023623               Mark                      Fiji Bitter             4.0   \n",
              "1077899             bcm119         Wolaver's India Pale Ale             3.5   \n",
              "\n",
              "         user_freq  beer_freq  \n",
              "581215          45        298  \n",
              "1023623        532          8  \n",
              "1077899        175        257  "
            ]
          },
          "metadata": {
            "tags": []
          },
          "execution_count": 18
        }
      ]
    },
    {
      "metadata": {
        "id": "blk5sjcwKiPh",
        "colab_type": "code",
        "outputId": "462add05-621a-4b86-e57c-aa9f65b53f72",
        "colab": {
          "base_uri": "https://localhost:8080/",
          "height": 409
        }
      },
      "cell_type": "code",
      "source": [
        "# user \n",
        "freq = cf.review_profileName.value_counts()\n",
        "freq = np.array(list(dict(freq).values()))\n",
        "\n",
        "plt.figure(figsize=(14, 6))\n",
        "plt.subplot(121)\n",
        "plt.boxplot(freq, 0, 'rs', 0)\n",
        "plt.title('# of reviews for each user')\n",
        "\n",
        "plt.subplot(122)\n",
        "plt.hist(freq, bins=400)\n",
        "\n",
        "plt.show()"
      ],
      "execution_count": 19,
      "outputs": [
        {
          "output_type": "display_data",
          "data": {
            "image/png": "[encoded data removed]",
            "text/plain": [
              "<matplotlib.figure.Figure at 0x7f1b561135c0>"
            ]
          },
          "metadata": {
            "tags": []
          }
        }
      ]
    },
    {
      "metadata": {
        "id": "1HOYWMt-OExk",
        "colab_type": "code",
        "outputId": "9dd4a7f8-e568-4ab8-a0eb-700f2157e60e",
        "colab": {
          "base_uri": "https://localhost:8080/",
          "height": 429
        }
      },
      "cell_type": "code",
      "source": [
        "# beer\n",
        "freqb = cf.beer_name.value_counts()\n",
        "freqb = np.array(list(dict(freqb).values()))\n",
        "\n",
        "plt.figure(figsize=(14, 6))\n",
        "plt.subplot(121)\n",
        "plt.boxplot(freqb, 0, 'rs', 0)\n",
        "plt.title('# of reviews for each beer')\n",
        "\n",
        "plt.subplot(122)\n",
        "plt.hist(freqb, bins=250)\n",
        "\n",
        "plt.show()"
      ],
      "execution_count": 20,
      "outputs": [
        {
          "output_type": "display_data",
          "data": {
            "image/png": "[encoded data removed]",
            "text/plain": [
              "<matplotlib.figure.Figure at 0x7f1b56113518>"
            ]
          },
          "metadata": {
            "tags": []
          }
        }
      ]
    },
    {
      "metadata": {
        "id": "u0cr1LlnOSd8",
        "colab_type": "text"
      },
      "cell_type": "markdown",
      "source": [
        "#### split into two groups\n",
        "- users with more than 100 reviews;\n",
        "- users with less than 100 reviews."
      ]
    },
    {
      "metadata": {
        "id": "d_36fdtMCcNo",
        "colab_type": "code",
        "outputId": "2a0f2ad9-6f4b-4bc5-bc81-9fa3539b463b",
        "colab": {
          "base_uri": "https://localhost:8080/",
          "height": 203
        }
      },
      "cell_type": "code",
      "source": [
        "# split into two groups\n",
        "threshold = 100\n",
        "\n",
        "more = cf.loc[cf.user_freq > threshold]\n",
        "less = cf.loc[cf.user_freq <= threshold]\n",
        "\n",
        "more.head()"
      ],
      "execution_count": 21,
      "outputs": [
        {
          "output_type": "execute_result",
          "data": {
            "text/html": [
              "<div>\n",
              "<style scoped>\n",
              "    .dataframe tbody tr th:only-of-type {\n",
              "        vertical-align: middle;\n",
              "    }\n",
              "\n",
              "    .dataframe tbody tr th {\n",
              "        vertical-align: top;\n",
              "    }\n",
              "\n",
              "    .dataframe thead th {\n",
              "        text-align: right;\n",
              "    }\n",
              "</style>\n",
              "<table border=\"1\" class=\"dataframe\">\n",
              "  <thead>\n",
              "    <tr style=\"text-align: right;\">\n",
              "      <th></th>\n",
              "      <th>review_profileName</th>\n",
              "      <th>beer_name</th>\n",
              "      <th>review_overall</th>\n",
              "      <th>user_freq</th>\n",
              "      <th>beer_freq</th>\n",
              "    </tr>\n",
              "  </thead>\n",
              "  <tbody>\n",
              "    <tr>\n",
              "      <th>1023623</th>\n",
              "      <td>Mark</td>\n",
              "      <td>Fiji Bitter</td>\n",
              "      <td>4.0</td>\n",
              "      <td>532</td>\n",
              "      <td>8</td>\n",
              "    </tr>\n",
              "    <tr>\n",
              "      <th>1077899</th>\n",
              "      <td>bcm119</td>\n",
              "      <td>Wolaver's India Pale Ale</td>\n",
              "      <td>3.5</td>\n",
              "      <td>175</td>\n",
              "      <td>257</td>\n",
              "    </tr>\n",
              "    <tr>\n",
              "      <th>797362</th>\n",
              "      <td>Jason</td>\n",
              "      <td>Lindemans Framboise</td>\n",
              "      <td>3.5</td>\n",
              "      <td>2350</td>\n",
              "      <td>903</td>\n",
              "    </tr>\n",
              "    <tr>\n",
              "      <th>808675</th>\n",
              "      <td>Jason</td>\n",
              "      <td>Chapeau Framboise Lambic</td>\n",
              "      <td>4.0</td>\n",
              "      <td>2350</td>\n",
              "      <td>44</td>\n",
              "    </tr>\n",
              "    <tr>\n",
              "      <th>961766</th>\n",
              "      <td>Jason</td>\n",
              "      <td>Dooryard Ale</td>\n",
              "      <td>3.0</td>\n",
              "      <td>2350</td>\n",
              "      <td>13</td>\n",
              "    </tr>\n",
              "  </tbody>\n",
              "</table>\n",
              "</div>"
            ],
            "text/plain": [
              "        review_profileName                 beer_name  review_overall  \\\n",
              "1023623               Mark               Fiji Bitter             4.0   \n",
              "1077899             bcm119  Wolaver's India Pale Ale             3.5   \n",
              "797362               Jason       Lindemans Framboise             3.5   \n",
              "808675               Jason  Chapeau Framboise Lambic             4.0   \n",
              "961766               Jason              Dooryard Ale             3.0   \n",
              "\n",
              "         user_freq  beer_freq  \n",
              "1023623        532          8  \n",
              "1077899        175        257  \n",
              "797362        2350        903  \n",
              "808675        2350         44  \n",
              "961766        2350         13  "
            ]
          },
          "metadata": {
            "tags": []
          },
          "execution_count": 21
        }
      ]
    },
    {
      "metadata": {
        "id": "gB63pBeQW33K",
        "colab_type": "code",
        "outputId": "8468b704-26a6-4615-a48c-65274257d0ed",
        "colab": {
          "base_uri": "https://localhost:8080/",
          "height": 459
        }
      },
      "cell_type": "code",
      "source": [
        "# visualize two groups\n",
        "print('group > %d has the size: %s' % (threshold, str(more.shape)))\n",
        "\n",
        "freqm = more.review_profileName.value_counts()\n",
        "freqm = np.array(list(dict(freqm).values()))\n",
        "\n",
        "plt.figure(figsize=(14, 6))\n",
        "plt.subplot(121)\n",
        "plt.boxplot(freqm, 0, 'rs', 0)\n",
        "plt.title('# of reviews for each user (more than 50 reviews)')\n",
        "\n",
        "plt.subplot(122)\n",
        "plt.hist(freqm, bins=200)\n",
        "plt.ylabel('# of users')\n",
        "plt.xlabel('# of reviews')\n",
        "plt.show()"
      ],
      "execution_count": 22,
      "outputs": [
        {
          "output_type": "stream",
          "text": [
            "group > 100 has the size: (1186781, 5)\n"
          ],
          "name": "stdout"
        },
        {
          "output_type": "display_data",
          "data": {
            "image/png": "[encoded data removed]",
            "text/plain": [
              "<matplotlib.figure.Figure at 0x7f1b58dee8d0>"
            ]
          },
          "metadata": {
            "tags": []
          }
        }
      ]
    },
    {
      "metadata": {
        "id": "s7jWO3jrXGbi",
        "colab_type": "code",
        "outputId": "248cc23b-7e87-4dc5-e77d-81533115cf8f",
        "colab": {
          "base_uri": "https://localhost:8080/",
          "height": 459
        }
      },
      "cell_type": "code",
      "source": [
        "# visualize two groups\n",
        "print('group <= %d has the size: %s' % (threshold, str(less.shape)))\n",
        "\n",
        "freql = less.review_profileName.value_counts()\n",
        "freql = np.array(list(dict(freql).values()))\n",
        "\n",
        "plt.figure(figsize=(14, 6))\n",
        "plt.subplot(121)\n",
        "plt.boxplot(freql, 0, 'rs', 0)\n",
        "plt.title('# of reviews for each user (less than 50 reviews)')\n",
        "\n",
        "plt.subplot(122)\n",
        "plt.hist(freql, bins=100)\n",
        "plt.ylabel('# of users')\n",
        "plt.xlabel('# of reviews')\n",
        "plt.show()"
      ],
      "execution_count": 23,
      "outputs": [
        {
          "output_type": "stream",
          "text": [
            "group <= 100 has the size: (237075, 5)\n"
          ],
          "name": "stdout"
        },
        {
          "output_type": "display_data",
          "data": {
            "image/png": "[encoded data removed]",
            "text/plain": [
              "<matplotlib.figure.Figure at 0x7f1bad3d5438>"
            ]
          },
          "metadata": {
            "tags": []
          }
        }
      ]
    },
    {
      "metadata": {
        "id": "Tl4y9c11PZvj",
        "colab_type": "text"
      },
      "cell_type": "markdown",
      "source": [
        "## Part 2: Prediction Models"
      ]
    },
    {
      "metadata": {
        "id": "ON1T-CcXvBBi",
        "colab_type": "code",
        "colab": {}
      },
      "cell_type": "code",
      "source": [
        "# define functions to generate prediction dataframe\n",
        "# get_Iu and get_Ui are borrowed from Surprise library\n",
        "def get_Iu(uid):\n",
        "    \"\"\"Return the number of items rated by given user\n",
        "    Args:\n",
        "        uid: The raw id of the user.\n",
        "    Returns:\n",
        "        The number of items rated by the user.\n",
        "    \"\"\"\n",
        "    try:\n",
        "        return len(trainset.ur[trainset.to_inner_uid(uid)])\n",
        "    except ValueError:  # user was not part of the trainset\n",
        "        return 0\n",
        "    \n",
        "def get_Ui(iid):\n",
        "    \"\"\"Return the number of users that have rated given item\n",
        "    Args:\n",
        "        iid: The raw id of the item.\n",
        "    Returns:\n",
        "        The number of users that have rated the item.\n",
        "    \"\"\"\n",
        "    try:\n",
        "        return len(trainset.ir[trainset.to_inner_iid(iid)])\n",
        "    except ValueError:  # item was not part of the trainset\n",
        "        return 0\n",
        "\n",
        "# customized function to get predictions\n",
        "def get_pred_df(pred):\n",
        "  pred_df = pd.DataFrame(pred, columns=['uid', 'iid', 'rui', 'est', 'details'])    \n",
        "  pred_df['Iu'] = pred_df.uid.apply(get_Iu)\n",
        "  pred_df['Ui'] = pred_df.iid.apply(get_Ui)\n",
        "  pred_df['err'] = abs(pred_df.est - pred_df.rui)\n",
        "  \n",
        "  # append review counts\n",
        "  pred_df['user_freq'] = [cnt_user.get(x) for x in pred_df.uid]\n",
        "  pred_df = pred_df.sort_values(by=['uid'])\n",
        "  \n",
        "  return pred_df"
      ],
      "execution_count": 0,
      "outputs": []
    },
    {
      "metadata": {
        "id": "rRUhL5QqZHMP",
        "colab_type": "code",
        "colab": {}
      },
      "cell_type": "code",
      "source": [
        "# train test split\n",
        "reader = Reader(rating_scale=(1, 5))\n",
        "data = Dataset.load_from_df(cf[['review_profileName', 'beer_name', 'review_overall']], reader)\n",
        "trainset, testset = train_test_split(data, test_size=.33)"
      ],
      "execution_count": 0,
      "outputs": []
    },
    {
      "metadata": {
        "id": "bpfWuilrgB0s",
        "colab_type": "text"
      },
      "cell_type": "markdown",
      "source": [
        "### 2.1 SVD"
      ]
    },
    {
      "metadata": {
        "id": "36qdidqdgIzN",
        "colab_type": "code",
        "outputId": "e8e4a14e-e6ba-44ff-e62f-df163248e5bf",
        "colab": {
          "base_uri": "https://localhost:8080/",
          "height": 305
        }
      },
      "cell_type": "code",
      "source": [
        "# fit\n",
        "svd = SVD(n_factors = 30, lr_all = 0.01, reg_all = 0.05)\n",
        "svd.fit(trainset)\n",
        "\n",
        "# test \n",
        "svd_pred = svd.test(testset)\n",
        "accuracy.rmse(svd_pred, verbose=True)\n",
        "\n",
        "# predict\n",
        "svd_pred_df = get_pred_df(svd_pred)\n",
        "svd_pred_df.head()"
      ],
      "execution_count": 26,
      "outputs": [
        {
          "output_type": "stream",
          "text": [
            "RMSE: 0.5903\n"
          ],
          "name": "stdout"
        },
        {
          "output_type": "execute_result",
          "data": {
            "text/html": [
              "<div>\n",
              "<style scoped>\n",
              "    .dataframe tbody tr th:only-of-type {\n",
              "        vertical-align: middle;\n",
              "    }\n",
              "\n",
              "    .dataframe tbody tr th {\n",
              "        vertical-align: top;\n",
              "    }\n",
              "\n",
              "    .dataframe thead th {\n",
              "        text-align: right;\n",
              "    }\n",
              "</style>\n",
              "<table border=\"1\" class=\"dataframe\">\n",
              "  <thead>\n",
              "    <tr style=\"text-align: right;\">\n",
              "      <th></th>\n",
              "      <th>uid</th>\n",
              "      <th>iid</th>\n",
              "      <th>rui</th>\n",
              "      <th>est</th>\n",
              "      <th>details</th>\n",
              "      <th>Iu</th>\n",
              "      <th>Ui</th>\n",
              "      <th>err</th>\n",
              "      <th>user_freq</th>\n",
              "    </tr>\n",
              "  </thead>\n",
              "  <tbody>\n",
              "    <tr>\n",
              "      <th>310642</th>\n",
              "      <td>0110x011</td>\n",
              "      <td>Founders KBS (Kentucky Breakfast Stout)</td>\n",
              "      <td>5.0</td>\n",
              "      <td>4.499652</td>\n",
              "      <td>{'was_impossible': False}</td>\n",
              "      <td>99</td>\n",
              "      <td>1147</td>\n",
              "      <td>0.500348</td>\n",
              "      <td>139</td>\n",
              "    </tr>\n",
              "    <tr>\n",
              "      <th>7051</th>\n",
              "      <td>0110x011</td>\n",
              "      <td>Adam</td>\n",
              "      <td>4.0</td>\n",
              "      <td>4.085279</td>\n",
              "      <td>{'was_impossible': False}</td>\n",
              "      <td>99</td>\n",
              "      <td>544</td>\n",
              "      <td>0.085279</td>\n",
              "      <td>139</td>\n",
              "    </tr>\n",
              "    <tr>\n",
              "      <th>152352</th>\n",
              "      <td>0110x011</td>\n",
              "      <td>Struise Mikkeller (Elliot Brew)</td>\n",
              "      <td>4.0</td>\n",
              "      <td>4.095157</td>\n",
              "      <td>{'was_impossible': False}</td>\n",
              "      <td>99</td>\n",
              "      <td>170</td>\n",
              "      <td>0.095157</td>\n",
              "      <td>139</td>\n",
              "    </tr>\n",
              "    <tr>\n",
              "      <th>329720</th>\n",
              "      <td>0110x011</td>\n",
              "      <td>Chez Monieux</td>\n",
              "      <td>4.5</td>\n",
              "      <td>4.180252</td>\n",
              "      <td>{'was_impossible': False}</td>\n",
              "      <td>99</td>\n",
              "      <td>32</td>\n",
              "      <td>0.319748</td>\n",
              "      <td>139</td>\n",
              "    </tr>\n",
              "    <tr>\n",
              "      <th>300944</th>\n",
              "      <td>0110x011</td>\n",
              "      <td>Ne Goeien Saison</td>\n",
              "      <td>4.5</td>\n",
              "      <td>4.281151</td>\n",
              "      <td>{'was_impossible': False}</td>\n",
              "      <td>99</td>\n",
              "      <td>48</td>\n",
              "      <td>0.218849</td>\n",
              "      <td>139</td>\n",
              "    </tr>\n",
              "  </tbody>\n",
              "</table>\n",
              "</div>"
            ],
            "text/plain": [
              "             uid                                      iid  rui       est  \\\n",
              "310642  0110x011  Founders KBS (Kentucky Breakfast Stout)  5.0  4.499652   \n",
              "7051    0110x011                                     Adam  4.0  4.085279   \n",
              "152352  0110x011          Struise Mikkeller (Elliot Brew)  4.0  4.095157   \n",
              "329720  0110x011                             Chez Monieux  4.5  4.180252   \n",
              "300944  0110x011                         Ne Goeien Saison  4.5  4.281151   \n",
              "\n",
              "                          details  Iu    Ui       err  user_freq  \n",
              "310642  {'was_impossible': False}  99  1147  0.500348        139  \n",
              "7051    {'was_impossible': False}  99   544  0.085279        139  \n",
              "152352  {'was_impossible': False}  99   170  0.095157        139  \n",
              "329720  {'was_impossible': False}  99    32  0.319748        139  \n",
              "300944  {'was_impossible': False}  99    48  0.218849        139  "
            ]
          },
          "metadata": {
            "tags": []
          },
          "execution_count": 26
        }
      ]
    },
    {
      "metadata": {
        "id": "VpPn5nb07Nso",
        "colab_type": "code",
        "outputId": "fb25a602-c9d4-4b28-a5ec-e48fffeecd92",
        "colab": {
          "base_uri": "https://localhost:8080/",
          "height": 305
        }
      },
      "cell_type": "code",
      "source": [
        "# predict on whole dataset\n",
        "trainset_s, testset_s = train_test_split(data, test_size=.99)\n",
        "\n",
        "svd_pred_s = svd.test(testset_s)\n",
        "svd_pred_df_s = get_pred_df(svd_pred_s)\n",
        "svd_pred_df_s.head()"
      ],
      "execution_count": 27,
      "outputs": [
        {
          "output_type": "execute_result",
          "data": {
            "text/html": [
              "<div>\n",
              "<style scoped>\n",
              "    .dataframe tbody tr th:only-of-type {\n",
              "        vertical-align: middle;\n",
              "    }\n",
              "\n",
              "    .dataframe tbody tr th {\n",
              "        vertical-align: top;\n",
              "    }\n",
              "\n",
              "    .dataframe thead th {\n",
              "        text-align: right;\n",
              "    }\n",
              "</style>\n",
              "<table border=\"1\" class=\"dataframe\">\n",
              "  <thead>\n",
              "    <tr style=\"text-align: right;\">\n",
              "      <th></th>\n",
              "      <th>uid</th>\n",
              "      <th>iid</th>\n",
              "      <th>rui</th>\n",
              "      <th>est</th>\n",
              "      <th>details</th>\n",
              "      <th>Iu</th>\n",
              "      <th>Ui</th>\n",
              "      <th>err</th>\n",
              "      <th>user_freq</th>\n",
              "    </tr>\n",
              "  </thead>\n",
              "  <tbody>\n",
              "    <tr>\n",
              "      <th>1267305</th>\n",
              "      <td>0110x011</td>\n",
              "      <td>Sierra Nevada Southern Hemisphere Harvest Fres...</td>\n",
              "      <td>4.5</td>\n",
              "      <td>4.225729</td>\n",
              "      <td>{'was_impossible': False}</td>\n",
              "      <td>99</td>\n",
              "      <td>704</td>\n",
              "      <td>0.274271</td>\n",
              "      <td>139</td>\n",
              "    </tr>\n",
              "    <tr>\n",
              "      <th>1089775</th>\n",
              "      <td>0110x011</td>\n",
              "      <td>Founders Centennial IPA</td>\n",
              "      <td>4.5</td>\n",
              "      <td>4.226246</td>\n",
              "      <td>{'was_impossible': False}</td>\n",
              "      <td>99</td>\n",
              "      <td>879</td>\n",
              "      <td>0.273754</td>\n",
              "      <td>139</td>\n",
              "    </tr>\n",
              "    <tr>\n",
              "      <th>964790</th>\n",
              "      <td>0110x011</td>\n",
              "      <td>Mirror Pond Pale Ale</td>\n",
              "      <td>4.0</td>\n",
              "      <td>4.189513</td>\n",
              "      <td>{'was_impossible': False}</td>\n",
              "      <td>99</td>\n",
              "      <td>459</td>\n",
              "      <td>0.189513</td>\n",
              "      <td>139</td>\n",
              "    </tr>\n",
              "    <tr>\n",
              "      <th>1262334</th>\n",
              "      <td>0110x011</td>\n",
              "      <td>The Angel's Share - Bourbon Barrel-Aged</td>\n",
              "      <td>5.0</td>\n",
              "      <td>4.183541</td>\n",
              "      <td>{'was_impossible': False}</td>\n",
              "      <td>99</td>\n",
              "      <td>337</td>\n",
              "      <td>0.816459</td>\n",
              "      <td>139</td>\n",
              "    </tr>\n",
              "    <tr>\n",
              "      <th>96140</th>\n",
              "      <td>0110x011</td>\n",
              "      <td>Mirror Mirror</td>\n",
              "      <td>4.5</td>\n",
              "      <td>4.225651</td>\n",
              "      <td>{'was_impossible': False}</td>\n",
              "      <td>99</td>\n",
              "      <td>246</td>\n",
              "      <td>0.274349</td>\n",
              "      <td>139</td>\n",
              "    </tr>\n",
              "  </tbody>\n",
              "</table>\n",
              "</div>"
            ],
            "text/plain": [
              "              uid                                                iid  rui  \\\n",
              "1267305  0110x011  Sierra Nevada Southern Hemisphere Harvest Fres...  4.5   \n",
              "1089775  0110x011                            Founders Centennial IPA  4.5   \n",
              "964790   0110x011                               Mirror Pond Pale Ale  4.0   \n",
              "1262334  0110x011            The Angel's Share - Bourbon Barrel-Aged  5.0   \n",
              "96140    0110x011                                      Mirror Mirror  4.5   \n",
              "\n",
              "              est                    details  Iu   Ui       err  user_freq  \n",
              "1267305  4.225729  {'was_impossible': False}  99  704  0.274271        139  \n",
              "1089775  4.226246  {'was_impossible': False}  99  879  0.273754        139  \n",
              "964790   4.189513  {'was_impossible': False}  99  459  0.189513        139  \n",
              "1262334  4.183541  {'was_impossible': False}  99  337  0.816459        139  \n",
              "96140    4.225651  {'was_impossible': False}  99  246  0.274349        139  "
            ]
          },
          "metadata": {
            "tags": []
          },
          "execution_count": 27
        }
      ]
    },
    {
      "metadata": {
        "id": "cFTht8APvKvV",
        "colab_type": "text"
      },
      "cell_type": "markdown",
      "source": [
        "### 2.2 Non-negative Matrix Factorization (NMF)"
      ]
    },
    {
      "metadata": {
        "id": "IDi08dmivieq",
        "colab_type": "code",
        "outputId": "b5587873-3f99-4bf3-94bc-5a360069f7b1",
        "colab": {
          "base_uri": "https://localhost:8080/",
          "height": 323
        }
      },
      "cell_type": "code",
      "source": [
        "# fit\n",
        "nmf = NMF(n_factors = 25, n_epochs = 50, reg_pu = 0.1, reg_qi = 0.1)\n",
        "nmf.fit(trainset)\n",
        "\n",
        "# test \n",
        "nmf_pred = nmf.test(testset)\n",
        "nmf_rmse = accuracy.rmse(nmf_pred, verbose=True) \n",
        "print('Test RMSE of NMF is %s' % round(nmf_rmse, 3))\n",
        "\n",
        "# predict\n",
        "nmf_pred_df = get_pred_df(nmf_pred)\n",
        "nmf_pred_df.head()"
      ],
      "execution_count": 28,
      "outputs": [
        {
          "output_type": "stream",
          "text": [
            "RMSE: 0.5977\n",
            "Test RMSE of NMF is 0.598\n"
          ],
          "name": "stdout"
        },
        {
          "output_type": "execute_result",
          "data": {
            "text/html": [
              "<div>\n",
              "<style scoped>\n",
              "    .dataframe tbody tr th:only-of-type {\n",
              "        vertical-align: middle;\n",
              "    }\n",
              "\n",
              "    .dataframe tbody tr th {\n",
              "        vertical-align: top;\n",
              "    }\n",
              "\n",
              "    .dataframe thead th {\n",
              "        text-align: right;\n",
              "    }\n",
              "</style>\n",
              "<table border=\"1\" class=\"dataframe\">\n",
              "  <thead>\n",
              "    <tr style=\"text-align: right;\">\n",
              "      <th></th>\n",
              "      <th>uid</th>\n",
              "      <th>iid</th>\n",
              "      <th>rui</th>\n",
              "      <th>est</th>\n",
              "      <th>details</th>\n",
              "      <th>Iu</th>\n",
              "      <th>Ui</th>\n",
              "      <th>err</th>\n",
              "      <th>user_freq</th>\n",
              "    </tr>\n",
              "  </thead>\n",
              "  <tbody>\n",
              "    <tr>\n",
              "      <th>310642</th>\n",
              "      <td>0110x011</td>\n",
              "      <td>Founders KBS (Kentucky Breakfast Stout)</td>\n",
              "      <td>5.0</td>\n",
              "      <td>4.525617</td>\n",
              "      <td>{'was_impossible': False}</td>\n",
              "      <td>99</td>\n",
              "      <td>1147</td>\n",
              "      <td>0.474383</td>\n",
              "      <td>139</td>\n",
              "    </tr>\n",
              "    <tr>\n",
              "      <th>7051</th>\n",
              "      <td>0110x011</td>\n",
              "      <td>Adam</td>\n",
              "      <td>4.0</td>\n",
              "      <td>4.178880</td>\n",
              "      <td>{'was_impossible': False}</td>\n",
              "      <td>99</td>\n",
              "      <td>544</td>\n",
              "      <td>0.178880</td>\n",
              "      <td>139</td>\n",
              "    </tr>\n",
              "    <tr>\n",
              "      <th>152352</th>\n",
              "      <td>0110x011</td>\n",
              "      <td>Struise Mikkeller (Elliot Brew)</td>\n",
              "      <td>4.0</td>\n",
              "      <td>4.086247</td>\n",
              "      <td>{'was_impossible': False}</td>\n",
              "      <td>99</td>\n",
              "      <td>170</td>\n",
              "      <td>0.086247</td>\n",
              "      <td>139</td>\n",
              "    </tr>\n",
              "    <tr>\n",
              "      <th>329720</th>\n",
              "      <td>0110x011</td>\n",
              "      <td>Chez Monieux</td>\n",
              "      <td>4.5</td>\n",
              "      <td>4.159003</td>\n",
              "      <td>{'was_impossible': False}</td>\n",
              "      <td>99</td>\n",
              "      <td>32</td>\n",
              "      <td>0.340997</td>\n",
              "      <td>139</td>\n",
              "    </tr>\n",
              "    <tr>\n",
              "      <th>300944</th>\n",
              "      <td>0110x011</td>\n",
              "      <td>Ne Goeien Saison</td>\n",
              "      <td>4.5</td>\n",
              "      <td>4.327996</td>\n",
              "      <td>{'was_impossible': False}</td>\n",
              "      <td>99</td>\n",
              "      <td>48</td>\n",
              "      <td>0.172004</td>\n",
              "      <td>139</td>\n",
              "    </tr>\n",
              "  </tbody>\n",
              "</table>\n",
              "</div>"
            ],
            "text/plain": [
              "             uid                                      iid  rui       est  \\\n",
              "310642  0110x011  Founders KBS (Kentucky Breakfast Stout)  5.0  4.525617   \n",
              "7051    0110x011                                     Adam  4.0  4.178880   \n",
              "152352  0110x011          Struise Mikkeller (Elliot Brew)  4.0  4.086247   \n",
              "329720  0110x011                             Chez Monieux  4.5  4.159003   \n",
              "300944  0110x011                         Ne Goeien Saison  4.5  4.327996   \n",
              "\n",
              "                          details  Iu    Ui       err  user_freq  \n",
              "310642  {'was_impossible': False}  99  1147  0.474383        139  \n",
              "7051    {'was_impossible': False}  99   544  0.178880        139  \n",
              "152352  {'was_impossible': False}  99   170  0.086247        139  \n",
              "329720  {'was_impossible': False}  99    32  0.340997        139  \n",
              "300944  {'was_impossible': False}  99    48  0.172004        139  "
            ]
          },
          "metadata": {
            "tags": []
          },
          "execution_count": 28
        }
      ]
    },
    {
      "metadata": {
        "id": "YOJZ-xruEA32",
        "colab_type": "code",
        "outputId": "9aa8f612-1298-4b68-f394-f9d60f23c466",
        "colab": {
          "base_uri": "https://localhost:8080/",
          "height": 305
        }
      },
      "cell_type": "code",
      "source": [
        "# predict on whole dataset\n",
        "nmf_pred_s = nmf.test(testset_s)\n",
        "nmf_pred_df_s = get_pred_df(nmf_pred_s)\n",
        "nmf_pred_df_s.head()"
      ],
      "execution_count": 29,
      "outputs": [
        {
          "output_type": "execute_result",
          "data": {
            "text/html": [
              "<div>\n",
              "<style scoped>\n",
              "    .dataframe tbody tr th:only-of-type {\n",
              "        vertical-align: middle;\n",
              "    }\n",
              "\n",
              "    .dataframe tbody tr th {\n",
              "        vertical-align: top;\n",
              "    }\n",
              "\n",
              "    .dataframe thead th {\n",
              "        text-align: right;\n",
              "    }\n",
              "</style>\n",
              "<table border=\"1\" class=\"dataframe\">\n",
              "  <thead>\n",
              "    <tr style=\"text-align: right;\">\n",
              "      <th></th>\n",
              "      <th>uid</th>\n",
              "      <th>iid</th>\n",
              "      <th>rui</th>\n",
              "      <th>est</th>\n",
              "      <th>details</th>\n",
              "      <th>Iu</th>\n",
              "      <th>Ui</th>\n",
              "      <th>err</th>\n",
              "      <th>user_freq</th>\n",
              "    </tr>\n",
              "  </thead>\n",
              "  <tbody>\n",
              "    <tr>\n",
              "      <th>1267305</th>\n",
              "      <td>0110x011</td>\n",
              "      <td>Sierra Nevada Southern Hemisphere Harvest Fres...</td>\n",
              "      <td>4.5</td>\n",
              "      <td>4.167958</td>\n",
              "      <td>{'was_impossible': False}</td>\n",
              "      <td>99</td>\n",
              "      <td>704</td>\n",
              "      <td>0.332042</td>\n",
              "      <td>139</td>\n",
              "    </tr>\n",
              "    <tr>\n",
              "      <th>1089775</th>\n",
              "      <td>0110x011</td>\n",
              "      <td>Founders Centennial IPA</td>\n",
              "      <td>4.5</td>\n",
              "      <td>4.146650</td>\n",
              "      <td>{'was_impossible': False}</td>\n",
              "      <td>99</td>\n",
              "      <td>879</td>\n",
              "      <td>0.353350</td>\n",
              "      <td>139</td>\n",
              "    </tr>\n",
              "    <tr>\n",
              "      <th>964790</th>\n",
              "      <td>0110x011</td>\n",
              "      <td>Mirror Pond Pale Ale</td>\n",
              "      <td>4.0</td>\n",
              "      <td>4.134163</td>\n",
              "      <td>{'was_impossible': False}</td>\n",
              "      <td>99</td>\n",
              "      <td>459</td>\n",
              "      <td>0.134163</td>\n",
              "      <td>139</td>\n",
              "    </tr>\n",
              "    <tr>\n",
              "      <th>1262334</th>\n",
              "      <td>0110x011</td>\n",
              "      <td>The Angel's Share - Bourbon Barrel-Aged</td>\n",
              "      <td>5.0</td>\n",
              "      <td>4.224633</td>\n",
              "      <td>{'was_impossible': False}</td>\n",
              "      <td>99</td>\n",
              "      <td>337</td>\n",
              "      <td>0.775367</td>\n",
              "      <td>139</td>\n",
              "    </tr>\n",
              "    <tr>\n",
              "      <th>96140</th>\n",
              "      <td>0110x011</td>\n",
              "      <td>Mirror Mirror</td>\n",
              "      <td>4.5</td>\n",
              "      <td>4.277644</td>\n",
              "      <td>{'was_impossible': False}</td>\n",
              "      <td>99</td>\n",
              "      <td>246</td>\n",
              "      <td>0.222356</td>\n",
              "      <td>139</td>\n",
              "    </tr>\n",
              "  </tbody>\n",
              "</table>\n",
              "</div>"
            ],
            "text/plain": [
              "              uid                                                iid  rui  \\\n",
              "1267305  0110x011  Sierra Nevada Southern Hemisphere Harvest Fres...  4.5   \n",
              "1089775  0110x011                            Founders Centennial IPA  4.5   \n",
              "964790   0110x011                               Mirror Pond Pale Ale  4.0   \n",
              "1262334  0110x011            The Angel's Share - Bourbon Barrel-Aged  5.0   \n",
              "96140    0110x011                                      Mirror Mirror  4.5   \n",
              "\n",
              "              est                    details  Iu   Ui       err  user_freq  \n",
              "1267305  4.167958  {'was_impossible': False}  99  704  0.332042        139  \n",
              "1089775  4.146650  {'was_impossible': False}  99  879  0.353350        139  \n",
              "964790   4.134163  {'was_impossible': False}  99  459  0.134163        139  \n",
              "1262334  4.224633  {'was_impossible': False}  99  337  0.775367        139  \n",
              "96140    4.277644  {'was_impossible': False}  99  246  0.222356        139  "
            ]
          },
          "metadata": {
            "tags": []
          },
          "execution_count": 29
        }
      ]
    },
    {
      "metadata": {
        "id": "KfC9a_wKxjS1",
        "colab_type": "text"
      },
      "cell_type": "markdown",
      "source": [
        "### 2.3 KNN user-based"
      ]
    },
    {
      "metadata": {
        "id": "gKeSGs2wVvae",
        "colab_type": "text"
      },
      "cell_type": "markdown",
      "source": [
        "#### 2.3.1 KNN on whole dataset (after trimmed)\n",
        "Comments: although this algorithm run through, it takes up ~11GB RAM as noticed by Colab. This shows that KNN methods do not scale well for large dataset."
      ]
    },
    {
      "metadata": {
        "id": "-DqBR73DRgXN",
        "colab_type": "code",
        "outputId": "41605df4-63ec-4a4f-d6a9-2d64e48ae437",
        "colab": {
          "base_uri": "https://localhost:8080/",
          "height": 408
        }
      },
      "cell_type": "code",
      "source": [
        "# model set up\n",
        "sim_options = {'name': 'pearson', 'user_based': True, 'min_support':10}  \n",
        "knnmean = KNNWithMeans(k=300, \n",
        "                       min_k=10, \n",
        "                       sim_options=sim_options, \n",
        "                       verbose=True)\n",
        "# fit\n",
        "knnmean.fit(trainset)\n",
        "\n",
        "# test\n",
        "knn_pred = knnmean.test(testset)\n",
        "\n",
        "# predict\n",
        "knn_pred_df = get_pred_df(knn_pred)\n",
        "knn_pred_df.head()"
      ],
      "execution_count": 30,
      "outputs": [
        {
          "output_type": "stream",
          "text": [
            "Computing the pearson similarity matrix...\n",
            "Done computing similarity matrix.\n"
          ],
          "name": "stdout"
        },
        {
          "output_type": "execute_result",
          "data": {
            "text/html": [
              "<div>\n",
              "<style scoped>\n",
              "    .dataframe tbody tr th:only-of-type {\n",
              "        vertical-align: middle;\n",
              "    }\n",
              "\n",
              "    .dataframe tbody tr th {\n",
              "        vertical-align: top;\n",
              "    }\n",
              "\n",
              "    .dataframe thead th {\n",
              "        text-align: right;\n",
              "    }\n",
              "</style>\n",
              "<table border=\"1\" class=\"dataframe\">\n",
              "  <thead>\n",
              "    <tr style=\"text-align: right;\">\n",
              "      <th></th>\n",
              "      <th>uid</th>\n",
              "      <th>iid</th>\n",
              "      <th>rui</th>\n",
              "      <th>est</th>\n",
              "      <th>details</th>\n",
              "      <th>Iu</th>\n",
              "      <th>Ui</th>\n",
              "      <th>err</th>\n",
              "      <th>user_freq</th>\n",
              "    </tr>\n",
              "  </thead>\n",
              "  <tbody>\n",
              "    <tr>\n",
              "      <th>310642</th>\n",
              "      <td>0110x011</td>\n",
              "      <td>Founders KBS (Kentucky Breakfast Stout)</td>\n",
              "      <td>5.0</td>\n",
              "      <td>4.754988</td>\n",
              "      <td>{'actual_k': 300, 'was_impossible': False}</td>\n",
              "      <td>99</td>\n",
              "      <td>1147</td>\n",
              "      <td>0.245012</td>\n",
              "      <td>139</td>\n",
              "    </tr>\n",
              "    <tr>\n",
              "      <th>7051</th>\n",
              "      <td>0110x011</td>\n",
              "      <td>Adam</td>\n",
              "      <td>4.0</td>\n",
              "      <td>4.397625</td>\n",
              "      <td>{'actual_k': 275, 'was_impossible': False}</td>\n",
              "      <td>99</td>\n",
              "      <td>544</td>\n",
              "      <td>0.397625</td>\n",
              "      <td>139</td>\n",
              "    </tr>\n",
              "    <tr>\n",
              "      <th>152352</th>\n",
              "      <td>0110x011</td>\n",
              "      <td>Struise Mikkeller (Elliot Brew)</td>\n",
              "      <td>4.0</td>\n",
              "      <td>4.262242</td>\n",
              "      <td>{'actual_k': 90, 'was_impossible': False}</td>\n",
              "      <td>99</td>\n",
              "      <td>170</td>\n",
              "      <td>0.262242</td>\n",
              "      <td>139</td>\n",
              "    </tr>\n",
              "    <tr>\n",
              "      <th>329720</th>\n",
              "      <td>0110x011</td>\n",
              "      <td>Chez Monieux</td>\n",
              "      <td>4.5</td>\n",
              "      <td>4.386130</td>\n",
              "      <td>{'actual_k': 25, 'was_impossible': False}</td>\n",
              "      <td>99</td>\n",
              "      <td>32</td>\n",
              "      <td>0.113870</td>\n",
              "      <td>139</td>\n",
              "    </tr>\n",
              "    <tr>\n",
              "      <th>300944</th>\n",
              "      <td>0110x011</td>\n",
              "      <td>Ne Goeien Saison</td>\n",
              "      <td>4.5</td>\n",
              "      <td>4.568688</td>\n",
              "      <td>{'actual_k': 33, 'was_impossible': False}</td>\n",
              "      <td>99</td>\n",
              "      <td>48</td>\n",
              "      <td>0.068688</td>\n",
              "      <td>139</td>\n",
              "    </tr>\n",
              "  </tbody>\n",
              "</table>\n",
              "</div>"
            ],
            "text/plain": [
              "             uid                                      iid  rui       est  \\\n",
              "310642  0110x011  Founders KBS (Kentucky Breakfast Stout)  5.0  4.754988   \n",
              "7051    0110x011                                     Adam  4.0  4.397625   \n",
              "152352  0110x011          Struise Mikkeller (Elliot Brew)  4.0  4.262242   \n",
              "329720  0110x011                             Chez Monieux  4.5  4.386130   \n",
              "300944  0110x011                         Ne Goeien Saison  4.5  4.568688   \n",
              "\n",
              "                                           details  Iu    Ui       err  \\\n",
              "310642  {'actual_k': 300, 'was_impossible': False}  99  1147  0.245012   \n",
              "7051    {'actual_k': 275, 'was_impossible': False}  99   544  0.397625   \n",
              "152352   {'actual_k': 90, 'was_impossible': False}  99   170  0.262242   \n",
              "329720   {'actual_k': 25, 'was_impossible': False}  99    32  0.113870   \n",
              "300944   {'actual_k': 33, 'was_impossible': False}  99    48  0.068688   \n",
              "\n",
              "        user_freq  \n",
              "310642        139  \n",
              "7051          139  \n",
              "152352        139  \n",
              "329720        139  \n",
              "300944        139  "
            ]
          },
          "metadata": {
            "tags": []
          },
          "execution_count": 30
        }
      ]
    },
    {
      "metadata": {
        "id": "q6NgKWt0WdgZ",
        "colab_type": "code",
        "outputId": "f82c283c-2bb7-476f-fbb9-8be165e559af",
        "colab": {
          "base_uri": "https://localhost:8080/",
          "height": 872
        }
      },
      "cell_type": "code",
      "source": [
        "# predict whole dataset\n",
        "knn_pred_s = knnmean.test(testset_s)\n",
        "knn_pred_df_s = get_pred_df(knn_pred_s)\n",
        "knn_pred_df_s.head()"
      ],
      "execution_count": 32,
      "outputs": [
        {
          "output_type": "error",
          "ename": "KeyboardInterrupt",
          "evalue": "ignored",
          "traceback": [
            "\u001b[0;31m---------------------------------------------------------------------------\u001b[0m",
            "\u001b[0;31mKeyboardInterrupt\u001b[0m                         Traceback (most recent call last)",
            "\u001b[0;32m<ipython-input-32-c6d6c4fb4dfe>\u001b[0m in \u001b[0;36m<module>\u001b[0;34m()\u001b[0m\n\u001b[0;32m----> 1\u001b[0;31m \u001b[0mknn_pred_s\u001b[0m \u001b[0;34m=\u001b[0m \u001b[0mknnmean\u001b[0m\u001b[0;34m.\u001b[0m\u001b[0mtest\u001b[0m\u001b[0;34m(\u001b[0m\u001b[0mtestset_s\u001b[0m\u001b[0;34m)\u001b[0m\u001b[0;34m\u001b[0m\u001b[0;34m\u001b[0m\u001b[0m\n\u001b[0m\u001b[1;32m      2\u001b[0m \u001b[0mknn_pred_df_s\u001b[0m \u001b[0;34m=\u001b[0m \u001b[0mget_pred_df\u001b[0m\u001b[0;34m(\u001b[0m\u001b[0mknn_pred_s\u001b[0m\u001b[0;34m)\u001b[0m\u001b[0;34m\u001b[0m\u001b[0;34m\u001b[0m\u001b[0m\n\u001b[1;32m      3\u001b[0m \u001b[0mknn_pred_df_s\u001b[0m\u001b[0;34m.\u001b[0m\u001b[0mhead\u001b[0m\u001b[0;34m(\u001b[0m\u001b[0;34m)\u001b[0m\u001b[0;34m\u001b[0m\u001b[0;34m\u001b[0m\u001b[0m\n",
            "\u001b[0;32m/usr/local/lib/python3.6/dist-packages/surprise/prediction_algorithms/algo_base.py\u001b[0m in \u001b[0;36mtest\u001b[0;34m(self, testset, verbose)\u001b[0m\n\u001b[1;32m    210\u001b[0m                                     \u001b[0mr_ui_trans\u001b[0m \u001b[0;34m-\u001b[0m \u001b[0mself\u001b[0m\u001b[0;34m.\u001b[0m\u001b[0mtrainset\u001b[0m\u001b[0;34m.\u001b[0m\u001b[0moffset\u001b[0m\u001b[0;34m,\u001b[0m\u001b[0;34m\u001b[0m\u001b[0;34m\u001b[0m\u001b[0m\n\u001b[1;32m    211\u001b[0m                                     verbose=verbose)\n\u001b[0;32m--> 212\u001b[0;31m                        for (uid, iid, r_ui_trans) in testset]\n\u001b[0m\u001b[1;32m    213\u001b[0m         \u001b[0;32mreturn\u001b[0m \u001b[0mpredictions\u001b[0m\u001b[0;34m\u001b[0m\u001b[0;34m\u001b[0m\u001b[0m\n\u001b[1;32m    214\u001b[0m \u001b[0;34m\u001b[0m\u001b[0m\n",
            "\u001b[0;32m/usr/local/lib/python3.6/dist-packages/surprise/prediction_algorithms/algo_base.py\u001b[0m in \u001b[0;36m<listcomp>\u001b[0;34m(.0)\u001b[0m\n\u001b[1;32m    210\u001b[0m                                     \u001b[0mr_ui_trans\u001b[0m \u001b[0;34m-\u001b[0m \u001b[0mself\u001b[0m\u001b[0;34m.\u001b[0m\u001b[0mtrainset\u001b[0m\u001b[0;34m.\u001b[0m\u001b[0moffset\u001b[0m\u001b[0;34m,\u001b[0m\u001b[0;34m\u001b[0m\u001b[0;34m\u001b[0m\u001b[0m\n\u001b[1;32m    211\u001b[0m                                     verbose=verbose)\n\u001b[0;32m--> 212\u001b[0;31m                        for (uid, iid, r_ui_trans) in testset]\n\u001b[0m\u001b[1;32m    213\u001b[0m         \u001b[0;32mreturn\u001b[0m \u001b[0mpredictions\u001b[0m\u001b[0;34m\u001b[0m\u001b[0;34m\u001b[0m\u001b[0m\n\u001b[1;32m    214\u001b[0m \u001b[0;34m\u001b[0m\u001b[0m\n",
            "\u001b[0;32m/usr/local/lib/python3.6/dist-packages/surprise/prediction_algorithms/algo_base.py\u001b[0m in \u001b[0;36mpredict\u001b[0;34m(self, uid, iid, r_ui, clip, verbose)\u001b[0m\n\u001b[1;32m    144\u001b[0m         \u001b[0mdetails\u001b[0m \u001b[0;34m=\u001b[0m \u001b[0;34m{\u001b[0m\u001b[0;34m}\u001b[0m\u001b[0;34m\u001b[0m\u001b[0;34m\u001b[0m\u001b[0m\n\u001b[1;32m    145\u001b[0m         \u001b[0;32mtry\u001b[0m\u001b[0;34m:\u001b[0m\u001b[0;34m\u001b[0m\u001b[0;34m\u001b[0m\u001b[0m\n\u001b[0;32m--> 146\u001b[0;31m             \u001b[0mest\u001b[0m \u001b[0;34m=\u001b[0m \u001b[0mself\u001b[0m\u001b[0;34m.\u001b[0m\u001b[0mestimate\u001b[0m\u001b[0;34m(\u001b[0m\u001b[0miuid\u001b[0m\u001b[0;34m,\u001b[0m \u001b[0miiid\u001b[0m\u001b[0;34m)\u001b[0m\u001b[0;34m\u001b[0m\u001b[0;34m\u001b[0m\u001b[0m\n\u001b[0m\u001b[1;32m    147\u001b[0m \u001b[0;34m\u001b[0m\u001b[0m\n\u001b[1;32m    148\u001b[0m             \u001b[0;31m# If the details dict was also returned\u001b[0m\u001b[0;34m\u001b[0m\u001b[0;34m\u001b[0m\u001b[0;34m\u001b[0m\u001b[0m\n",
            "\u001b[0;32m/usr/local/lib/python3.6/dist-packages/surprise/prediction_algorithms/knns.py\u001b[0m in \u001b[0;36mestimate\u001b[0;34m(self, u, i)\u001b[0m\n\u001b[1;32m    191\u001b[0m         \u001b[0mx\u001b[0m\u001b[0;34m,\u001b[0m \u001b[0my\u001b[0m \u001b[0;34m=\u001b[0m \u001b[0mself\u001b[0m\u001b[0;34m.\u001b[0m\u001b[0mswitch\u001b[0m\u001b[0;34m(\u001b[0m\u001b[0mu\u001b[0m\u001b[0;34m,\u001b[0m \u001b[0mi\u001b[0m\u001b[0;34m)\u001b[0m\u001b[0;34m\u001b[0m\u001b[0;34m\u001b[0m\u001b[0m\n\u001b[1;32m    192\u001b[0m \u001b[0;34m\u001b[0m\u001b[0m\n\u001b[0;32m--> 193\u001b[0;31m         \u001b[0mneighbors\u001b[0m \u001b[0;34m=\u001b[0m \u001b[0;34m[\u001b[0m\u001b[0;34m(\u001b[0m\u001b[0mx2\u001b[0m\u001b[0;34m,\u001b[0m \u001b[0mself\u001b[0m\u001b[0;34m.\u001b[0m\u001b[0msim\u001b[0m\u001b[0;34m[\u001b[0m\u001b[0mx\u001b[0m\u001b[0;34m,\u001b[0m \u001b[0mx2\u001b[0m\u001b[0;34m]\u001b[0m\u001b[0;34m,\u001b[0m \u001b[0mr\u001b[0m\u001b[0;34m)\u001b[0m \u001b[0;32mfor\u001b[0m \u001b[0;34m(\u001b[0m\u001b[0mx2\u001b[0m\u001b[0;34m,\u001b[0m \u001b[0mr\u001b[0m\u001b[0;34m)\u001b[0m \u001b[0;32min\u001b[0m \u001b[0mself\u001b[0m\u001b[0;34m.\u001b[0m\u001b[0myr\u001b[0m\u001b[0;34m[\u001b[0m\u001b[0my\u001b[0m\u001b[0;34m]\u001b[0m\u001b[0;34m]\u001b[0m\u001b[0;34m\u001b[0m\u001b[0;34m\u001b[0m\u001b[0m\n\u001b[0m\u001b[1;32m    194\u001b[0m         \u001b[0mk_neighbors\u001b[0m \u001b[0;34m=\u001b[0m \u001b[0mheapq\u001b[0m\u001b[0;34m.\u001b[0m\u001b[0mnlargest\u001b[0m\u001b[0;34m(\u001b[0m\u001b[0mself\u001b[0m\u001b[0;34m.\u001b[0m\u001b[0mk\u001b[0m\u001b[0;34m,\u001b[0m \u001b[0mneighbors\u001b[0m\u001b[0;34m,\u001b[0m \u001b[0mkey\u001b[0m\u001b[0;34m=\u001b[0m\u001b[0;32mlambda\u001b[0m \u001b[0mt\u001b[0m\u001b[0;34m:\u001b[0m \u001b[0mt\u001b[0m\u001b[0;34m[\u001b[0m\u001b[0;36m1\u001b[0m\u001b[0;34m]\u001b[0m\u001b[0;34m)\u001b[0m\u001b[0;34m\u001b[0m\u001b[0;34m\u001b[0m\u001b[0m\n\u001b[1;32m    195\u001b[0m \u001b[0;34m\u001b[0m\u001b[0m\n",
            "\u001b[0;32m/usr/local/lib/python3.6/dist-packages/surprise/prediction_algorithms/knns.py\u001b[0m in \u001b[0;36m<listcomp>\u001b[0;34m(.0)\u001b[0m\n\u001b[1;32m    191\u001b[0m         \u001b[0mx\u001b[0m\u001b[0;34m,\u001b[0m \u001b[0my\u001b[0m \u001b[0;34m=\u001b[0m \u001b[0mself\u001b[0m\u001b[0;34m.\u001b[0m\u001b[0mswitch\u001b[0m\u001b[0;34m(\u001b[0m\u001b[0mu\u001b[0m\u001b[0;34m,\u001b[0m \u001b[0mi\u001b[0m\u001b[0;34m)\u001b[0m\u001b[0;34m\u001b[0m\u001b[0;34m\u001b[0m\u001b[0m\n\u001b[1;32m    192\u001b[0m \u001b[0;34m\u001b[0m\u001b[0m\n\u001b[0;32m--> 193\u001b[0;31m         \u001b[0mneighbors\u001b[0m \u001b[0;34m=\u001b[0m \u001b[0;34m[\u001b[0m\u001b[0;34m(\u001b[0m\u001b[0mx2\u001b[0m\u001b[0;34m,\u001b[0m \u001b[0mself\u001b[0m\u001b[0;34m.\u001b[0m\u001b[0msim\u001b[0m\u001b[0;34m[\u001b[0m\u001b[0mx\u001b[0m\u001b[0;34m,\u001b[0m \u001b[0mx2\u001b[0m\u001b[0;34m]\u001b[0m\u001b[0;34m,\u001b[0m \u001b[0mr\u001b[0m\u001b[0;34m)\u001b[0m \u001b[0;32mfor\u001b[0m \u001b[0;34m(\u001b[0m\u001b[0mx2\u001b[0m\u001b[0;34m,\u001b[0m \u001b[0mr\u001b[0m\u001b[0;34m)\u001b[0m \u001b[0;32min\u001b[0m \u001b[0mself\u001b[0m\u001b[0;34m.\u001b[0m\u001b[0myr\u001b[0m\u001b[0;34m[\u001b[0m\u001b[0my\u001b[0m\u001b[0;34m]\u001b[0m\u001b[0;34m]\u001b[0m\u001b[0;34m\u001b[0m\u001b[0;34m\u001b[0m\u001b[0m\n\u001b[0m\u001b[1;32m    194\u001b[0m         \u001b[0mk_neighbors\u001b[0m \u001b[0;34m=\u001b[0m \u001b[0mheapq\u001b[0m\u001b[0;34m.\u001b[0m\u001b[0mnlargest\u001b[0m\u001b[0;34m(\u001b[0m\u001b[0mself\u001b[0m\u001b[0;34m.\u001b[0m\u001b[0mk\u001b[0m\u001b[0;34m,\u001b[0m \u001b[0mneighbors\u001b[0m\u001b[0;34m,\u001b[0m \u001b[0mkey\u001b[0m\u001b[0;34m=\u001b[0m\u001b[0;32mlambda\u001b[0m \u001b[0mt\u001b[0m\u001b[0;34m:\u001b[0m \u001b[0mt\u001b[0m\u001b[0;34m[\u001b[0m\u001b[0;36m1\u001b[0m\u001b[0;34m]\u001b[0m\u001b[0;34m)\u001b[0m\u001b[0;34m\u001b[0m\u001b[0;34m\u001b[0m\u001b[0m\n\u001b[1;32m    195\u001b[0m \u001b[0;34m\u001b[0m\u001b[0m\n",
            "\u001b[0;31mKeyboardInterrupt\u001b[0m: "
          ]
        }
      ]
    },
    {
      "metadata": {
        "id": "t33gjdly-q6o",
        "colab_type": "text"
      },
      "cell_type": "markdown",
      "source": [
        "#### 2.3.2 KNN on two separate sets\n",
        "Comments: beforing dropping the bottom users and beers, the dataset was too large to run on Colab and led to runtime died everytime, so we need to split the original dataset.  According to exploratory analysis above, 100 reviews is a benchmark that separate users' review_group. Thus, we split the dataset into two parts: users with more than 100 reviews and users less than 100 reviews.\n",
        "\n",
        "Below, the result shows that this separation lead to a higher accuracy compared to the previous user-based *KNN* that used the whole dataset for training and testing. \n",
        "\n",
        "Note that parameters used in this section follows from previous gridsearch results. We do not include gridsearch step in this notebook, because it also takes long running time and large memory, thus not necessary/efficient to run each time we compile this notebook."
      ]
    },
    {
      "metadata": {
        "id": "iM7GIvfC-XFM",
        "colab_type": "code",
        "colab": {}
      },
      "cell_type": "code",
      "source": [
        "# set up model\n",
        "sim_options = {'name': 'pearson', 'user_based': True, 'min_support':10}  \n",
        "knnmean1 = KNNWithMeans(k=300, \n",
        "                       min_k=10, \n",
        "                       sim_options=sim_options, \n",
        "                       verbose=True)\n",
        "\n",
        "knnmean2 = KNNWithMeans(k=300, \n",
        "                       min_k=10, \n",
        "                       sim_options=sim_options, \n",
        "                       verbose=True)"
      ],
      "execution_count": 0,
      "outputs": []
    },
    {
      "metadata": {
        "id": "vp3N5GSTh9II",
        "colab_type": "text"
      },
      "cell_type": "markdown",
      "source": [
        "##### 1) users with more than 100 reviews"
      ]
    },
    {
      "metadata": {
        "id": "FJNCa2XGhVdm",
        "colab_type": "code",
        "colab": {}
      },
      "cell_type": "code",
      "source": [
        "# split train & test \n",
        "knn_more = Dataset.load_from_df(more[['review_profileName', 'beer_name', 'review_overall']], reader)\n",
        "trainset_more, testset_more = train_test_split(knn_more, test_size=.33)\n",
        "\n",
        "# fit\n",
        "knnmean1.fit(trainset_more)"
      ],
      "execution_count": 0,
      "outputs": []
    },
    {
      "metadata": {
        "id": "tTX66ugkiSF3",
        "colab_type": "code",
        "colab": {}
      },
      "cell_type": "code",
      "source": [
        "# test\n",
        "pred_more = knnmean1.test(testset_more)"
      ],
      "execution_count": 0,
      "outputs": []
    },
    {
      "metadata": {
        "id": "yT5i-8NnCH5U",
        "colab_type": "code",
        "colab": {}
      },
      "cell_type": "code",
      "source": [
        "# prediction\n",
        "pred_more_df = get_pred_df(pred_more)\n",
        "pred_more_df.head()"
      ],
      "execution_count": 0,
      "outputs": []
    },
    {
      "metadata": {
        "id": "dEoKi3PtiHHP",
        "colab_type": "text"
      },
      "cell_type": "markdown",
      "source": [
        "##### 2) users with less than 100 reviews"
      ]
    },
    {
      "metadata": {
        "id": "yb7Z-JWuguWZ",
        "colab_type": "code",
        "colab": {}
      },
      "cell_type": "code",
      "source": [
        "# split train & test \n",
        "knn_less = Dataset.load_from_df(less[['review_profileName', 'beer_name', 'review_overall']], reader)\n",
        "trainset_less, testset_less = train_test_split(knn_less, test_size=.33)\n",
        "\n",
        "# fit\n",
        "knnmean2.fit(trainset_less)"
      ],
      "execution_count": 0,
      "outputs": []
    },
    {
      "metadata": {
        "id": "jR97JJkJmB88",
        "colab_type": "code",
        "colab": {}
      },
      "cell_type": "code",
      "source": [
        "# test\n",
        "pred_less = knnmean2.test(testset_less)\n",
        "\n",
        "# predict\n",
        "pred_less_df = get_pred_df(pred_less)\n",
        "pred_less_df.head()"
      ],
      "execution_count": 0,
      "outputs": []
    },
    {
      "metadata": {
        "id": "Cj7FnVas9NnC",
        "colab_type": "text"
      },
      "cell_type": "markdown",
      "source": [
        "### 2.4 KNN item-based\n",
        "- failed twice: runtime died\n",
        "- user-based collabrative filtering takes up 12GB+ RAM, reached the limits of Colab and led to kernel crach every time."
      ]
    },
    {
      "metadata": {
        "id": "WlPxc5ruzRyw",
        "colab_type": "text"
      },
      "cell_type": "markdown",
      "source": [
        "### 2.5 Text Analysis"
      ]
    },
    {
      "metadata": {
        "id": "8LhWMELwzYiA",
        "colab_type": "code",
        "colab": {}
      },
      "cell_type": "code",
      "source": [
        "# Hi Carlo: could you add the result of text analysis here? \n",
        "# or write a line like 'please refer to xxx file for model implemention'\n",
        "# and add the result in the next section."
      ],
      "execution_count": 0,
      "outputs": []
    },
    {
      "metadata": {
        "id": "oc4gpLRZwEKL",
        "colab_type": "text"
      },
      "cell_type": "markdown",
      "source": [
        "## Part 3: Model Comparison"
      ]
    },
    {
      "metadata": {
        "id": "DrBXjwJgf3iP",
        "colab_type": "text"
      },
      "cell_type": "markdown",
      "source": [
        "### 3.1 Summarize model performance\n",
        "(RMSE for each review_group)"
      ]
    },
    {
      "metadata": {
        "id": "-vAMuELLK4rw",
        "colab_type": "code",
        "colab": {}
      },
      "cell_type": "code",
      "source": [
        "# define function to get group prediction error\n",
        "def error_bygroup(pred_df, model_name):\n",
        "  \"\"\"\n",
        "  input complete pred_error df\n",
        "  output pred_error by group\n",
        "  \"\"\"\n",
        "  # cut into groups\n",
        "  bins = [10, 20, 30, 40, 50, 100, 200, 500, 1000, 2000, 6000]\n",
        "  labels = ['11-20', '21-30', '31-40', '41-50', '51-100', '101-200', \n",
        "            '201-500', '501-1000', '1001-2000', '2001-6000']\n",
        "  \n",
        "  # add group label\n",
        "  pred_df['review_group'] = pd.cut(pred_df['user_freq'], bins = bins, labels = labels)\n",
        "  \n",
        "  # calculate group mean\n",
        "  pred_df = pred_df.groupby('review_group').mean()\n",
        "  \n",
        "  # rename the error column\n",
        "  #pred_df['err'].columns = model_name\n",
        "  pred_df = pred_df.rename(columns = {'err':model_name})\n",
        "  return pred_df"
      ],
      "execution_count": 0,
      "outputs": []
    },
    {
      "metadata": {
        "id": "hnlezxZfwHPM",
        "colab_type": "code",
        "colab": {}
      },
      "cell_type": "code",
      "source": [
        "# get prediction error\n",
        "#knn_pred_df = pd.concat([pred_more_df, pred_less_df])\n",
        "svd_err = error_bygroup(svd_pred_df_s, 'SVD')\n",
        "nmf_err = error_bygroup(nmf_pred_df_s, 'NMF')"
      ],
      "execution_count": 0,
      "outputs": []
    },
    {
      "metadata": {
        "id": "qWLe6uw5vWZX",
        "colab_type": "code",
        "colab": {}
      },
      "cell_type": "code",
      "source": [
        "knn_err_separate = error_bygroup(knn_pred_df, 'KNN_separate')\n",
        "knn_err = error_bygroup(knn_pred_df_s, 'KNN')"
      ],
      "execution_count": 0,
      "outputs": []
    },
    {
      "metadata": {
        "id": "kwuOdNv0M4Sb",
        "colab_type": "code",
        "outputId": "c19bd8d4-e239-4281-8513-52031557d70d",
        "colab": {
          "base_uri": "https://localhost:8080/",
          "height": 383
        }
      },
      "cell_type": "code",
      "source": [
        "svd_err"
      ],
      "execution_count": 54,
      "outputs": [
        {
          "output_type": "execute_result",
          "data": {
            "text/html": [
              "<div>\n",
              "<style scoped>\n",
              "    .dataframe tbody tr th:only-of-type {\n",
              "        vertical-align: middle;\n",
              "    }\n",
              "\n",
              "    .dataframe tbody tr th {\n",
              "        vertical-align: top;\n",
              "    }\n",
              "\n",
              "    .dataframe thead th {\n",
              "        text-align: right;\n",
              "    }\n",
              "</style>\n",
              "<table border=\"1\" class=\"dataframe\">\n",
              "  <thead>\n",
              "    <tr style=\"text-align: right;\">\n",
              "      <th></th>\n",
              "      <th>rui</th>\n",
              "      <th>est</th>\n",
              "      <th>Iu</th>\n",
              "      <th>Ui</th>\n",
              "      <th>SVD</th>\n",
              "      <th>user_freq</th>\n",
              "    </tr>\n",
              "    <tr>\n",
              "      <th>review_group</th>\n",
              "      <th></th>\n",
              "      <th></th>\n",
              "      <th></th>\n",
              "      <th></th>\n",
              "      <th></th>\n",
              "      <th></th>\n",
              "    </tr>\n",
              "  </thead>\n",
              "  <tbody>\n",
              "    <tr>\n",
              "      <th>11-20</th>\n",
              "      <td>3.875481</td>\n",
              "      <td>3.867062</td>\n",
              "      <td>10.070905</td>\n",
              "      <td>485.129422</td>\n",
              "      <td>0.484431</td>\n",
              "      <td>15.274817</td>\n",
              "    </tr>\n",
              "    <tr>\n",
              "      <th>21-30</th>\n",
              "      <td>3.867254</td>\n",
              "      <td>3.862488</td>\n",
              "      <td>16.442874</td>\n",
              "      <td>477.363811</td>\n",
              "      <td>0.471598</td>\n",
              "      <td>25.157882</td>\n",
              "    </tr>\n",
              "    <tr>\n",
              "      <th>31-40</th>\n",
              "      <td>3.871833</td>\n",
              "      <td>3.867057</td>\n",
              "      <td>22.863873</td>\n",
              "      <td>476.778657</td>\n",
              "      <td>0.450370</td>\n",
              "      <td>35.311422</td>\n",
              "    </tr>\n",
              "    <tr>\n",
              "      <th>41-50</th>\n",
              "      <td>3.851476</td>\n",
              "      <td>3.854339</td>\n",
              "      <td>29.501952</td>\n",
              "      <td>469.811385</td>\n",
              "      <td>0.453885</td>\n",
              "      <td>45.463247</td>\n",
              "    </tr>\n",
              "    <tr>\n",
              "      <th>51-100</th>\n",
              "      <td>3.861771</td>\n",
              "      <td>3.858314</td>\n",
              "      <td>48.729359</td>\n",
              "      <td>464.356644</td>\n",
              "      <td>0.440394</td>\n",
              "      <td>74.963438</td>\n",
              "    </tr>\n",
              "    <tr>\n",
              "      <th>101-200</th>\n",
              "      <td>3.847301</td>\n",
              "      <td>3.845896</td>\n",
              "      <td>96.013768</td>\n",
              "      <td>438.565813</td>\n",
              "      <td>0.428011</td>\n",
              "      <td>148.601509</td>\n",
              "    </tr>\n",
              "    <tr>\n",
              "      <th>201-500</th>\n",
              "      <td>3.821136</td>\n",
              "      <td>3.818217</td>\n",
              "      <td>216.506099</td>\n",
              "      <td>385.283131</td>\n",
              "      <td>0.425643</td>\n",
              "      <td>337.717153</td>\n",
              "    </tr>\n",
              "    <tr>\n",
              "      <th>501-1000</th>\n",
              "      <td>3.801014</td>\n",
              "      <td>3.802677</td>\n",
              "      <td>455.234346</td>\n",
              "      <td>322.563125</td>\n",
              "      <td>0.415073</td>\n",
              "      <td>724.031583</td>\n",
              "    </tr>\n",
              "    <tr>\n",
              "      <th>1001-2000</th>\n",
              "      <td>3.771071</td>\n",
              "      <td>3.773976</td>\n",
              "      <td>858.060679</td>\n",
              "      <td>250.665478</td>\n",
              "      <td>0.429682</td>\n",
              "      <td>1424.596494</td>\n",
              "    </tr>\n",
              "    <tr>\n",
              "      <th>2001-6000</th>\n",
              "      <td>3.801118</td>\n",
              "      <td>3.792591</td>\n",
              "      <td>1726.078944</td>\n",
              "      <td>195.691739</td>\n",
              "      <td>0.391954</td>\n",
              "      <td>2917.618062</td>\n",
              "    </tr>\n",
              "  </tbody>\n",
              "</table>\n",
              "</div>"
            ],
            "text/plain": [
              "                   rui       est           Iu          Ui       SVD  \\\n",
              "review_group                                                          \n",
              "11-20         3.875481  3.867062    10.070905  485.129422  0.484431   \n",
              "21-30         3.867254  3.862488    16.442874  477.363811  0.471598   \n",
              "31-40         3.871833  3.867057    22.863873  476.778657  0.450370   \n",
              "41-50         3.851476  3.854339    29.501952  469.811385  0.453885   \n",
              "51-100        3.861771  3.858314    48.729359  464.356644  0.440394   \n",
              "101-200       3.847301  3.845896    96.013768  438.565813  0.428011   \n",
              "201-500       3.821136  3.818217   216.506099  385.283131  0.425643   \n",
              "501-1000      3.801014  3.802677   455.234346  322.563125  0.415073   \n",
              "1001-2000     3.771071  3.773976   858.060679  250.665478  0.429682   \n",
              "2001-6000     3.801118  3.792591  1726.078944  195.691739  0.391954   \n",
              "\n",
              "                user_freq  \n",
              "review_group               \n",
              "11-20           15.274817  \n",
              "21-30           25.157882  \n",
              "31-40           35.311422  \n",
              "41-50           45.463247  \n",
              "51-100          74.963438  \n",
              "101-200        148.601509  \n",
              "201-500        337.717153  \n",
              "501-1000       724.031583  \n",
              "1001-2000     1424.596494  \n",
              "2001-6000     2917.618062  "
            ]
          },
          "metadata": {
            "tags": []
          },
          "execution_count": 54
        }
      ]
    },
    {
      "metadata": {
        "id": "1f7yezfz5vtL",
        "colab_type": "code",
        "colab": {}
      },
      "cell_type": "code",
      "source": [
        "# combine three models\n",
        "final = pd.concat([svd_err['SVD'], nmf_err['NMF'], knn_err['KNN'], \n",
        "                   knn_err_separate['KNN_separate']], axis=1)\n",
        "final"
      ],
      "execution_count": 0,
      "outputs": []
    },
    {
      "metadata": {
        "id": "qgoVf-J-i2Kh",
        "colab_type": "text"
      },
      "cell_type": "markdown",
      "source": [
        "According to the error matrix above, using two separate groups in KNN will significantly improve model accuracy (column 3 and 4). However, for the purpose of compare model performance over all review groups, we will use the result of 'KNN on whole dataset' for comparison in the following plots."
      ]
    },
    {
      "metadata": {
        "id": "DZkbTtNxf-6a",
        "colab_type": "text"
      },
      "cell_type": "markdown",
      "source": [
        "### 3.2 Visualize"
      ]
    },
    {
      "metadata": {
        "id": "MpV5o72s6Ccx",
        "colab_type": "code",
        "colab": {}
      },
      "cell_type": "code",
      "source": [
        "# visualize\n",
        "x = [20, 30, 40, 50, 100, 200, 500, 1000, 2000, 6000]\n",
        "y_svd = svd_err['SVD'].values.tolist()\n",
        "y_nmf = nmf_err['NMF'].values.tolist()\n",
        "y_knn = knn_err['KNN'].values.tolist()\n",
        "\n",
        "plt.plot(x, y_svd, '.r-') \n",
        "plt.plot(x, y_nmf, '.b-') \n",
        "plt.plot(x, y_knn, '.g-') \n",
        "plt.legend(('SVD', 'NMF', 'KNN'), loc='upper right')\n",
        "\n",
        "plt.xlabel('number of reviews')\n",
        "plt.ylabel('test rmse')\n",
        "plt.title('Compare model performance over different # of reviews')\n",
        "\n",
        "plt.show()"
      ],
      "execution_count": 0,
      "outputs": []
    },
    {
      "metadata": {
        "id": "kDUJXH7agz0D",
        "colab_type": "text"
      },
      "cell_type": "markdown",
      "source": [
        "According to the plot above, *KNN* has the best performance for review_group (50, 2000], while *NMF* outperforms *KNN* when the number of reviews exceeds 2000. *SVD* seem to be the least favorite model among the three."
      ]
    },
    {
      "metadata": {
        "id": "aHnekAeGjwbx",
        "colab_type": "code",
        "colab": {}
      },
      "cell_type": "code",
      "source": [
        "# visualize: reviews 10-200\n",
        "\n",
        "x = [20, 30, 40, 50, 100, 200]\n",
        "y_svd = svd_err['SVD'].values.tolist()[:6]\n",
        "y_nmf = nmf_err['NMF'].values.tolist()[:6]\n",
        "y_knn = knn_err['KNN'].values.tolist()[:6]\n",
        "\n",
        "plt.plot(x, y_svd, '.r-') \n",
        "plt.plot(x, y_nmf, '.b-') \n",
        "plt.plot(x, y_knn, '.g-') \n",
        "plt.legend(('SVD', 'NMF', 'KNN'), loc='upper right')\n",
        "\n",
        "plt.xlabel('number of reviews')\n",
        "plt.ylabel('test rmse')\n",
        "plt.title('Compare model performance over different # of reviews (0~200)')\n",
        "\n",
        "plt.show()"
      ],
      "execution_count": 0,
      "outputs": []
    },
    {
      "metadata": {
        "id": "p6N9zw-ZhrB1",
        "colab_type": "text"
      },
      "cell_type": "markdown",
      "source": [
        "Using a zoom in view, we look at review_group between (10, 200). It becomes clear that *KNN* works the best after ~70 reviews but performs significantly poorly from (10, 70]. According to this plot, we are safe to say that *KNN* is not a good choice for cold start problem, i.e. number of reviews under 50."
      ]
    },
    {
      "metadata": {
        "id": "x3H3RezUfSTG",
        "colab_type": "text"
      },
      "cell_type": "markdown",
      "source": [
        "## Part 4: Example Recommendation\n",
        "We randomly choose 20 users from the whole dataset (2 from each review_group) to illustrate how our recommendation system works.\n"
      ]
    },
    {
      "metadata": {
        "id": "hIYtg9rTzF7u",
        "colab_type": "text"
      },
      "cell_type": "markdown",
      "source": [
        "#### 4.1 Choose 20 users"
      ]
    },
    {
      "metadata": {
        "id": "hAIshpPbfkry",
        "colab_type": "code",
        "colab": {
          "base_uri": "https://localhost:8080/",
          "height": 669
        },
        "outputId": "d643c18d-dcde-4695-fcfc-67d38d12349f"
      },
      "cell_type": "code",
      "source": [
        "user20 = svd_pred_df_s[['uid', 'review_group']].drop_duplicates('uid').sort_values(by='review_group')\n",
        "\n",
        "# first 10 users\n",
        "user10 = user20.drop_duplicates('review_group', keep='first')\n",
        "# 11-20 users\n",
        "user11 = user20.drop_duplicates('review_group',keep='last')\n",
        "# combine \n",
        "users = pd.concat([user10, user11], axis=0).sort_values(by='review_group')\n",
        "users"
      ],
      "execution_count": 52,
      "outputs": [
        {
          "output_type": "execute_result",
          "data": {
            "text/html": [
              "<div>\n",
              "<style scoped>\n",
              "    .dataframe tbody tr th:only-of-type {\n",
              "        vertical-align: middle;\n",
              "    }\n",
              "\n",
              "    .dataframe tbody tr th {\n",
              "        vertical-align: top;\n",
              "    }\n",
              "\n",
              "    .dataframe thead th {\n",
              "        text-align: right;\n",
              "    }\n",
              "</style>\n",
              "<table border=\"1\" class=\"dataframe\">\n",
              "  <thead>\n",
              "    <tr style=\"text-align: right;\">\n",
              "      <th></th>\n",
              "      <th>uid</th>\n",
              "      <th>review_group</th>\n",
              "    </tr>\n",
              "  </thead>\n",
              "  <tbody>\n",
              "    <tr>\n",
              "      <th>1369326</th>\n",
              "      <td>bronco94</td>\n",
              "      <td>11-20</td>\n",
              "    </tr>\n",
              "    <tr>\n",
              "      <th>33450</th>\n",
              "      <td>t8s8l8</td>\n",
              "      <td>11-20</td>\n",
              "    </tr>\n",
              "    <tr>\n",
              "      <th>678079</th>\n",
              "      <td>kkrez</td>\n",
              "      <td>21-30</td>\n",
              "    </tr>\n",
              "    <tr>\n",
              "      <th>1234027</th>\n",
              "      <td>SERENGETI</td>\n",
              "      <td>21-30</td>\n",
              "    </tr>\n",
              "    <tr>\n",
              "      <th>84785</th>\n",
              "      <td>uabigdaz</td>\n",
              "      <td>31-40</td>\n",
              "    </tr>\n",
              "    <tr>\n",
              "      <th>502602</th>\n",
              "      <td>dmbfrat420beers</td>\n",
              "      <td>31-40</td>\n",
              "    </tr>\n",
              "    <tr>\n",
              "      <th>178751</th>\n",
              "      <td>Graham21</td>\n",
              "      <td>41-50</td>\n",
              "    </tr>\n",
              "    <tr>\n",
              "      <th>1174034</th>\n",
              "      <td>Roderick</td>\n",
              "      <td>41-50</td>\n",
              "    </tr>\n",
              "    <tr>\n",
              "      <th>827969</th>\n",
              "      <td>linnet</td>\n",
              "      <td>51-100</td>\n",
              "    </tr>\n",
              "    <tr>\n",
              "      <th>315493</th>\n",
              "      <td>clarkm04</td>\n",
              "      <td>51-100</td>\n",
              "    </tr>\n",
              "    <tr>\n",
              "      <th>363541</th>\n",
              "      <td>nickynick</td>\n",
              "      <td>101-200</td>\n",
              "    </tr>\n",
              "    <tr>\n",
              "      <th>141801</th>\n",
              "      <td>jdoncbus</td>\n",
              "      <td>101-200</td>\n",
              "    </tr>\n",
              "    <tr>\n",
              "      <th>671132</th>\n",
              "      <td>cavedave</td>\n",
              "      <td>201-500</td>\n",
              "    </tr>\n",
              "    <tr>\n",
              "      <th>1089745</th>\n",
              "      <td>JohnnyDuvel</td>\n",
              "      <td>201-500</td>\n",
              "    </tr>\n",
              "    <tr>\n",
              "      <th>818002</th>\n",
              "      <td>craytonic</td>\n",
              "      <td>501-1000</td>\n",
              "    </tr>\n",
              "    <tr>\n",
              "      <th>820810</th>\n",
              "      <td>Phelps</td>\n",
              "      <td>501-1000</td>\n",
              "    </tr>\n",
              "    <tr>\n",
              "      <th>587785</th>\n",
              "      <td>rastaman</td>\n",
              "      <td>1001-2000</td>\n",
              "    </tr>\n",
              "    <tr>\n",
              "      <th>1270313</th>\n",
              "      <td>twiggamortis420</td>\n",
              "      <td>1001-2000</td>\n",
              "    </tr>\n",
              "    <tr>\n",
              "      <th>440767</th>\n",
              "      <td>mikesgroove</td>\n",
              "      <td>2001-6000</td>\n",
              "    </tr>\n",
              "    <tr>\n",
              "      <th>291754</th>\n",
              "      <td>weeare138</td>\n",
              "      <td>2001-6000</td>\n",
              "    </tr>\n",
              "  </tbody>\n",
              "</table>\n",
              "</div>"
            ],
            "text/plain": [
              "                     uid review_group\n",
              "1369326         bronco94        11-20\n",
              "33450             t8s8l8        11-20\n",
              "678079             kkrez        21-30\n",
              "1234027        SERENGETI        21-30\n",
              "84785           uabigdaz        31-40\n",
              "502602   dmbfrat420beers        31-40\n",
              "178751          Graham21        41-50\n",
              "1174034         Roderick        41-50\n",
              "827969            linnet       51-100\n",
              "315493          clarkm04       51-100\n",
              "363541         nickynick      101-200\n",
              "141801          jdoncbus      101-200\n",
              "671132          cavedave      201-500\n",
              "1089745      JohnnyDuvel      201-500\n",
              "818002         craytonic     501-1000\n",
              "820810            Phelps     501-1000\n",
              "587785          rastaman    1001-2000\n",
              "1270313  twiggamortis420    1001-2000\n",
              "440767       mikesgroove    2001-6000\n",
              "291754         weeare138    2001-6000"
            ]
          },
          "metadata": {
            "tags": []
          },
          "execution_count": 52
        }
      ]
    },
    {
      "metadata": {
        "id": "y0KS1NT5vugZ",
        "colab_type": "code",
        "colab": {
          "base_uri": "https://localhost:8080/",
          "height": 345
        },
        "outputId": "e8f8c929-14a7-413a-a34a-1f4962e86482"
      },
      "cell_type": "code",
      "source": [
        "user20_names = users.uid.tolist()\n",
        "user20_names"
      ],
      "execution_count": 57,
      "outputs": [
        {
          "output_type": "execute_result",
          "data": {
            "text/plain": [
              "['bronco94',\n",
              " 't8s8l8',\n",
              " 'kkrez',\n",
              " 'SERENGETI',\n",
              " 'uabigdaz',\n",
              " 'dmbfrat420beers',\n",
              " 'Graham21',\n",
              " 'Roderick',\n",
              " 'linnet',\n",
              " 'clarkm04',\n",
              " 'nickynick',\n",
              " 'jdoncbus',\n",
              " 'cavedave',\n",
              " 'JohnnyDuvel',\n",
              " 'craytonic',\n",
              " 'Phelps',\n",
              " 'rastaman',\n",
              " 'twiggamortis420',\n",
              " 'mikesgroove',\n",
              " 'weeare138']"
            ]
          },
          "metadata": {
            "tags": []
          },
          "execution_count": 57
        }
      ]
    },
    {
      "metadata": {
        "id": "i42cMM2zvipc",
        "colab_type": "text"
      },
      "cell_type": "markdown",
      "source": [
        "#### 4.2 extract their predictions from SVD"
      ]
    },
    {
      "metadata": {
        "id": "OyYBBxH6vhPN",
        "colab_type": "code",
        "colab": {}
      },
      "cell_type": "code",
      "source": [
        "# this is the SVD prediction (recommendations for each user)\n",
        "svd_pred_s"
      ],
      "execution_count": 0,
      "outputs": []
    },
    {
      "metadata": {
        "id": "Jix62KUWvq5I",
        "colab_type": "code",
        "colab": {}
      },
      "cell_type": "code",
      "source": [
        "# NMF prediction\n",
        "nmf_pred_s"
      ],
      "execution_count": 0,
      "outputs": []
    },
    {
      "metadata": {
        "id": "d82cBKQwvnth",
        "colab_type": "code",
        "colab": {}
      },
      "cell_type": "code",
      "source": [
        "# KNN prediction (if it runs through)\n",
        "knn_pred_df_s"
      ],
      "execution_count": 0,
      "outputs": []
    }
  ]
}