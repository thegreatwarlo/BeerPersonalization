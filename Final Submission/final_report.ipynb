{
  "nbformat": 4,
  "nbformat_minor": 0,
  "metadata": {
    "colab": {
      "name": "Personalisation Final Report.ipynb",
      "version": "0.3.2",
      "provenance": [],
      "collapsed_sections": [],
      "include_colab_link": true
    },
    "kernelspec": {
      "name": "python3",
      "display_name": "Python 3"
    },
    "accelerator": "GPU"
  },
  "cells": [
    {
      "cell_type": "markdown",
      "metadata": {
        "id": "view-in-github",
        "colab_type": "text"
      },
      "source": [
        "<a href=\"https://colab.research.google.com/github/ameyakarnad/BeerPersonalization/blob/master/Personalisation_Final_Report.ipynb\" target=\"_parent\"><img src=\"https://colab.research.google.com/assets/colab-badge.svg\" alt=\"Open In Colab\"/></a>"
      ]
    },
    {
      "metadata": {
        "id": "NfAiVolcpZvH",
        "colab_type": "text"
      },
      "cell_type": "markdown",
      "source": [
        "# Beer Recommendation\n",
        "Fall 2018, 4571 Recommendation System Final Project\n"
      ]
    },
    {
      "metadata": {
        "id": "wvkoRZf3dmea",
        "colab_type": "text"
      },
      "cell_type": "markdown",
      "source": [
        "##### Background\n",
        "For this project, we pretend to be an online craft beer retailer. We want to develop an algorithm to make purchase recommendations to our customers when they visit our website. The recommendations should be personalized based on the customer’s taste and preferences while helping customers discover new beers they have not tried before. We would be recommending each user up to **10 Unranked** recommended items each time they visit our website.\n"
      ]
    },
    {
      "metadata": {
        "id": "mGxWqybBdq0J",
        "colab_type": "text"
      },
      "cell_type": "markdown",
      "source": [
        "##### Challenges\n",
        "Our project will focus on tackling the following challenges\n",
        "- How can we build recommendations that take into account user preferences and taste?\n",
        "- How do we ensure that there is enough variety among the set of beers that are recommended during each user session?\n",
        "- How do we encourage users to explore beers/styles that they have not tried before - either because they are newly released items (not many reviews) or because they are a different type than the one usually consumed by the user? (serendipitous recommendations/novelty items)\n",
        "- How do we provide recommendations for users that just joined the service? (cold start problem)\n",
        "\n"
      ]
    },
    {
      "metadata": {
        "id": "_NCozKaod6F4",
        "colab_type": "text"
      },
      "cell_type": "markdown",
      "source": [
        "##### Project in Abstract\n",
        "- Exploratory Data Analysis of the beer data\n",
        "- Implementation and Comparision of  the performance of different algorithms among users/items with different number of reviews  (SVD , NMF, KNN and NLP Content based model(CBM))\n",
        "- Model Evaluation based on accuracy\n",
        "- Variety and Serendipity metrics and evaluation\n",
        "- Tackling the Cold Start Problem\n",
        "\n"
      ]
    },
    {
      "metadata": {
        "id": "nx77iX32dyG9",
        "colab_type": "text"
      },
      "cell_type": "markdown",
      "source": [
        "##### Approach\n",
        "\n",
        "\n",
        "Our recommendations will be based on a number of different approaches, each of them targeting to one of more business challenges\n",
        "- Collaborative filtering/model based methods (targeting challenge #1)\n",
        "- Popular items (#3, #4)\n",
        "- Item based features (#2, #3)\n",
        "- User Preferences (#4)\n",
        "\n",
        ".\n"
      ]
    },
    {
      "metadata": {
        "id": "FPaclL30eMJj",
        "colab_type": "text"
      },
      "cell_type": "markdown",
      "source": [
        "##### Data Source\n",
        "- Data source: the BeerAdvocate dataset of beer reviews \n",
        "- We pretend that the data represents reviews given by our user base after trying different beers. Each entry in the dataset includes information such as userID, beerID, ratings (aroma, appearance, overall, etc) from 1 to 5, and review text.\n"
      ]
    },
    {
      "metadata": {
        "id": "Mssd0ltK8JDx",
        "colab_type": "text"
      },
      "cell_type": "markdown",
      "source": [
        "## Part 1: Data Preprocessing"
      ]
    },
    {
      "metadata": {
        "id": "M2Ca1Bu7ybHf",
        "colab_type": "code",
        "outputId": "dfd01e4e-34dc-461f-c90a-9ca543a270df",
        "colab": {
          "base_uri": "https://localhost:8080/",
          "height": 106
        }
      },
      "cell_type": "code",
      "source": [
        "# based on Google Colab \n",
        "# python 3\n",
        "!pip install scikit-surprise"
      ],
      "execution_count": 1,
      "outputs": [
        {
          "output_type": "stream",
          "text": [
            "Requirement already satisfied: scikit-surprise in /usr/local/lib/python3.6/dist-packages (1.0.6)\n",
            "Requirement already satisfied: six>=1.10.0 in /usr/local/lib/python3.6/dist-packages (from scikit-surprise) (1.11.0)\n",
            "Requirement already satisfied: numpy>=1.11.2 in /usr/local/lib/python3.6/dist-packages (from scikit-surprise) (1.14.6)\n",
            "Requirement already satisfied: joblib>=0.11 in /usr/local/lib/python3.6/dist-packages (from scikit-surprise) (0.13.0)\n",
            "Requirement already satisfied: scipy>=1.0.0 in /usr/local/lib/python3.6/dist-packages (from scikit-surprise) (1.1.0)\n"
          ],
          "name": "stdout"
        }
      ]
    },
    {
      "metadata": {
        "id": "0UNJOz1iLEEz",
        "colab_type": "code",
        "colab": {}
      },
      "cell_type": "code",
      "source": [
        "import pandas as pd\n",
        "import numpy as np\n",
        "import os\n",
        "import itertools as it\n",
        "import matplotlib.pyplot as plt\n",
        "import matplotlib.pyplot as plt\n",
        "import gzip\n",
        "\n",
        "from sklearn.model_selection import train_test_split\n",
        "from matplotlib.ticker import FormatStrFormatter\n",
        "from surprise.model_selection import train_test_split\n",
        "from surprise import NMF, Reader, Dataset, SVD, NMF, accuracy, KNNWithMeans"
      ],
      "execution_count": 0,
      "outputs": []
    },
    {
      "metadata": {
        "id": "QneWL06UpaQk",
        "colab_type": "code",
        "outputId": "bc96b306-5ad1-4cb5-95bb-ae6a0ba47c42",
        "colab": {
          "base_uri": "https://localhost:8080/",
          "height": 35
        }
      },
      "cell_type": "code",
      "source": [
        "from google.colab import drive\n",
        "drive.mount('/content/gdrive')"
      ],
      "execution_count": 3,
      "outputs": [
        {
          "output_type": "stream",
          "text": [
            "Drive already mounted at /content/gdrive; to attempt to forcibly remount, call drive.mount(\"/content/gdrive\", force_remount=True).\n"
          ],
          "name": "stdout"
        }
      ]
    },
    {
      "metadata": {
        "id": "5apjyVYtwt1H",
        "colab_type": "text"
      },
      "cell_type": "markdown",
      "source": [
        "### 1.1 Load Data"
      ]
    },
    {
      "metadata": {
        "id": "VrCif9HWaZt2",
        "colab_type": "code",
        "colab": {}
      },
      "cell_type": "code",
      "source": [
        "# load metadata from Google Drive \n",
        "# save as a list\n",
        "with gzip.open('/content/gdrive/My Drive/Final Project/Beeradvocate.txt.gz', 'r') as f:\n",
        "  rb_file = f.readlines()\n",
        "data = []\n",
        "row_out = []\n",
        "\n",
        "for i in rb_file:\n",
        "    row = i.decode('utf-8', errors = 'replace')\n",
        "    #print(row)\n",
        "    if row == '\\n':\n",
        "      data.append(row_out)\n",
        "      row_out = []\n",
        "      continue\n",
        "    cat, field = row.split(\":\", 1)\n",
        "    #remove leading white spaces\n",
        "    field = field.rstrip()\n",
        "    row_out.append(field)"
      ],
      "execution_count": 0,
      "outputs": []
    },
    {
      "metadata": {
        "id": "Lsw0ncLmJrdH",
        "colab_type": "code",
        "colab": {}
      },
      "cell_type": "code",
      "source": [
        "# convert list to dataframe\n",
        "column_names = ['beer_name', 'beer_beerId', 'beer_brewer', 'beer_ABV', 'beer_style', \n",
        "                'review_appearance', 'review_aroma', 'review_palate', 'review_taste', \n",
        "                'review_overall', 'review_time', 'review_profileName', 'review_text']\n",
        "\n",
        "df = pd.DataFrame.from_records(data, columns=column_names)"
      ],
      "execution_count": 0,
      "outputs": []
    },
    {
      "metadata": {
        "id": "D7pe2FKQlAEl",
        "colab_type": "code",
        "outputId": "1c800c16-38ac-43f2-aa5e-d210ecba9863",
        "colab": {
          "base_uri": "https://localhost:8080/",
          "height": 337
        }
      },
      "cell_type": "code",
      "source": [
        "# descriptive \n",
        "df.info()"
      ],
      "execution_count": 6,
      "outputs": [
        {
          "output_type": "stream",
          "text": [
            "<class 'pandas.core.frame.DataFrame'>\n",
            "RangeIndex: 1586614 entries, 0 to 1586613\n",
            "Data columns (total 13 columns):\n",
            "beer_name             1586614 non-null object\n",
            "beer_beerId           1586614 non-null object\n",
            "beer_brewer           1586614 non-null object\n",
            "beer_ABV              1586614 non-null object\n",
            "beer_style            1586614 non-null object\n",
            "review_appearance     1586614 non-null object\n",
            "review_aroma          1586614 non-null object\n",
            "review_palate         1586614 non-null object\n",
            "review_taste          1586614 non-null object\n",
            "review_overall        1586614 non-null object\n",
            "review_time           1586614 non-null object\n",
            "review_profileName    1586614 non-null object\n",
            "review_text           1586614 non-null object\n",
            "dtypes: object(13)\n",
            "memory usage: 157.4+ MB\n"
          ],
          "name": "stdout"
        }
      ]
    },
    {
      "metadata": {
        "id": "jf_Sd4_WK7kl",
        "colab_type": "code",
        "outputId": "93e2ddd9-7b64-40c4-e688-4dc497398e5c",
        "colab": {
          "base_uri": "https://localhost:8080/",
          "height": 236
        }
      },
      "cell_type": "code",
      "source": [
        "df.head(3)"
      ],
      "execution_count": 7,
      "outputs": [
        {
          "output_type": "execute_result",
          "data": {
            "text/html": [
              "<div>\n",
              "<style scoped>\n",
              "    .dataframe tbody tr th:only-of-type {\n",
              "        vertical-align: middle;\n",
              "    }\n",
              "\n",
              "    .dataframe tbody tr th {\n",
              "        vertical-align: top;\n",
              "    }\n",
              "\n",
              "    .dataframe thead th {\n",
              "        text-align: right;\n",
              "    }\n",
              "</style>\n",
              "<table border=\"1\" class=\"dataframe\">\n",
              "  <thead>\n",
              "    <tr style=\"text-align: right;\">\n",
              "      <th></th>\n",
              "      <th>beer_name</th>\n",
              "      <th>beer_beerId</th>\n",
              "      <th>beer_brewer</th>\n",
              "      <th>beer_ABV</th>\n",
              "      <th>beer_style</th>\n",
              "      <th>review_appearance</th>\n",
              "      <th>review_aroma</th>\n",
              "      <th>review_palate</th>\n",
              "      <th>review_taste</th>\n",
              "      <th>review_overall</th>\n",
              "      <th>review_time</th>\n",
              "      <th>review_profileName</th>\n",
              "      <th>review_text</th>\n",
              "    </tr>\n",
              "  </thead>\n",
              "  <tbody>\n",
              "    <tr>\n",
              "      <th>0</th>\n",
              "      <td>Sausa Weizen</td>\n",
              "      <td>47986</td>\n",
              "      <td>10325</td>\n",
              "      <td>5.00</td>\n",
              "      <td>Hefeweizen</td>\n",
              "      <td>2.5</td>\n",
              "      <td>2</td>\n",
              "      <td>1.5</td>\n",
              "      <td>1.5</td>\n",
              "      <td>1.5</td>\n",
              "      <td>1234817823</td>\n",
              "      <td>stcules</td>\n",
              "      <td>A lot of foam. But a lot.\\tIn the smell some ...</td>\n",
              "    </tr>\n",
              "    <tr>\n",
              "      <th>1</th>\n",
              "      <td>Red Moon</td>\n",
              "      <td>48213</td>\n",
              "      <td>10325</td>\n",
              "      <td>6.20</td>\n",
              "      <td>English Strong Ale</td>\n",
              "      <td>3</td>\n",
              "      <td>2.5</td>\n",
              "      <td>3</td>\n",
              "      <td>3</td>\n",
              "      <td>3</td>\n",
              "      <td>1235915097</td>\n",
              "      <td>stcules</td>\n",
              "      <td>Dark red color, light beige foam, average.\\tI...</td>\n",
              "    </tr>\n",
              "    <tr>\n",
              "      <th>2</th>\n",
              "      <td>Black Horse Black Beer</td>\n",
              "      <td>48215</td>\n",
              "      <td>10325</td>\n",
              "      <td>6.50</td>\n",
              "      <td>Foreign / Export Stout</td>\n",
              "      <td>3</td>\n",
              "      <td>2.5</td>\n",
              "      <td>3</td>\n",
              "      <td>3</td>\n",
              "      <td>3</td>\n",
              "      <td>1235916604</td>\n",
              "      <td>stcules</td>\n",
              "      <td>Almost totally black. Beige foam, quite compa...</td>\n",
              "    </tr>\n",
              "  </tbody>\n",
              "</table>\n",
              "</div>"
            ],
            "text/plain": [
              "                 beer_name beer_beerId beer_brewer beer_ABV  \\\n",
              "0             Sausa Weizen       47986       10325     5.00   \n",
              "1                 Red Moon       48213       10325     6.20   \n",
              "2   Black Horse Black Beer       48215       10325     6.50   \n",
              "\n",
              "                beer_style review_appearance review_aroma review_palate  \\\n",
              "0               Hefeweizen               2.5            2           1.5   \n",
              "1       English Strong Ale                 3          2.5             3   \n",
              "2   Foreign / Export Stout                 3          2.5             3   \n",
              "\n",
              "  review_taste review_overall  review_time review_profileName  \\\n",
              "0          1.5            1.5   1234817823            stcules   \n",
              "1            3              3   1235915097            stcules   \n",
              "2            3              3   1235916604            stcules   \n",
              "\n",
              "                                         review_text  \n",
              "0   A lot of foam. But a lot.\\tIn the smell some ...  \n",
              "1   Dark red color, light beige foam, average.\\tI...  \n",
              "2   Almost totally black. Beige foam, quite compa...  "
            ]
          },
          "metadata": {
            "tags": []
          },
          "execution_count": 7
        }
      ]
    },
    {
      "metadata": {
        "id": "smNuxKZYjdW1",
        "colab_type": "code",
        "outputId": "2b2ac64a-0123-4b66-9408-d819d8280b32",
        "colab": {
          "base_uri": "https://localhost:8080/",
          "height": 88
        }
      },
      "cell_type": "code",
      "source": [
        "print('The full dataset includes:')\n",
        "print('%d unique beers;' % df.beer_beerId.nunique())\n",
        "print('%d unique users;' % df.review_profileName.nunique())\n",
        "print('and %d reviews in total.' % df.shape[0])"
      ],
      "execution_count": 8,
      "outputs": [
        {
          "output_type": "stream",
          "text": [
            "The full dataset includes:\n",
            "66055 unique beers;\n",
            "33388 unique users;\n",
            "and 1586614 reviews in total.\n"
          ],
          "name": "stdout"
        }
      ]
    },
    {
      "metadata": {
        "id": "p43O38umy4Y2",
        "colab_type": "text"
      },
      "cell_type": "markdown",
      "source": [
        "### 1.2 Exploratory Data Analysis"
      ]
    },
    {
      "metadata": {
        "id": "rPigP-ls6UEN",
        "colab_type": "text"
      },
      "cell_type": "markdown",
      "source": [
        "#### EDA with respect to users"
      ]
    },
    {
      "metadata": {
        "id": "Qt57koiXy7nw",
        "colab_type": "code",
        "colab": {}
      },
      "cell_type": "code",
      "source": [
        "num_review_byuser = df.review_profileName.value_counts()\n",
        "freq_list_user = np.array(list(dict(num_review_byuser).values()))"
      ],
      "execution_count": 0,
      "outputs": []
    },
    {
      "metadata": {
        "id": "hLlMub79L2Au",
        "colab_type": "code",
        "outputId": "f01a9205-438b-48be-f589-220b5875913d",
        "colab": {
          "base_uri": "https://localhost:8080/",
          "height": 265
        }
      },
      "cell_type": "code",
      "source": [
        "plt.figure(figsize=(14, 4))\n",
        "plt.hist(freq_list_user, bins=300)\n",
        "plt.show()"
      ],
      "execution_count": 10,
      "outputs": [
        {
          "output_type": "display_data",
          "data": {
            "image/png": "[encoded data removed]",
            "text/plain": [
              "<matplotlib.figure.Figure at 0x7fc4342f0128>"
            ]
          },
          "metadata": {
            "tags": []
          }
        }
      ]
    },
    {
      "metadata": {
        "id": "WGifsVmBy8GW",
        "colab_type": "code",
        "outputId": "d7dd124a-0bd0-4aac-a79d-1928a57f3b90",
        "colab": {
          "base_uri": "https://localhost:8080/",
          "height": 294
        }
      },
      "cell_type": "code",
      "source": [
        "user5more = freq_list_user[np.where(freq_list_user >= 300)]\n",
        "user5less = freq_list_user[np.where(freq_list_user < 300)]\n",
        "\n",
        "plt.figure(figsize=(14, 4))\n",
        "\n",
        "plt.subplot(121)\n",
        "plt.hist(user5less, bins=30)\n",
        "plt.title('# of users (with Less than 300 reviews)')\n",
        "plt.xlabel('# of reviews')\n",
        "plt.axhline(y=1000, color='r', linestyle='-')\n",
        "\n",
        "plt.subplot(122)\n",
        "plt.hist(user5more, bins=300)\n",
        "plt.title('# of users (with More than 300 reviews)')\n",
        "plt.xlabel('# of reviews')\n",
        "\n",
        "plt.show()"
      ],
      "execution_count": 11,
      "outputs": [
        {
          "output_type": "display_data",
          "data": {
            "image/png": "[encoded data removed]",
            "text/plain": [
              "<matplotlib.figure.Figure at 0x7fc434207f60>"
            ]
          },
          "metadata": {
            "tags": []
          }
        }
      ]
    },
    {
      "metadata": {
        "id": "njLY-TDOLD0B",
        "colab_type": "text"
      },
      "cell_type": "markdown",
      "source": [
        "We have 33388 unique users, among them ~28000 users have less than 30 reviews."
      ]
    },
    {
      "metadata": {
        "id": "QTjzagZ86V_L",
        "colab_type": "text"
      },
      "cell_type": "markdown",
      "source": [
        "#### EDA wirth respect to Beers"
      ]
    },
    {
      "metadata": {
        "id": "E1llGa_Y6Zkr",
        "colab_type": "code",
        "colab": {}
      },
      "cell_type": "code",
      "source": [
        "num_review_bybeer = df.beer_name.value_counts()\n",
        "freq_list_beer = np.array(list(dict(num_review_bybeer).values()))"
      ],
      "execution_count": 0,
      "outputs": []
    },
    {
      "metadata": {
        "id": "ddXjZ0dh6sFZ",
        "colab_type": "code",
        "outputId": "04f6dde1-c3ae-4d37-9c21-3d1c4bd741c2",
        "colab": {
          "base_uri": "https://localhost:8080/",
          "height": 294
        }
      },
      "cell_type": "code",
      "source": [
        "beer5more = freq_list_beer[np.where(freq_list_beer >= 200)]\n",
        "beer5less = freq_list_beer[np.where(freq_list_beer < 200)]\n",
        "\n",
        "plt.figure(figsize=(14, 4))\n",
        "\n",
        "plt.subplot(121)\n",
        "plt.hist(beer5less, bins=40)\n",
        "plt.title('histogram of beer with Less than 200 reviews')\n",
        "plt.xlabel('# of reviews')\n",
        "plt.axhline(y=1200, color='r', linestyle='-')\n",
        "\n",
        "plt.subplot(122)\n",
        "plt.hist(beer5more, bins=300)\n",
        "plt.title('histogram of beer with More than 200 reviews')\n",
        "plt.xlabel('# of reviews')\n",
        "\n",
        "plt.show()"
      ],
      "execution_count": 13,
      "outputs": [
        {
          "output_type": "display_data",
          "data": {
            "image/png": "[encoded data removed]",
            "text/plain": [
              "<matplotlib.figure.Figure at 0x7fc4e8337128>"
            ]
          },
          "metadata": {
            "tags": []
          }
        }
      ]
    },
    {
      "metadata": {
        "id": "DneoL1w4ncSk",
        "colab_type": "text"
      },
      "cell_type": "markdown",
      "source": [
        "### 1.3 Subset from Metadata"
      ]
    },
    {
      "metadata": {
        "id": "4w89UnKGn6tp",
        "colab_type": "code",
        "outputId": "1e9e3bf1-73e2-4968-96fe-6eaabaa2b444",
        "colab": {
          "base_uri": "https://localhost:8080/",
          "height": 70
        }
      },
      "cell_type": "code",
      "source": [
        "# subset data for collabrotive filtering\n",
        "df1 = df[['beer_name', 'beer_beerId', 'review_profileName', 'review_overall', 'review_time']]\n",
        "print('Original data size: %s' % str(df1.shape)) \n",
        "\n",
        "# remove NA \n",
        "df1 = df1[pd.notnull(df1.beer_name) & pd.notnull(df1.review_profileName) & pd.notnull(df1.review_overall)]\n",
        "# remove blanks\n",
        "df1 = df1.loc[df1.review_profileName != '']\n",
        "df1 = df1.loc[df1.beer_name != '']\n",
        "df1 = df1.loc[df1.review_overall != '']\n",
        "print('After removing NAs and blanks: %s' % str(df1.shape)) \n",
        "\n",
        "# drop duplicate (beer&user) pairs, keep the latest rating\n",
        "df1['beer_user_pair'] = df1.beer_name + df1.review_profileName\n",
        "df1 = df1.sort_values(by=['review_time'], ascending=False).drop_duplicates(subset=['beer_user_pair'])\n",
        "print('After drop duplicate user-item pairs (only keep the latest rating), data size: %s' % str(df1.shape))\n",
        "\n",
        "# convert review ratings to numberic\n",
        "df1.review_overall = pd.to_numeric(df1.review_overall)"
      ],
      "execution_count": 14,
      "outputs": [
        {
          "output_type": "stream",
          "text": [
            "Original data size: (1586614, 5)\n",
            "After removing NAs and blanks: (1586266, 5)\n",
            "After drop duplicate user-item pairs (only keep the latest rating), data size: (1561405, 6)\n"
          ],
          "name": "stdout"
        }
      ]
    },
    {
      "metadata": {
        "id": "StxaZXa96OhD",
        "colab_type": "code",
        "outputId": "2a8be514-dfde-491f-edd4-e5748e2f9742",
        "colab": {
          "base_uri": "https://localhost:8080/",
          "height": 135
        }
      },
      "cell_type": "code",
      "source": [
        "df1.head(3)"
      ],
      "execution_count": 15,
      "outputs": [
        {
          "output_type": "execute_result",
          "data": {
            "text/html": [
              "<div>\n",
              "<style scoped>\n",
              "    .dataframe tbody tr th:only-of-type {\n",
              "        vertical-align: middle;\n",
              "    }\n",
              "\n",
              "    .dataframe tbody tr th {\n",
              "        vertical-align: top;\n",
              "    }\n",
              "\n",
              "    .dataframe thead th {\n",
              "        text-align: right;\n",
              "    }\n",
              "</style>\n",
              "<table border=\"1\" class=\"dataframe\">\n",
              "  <thead>\n",
              "    <tr style=\"text-align: right;\">\n",
              "      <th></th>\n",
              "      <th>beer_name</th>\n",
              "      <th>beer_beerId</th>\n",
              "      <th>review_profileName</th>\n",
              "      <th>review_overall</th>\n",
              "      <th>review_time</th>\n",
              "      <th>beer_user_pair</th>\n",
              "    </tr>\n",
              "  </thead>\n",
              "  <tbody>\n",
              "    <tr>\n",
              "      <th>581215</th>\n",
              "      <td>Pete's Wicked Strawberry Blonde</td>\n",
              "      <td>381</td>\n",
              "      <td>bk3nj</td>\n",
              "      <td>3.0</td>\n",
              "      <td>999999652</td>\n",
              "      <td>Pete's Wicked Strawberry Blonde bk3nj</td>\n",
              "    </tr>\n",
              "    <tr>\n",
              "      <th>1023623</th>\n",
              "      <td>Fiji Bitter</td>\n",
              "      <td>1480</td>\n",
              "      <td>Mark</td>\n",
              "      <td>4.0</td>\n",
              "      <td>999980551</td>\n",
              "      <td>Fiji Bitter Mark</td>\n",
              "    </tr>\n",
              "    <tr>\n",
              "      <th>1077899</th>\n",
              "      <td>Wolaver's India Pale Ale</td>\n",
              "      <td>399</td>\n",
              "      <td>bcm119</td>\n",
              "      <td>3.5</td>\n",
              "      <td>999903142</td>\n",
              "      <td>Wolaver's India Pale Ale bcm119</td>\n",
              "    </tr>\n",
              "  </tbody>\n",
              "</table>\n",
              "</div>"
            ],
            "text/plain": [
              "                                beer_name beer_beerId review_profileName  \\\n",
              "581215    Pete's Wicked Strawberry Blonde         381              bk3nj   \n",
              "1023623                       Fiji Bitter        1480               Mark   \n",
              "1077899          Wolaver's India Pale Ale         399             bcm119   \n",
              "\n",
              "         review_overall review_time                          beer_user_pair  \n",
              "581215              3.0   999999652   Pete's Wicked Strawberry Blonde bk3nj  \n",
              "1023623             4.0   999980551                        Fiji Bitter Mark  \n",
              "1077899             3.5   999903142         Wolaver's India Pale Ale bcm119  "
            ]
          },
          "metadata": {
            "tags": []
          },
          "execution_count": 15
        }
      ]
    },
    {
      "metadata": {
        "id": "m9Ht9Sa-OX_U",
        "colab_type": "text"
      },
      "cell_type": "markdown",
      "source": [
        "#### Subset and remove users with less than 10 reviews and beers with less than 5 reviews"
      ]
    },
    {
      "metadata": {
        "id": "0Jk6lij9ErZN",
        "colab_type": "code",
        "outputId": "c16c65b0-5b09-42f2-ff5d-2127bca833c5",
        "colab": {
          "base_uri": "https://localhost:8080/",
          "height": 230
        }
      },
      "cell_type": "code",
      "source": [
        "# subset three columns\n",
        "cf = df1[['review_profileName', 'beer_name', 'review_overall']]\n",
        "\n",
        "# sort user by # of reviews\n",
        "cnt_user = dict(num_review_byuser)\n",
        "cf['user_freq'] = [cnt_user.get(x) for x in cf.review_profileName]\n",
        "\n",
        "# sort beer by # of reviews\n",
        "cnt_beer = dict(num_review_bybeer)\n",
        "cf['beer_freq'] = [cnt_beer.get(x) for x in cf.beer_name]\n",
        "\n",
        "# drop users with less than 10 reviews\n",
        "# drop beers with less than 5 reviews\n",
        "cf = cf.loc[cf.user_freq > 10]\n",
        "cf = cf.loc[cf.beer_freq > 5]"
      ],
      "execution_count": 16,
      "outputs": [
        {
          "output_type": "stream",
          "text": [
            "/usr/local/lib/python3.6/dist-packages/ipykernel_launcher.py:5: SettingWithCopyWarning: \n",
            "A value is trying to be set on a copy of a slice from a DataFrame.\n",
            "Try using .loc[row_indexer,col_indexer] = value instead\n",
            "\n",
            "See the caveats in the documentation: http://pandas.pydata.org/pandas-docs/stable/indexing.html#indexing-view-versus-copy\n",
            "  \"\"\"\n",
            "/usr/local/lib/python3.6/dist-packages/ipykernel_launcher.py:9: SettingWithCopyWarning: \n",
            "A value is trying to be set on a copy of a slice from a DataFrame.\n",
            "Try using .loc[row_indexer,col_indexer] = value instead\n",
            "\n",
            "See the caveats in the documentation: http://pandas.pydata.org/pandas-docs/stable/indexing.html#indexing-view-versus-copy\n",
            "  if __name__ == '__main__':\n"
          ],
          "name": "stderr"
        }
      ]
    },
    {
      "metadata": {
        "id": "FozoopjYKOrC",
        "colab_type": "code",
        "outputId": "1903f6d0-f745-4b14-a0d9-e834cc53c477",
        "colab": {
          "base_uri": "https://localhost:8080/",
          "height": 88
        }
      },
      "cell_type": "code",
      "source": [
        "print('After removing bottom users and beers,')\n",
        "print('%d unique beers;' % cf.beer_name.nunique())\n",
        "print('%d unique users;' % cf.review_profileName.nunique())\n",
        "print('and %d reviews in total.' % cf.shape[0])"
      ],
      "execution_count": 17,
      "outputs": [
        {
          "output_type": "stream",
          "text": [
            "After removing bottom users and beers,\n",
            "18925 unique beers;\n",
            "10189 unique users;\n",
            "and 1423856 reviews in total.\n"
          ],
          "name": "stdout"
        }
      ]
    },
    {
      "metadata": {
        "id": "coPrQ4D9JlmU",
        "colab_type": "code",
        "outputId": "2f92a834-2b07-4dd9-e0d7-ae92786a9dbe",
        "colab": {
          "base_uri": "https://localhost:8080/",
          "height": 135
        }
      },
      "cell_type": "code",
      "source": [
        "cf.head(3)"
      ],
      "execution_count": 18,
      "outputs": [
        {
          "output_type": "execute_result",
          "data": {
            "text/html": [
              "<div>\n",
              "<style scoped>\n",
              "    .dataframe tbody tr th:only-of-type {\n",
              "        vertical-align: middle;\n",
              "    }\n",
              "\n",
              "    .dataframe tbody tr th {\n",
              "        vertical-align: top;\n",
              "    }\n",
              "\n",
              "    .dataframe thead th {\n",
              "        text-align: right;\n",
              "    }\n",
              "</style>\n",
              "<table border=\"1\" class=\"dataframe\">\n",
              "  <thead>\n",
              "    <tr style=\"text-align: right;\">\n",
              "      <th></th>\n",
              "      <th>review_profileName</th>\n",
              "      <th>beer_name</th>\n",
              "      <th>review_overall</th>\n",
              "      <th>user_freq</th>\n",
              "      <th>beer_freq</th>\n",
              "    </tr>\n",
              "  </thead>\n",
              "  <tbody>\n",
              "    <tr>\n",
              "      <th>581215</th>\n",
              "      <td>bk3nj</td>\n",
              "      <td>Pete's Wicked Strawberry Blonde</td>\n",
              "      <td>3.0</td>\n",
              "      <td>45</td>\n",
              "      <td>298</td>\n",
              "    </tr>\n",
              "    <tr>\n",
              "      <th>1023623</th>\n",
              "      <td>Mark</td>\n",
              "      <td>Fiji Bitter</td>\n",
              "      <td>4.0</td>\n",
              "      <td>532</td>\n",
              "      <td>8</td>\n",
              "    </tr>\n",
              "    <tr>\n",
              "      <th>1077899</th>\n",
              "      <td>bcm119</td>\n",
              "      <td>Wolaver's India Pale Ale</td>\n",
              "      <td>3.5</td>\n",
              "      <td>175</td>\n",
              "      <td>257</td>\n",
              "    </tr>\n",
              "  </tbody>\n",
              "</table>\n",
              "</div>"
            ],
            "text/plain": [
              "        review_profileName                         beer_name  review_overall  \\\n",
              "581215               bk3nj   Pete's Wicked Strawberry Blonde             3.0   \n",
              "1023623               Mark                       Fiji Bitter             4.0   \n",
              "1077899             bcm119          Wolaver's India Pale Ale             3.5   \n",
              "\n",
              "         user_freq  beer_freq  \n",
              "581215          45        298  \n",
              "1023623        532          8  \n",
              "1077899        175        257  "
            ]
          },
          "metadata": {
            "tags": []
          },
          "execution_count": 18
        }
      ]
    },
    {
      "metadata": {
        "id": "blk5sjcwKiPh",
        "colab_type": "code",
        "outputId": "6f16cdd4-1c6b-4100-a0d6-59631b3697e6",
        "colab": {
          "base_uri": "https://localhost:8080/",
          "height": 389
        }
      },
      "cell_type": "code",
      "source": [
        "# user \n",
        "freq = cf.review_profileName.value_counts()\n",
        "freq = np.array(list(dict(freq).values()))\n",
        "\n",
        "plt.figure(figsize=(14, 6))\n",
        "plt.subplot(121)\n",
        "plt.boxplot(freq, 0, 'rs', 0)\n",
        "plt.title('# of reviews for each user')\n",
        "\n",
        "plt.subplot(122)\n",
        "plt.hist(freq, bins=400)\n",
        "\n",
        "plt.show()"
      ],
      "execution_count": 19,
      "outputs": [
        {
          "output_type": "display_data",
          "data": {
            "image/png": "[encoded data removed]",
            "text/plain": [
              "<matplotlib.figure.Figure at 0x7fc434277588>"
            ]
          },
          "metadata": {
            "tags": []
          }
        }
      ]
    },
    {
      "metadata": {
        "id": "1HOYWMt-OExk",
        "colab_type": "code",
        "outputId": "ac0b29b5-e6c7-407a-bab5-c7762a12126e",
        "colab": {
          "base_uri": "https://localhost:8080/",
          "height": 389
        }
      },
      "cell_type": "code",
      "source": [
        "# beer\n",
        "freqb = cf.beer_name.value_counts()\n",
        "freqb = np.array(list(dict(freqb).values()))\n",
        "\n",
        "plt.figure(figsize=(14, 6))\n",
        "plt.subplot(121)\n",
        "plt.boxplot(freqb, 0, 'rs', 0)\n",
        "plt.title('# of reviews for each beer')\n",
        "\n",
        "plt.subplot(122)\n",
        "plt.hist(freqb, bins=250)\n",
        "\n",
        "plt.show()"
      ],
      "execution_count": 20,
      "outputs": [
        {
          "output_type": "display_data",
          "data": {
            "image/png": "[encoded data removed]",
            "text/plain": [
              "<matplotlib.figure.Figure at 0x7fc434294b00>"
            ]
          },
          "metadata": {
            "tags": []
          }
        }
      ]
    },
    {
      "metadata": {
        "id": "u0cr1LlnOSd8",
        "colab_type": "text"
      },
      "cell_type": "markdown",
      "source": [
        "#### split into two groups\n",
        "- users with more than 100 reviews;\n",
        "- users with less than 100 reviews."
      ]
    },
    {
      "metadata": {
        "id": "d_36fdtMCcNo",
        "colab_type": "code",
        "outputId": "625e9237-7856-4b1e-d2e8-94cc3257ae17",
        "colab": {
          "base_uri": "https://localhost:8080/",
          "height": 194
        }
      },
      "cell_type": "code",
      "source": [
        "# split into two groups\n",
        "threshold = 100\n",
        "\n",
        "more = cf.loc[cf.user_freq > threshold]\n",
        "less = cf.loc[cf.user_freq <= threshold]\n",
        "\n",
        "more.head()"
      ],
      "execution_count": 21,
      "outputs": [
        {
          "output_type": "execute_result",
          "data": {
            "text/html": [
              "<div>\n",
              "<style scoped>\n",
              "    .dataframe tbody tr th:only-of-type {\n",
              "        vertical-align: middle;\n",
              "    }\n",
              "\n",
              "    .dataframe tbody tr th {\n",
              "        vertical-align: top;\n",
              "    }\n",
              "\n",
              "    .dataframe thead th {\n",
              "        text-align: right;\n",
              "    }\n",
              "</style>\n",
              "<table border=\"1\" class=\"dataframe\">\n",
              "  <thead>\n",
              "    <tr style=\"text-align: right;\">\n",
              "      <th></th>\n",
              "      <th>review_profileName</th>\n",
              "      <th>beer_name</th>\n",
              "      <th>review_overall</th>\n",
              "      <th>user_freq</th>\n",
              "      <th>beer_freq</th>\n",
              "    </tr>\n",
              "  </thead>\n",
              "  <tbody>\n",
              "    <tr>\n",
              "      <th>1023623</th>\n",
              "      <td>Mark</td>\n",
              "      <td>Fiji Bitter</td>\n",
              "      <td>4.0</td>\n",
              "      <td>532</td>\n",
              "      <td>8</td>\n",
              "    </tr>\n",
              "    <tr>\n",
              "      <th>1077899</th>\n",
              "      <td>bcm119</td>\n",
              "      <td>Wolaver's India Pale Ale</td>\n",
              "      <td>3.5</td>\n",
              "      <td>175</td>\n",
              "      <td>257</td>\n",
              "    </tr>\n",
              "    <tr>\n",
              "      <th>797362</th>\n",
              "      <td>Jason</td>\n",
              "      <td>Lindemans Framboise</td>\n",
              "      <td>3.5</td>\n",
              "      <td>2350</td>\n",
              "      <td>903</td>\n",
              "    </tr>\n",
              "    <tr>\n",
              "      <th>808675</th>\n",
              "      <td>Jason</td>\n",
              "      <td>Chapeau Framboise Lambic</td>\n",
              "      <td>4.0</td>\n",
              "      <td>2350</td>\n",
              "      <td>44</td>\n",
              "    </tr>\n",
              "    <tr>\n",
              "      <th>961766</th>\n",
              "      <td>Jason</td>\n",
              "      <td>Dooryard Ale</td>\n",
              "      <td>3.0</td>\n",
              "      <td>2350</td>\n",
              "      <td>13</td>\n",
              "    </tr>\n",
              "  </tbody>\n",
              "</table>\n",
              "</div>"
            ],
            "text/plain": [
              "        review_profileName                  beer_name  review_overall  \\\n",
              "1023623               Mark                Fiji Bitter             4.0   \n",
              "1077899             bcm119   Wolaver's India Pale Ale             3.5   \n",
              "797362               Jason        Lindemans Framboise             3.5   \n",
              "808675               Jason   Chapeau Framboise Lambic             4.0   \n",
              "961766               Jason               Dooryard Ale             3.0   \n",
              "\n",
              "         user_freq  beer_freq  \n",
              "1023623        532          8  \n",
              "1077899        175        257  \n",
              "797362        2350        903  \n",
              "808675        2350         44  \n",
              "961766        2350         13  "
            ]
          },
          "metadata": {
            "tags": []
          },
          "execution_count": 21
        }
      ]
    },
    {
      "metadata": {
        "id": "gB63pBeQW33K",
        "colab_type": "code",
        "outputId": "8f4649dc-2190-4346-9d36-c9567c85b02a",
        "colab": {
          "base_uri": "https://localhost:8080/",
          "height": 420
        }
      },
      "cell_type": "code",
      "source": [
        "# visualize two groups\n",
        "print('group > %d has the size: %s' % (threshold, str(more.shape)))\n",
        "\n",
        "freqm = more.review_profileName.value_counts()\n",
        "freqm = np.array(list(dict(freqm).values()))\n",
        "\n",
        "plt.figure(figsize=(14, 6))\n",
        "plt.subplot(121)\n",
        "plt.boxplot(freqm, 0, 'rs', 0)\n",
        "plt.title('# of reviews for each user (more than 50 reviews)')\n",
        "\n",
        "plt.subplot(122)\n",
        "plt.hist(freqm, bins=200)\n",
        "plt.ylabel('# of users')\n",
        "plt.xlabel('# of reviews')\n",
        "plt.show()"
      ],
      "execution_count": 22,
      "outputs": [
        {
          "output_type": "stream",
          "text": [
            "group > 100 has the size: (1186781, 5)\n"
          ],
          "name": "stdout"
        },
        {
          "output_type": "display_data",
          "data": {
            "image/png": "[encoded data removed]",
            "text/plain": [
              "<matplotlib.figure.Figure at 0x7fc427e497f0>"
            ]
          },
          "metadata": {
            "tags": []
          }
        }
      ]
    },
    {
      "metadata": {
        "id": "s7jWO3jrXGbi",
        "colab_type": "code",
        "outputId": "9a322367-f394-46cc-bad3-c207f7f2f05e",
        "colab": {
          "base_uri": "https://localhost:8080/",
          "height": 420
        }
      },
      "cell_type": "code",
      "source": [
        "# visualize two groups\n",
        "print('group <= %d has the size: %s' % (threshold, str(less.shape)))\n",
        "\n",
        "freql = less.review_profileName.value_counts()\n",
        "freql = np.array(list(dict(freql).values()))\n",
        "\n",
        "plt.figure(figsize=(14, 6))\n",
        "plt.subplot(121)\n",
        "plt.boxplot(freql, 0, 'rs', 0)\n",
        "plt.title('# of reviews for each user (less than 50 reviews)')\n",
        "\n",
        "plt.subplot(122)\n",
        "plt.hist(freql, bins=100)\n",
        "plt.ylabel('# of users')\n",
        "plt.xlabel('# of reviews')\n",
        "plt.show()"
      ],
      "execution_count": 23,
      "outputs": [
        {
          "output_type": "stream",
          "text": [
            "group <= 100 has the size: (237075, 5)\n"
          ],
          "name": "stdout"
        },
        {
          "output_type": "display_data",
          "data": {
            "image/png": "[encoded data removed]",
            "text/plain": [
              "<matplotlib.figure.Figure at 0x7fc4312f2438>"
            ]
          },
          "metadata": {
            "tags": []
          }
        }
      ]
    },
    {
      "metadata": {
        "id": "Tl4y9c11PZvj",
        "colab_type": "text"
      },
      "cell_type": "markdown",
      "source": [
        "## Part 2: Prediction Models\n",
        "\n",
        "We will be comparing the different Prediction models which we tried. The models are \n",
        "\n",
        "- SVD \n",
        "- NMF\n",
        "- K nearest neighbours (user based)\n",
        "- Content based \n",
        "\n",
        "\n"
      ]
    },
    {
      "metadata": {
        "id": "lzEzf4tYs3qP",
        "colab_type": "text"
      },
      "cell_type": "markdown",
      "source": [
        "We will look at only the overview of the models in this report. The implementations of each of the models will be in seperate files. We will be discussing the results here\n",
        "\n",
        "Matrix Factorisation (SVD and NMF) https://github.com/ds-personalization/final-project-4571-beer-recommendation/blob/master/Final%20Report/Models/Matrix_Factorisation.ipynb\n",
        "\n",
        "K nearest neighbours (User based) : https://github.com/ds-personalization/final-project-4571-beer-recommendation/blob/master/Final%20Report/Models/KNN.ipynb\n",
        "\n",
        "Content based : https://github.com/ds-personalization/final-project-4571-beer-recommendation/blob/master/Final%20Report/Models/Content_based.ipynb \n",
        "\n"
      ]
    },
    {
      "metadata": {
        "id": "Cj7FnVas9NnC",
        "colab_type": "text"
      },
      "cell_type": "markdown",
      "source": [
        "We also tried to run the KNN item-based \n",
        "\n",
        "- Execution failed during runtime twice\n",
        "- User-based collabrative filtering takes up 12GB+ RAM, reached the limits of Colab and led to kernel crach every time."
      ]
    },
    {
      "metadata": {
        "id": "oc4gpLRZwEKL",
        "colab_type": "text"
      },
      "cell_type": "markdown",
      "source": [
        "## Part 3: Model Comparison"
      ]
    },
    {
      "metadata": {
        "id": "3zf5PhgKuYo1",
        "colab_type": "code",
        "colab": {}
      },
      "cell_type": "code",
      "source": [
        "import pickle\n",
        "\n",
        "\n",
        "\n",
        "svd_pred_df_s = pickle.load(open(\"/content/gdrive/My Drive/Final Project/svd_rec.sav\", 'rb'))\n",
        "nmf_pred_df_s = pickle.load(open(\"/content/gdrive/My Drive/Final Project/nmf_rec.sav\", 'rb'))\n",
        "knn_pred_df_s = pickle.load(open(\"/content/gdrive/My Drive/Final Project/knn_rec.sav\", 'rb'))\n"
      ],
      "execution_count": 0,
      "outputs": []
    },
    {
      "metadata": {
        "id": "DrBXjwJgf3iP",
        "colab_type": "text"
      },
      "cell_type": "markdown",
      "source": [
        "### 3.1 Summarize model performance\n",
        "(RMSE for each review_group)"
      ]
    },
    {
      "metadata": {
        "id": "-vAMuELLK4rw",
        "colab_type": "code",
        "colab": {}
      },
      "cell_type": "code",
      "source": [
        "# define function to get group prediction error\n",
        "def error_bygroup(pred_df, model_name):\n",
        "  \"\"\"\n",
        "  input complete pred_error df\n",
        "  output pred_error by group\n",
        "  \"\"\"\n",
        "  # cut into groups\n",
        "  bins = [10, 20, 30, 40, 50, 100, 200, 500, 1000, 2000, 6000]\n",
        "  labels = ['11-20', '21-30', '31-40', '41-50', '51-100', '101-200', \n",
        "            '201-500', '501-1000', '1001-2000', '2001-6000']\n",
        "  \n",
        "  # add group label\n",
        "  pred_df['review_group'] = pd.cut(pred_df['user_freq'], bins = bins, labels = labels)\n",
        "  \n",
        "  # calculate group mean\n",
        "  pred_df = pred_df.groupby('review_group').mean()\n",
        "  \n",
        "  # rename the error column\n",
        "  #pred_df['err'].columns = model_name\n",
        "  pred_df = pred_df.rename(columns = {'err':model_name})\n",
        "  return pred_df"
      ],
      "execution_count": 0,
      "outputs": []
    },
    {
      "metadata": {
        "id": "hnlezxZfwHPM",
        "colab_type": "code",
        "colab": {}
      },
      "cell_type": "code",
      "source": [
        "# get prediction error\n",
        "#knn_pred_df = pd.concat([pred_more_df, pred_less_df])\n",
        "svd_err = error_bygroup(svd_pred_df_s, 'SVD')\n",
        "nmf_err = error_bygroup(nmf_pred_df_s, 'NMF')"
      ],
      "execution_count": 0,
      "outputs": []
    },
    {
      "metadata": {
        "id": "qWLe6uw5vWZX",
        "colab_type": "code",
        "colab": {}
      },
      "cell_type": "code",
      "source": [
        "knn_err = error_bygroup(knn_pred_df_s, 'KNN')"
      ],
      "execution_count": 0,
      "outputs": []
    },
    {
      "metadata": {
        "id": "kwuOdNv0M4Sb",
        "colab_type": "code",
        "outputId": "71346230-91a7-4fdb-b5e9-e430b9cf303a",
        "colab": {
          "base_uri": "https://localhost:8080/",
          "height": 370
        }
      },
      "cell_type": "code",
      "source": [
        "svd_err"
      ],
      "execution_count": 28,
      "outputs": [
        {
          "output_type": "execute_result",
          "data": {
            "text/html": [
              "<div>\n",
              "<style scoped>\n",
              "    .dataframe tbody tr th:only-of-type {\n",
              "        vertical-align: middle;\n",
              "    }\n",
              "\n",
              "    .dataframe tbody tr th {\n",
              "        vertical-align: top;\n",
              "    }\n",
              "\n",
              "    .dataframe thead th {\n",
              "        text-align: right;\n",
              "    }\n",
              "</style>\n",
              "<table border=\"1\" class=\"dataframe\">\n",
              "  <thead>\n",
              "    <tr style=\"text-align: right;\">\n",
              "      <th></th>\n",
              "      <th>rui</th>\n",
              "      <th>est</th>\n",
              "      <th>Iu</th>\n",
              "      <th>Ui</th>\n",
              "      <th>SVD</th>\n",
              "      <th>user_freq</th>\n",
              "    </tr>\n",
              "    <tr>\n",
              "      <th>review_group</th>\n",
              "      <th></th>\n",
              "      <th></th>\n",
              "      <th></th>\n",
              "      <th></th>\n",
              "      <th></th>\n",
              "      <th></th>\n",
              "    </tr>\n",
              "  </thead>\n",
              "  <tbody>\n",
              "    <tr>\n",
              "      <th>11-20</th>\n",
              "      <td>3.875504</td>\n",
              "      <td>3.868761</td>\n",
              "      <td>10.068082</td>\n",
              "      <td>485.776423</td>\n",
              "      <td>0.484421</td>\n",
              "      <td>15.274066</td>\n",
              "    </tr>\n",
              "    <tr>\n",
              "      <th>21-30</th>\n",
              "      <td>3.867082</td>\n",
              "      <td>3.863895</td>\n",
              "      <td>16.407537</td>\n",
              "      <td>478.374874</td>\n",
              "      <td>0.472094</td>\n",
              "      <td>25.161061</td>\n",
              "    </tr>\n",
              "    <tr>\n",
              "      <th>31-40</th>\n",
              "      <td>3.872003</td>\n",
              "      <td>3.870671</td>\n",
              "      <td>22.848575</td>\n",
              "      <td>477.709515</td>\n",
              "      <td>0.451166</td>\n",
              "      <td>35.311755</td>\n",
              "    </tr>\n",
              "    <tr>\n",
              "      <th>41-50</th>\n",
              "      <td>3.852469</td>\n",
              "      <td>3.853949</td>\n",
              "      <td>29.627264</td>\n",
              "      <td>470.578429</td>\n",
              "      <td>0.454234</td>\n",
              "      <td>45.462693</td>\n",
              "    </tr>\n",
              "    <tr>\n",
              "      <th>51-100</th>\n",
              "      <td>3.861756</td>\n",
              "      <td>3.860684</td>\n",
              "      <td>48.916687</td>\n",
              "      <td>464.865502</td>\n",
              "      <td>0.440030</td>\n",
              "      <td>74.981601</td>\n",
              "    </tr>\n",
              "    <tr>\n",
              "      <th>101-200</th>\n",
              "      <td>3.847559</td>\n",
              "      <td>3.844390</td>\n",
              "      <td>96.137930</td>\n",
              "      <td>439.218147</td>\n",
              "      <td>0.428652</td>\n",
              "      <td>148.602393</td>\n",
              "    </tr>\n",
              "    <tr>\n",
              "      <th>201-500</th>\n",
              "      <td>3.821546</td>\n",
              "      <td>3.821411</td>\n",
              "      <td>216.369919</td>\n",
              "      <td>385.854022</td>\n",
              "      <td>0.425635</td>\n",
              "      <td>337.693397</td>\n",
              "    </tr>\n",
              "    <tr>\n",
              "      <th>501-1000</th>\n",
              "      <td>3.800954</td>\n",
              "      <td>3.801270</td>\n",
              "      <td>455.263834</td>\n",
              "      <td>322.808590</td>\n",
              "      <td>0.415642</td>\n",
              "      <td>723.963372</td>\n",
              "    </tr>\n",
              "    <tr>\n",
              "      <th>1001-2000</th>\n",
              "      <td>3.771005</td>\n",
              "      <td>3.769498</td>\n",
              "      <td>856.767886</td>\n",
              "      <td>250.636647</td>\n",
              "      <td>0.430694</td>\n",
              "      <td>1424.637358</td>\n",
              "    </tr>\n",
              "    <tr>\n",
              "      <th>2001-6000</th>\n",
              "      <td>3.801186</td>\n",
              "      <td>3.788904</td>\n",
              "      <td>1721.766190</td>\n",
              "      <td>195.734786</td>\n",
              "      <td>0.392274</td>\n",
              "      <td>2917.756961</td>\n",
              "    </tr>\n",
              "  </tbody>\n",
              "</table>\n",
              "</div>"
            ],
            "text/plain": [
              "                   rui       est           Iu          Ui       SVD  \\\n",
              "review_group                                                          \n",
              "11-20         3.875504  3.868761    10.068082  485.776423  0.484421   \n",
              "21-30         3.867082  3.863895    16.407537  478.374874  0.472094   \n",
              "31-40         3.872003  3.870671    22.848575  477.709515  0.451166   \n",
              "41-50         3.852469  3.853949    29.627264  470.578429  0.454234   \n",
              "51-100        3.861756  3.860684    48.916687  464.865502  0.440030   \n",
              "101-200       3.847559  3.844390    96.137930  439.218147  0.428652   \n",
              "201-500       3.821546  3.821411   216.369919  385.854022  0.425635   \n",
              "501-1000      3.800954  3.801270   455.263834  322.808590  0.415642   \n",
              "1001-2000     3.771005  3.769498   856.767886  250.636647  0.430694   \n",
              "2001-6000     3.801186  3.788904  1721.766190  195.734786  0.392274   \n",
              "\n",
              "                user_freq  \n",
              "review_group               \n",
              "11-20           15.274066  \n",
              "21-30           25.161061  \n",
              "31-40           35.311755  \n",
              "41-50           45.462693  \n",
              "51-100          74.981601  \n",
              "101-200        148.602393  \n",
              "201-500        337.693397  \n",
              "501-1000       723.963372  \n",
              "1001-2000     1424.637358  \n",
              "2001-6000     2917.756961  "
            ]
          },
          "metadata": {
            "tags": []
          },
          "execution_count": 28
        }
      ]
    },
    {
      "metadata": {
        "id": "1f7yezfz5vtL",
        "colab_type": "code",
        "outputId": "55530fd2-08bc-4c71-cbf6-6aaa889ccf3c",
        "colab": {
          "base_uri": "https://localhost:8080/",
          "height": 370
        }
      },
      "cell_type": "code",
      "source": [
        "# combine three models\n",
        "final = pd.concat([svd_err['SVD'], nmf_err['NMF'], knn_err['KNN'], \n",
        "                   knn_err['KNN']], axis=1)\n",
        "final"
      ],
      "execution_count": 29,
      "outputs": [
        {
          "output_type": "execute_result",
          "data": {
            "text/html": [
              "<div>\n",
              "<style scoped>\n",
              "    .dataframe tbody tr th:only-of-type {\n",
              "        vertical-align: middle;\n",
              "    }\n",
              "\n",
              "    .dataframe tbody tr th {\n",
              "        vertical-align: top;\n",
              "    }\n",
              "\n",
              "    .dataframe thead th {\n",
              "        text-align: right;\n",
              "    }\n",
              "</style>\n",
              "<table border=\"1\" class=\"dataframe\">\n",
              "  <thead>\n",
              "    <tr style=\"text-align: right;\">\n",
              "      <th></th>\n",
              "      <th>SVD</th>\n",
              "      <th>NMF</th>\n",
              "      <th>KNN</th>\n",
              "      <th>KNN</th>\n",
              "    </tr>\n",
              "    <tr>\n",
              "      <th>review_group</th>\n",
              "      <th></th>\n",
              "      <th></th>\n",
              "      <th></th>\n",
              "      <th></th>\n",
              "    </tr>\n",
              "  </thead>\n",
              "  <tbody>\n",
              "    <tr>\n",
              "      <th>11-20</th>\n",
              "      <td>0.484421</td>\n",
              "      <td>0.558552</td>\n",
              "      <td>0.563693</td>\n",
              "      <td>0.563693</td>\n",
              "    </tr>\n",
              "    <tr>\n",
              "      <th>21-30</th>\n",
              "      <td>0.472094</td>\n",
              "      <td>0.526362</td>\n",
              "      <td>0.520058</td>\n",
              "      <td>0.520058</td>\n",
              "    </tr>\n",
              "    <tr>\n",
              "      <th>31-40</th>\n",
              "      <td>0.451166</td>\n",
              "      <td>0.495892</td>\n",
              "      <td>0.461373</td>\n",
              "      <td>0.461373</td>\n",
              "    </tr>\n",
              "    <tr>\n",
              "      <th>41-50</th>\n",
              "      <td>0.454234</td>\n",
              "      <td>0.491685</td>\n",
              "      <td>0.448833</td>\n",
              "      <td>0.448833</td>\n",
              "    </tr>\n",
              "    <tr>\n",
              "      <th>51-100</th>\n",
              "      <td>0.440030</td>\n",
              "      <td>0.473972</td>\n",
              "      <td>0.421911</td>\n",
              "      <td>0.421911</td>\n",
              "    </tr>\n",
              "    <tr>\n",
              "      <th>101-200</th>\n",
              "      <td>0.428652</td>\n",
              "      <td>0.454293</td>\n",
              "      <td>0.406928</td>\n",
              "      <td>0.406928</td>\n",
              "    </tr>\n",
              "    <tr>\n",
              "      <th>201-500</th>\n",
              "      <td>0.425635</td>\n",
              "      <td>0.446872</td>\n",
              "      <td>0.406592</td>\n",
              "      <td>0.406592</td>\n",
              "    </tr>\n",
              "    <tr>\n",
              "      <th>501-1000</th>\n",
              "      <td>0.415642</td>\n",
              "      <td>0.433712</td>\n",
              "      <td>0.398894</td>\n",
              "      <td>0.398894</td>\n",
              "    </tr>\n",
              "    <tr>\n",
              "      <th>1001-2000</th>\n",
              "      <td>0.430694</td>\n",
              "      <td>0.450645</td>\n",
              "      <td>0.421365</td>\n",
              "      <td>0.421365</td>\n",
              "    </tr>\n",
              "    <tr>\n",
              "      <th>2001-6000</th>\n",
              "      <td>0.392274</td>\n",
              "      <td>0.406849</td>\n",
              "      <td>0.385197</td>\n",
              "      <td>0.385197</td>\n",
              "    </tr>\n",
              "  </tbody>\n",
              "</table>\n",
              "</div>"
            ],
            "text/plain": [
              "                   SVD       NMF       KNN       KNN\n",
              "review_group                                        \n",
              "11-20         0.484421  0.558552  0.563693  0.563693\n",
              "21-30         0.472094  0.526362  0.520058  0.520058\n",
              "31-40         0.451166  0.495892  0.461373  0.461373\n",
              "41-50         0.454234  0.491685  0.448833  0.448833\n",
              "51-100        0.440030  0.473972  0.421911  0.421911\n",
              "101-200       0.428652  0.454293  0.406928  0.406928\n",
              "201-500       0.425635  0.446872  0.406592  0.406592\n",
              "501-1000      0.415642  0.433712  0.398894  0.398894\n",
              "1001-2000     0.430694  0.450645  0.421365  0.421365\n",
              "2001-6000     0.392274  0.406849  0.385197  0.385197"
            ]
          },
          "metadata": {
            "tags": []
          },
          "execution_count": 29
        }
      ]
    },
    {
      "metadata": {
        "id": "qgoVf-J-i2Kh",
        "colab_type": "text"
      },
      "cell_type": "markdown",
      "source": [
        "According to the error matrix above, using two separate groups in KNN will significantly improve model accuracy (column 3 and 4). However, for the purpose of compare model performance over all review groups, we will use the result of 'KNN on whole dataset' for comparison in the following plots."
      ]
    },
    {
      "metadata": {
        "id": "DZkbTtNxf-6a",
        "colab_type": "text"
      },
      "cell_type": "markdown",
      "source": [
        "### 3.2 Visualize"
      ]
    },
    {
      "metadata": {
        "id": "MpV5o72s6Ccx",
        "colab_type": "code",
        "outputId": "47722f42-444a-4047-c91f-eb3f2a33f83e",
        "colab": {
          "base_uri": "https://localhost:8080/",
          "height": 376
        }
      },
      "cell_type": "code",
      "source": [
        "# visualize\n",
        "x = [20, 30, 40, 50, 100, 200, 500, 1000, 2000, 6000]\n",
        "y_svd = svd_err['SVD'].values.tolist()\n",
        "y_nmf = nmf_err['NMF'].values.tolist()\n",
        "y_knn = knn_err['KNN'].values.tolist()\n",
        "\n",
        "plt.plot(x, y_svd, '.r-') \n",
        "plt.plot(x, y_nmf, '.b-') \n",
        "plt.plot(x, y_knn, '.g-') \n",
        "plt.legend(('SVD', 'NMF', 'KNN'), loc='upper right')\n",
        "\n",
        "plt.xlabel('number of reviews')\n",
        "plt.ylabel('test rmse')\n",
        "plt.title('Compare model performance over different # of reviews')\n",
        "\n",
        "plt.show()"
      ],
      "execution_count": 30,
      "outputs": [
        {
          "output_type": "display_data",
          "data": {
            "image/png": "[encoded data removed]",
            "text/plain": [
              "<matplotlib.figure.Figure at 0x7fc3e1be69b0>"
            ]
          },
          "metadata": {
            "tags": []
          }
        }
      ]
    },
    {
      "metadata": {
        "id": "kDUJXH7agz0D",
        "colab_type": "text"
      },
      "cell_type": "markdown",
      "source": [
        "According to the plot above, it looks like *KNN* outperforms the other models for reviews greater than 50, we will need to have a closer look"
      ]
    },
    {
      "metadata": {
        "id": "aHnekAeGjwbx",
        "colab_type": "code",
        "outputId": "6cb92ecf-883c-46c0-dc9f-4b82b613ac4b",
        "colab": {
          "base_uri": "https://localhost:8080/",
          "height": 376
        }
      },
      "cell_type": "code",
      "source": [
        "# visualize: reviews 10-200\n",
        "\n",
        "x = [20, 30, 40, 50, 100, 200]\n",
        "y_svd = svd_err['SVD'].values.tolist()[:6]\n",
        "y_nmf = nmf_err['NMF'].values.tolist()[:6]\n",
        "y_knn = knn_err['KNN'].values.tolist()[:6]\n",
        "\n",
        "plt.plot(x, y_svd, '.r-') \n",
        "plt.plot(x, y_nmf, '.b-') \n",
        "plt.plot(x, y_knn, '.g-') \n",
        "plt.legend(('SVD', 'NMF', 'KNN'), loc='upper right')\n",
        "\n",
        "plt.xlabel('number of reviews')\n",
        "plt.ylabel('test rmse')\n",
        "plt.title('Compare model performance over different # of reviews (0~200)')\n",
        "\n",
        "plt.show()"
      ],
      "execution_count": 31,
      "outputs": [
        {
          "output_type": "display_data",
          "data": {
            "image/png": "[encoded data removed]",
            "text/plain": [
              "<matplotlib.figure.Figure at 0x7fc3e1c06da0>"
            ]
          },
          "metadata": {
            "tags": []
          }
        }
      ]
    },
    {
      "metadata": {
        "id": "p6N9zw-ZhrB1",
        "colab_type": "text"
      },
      "cell_type": "markdown",
      "source": [
        "Using a zoom in view, we look at review_group between (10, 200). It becomes clear that *KNN* works the best after ~70 reviews but performs significantly poorly from (10, 70]. According to this plot, we are safe to say that *KNN* is not a good choice for cold start problem, i.e. number of reviews under 30.\n",
        "\n",
        "None of the models seem to give good accurate results for number of reviews less than 30. So we think that its better to opt for the cold start popularity based recommendations for users with less than **30** reviews\n"
      ]
    },
    {
      "metadata": {
        "id": "x3H3RezUfSTG",
        "colab_type": "text"
      },
      "cell_type": "markdown",
      "source": [
        "## Part 4: Sample Recommendation\n",
        "We randomly choose 20 users from the whole dataset (2 from each review_group) to illustrate how our recommendation system works.\n"
      ]
    },
    {
      "metadata": {
        "id": "hIYtg9rTzF7u",
        "colab_type": "text"
      },
      "cell_type": "markdown",
      "source": [
        "#### 4.1 Choose 20 users"
      ]
    },
    {
      "metadata": {
        "id": "hAIshpPbfkry",
        "colab_type": "code",
        "outputId": "27a00ffb-7b01-46f4-fb21-83bf193aa806",
        "colab": {
          "base_uri": "https://localhost:8080/",
          "height": 634
        }
      },
      "cell_type": "code",
      "source": [
        "user20 = svd_pred_df_s[['uid', 'review_group']].drop_duplicates('uid').sort_values(by='review_group')\n",
        "\n",
        "# first 10 users\n",
        "user10 = user20.drop_duplicates('review_group', keep='first')\n",
        "# 11-20 users\n",
        "user11 = user20.drop_duplicates('review_group',keep='last')\n",
        "# combine \n",
        "users = pd.concat([user10, user11], axis=0).sort_values(by='review_group')\n",
        "users"
      ],
      "execution_count": 32,
      "outputs": [
        {
          "output_type": "execute_result",
          "data": {
            "text/html": [
              "<div>\n",
              "<style scoped>\n",
              "    .dataframe tbody tr th:only-of-type {\n",
              "        vertical-align: middle;\n",
              "    }\n",
              "\n",
              "    .dataframe tbody tr th {\n",
              "        vertical-align: top;\n",
              "    }\n",
              "\n",
              "    .dataframe thead th {\n",
              "        text-align: right;\n",
              "    }\n",
              "</style>\n",
              "<table border=\"1\" class=\"dataframe\">\n",
              "  <thead>\n",
              "    <tr style=\"text-align: right;\">\n",
              "      <th></th>\n",
              "      <th>uid</th>\n",
              "      <th>review_group</th>\n",
              "    </tr>\n",
              "  </thead>\n",
              "  <tbody>\n",
              "    <tr>\n",
              "      <th>299057</th>\n",
              "      <td>bronco94</td>\n",
              "      <td>11-20</td>\n",
              "    </tr>\n",
              "    <tr>\n",
              "      <th>1350623</th>\n",
              "      <td>t8s8l8</td>\n",
              "      <td>11-20</td>\n",
              "    </tr>\n",
              "    <tr>\n",
              "      <th>471469</th>\n",
              "      <td>kkrez</td>\n",
              "      <td>21-30</td>\n",
              "    </tr>\n",
              "    <tr>\n",
              "      <th>227940</th>\n",
              "      <td>SERENGETI</td>\n",
              "      <td>21-30</td>\n",
              "    </tr>\n",
              "    <tr>\n",
              "      <th>760795</th>\n",
              "      <td>uabigdaz</td>\n",
              "      <td>31-40</td>\n",
              "    </tr>\n",
              "    <tr>\n",
              "      <th>1363754</th>\n",
              "      <td>dmbfrat420beers</td>\n",
              "      <td>31-40</td>\n",
              "    </tr>\n",
              "    <tr>\n",
              "      <th>865826</th>\n",
              "      <td>Graham21</td>\n",
              "      <td>41-50</td>\n",
              "    </tr>\n",
              "    <tr>\n",
              "      <th>371378</th>\n",
              "      <td>Roderick</td>\n",
              "      <td>41-50</td>\n",
              "    </tr>\n",
              "    <tr>\n",
              "      <th>1125490</th>\n",
              "      <td>linnet</td>\n",
              "      <td>51-100</td>\n",
              "    </tr>\n",
              "    <tr>\n",
              "      <th>467864</th>\n",
              "      <td>clarkm04</td>\n",
              "      <td>51-100</td>\n",
              "    </tr>\n",
              "    <tr>\n",
              "      <th>946616</th>\n",
              "      <td>nickynick</td>\n",
              "      <td>101-200</td>\n",
              "    </tr>\n",
              "    <tr>\n",
              "      <th>384937</th>\n",
              "      <td>jdoncbus</td>\n",
              "      <td>101-200</td>\n",
              "    </tr>\n",
              "    <tr>\n",
              "      <th>429665</th>\n",
              "      <td>cavedave</td>\n",
              "      <td>201-500</td>\n",
              "    </tr>\n",
              "    <tr>\n",
              "      <th>1004201</th>\n",
              "      <td>JohnnyDuvel</td>\n",
              "      <td>201-500</td>\n",
              "    </tr>\n",
              "    <tr>\n",
              "      <th>408443</th>\n",
              "      <td>craytonic</td>\n",
              "      <td>501-1000</td>\n",
              "    </tr>\n",
              "    <tr>\n",
              "      <th>933944</th>\n",
              "      <td>Phelps</td>\n",
              "      <td>501-1000</td>\n",
              "    </tr>\n",
              "    <tr>\n",
              "      <th>621003</th>\n",
              "      <td>rastaman</td>\n",
              "      <td>1001-2000</td>\n",
              "    </tr>\n",
              "    <tr>\n",
              "      <th>628013</th>\n",
              "      <td>twiggamortis420</td>\n",
              "      <td>1001-2000</td>\n",
              "    </tr>\n",
              "    <tr>\n",
              "      <th>1097899</th>\n",
              "      <td>mikesgroove</td>\n",
              "      <td>2001-6000</td>\n",
              "    </tr>\n",
              "    <tr>\n",
              "      <th>490522</th>\n",
              "      <td>weeare138</td>\n",
              "      <td>2001-6000</td>\n",
              "    </tr>\n",
              "  </tbody>\n",
              "</table>\n",
              "</div>"
            ],
            "text/plain": [
              "                      uid review_group\n",
              "299057           bronco94        11-20\n",
              "1350623            t8s8l8        11-20\n",
              "471469              kkrez        21-30\n",
              "227940          SERENGETI        21-30\n",
              "760795           uabigdaz        31-40\n",
              "1363754   dmbfrat420beers        31-40\n",
              "865826           Graham21        41-50\n",
              "371378           Roderick        41-50\n",
              "1125490            linnet       51-100\n",
              "467864           clarkm04       51-100\n",
              "946616          nickynick      101-200\n",
              "384937           jdoncbus      101-200\n",
              "429665           cavedave      201-500\n",
              "1004201       JohnnyDuvel      201-500\n",
              "408443          craytonic     501-1000\n",
              "933944             Phelps     501-1000\n",
              "621003           rastaman    1001-2000\n",
              "628013    twiggamortis420    1001-2000\n",
              "1097899       mikesgroove    2001-6000\n",
              "490522          weeare138    2001-6000"
            ]
          },
          "metadata": {
            "tags": []
          },
          "execution_count": 32
        }
      ]
    },
    {
      "metadata": {
        "id": "y0KS1NT5vugZ",
        "colab_type": "code",
        "outputId": "512c63d5-ac84-44ba-ae06-710a864fc57b",
        "colab": {
          "base_uri": "https://localhost:8080/",
          "height": 372
        }
      },
      "cell_type": "code",
      "source": [
        "user20_names = users.uid.tolist()\n",
        "user20_names"
      ],
      "execution_count": 33,
      "outputs": [
        {
          "output_type": "execute_result",
          "data": {
            "text/plain": [
              "[' bronco94',\n",
              " ' t8s8l8',\n",
              " ' kkrez',\n",
              " ' SERENGETI',\n",
              " ' uabigdaz',\n",
              " ' dmbfrat420beers',\n",
              " ' Graham21',\n",
              " ' Roderick',\n",
              " ' linnet',\n",
              " ' clarkm04',\n",
              " ' nickynick',\n",
              " ' jdoncbus',\n",
              " ' cavedave',\n",
              " ' JohnnyDuvel',\n",
              " ' craytonic',\n",
              " ' Phelps',\n",
              " ' rastaman',\n",
              " ' twiggamortis420',\n",
              " ' mikesgroove',\n",
              " ' weeare138']"
            ]
          },
          "metadata": {
            "tags": []
          },
          "execution_count": 33
        }
      ]
    },
    {
      "metadata": {
        "id": "i42cMM2zvipc",
        "colab_type": "text"
      },
      "cell_type": "markdown",
      "source": [
        "#### 4.2 Extract their predictions from SVD, NMF KNN and Content based"
      ]
    },
    {
      "metadata": {
        "id": "OyYBBxH6vhPN",
        "colab_type": "code",
        "colab": {}
      },
      "cell_type": "code",
      "source": [
        "from collections import defaultdict\n",
        "\n",
        "## SVD\n",
        "top_10_svd = defaultdict(list)\n",
        "\n",
        "for user in user20_names:\n",
        "    temp = svd_pred_df_s[svd_pred_df_s[\"uid\"] == user]\n",
        "    for index, row in temp.iterrows():\n",
        "        if user not in top_10_svd:\n",
        "            top_10_svd[user] = []\n",
        "        top_10_svd[user].append((row[\"iid\"], row[\"est\"]))\n",
        "\n",
        "for uid, user_ratings in top_10_svd.items():\n",
        "    user_ratings.sort(key=lambda x: x[1], reverse=True)\n",
        "    top_10_svd[uid] = user_ratings[:10]\n",
        "\n",
        "## NMF\n",
        "top_10_nmf = defaultdict(list)\n",
        "\n",
        "for user in user20_names:\n",
        "    temp = nmf_pred_df_s[nmf_pred_df_s[\"uid\"] == user]\n",
        "    for index, row in temp.iterrows():\n",
        "        if user not in top_10_nmf:\n",
        "            top_10_nmf[user] = []\n",
        "        top_10_nmf[user].append((row[\"iid\"], row[\"est\"]))\n",
        "\n",
        "for uid, user_ratings in top_10_nmf.items():\n",
        "    user_ratings.sort(key=lambda x: x[1], reverse=True)\n",
        "    top_10_nmf[uid] = user_ratings[:10]\n",
        "          \n",
        "          \n",
        "## knn\n",
        "top_10_knn = defaultdict(list)\n",
        "\n",
        "for user in user20_names:\n",
        "    temp = knn_pred_df_s[knn_pred_df_s[\"uid\"] == user.lstrip()]\n",
        "    for index, row in temp.iterrows():\n",
        "        if user not in top_10_knn:\n",
        "            top_10_knn[user] = []\n",
        "        top_10_knn[user].append((\" \" + row[\"iid\"], row[\"est\"]))\n",
        "\n",
        "for uid, user_ratings in top_10_knn.items():\n",
        "    user_ratings.sort(key=lambda x: x[1], reverse=True)\n",
        "    top_10_knn[uid] = user_ratings[:10]\n",
        "          \n",
        "                \n",
        "top_10_cbm = pickle.load(open(\"/content/gdrive/My Drive/Final Project/text_recs.sav\", 'rb'))\n",
        "\n",
        "   "
      ],
      "execution_count": 0,
      "outputs": []
    },
    {
      "metadata": {
        "id": "xAmuiQBv3kkX",
        "colab_type": "text"
      },
      "cell_type": "markdown",
      "source": [
        "The top 10 recomendation were calculate for SVD, NMF and KNN in the previous step while the for content model, it was calculated in the final step of https://github.com/ds-personalization/final-project-4571-beer-recommendation/blob/master/Final%20Report/Models/Content_based.ipynb and stored"
      ]
    },
    {
      "metadata": {
        "id": "gEdi4pAVBCLS",
        "colab_type": "text"
      },
      "cell_type": "markdown",
      "source": [
        "## Part 5 : Variety and Serendipity\n",
        "\n",
        "For the beer recomendation project, we decided to not only focus on the accuracy metric, but also look at other key metrics scuh as variety and serendipity. \n",
        "\n",
        "- Variety in recommendation is the variety of different beer that you recommend to the user.\n",
        "- Serendipity in recommendation are ones that are surprising to the user.\n",
        "\n",
        "We looked at different papers than tried to solve this problem or even prescribed a metric to evaluate this.  Ziegler, McNee et. al described a metric called as the 'intra-list similarity' in their paper titled \"Improving Recommendation Lists Through\n",
        "Topic Diversification\" \n",
        "link : http://www2.informatik.uni-freiburg.de/~cziegler/papers/WWW-05-CR.pdf which compares items recommended\n",
        "\n",
        "For beer recomendation, the similarity between 2 beer is checked by looking at their beer types. If the beer type of both beers being compared are same, then no score is provided. If they are not same, then the score increases\n",
        "\n",
        "- For Variety, we look at the intralist similarity as suggested by the paper. A total of 45 comparisons are made between all the 10 recomended items. The score lies between 0 and 1 and the higher the score, the more variety in the recomendations.\n",
        "\n",
        "- The Serendipity is calculated  using a interlist similarity. The 10 recomended items are compared to all the items consumed by the user till date and a metric similar to the intralist similarity is derieved. The score lies between 0 and 1 and the higher the score, the more serendipidy in the recomendations.\n",
        "\n",
        "As the metrics calculation is time comsuming, we will look at the 20 users that were picked in the previous section"
      ]
    },
    {
      "metadata": {
        "id": "d82cBKQwvnth",
        "colab_type": "code",
        "colab": {}
      },
      "cell_type": "code",
      "source": [
        "# Variety High score, high variety \n",
        "\n",
        "def intra_list_rating(name, recom_list):\n",
        "    variety = 0 \n",
        "    for i in range(len(recom_list)):\n",
        "        for j in range(i+1, len(recom_list)):\n",
        "            if list(set(df[df['beer_name'] == recom_list[i][0]]['beer_style'])) != list(set(df[df['beer_name'] == recom_list[j][0]][\"beer_style\"])):\n",
        "                variety = variety + 1\n",
        "    count = len(recom_list)\n",
        "    return variety/(count* (count-1) /2)\n",
        "\n",
        "\n",
        "#Serendipity, High score, High Serendpity\n",
        "\n",
        "def inter_list_rating(name, recom_list):\n",
        "    serendipidy = 0 \n",
        "    consumed = list(set(df[df['review_profileName'] == name]['beer_style']))\n",
        "    for beer in consumed:\n",
        "        for item in recom_list:\n",
        "            if list(set(df[df['beer_name'] == item[0]]['beer_style']))[0] != beer:\n",
        "                serendipidy = serendipidy + 1\n",
        "    \n",
        "    return serendipidy/(len(recom_list) * len(consumed))\n",
        "  \n",
        "\n",
        "def get_average_serendipidy(model_list):\n",
        "  average = 0\n",
        "  for user in model_list:\n",
        "    average = average + inter_list_rating(user,model_list[user])\n",
        "  average = average/20\n",
        "  return average\n",
        "\n",
        "\n",
        "\n",
        "def get_average_variety(model_list):\n",
        "  average = 0\n",
        "  for user in model_list:\n",
        "    average = average + intra_list_rating(user,model_list[user])\n",
        "  average = average/20\n",
        "  return average\n",
        "  \n",
        " "
      ],
      "execution_count": 0,
      "outputs": []
    },
    {
      "metadata": {
        "id": "Inz8v0FxNn6w",
        "colab_type": "text"
      },
      "cell_type": "markdown",
      "source": [
        "### Variety\n",
        "\n",
        "Let consider the Variety score for all four models.  "
      ]
    },
    {
      "metadata": {
        "id": "dcwa8DMmBuL6",
        "colab_type": "code",
        "outputId": "388618d2-023c-45ba-8ea4-a8bc5a1c2033",
        "colab": {
          "base_uri": "https://localhost:8080/",
          "height": 88
        }
      },
      "cell_type": "code",
      "source": [
        "print(\"The Variety score for NMF is \", \" %.4f \" % get_average_variety(top_10_nmf))\n",
        "print(\"The Variety score for SVD is \", \" %.4f \" % get_average_variety(top_10_svd))\n",
        "print(\"The Variety score for KNN is \", \" %.4f \" % get_average_variety(top_10_knn))\n",
        "print(\"The Variety score for CBM is \", \" %.4f \" % get_average_variety(top_10_cbm))"
      ],
      "execution_count": 36,
      "outputs": [
        {
          "output_type": "stream",
          "text": [
            "The Variety score for NMF is   0.9256\n",
            "The Variety score for SVD is   0.9356\n",
            "The Variety score for KNN is   0.9511\n",
            "The Variety Score for CBM is   0.9553\n"
          ],
          "name": "stdout"
        }
      ]
    },
    {
      "metadata": {
        "id": "yLjEcxBVqExK",
        "colab_type": "text"
      },
      "cell_type": "markdown",
      "source": [
        "The Variety score for Content based model was slightly better than KNN, which was quite higher than the Matrix factorisation based models "
      ]
    },
    {
      "metadata": {
        "id": "fGEEUG9mDdm5",
        "colab_type": "code",
        "outputId": "556c00c7-25cc-4916-fde2-2008bb45f596",
        "colab": {
          "base_uri": "https://localhost:8080/",
          "height": 88
        }
      },
      "cell_type": "code",
      "source": [
        "print(\"The Serendipidy score for NMF is \", \" %.4f \" % get_average_serendipidy(top_10_nmf))\n",
        "print(\"The Serendipidy score for SVD is \", \" %.4f \" % get_average_serendipidy(top_10_svd))\n",
        "print(\"The Serendipidy score for KNN is \", \" %.4f \" % get_average_serendipidy(top_10_knn))\n",
        "print(\"The Serendipidy score for CBM is \", \" %.4f \" % get_average_serendipidy(top_10_cbm))\n"
      ],
      "execution_count": 37,
      "outputs": [
        {
          "output_type": "stream",
          "text": [
            "The Serendipidy score for NMF is   0.9603\n",
            "The Serendipidy score for SVD is   0.9609\n",
            "The Serendipidy score for KNN is   0.9672\n",
            "The Serendipidy score for CBM is   0.9664\n"
          ],
          "name": "stdout"
        }
      ]
    },
    {
      "metadata": {
        "id": "AafOZVnC5A0O",
        "colab_type": "text"
      },
      "cell_type": "markdown",
      "source": [
        "The Seredipidy score for the KNN was slightly higher that the content based model\n",
        "\n",
        "\n",
        "By this we can conclude that the KNN mode is better than the other models as its RMSE score is lower than the other models and its variety and serendipidy score are high most of the time compared to other models."
      ]
    },
    {
      "metadata": {
        "id": "MeOjdhoLdhOj",
        "colab_type": "text"
      },
      "cell_type": "markdown",
      "source": [
        "## Part 5 : Cold Start Problem\n",
        "\n",
        "One of the Engineering concers that we faced during the project, was the Cold Start problem. The cold start problem is faced while trying to recommend beer to users about whom we do not have sufficient information to make an accurate predection. This problem is also faced when the recommendation have to be made for a new user who is using the application for the first time. So, we designed an algorithm which would take over recommending beers to users with no/less reviews, and the switch from cold start algorithm to the main recommendation algorithm would be made once the user has a certain number of reviews\n",
        "\n",
        "Our Solution to the Cold Start problem :\n",
        "https://github.com/ds-personalization/final-project-4571-beer-recommendation/blob/master/Final%20Report/Models/Popularity_cold_start.ipynb"
      ]
    },
    {
      "metadata": {
        "id": "lSsI1N_2fMrr",
        "colab_type": "text"
      },
      "cell_type": "markdown",
      "source": [
        "## Conclusion and Future Scope. \n",
        "\n",
        "In this project, we evaluated 4 different models, that is ,  a NLP Content based model (CBM), a k nearest neighbors based model and a couple of Matrix factorisation based models. Not only we calculated the accuracy metrics for each of the models, we also took aspects like variety and serendipidy into consideration. We also targeted the cold start problem and tried to tackle it effectively\n",
        "\n",
        "The model that we developed uses a cold start popularity based methodlogy for new users and for users with less than 30 reviews. After we get enough data from the user, we switch to the KNN model which has the highest Accuracy and Serendipidy score and asl has a high variety score.\n",
        "\n",
        "As future scope of the project , we can build a front end/website with our model giving beer recomendations to users and also taking reviews from them about the beer that they had \n"
      ]
    }
  ]
}
