{
 "cells": [
  {
   "cell_type": "code",
   "execution_count": 24,
   "metadata": {
    "collapsed": true
   },
   "outputs": [],
   "source": [
    "# python3\n",
    "import gzip\n",
    "import pandas as pd\n",
    "import numpy as np\n",
    "import string\n",
    "from nltk.corpus import stopwords\n",
    "import re\n",
    "from time import time\n",
    "import pickle\n",
    "import operator"
   ]
  },
  {
   "cell_type": "markdown",
   "metadata": {
    "collapsed": true
   },
   "source": [
    "### Loading Data"
   ]
  },
  {
   "cell_type": "code",
   "execution_count": 3,
   "metadata": {
    "collapsed": true
   },
   "outputs": [],
   "source": [
    "with gzip.open('Beeradvocate.txt.gz', 'r') as f:\n",
    "  rb_file = f.readlines()\n",
    "\n",
    "\n",
    "data = []\n",
    "row_out = []\n",
    "stop = stopwords.words('english')\n",
    "\n",
    "for i in rb_file:\n",
    "    row = i.decode('utf-8', errors = 'replace')\n",
    "    #print(row)\n",
    "    if row == '\\n':\n",
    "      data.append(row_out)\n",
    "      row_out = []\n",
    "      continue\n",
    "    cat, field = row.split(\":\", 1)\n",
    "    #remove leading white spaces\n",
    "    field = field.rstrip()\n",
    "    if cat == 'review/text':\n",
    "        #remove tab and newspace characters\n",
    "        field = field.replace('\\t', ' ')\n",
    "        field = field.replace('\\n', '')\n",
    "        \n",
    "        #remove punctuation\n",
    "        \n",
    "        #field = field.translate(str.maketrans('','',string.punctuation)) #this can be used for python 3\n",
    "        #field = field.translate(None, string.punctuation) #this has issues with unicode characters\n",
    "        field = re.sub(r'[^\\w\\s]','',field) #slower but effective\n",
    "        field = field.lower()\n",
    "    row_out.append(field)"
   ]
  },
  {
   "cell_type": "code",
   "execution_count": 4,
   "metadata": {
    "collapsed": true
   },
   "outputs": [],
   "source": [
    "data = pd.DataFrame(data)\n",
    "\n",
    "data.columns = ['beer_name', 'beer_beerId', 'beer_brewer', 'beer_ABV', 'beer_style', \n",
    "                'review_appearance', 'review_aroma', 'review_palate', 'review_taste', \n",
    "                'review_overall', 'review_time', 'review_profileName', 'review_text']\n",
    "\n",
    "\n",
    "corpus = data[['beer_beerId', 'review_text']].groupby('beer_beerId').agg(' '.join)\n",
    "#sample = corpus.iloc[0:1000]"
   ]
  },
  {
   "cell_type": "markdown",
   "metadata": {},
   "source": [
    "# TF-IDF"
   ]
  },
  {
   "cell_type": "markdown",
   "metadata": {},
   "source": [
    "### Calculating TF-IDF scores for entire corpus"
   ]
  },
  {
   "cell_type": "code",
   "execution_count": 5,
   "metadata": {},
   "outputs": [
    {
     "name": "stdout",
     "output_type": "stream",
     "text": [
      "done in 2730.904s.\n"
     ]
    }
   ],
   "source": [
    "import nltk\n",
    "from nltk.stem.snowball import SnowballStemmer\n",
    "from sklearn.feature_extraction.text import TfidfVectorizer\n",
    "\n",
    "stemmer = SnowballStemmer(\"english\")\n",
    "n_features = 500\n",
    "\n",
    "def stem_tokens(tokens, stemmer):\n",
    "    stemmed = []\n",
    "    for item in tokens:\n",
    "        stemmed.append(stemmer.stem(item))\n",
    "    return stemmed\n",
    "\n",
    "def tokenize(text):\n",
    "    tokens = nltk.word_tokenize(text)\n",
    "    stems = stem_tokens(tokens, stemmer)\n",
    "    return stems\n",
    "\n",
    "t0 = time()\n",
    "\n",
    "tfidf_vectorizer = TfidfVectorizer(tokenizer=tokenize, stop_words='english', max_features = n_features)\n",
    "tfidf = tfidf_vectorizer.fit_transform(corpus['review_text'])\n",
    "print(\"done in %0.3fs.\" % (time() - t0))"
   ]
  },
  {
   "cell_type": "markdown",
   "metadata": {},
   "source": [
    "https://scikit-learn.org/stable/auto_examples/applications/plot_topics_extraction_with_nmf_lda.html#sphx-glr-auto-examples-applications-plot-topics-extraction-with-nmf-lda-py"
   ]
  },
  {
   "cell_type": "code",
   "execution_count": 16,
   "metadata": {
    "collapsed": true
   },
   "outputs": [],
   "source": [
    "# save the model to disk\n",
    "filename1 = 'tfidf.sav'\n",
    "filename2 = 'tfidf_vec.sav'\n",
    "pickle.dump(tfidf, open(filename1, 'wb'))\n",
    "pickle.dump(tfidf_vectorizer, open(filename2, 'wb'))"
   ]
  },
  {
   "cell_type": "markdown",
   "metadata": {},
   "source": [
    "### Load TF-IDF scores for entire corpus"
   ]
  },
  {
   "cell_type": "code",
   "execution_count": 17,
   "metadata": {},
   "outputs": [
    {
     "ename": "AttributeError",
     "evalue": "'module' object has no attribute 'tokenize'",
     "output_type": "error",
     "traceback": [
      "\u001b[1;31m---------------------------------------------------------------------------\u001b[0m",
      "\u001b[1;31mAttributeError\u001b[0m                            Traceback (most recent call last)",
      "\u001b[1;32m<ipython-input-17-de36f06254bc>\u001b[0m in \u001b[0;36m<module>\u001b[1;34m()\u001b[0m\n\u001b[0;32m      2\u001b[0m \u001b[0mfilename2\u001b[0m \u001b[1;33m=\u001b[0m \u001b[1;34m'tfidf_vec.sav'\u001b[0m\u001b[1;33m\u001b[0m\u001b[0m\n\u001b[0;32m      3\u001b[0m \u001b[0mtfidf\u001b[0m \u001b[1;33m=\u001b[0m \u001b[0mpickle\u001b[0m\u001b[1;33m.\u001b[0m\u001b[0mload\u001b[0m\u001b[1;33m(\u001b[0m\u001b[0mopen\u001b[0m\u001b[1;33m(\u001b[0m\u001b[0mfilename1\u001b[0m\u001b[1;33m,\u001b[0m \u001b[1;34m'rb'\u001b[0m\u001b[1;33m)\u001b[0m\u001b[1;33m)\u001b[0m\u001b[1;33m\u001b[0m\u001b[0m\n\u001b[1;32m----> 4\u001b[1;33m \u001b[0mtfidf_vectorizer\u001b[0m \u001b[1;33m=\u001b[0m \u001b[0mpickle\u001b[0m\u001b[1;33m.\u001b[0m\u001b[0mload\u001b[0m\u001b[1;33m(\u001b[0m\u001b[0mopen\u001b[0m\u001b[1;33m(\u001b[0m\u001b[0mfilename2\u001b[0m\u001b[1;33m,\u001b[0m \u001b[1;34m'rb'\u001b[0m\u001b[1;33m)\u001b[0m\u001b[1;33m)\u001b[0m\u001b[1;33m\u001b[0m\u001b[0m\n\u001b[0m",
      "\u001b[1;32mE:\\Anaconda2\\lib\\pickle.pyc\u001b[0m in \u001b[0;36mload\u001b[1;34m(file)\u001b[0m\n\u001b[0;32m   1382\u001b[0m \u001b[1;33m\u001b[0m\u001b[0m\n\u001b[0;32m   1383\u001b[0m \u001b[1;32mdef\u001b[0m \u001b[0mload\u001b[0m\u001b[1;33m(\u001b[0m\u001b[0mfile\u001b[0m\u001b[1;33m)\u001b[0m\u001b[1;33m:\u001b[0m\u001b[1;33m\u001b[0m\u001b[0m\n\u001b[1;32m-> 1384\u001b[1;33m     \u001b[1;32mreturn\u001b[0m \u001b[0mUnpickler\u001b[0m\u001b[1;33m(\u001b[0m\u001b[0mfile\u001b[0m\u001b[1;33m)\u001b[0m\u001b[1;33m.\u001b[0m\u001b[0mload\u001b[0m\u001b[1;33m(\u001b[0m\u001b[1;33m)\u001b[0m\u001b[1;33m\u001b[0m\u001b[0m\n\u001b[0m\u001b[0;32m   1385\u001b[0m \u001b[1;33m\u001b[0m\u001b[0m\n\u001b[0;32m   1386\u001b[0m \u001b[1;32mdef\u001b[0m \u001b[0mloads\u001b[0m\u001b[1;33m(\u001b[0m\u001b[0mstr\u001b[0m\u001b[1;33m)\u001b[0m\u001b[1;33m:\u001b[0m\u001b[1;33m\u001b[0m\u001b[0m\n",
      "\u001b[1;32mE:\\Anaconda2\\lib\\pickle.pyc\u001b[0m in \u001b[0;36mload\u001b[1;34m(self)\u001b[0m\n\u001b[0;32m    862\u001b[0m             \u001b[1;32mwhile\u001b[0m \u001b[1;36m1\u001b[0m\u001b[1;33m:\u001b[0m\u001b[1;33m\u001b[0m\u001b[0m\n\u001b[0;32m    863\u001b[0m                 \u001b[0mkey\u001b[0m \u001b[1;33m=\u001b[0m \u001b[0mread\u001b[0m\u001b[1;33m(\u001b[0m\u001b[1;36m1\u001b[0m\u001b[1;33m)\u001b[0m\u001b[1;33m\u001b[0m\u001b[0m\n\u001b[1;32m--> 864\u001b[1;33m                 \u001b[0mdispatch\u001b[0m\u001b[1;33m[\u001b[0m\u001b[0mkey\u001b[0m\u001b[1;33m]\u001b[0m\u001b[1;33m(\u001b[0m\u001b[0mself\u001b[0m\u001b[1;33m)\u001b[0m\u001b[1;33m\u001b[0m\u001b[0m\n\u001b[0m\u001b[0;32m    865\u001b[0m         \u001b[1;32mexcept\u001b[0m \u001b[0m_Stop\u001b[0m\u001b[1;33m,\u001b[0m \u001b[0mstopinst\u001b[0m\u001b[1;33m:\u001b[0m\u001b[1;33m\u001b[0m\u001b[0m\n\u001b[0;32m    866\u001b[0m             \u001b[1;32mreturn\u001b[0m \u001b[0mstopinst\u001b[0m\u001b[1;33m.\u001b[0m\u001b[0mvalue\u001b[0m\u001b[1;33m\u001b[0m\u001b[0m\n",
      "\u001b[1;32mE:\\Anaconda2\\lib\\pickle.pyc\u001b[0m in \u001b[0;36mload_global\u001b[1;34m(self)\u001b[0m\n\u001b[0;32m   1094\u001b[0m         \u001b[0mmodule\u001b[0m \u001b[1;33m=\u001b[0m \u001b[0mself\u001b[0m\u001b[1;33m.\u001b[0m\u001b[0mreadline\u001b[0m\u001b[1;33m(\u001b[0m\u001b[1;33m)\u001b[0m\u001b[1;33m[\u001b[0m\u001b[1;33m:\u001b[0m\u001b[1;33m-\u001b[0m\u001b[1;36m1\u001b[0m\u001b[1;33m]\u001b[0m\u001b[1;33m\u001b[0m\u001b[0m\n\u001b[0;32m   1095\u001b[0m         \u001b[0mname\u001b[0m \u001b[1;33m=\u001b[0m \u001b[0mself\u001b[0m\u001b[1;33m.\u001b[0m\u001b[0mreadline\u001b[0m\u001b[1;33m(\u001b[0m\u001b[1;33m)\u001b[0m\u001b[1;33m[\u001b[0m\u001b[1;33m:\u001b[0m\u001b[1;33m-\u001b[0m\u001b[1;36m1\u001b[0m\u001b[1;33m]\u001b[0m\u001b[1;33m\u001b[0m\u001b[0m\n\u001b[1;32m-> 1096\u001b[1;33m         \u001b[0mklass\u001b[0m \u001b[1;33m=\u001b[0m \u001b[0mself\u001b[0m\u001b[1;33m.\u001b[0m\u001b[0mfind_class\u001b[0m\u001b[1;33m(\u001b[0m\u001b[0mmodule\u001b[0m\u001b[1;33m,\u001b[0m \u001b[0mname\u001b[0m\u001b[1;33m)\u001b[0m\u001b[1;33m\u001b[0m\u001b[0m\n\u001b[0m\u001b[0;32m   1097\u001b[0m         \u001b[0mself\u001b[0m\u001b[1;33m.\u001b[0m\u001b[0mappend\u001b[0m\u001b[1;33m(\u001b[0m\u001b[0mklass\u001b[0m\u001b[1;33m)\u001b[0m\u001b[1;33m\u001b[0m\u001b[0m\n\u001b[0;32m   1098\u001b[0m     \u001b[0mdispatch\u001b[0m\u001b[1;33m[\u001b[0m\u001b[0mGLOBAL\u001b[0m\u001b[1;33m]\u001b[0m \u001b[1;33m=\u001b[0m \u001b[0mload_global\u001b[0m\u001b[1;33m\u001b[0m\u001b[0m\n",
      "\u001b[1;32mE:\\Anaconda2\\lib\\pickle.pyc\u001b[0m in \u001b[0;36mfind_class\u001b[1;34m(self, module, name)\u001b[0m\n\u001b[0;32m   1130\u001b[0m         \u001b[0m__import__\u001b[0m\u001b[1;33m(\u001b[0m\u001b[0mmodule\u001b[0m\u001b[1;33m)\u001b[0m\u001b[1;33m\u001b[0m\u001b[0m\n\u001b[0;32m   1131\u001b[0m         \u001b[0mmod\u001b[0m \u001b[1;33m=\u001b[0m \u001b[0msys\u001b[0m\u001b[1;33m.\u001b[0m\u001b[0mmodules\u001b[0m\u001b[1;33m[\u001b[0m\u001b[0mmodule\u001b[0m\u001b[1;33m]\u001b[0m\u001b[1;33m\u001b[0m\u001b[0m\n\u001b[1;32m-> 1132\u001b[1;33m         \u001b[0mklass\u001b[0m \u001b[1;33m=\u001b[0m \u001b[0mgetattr\u001b[0m\u001b[1;33m(\u001b[0m\u001b[0mmod\u001b[0m\u001b[1;33m,\u001b[0m \u001b[0mname\u001b[0m\u001b[1;33m)\u001b[0m\u001b[1;33m\u001b[0m\u001b[0m\n\u001b[0m\u001b[0;32m   1133\u001b[0m         \u001b[1;32mreturn\u001b[0m \u001b[0mklass\u001b[0m\u001b[1;33m\u001b[0m\u001b[0m\n\u001b[0;32m   1134\u001b[0m \u001b[1;33m\u001b[0m\u001b[0m\n",
      "\u001b[1;31mAttributeError\u001b[0m: 'module' object has no attribute 'tokenize'"
     ]
    }
   ],
   "source": [
    "filename1 = 'tfidf.sav'\n",
    "filename2 = 'tfidf_vec.sav'\n",
    "tfidf = pickle.load(open(filename1, 'rb'))\n",
    "tfidf_vectorizer = pickle.load(open(filename2, 'rb'))"
   ]
  },
  {
   "cell_type": "code",
   "execution_count": 18,
   "metadata": {
    "collapsed": true
   },
   "outputs": [],
   "source": [
    "tfidf_map = {}\n",
    "\n",
    "for i in range(len(corpus.index.values)):\n",
    "    beer_id = corpus.index.values[i]\n",
    "    tfidf_representation = tfidf[i]\n",
    "    tfidf_map[beer_id] = tfidf_representation\n"
   ]
  },
  {
   "cell_type": "code",
   "execution_count": 19,
   "metadata": {},
   "outputs": [
    {
     "name": "stdout",
     "output_type": "stream",
     "text": [
      "worth  -  0.132289435872\n",
      "weak  -  0.154088241374\n",
      "version  -  0.152678808563\n",
      "veri  -  0.215331917163\n",
      "tri  -  0.212743348445\n",
      "tast  -  0.0678432969964\n",
      "sweet  -  0.0755959924884\n",
      "surpris  -  0.128531190268\n",
      "summer  -  0.159678560511\n",
      "slight  -  0.172694031845\n",
      "refresh  -  0.129654822652\n",
      "quick  -  0.113697804939\n",
      "price  -  0.174715567897\n",
      "pour  -  0.074886136979\n",
      "pack  -  0.169589965583\n",
      "ok  -  0.145146601867\n",
      "noth  -  0.121464360211\n",
      "mouthfeel  -  0.166134746361\n",
      "light  -  0.150226065941\n",
      "label  -  0.145138346912\n",
      "ive  -  0.123142704903\n",
      "hue  -  0.135719797946\n",
      "hot  -  0.158946026035\n",
      "hint  -  0.0957592376478\n",
      "head  -  0.0609862675123\n",
      "got  -  0.129526428891\n",
      "gold  -  0.136059505136\n",
      "finish  -  0.0794027912669\n",
      "fine  -  0.133140143708\n",
      "fantast  -  0.173699031481\n",
      "fade  -  0.259184309965\n",
      "especi  -  0.151539116271\n",
      "drinkabl  -  0.179823004406\n",
      "clear  -  0.102573329634\n",
      "clean  -  0.117518032029\n",
      "cap  -  0.140703453935\n",
      "came  -  0.155877402406\n",
      "bottl  -  0.110277904416\n",
      "bodi  -  0.0749501929524\n",
      "best  -  0.120598180068\n",
      "beer  -  0.0672925651618\n",
      "bad  -  0.23194003915\n",
      "aroma  -  0.149483371207\n",
      "appear  -  0.104189588946\n",
      "aftertast  -  0.10984618311\n",
      "acid  -  0.159035752899\n",
      "abov  -  0.15573773853\n",
      "12  -  0.14959852035\n"
     ]
    }
   ],
   "source": [
    "test = corpus.iloc[1001]['review_text']\n",
    "response = tfidf_vectorizer.transform([test])\n",
    "\n",
    "feature_names = tfidf_vectorizer.get_feature_names()\n",
    "for col in response.nonzero()[1]:\n",
    "    print feature_names[col], ' - ', response[0, col]"
   ]
  },
  {
   "cell_type": "markdown",
   "metadata": {},
   "source": [
    "# Training a linear model for each user"
   ]
  },
  {
   "cell_type": "markdown",
   "metadata": {},
   "source": [
    "### Example with one user"
   ]
  },
  {
   "cell_type": "markdown",
   "metadata": {},
   "source": [
    "### Models for all users with >= 10 reviews"
   ]
  },
  {
   "cell_type": "code",
   "execution_count": 77,
   "metadata": {},
   "outputs": [
    {
     "name": "stdout",
     "output_type": "stream",
     "text": [
      "The exact solution is  x = 0                              \n",
      "The exact solution is  x = 0                              \n",
      "The exact solution is  x = 0                              \n",
      "done in 7678.493s.\n"
     ]
    }
   ],
   "source": [
    "#Find beers consumed by each user\n",
    "\n",
    "min_reviews = 10\n",
    "\n",
    "t0 = time()\n",
    "\n",
    "#users = data['review_profileName'].unique()\n",
    "n_by_user = data['review_profileName'].value_counts()\n",
    "users = n_by_users[n_by_users > min_reviews].index.values\n",
    "\n",
    "user_reg= {}\n",
    "\n",
    "for u in users:\n",
    "    reviews = data[data['review_profileName'] == u]\n",
    "    y = reviews['review_overall']\n",
    "    \n",
    "    if len(reviews) < 10:\n",
    "        continue\n",
    "    \n",
    "    X = []\n",
    "    for beer_id in reviews['beer_beerId']:\n",
    "        X.append(tfidf_map[beer_id])\n",
    "        \n",
    "    X = vstack(X)\n",
    "    \n",
    "    X_train, X_test, y_train, y_test = train_test_split(X, y, test_size=0.33, random_state=42)\n",
    "    \n",
    "    reg = LinearRegression().fit(X_train, y_train)\n",
    "    \n",
    "    #calculate RMSE\n",
    "    RMSE = np.sqrt(np.mean((y_test.values.astype(float) - reg.predict(X_test)[0])**2))\n",
    "    \n",
    "    user_reg[u] = {'model': reg, 'rmse': RMSE}\n",
    "    \n",
    "print(\"done in %0.3fs.\" % (time() - t0))"
   ]
  },
  {
   "cell_type": "code",
   "execution_count": 78,
   "metadata": {
    "collapsed": true
   },
   "outputs": [],
   "source": [
    "filename3 = 'user_reg.sav'\n",
    "pickle.dump(user_reg, open(filename3, 'wb'))"
   ]
  },
  {
   "cell_type": "markdown",
   "metadata": {},
   "source": [
    "# Model Evaluation"
   ]
  },
  {
   "cell_type": "markdown",
   "metadata": {},
   "source": [
    "Load linear models from local file"
   ]
  },
  {
   "cell_type": "code",
   "execution_count": 5,
   "metadata": {},
   "outputs": [],
   "source": [
    "user_reg = pickle.load(open('user_reg.sav', 'rb'))"
   ]
  },
  {
   "cell_type": "markdown",
   "metadata": {},
   "source": [
    "Average RMSE by user"
   ]
  },
  {
   "cell_type": "code",
   "execution_count": 6,
   "metadata": {},
   "outputs": [
    {
     "data": {
      "text/plain": [
       "0.95578283614248305"
      ]
     },
     "execution_count": 6,
     "metadata": {},
     "output_type": "execute_result"
    }
   ],
   "source": [
    "#average RMSE by user\n",
    "np.mean([value['rmse'] for index, value in user_reg.iteritems()])"
   ]
  },
  {
   "cell_type": "code",
   "execution_count": 8,
   "metadata": {
    "collapsed": true
   },
   "outputs": [],
   "source": [
    "#number of reviews by user\n",
    "n_by_users = data['review_profileName'].value_counts()\n",
    "#only users with > 10 reviews\n",
    "n_by_users = pd.DataFrame(n_by_users[n_by_users > 10])\n",
    "n_by_users = n_by_users.rename(columns = {'review_profileName': 'n_reviews'})\n",
    "\n",
    "#add the RMSE for each user\n",
    "rmse = []\n",
    "\n",
    "for user in n_by_users.index.values:\n",
    "    rmse.append(user_reg[user]['rmse'])\n",
    "    \n",
    "n_by_users['rmse'] = rmse"
   ]
  },
  {
   "cell_type": "markdown",
   "metadata": {},
   "source": [
    "Grouping users by number of reviews"
   ]
  },
  {
   "cell_type": "code",
   "execution_count": 9,
   "metadata": {},
   "outputs": [
    {
     "data": {
      "text/html": [
       "<div>\n",
       "<style>\n",
       "    .dataframe thead tr:only-child th {\n",
       "        text-align: right;\n",
       "    }\n",
       "\n",
       "    .dataframe thead th {\n",
       "        text-align: left;\n",
       "    }\n",
       "\n",
       "    .dataframe tbody tr th {\n",
       "        vertical-align: top;\n",
       "    }\n",
       "</style>\n",
       "<table border=\"1\" class=\"dataframe\">\n",
       "  <thead>\n",
       "    <tr style=\"text-align: right;\">\n",
       "      <th></th>\n",
       "      <th>n_users</th>\n",
       "    </tr>\n",
       "    <tr>\n",
       "      <th>review_group</th>\n",
       "      <th></th>\n",
       "    </tr>\n",
       "  </thead>\n",
       "  <tbody>\n",
       "    <tr>\n",
       "      <th>11-20</th>\n",
       "      <td>2665</td>\n",
       "    </tr>\n",
       "    <tr>\n",
       "      <th>21-30</th>\n",
       "      <td>1375</td>\n",
       "    </tr>\n",
       "    <tr>\n",
       "      <th>31-40</th>\n",
       "      <td>868</td>\n",
       "    </tr>\n",
       "    <tr>\n",
       "      <th>41-50</th>\n",
       "      <td>550</td>\n",
       "    </tr>\n",
       "    <tr>\n",
       "      <th>51-100</th>\n",
       "      <td>1604</td>\n",
       "    </tr>\n",
       "    <tr>\n",
       "      <th>101-200</th>\n",
       "      <td>1264</td>\n",
       "    </tr>\n",
       "    <tr>\n",
       "      <th>201-500</th>\n",
       "      <td>1158</td>\n",
       "    </tr>\n",
       "    <tr>\n",
       "      <th>501-1000</th>\n",
       "      <td>454</td>\n",
       "    </tr>\n",
       "    <tr>\n",
       "      <th>1001-2000</th>\n",
       "      <td>202</td>\n",
       "    </tr>\n",
       "    <tr>\n",
       "      <th>2001-6000</th>\n",
       "      <td>50</td>\n",
       "    </tr>\n",
       "  </tbody>\n",
       "</table>\n",
       "</div>"
      ],
      "text/plain": [
       "              n_users\n",
       "review_group         \n",
       "11-20            2665\n",
       "21-30            1375\n",
       "31-40             868\n",
       "41-50             550\n",
       "51-100           1604\n",
       "101-200          1264\n",
       "201-500          1158\n",
       "501-1000          454\n",
       "1001-2000         202\n",
       "2001-6000          50"
      ]
     },
     "execution_count": 9,
     "metadata": {},
     "output_type": "execute_result"
    }
   ],
   "source": [
    "#group users in bins by number of reviews\n",
    "bins = [10, 20, 30, 40, 50, 100, 200, 500, 1000, 2000, 6000]\n",
    "labels = ['11-20', '21-30', '31-40', '41-50', '51-100', '101-200', '201-500', '501-1000', '1001-2000', '2001-6000']\n",
    "n_by_users['review_group'] = pd.cut(n_by_users['n_reviews'], bins = bins, labels = labels)\n",
    "\n",
    "\n",
    "#find the number of users by bin\n",
    "n_by_users[['rmse', 'review_group']].groupby('review_group').count().rename(columns = {'rmse': 'n_users'})\n"
   ]
  },
  {
   "cell_type": "code",
   "execution_count": 11,
   "metadata": {},
   "outputs": [
    {
     "data": {
      "text/html": [
       "<div>\n",
       "<style>\n",
       "    .dataframe thead tr:only-child th {\n",
       "        text-align: right;\n",
       "    }\n",
       "\n",
       "    .dataframe thead th {\n",
       "        text-align: left;\n",
       "    }\n",
       "\n",
       "    .dataframe tbody tr th {\n",
       "        vertical-align: top;\n",
       "    }\n",
       "</style>\n",
       "<table border=\"1\" class=\"dataframe\">\n",
       "  <thead>\n",
       "    <tr style=\"text-align: right;\">\n",
       "      <th></th>\n",
       "      <th>rmse</th>\n",
       "    </tr>\n",
       "    <tr>\n",
       "      <th>review_group</th>\n",
       "      <th></th>\n",
       "    </tr>\n",
       "  </thead>\n",
       "  <tbody>\n",
       "    <tr>\n",
       "      <th>11-20</th>\n",
       "      <td>0.857098</td>\n",
       "    </tr>\n",
       "    <tr>\n",
       "      <th>21-30</th>\n",
       "      <td>0.856729</td>\n",
       "    </tr>\n",
       "    <tr>\n",
       "      <th>31-40</th>\n",
       "      <td>0.835981</td>\n",
       "    </tr>\n",
       "    <tr>\n",
       "      <th>41-50</th>\n",
       "      <td>0.880876</td>\n",
       "    </tr>\n",
       "    <tr>\n",
       "      <th>51-100</th>\n",
       "      <td>0.893078</td>\n",
       "    </tr>\n",
       "    <tr>\n",
       "      <th>101-200</th>\n",
       "      <td>0.949864</td>\n",
       "    </tr>\n",
       "    <tr>\n",
       "      <th>201-500</th>\n",
       "      <td>1.077986</td>\n",
       "    </tr>\n",
       "    <tr>\n",
       "      <th>501-1000</th>\n",
       "      <td>2.135085</td>\n",
       "    </tr>\n",
       "    <tr>\n",
       "      <th>1001-2000</th>\n",
       "      <td>1.108471</td>\n",
       "    </tr>\n",
       "    <tr>\n",
       "      <th>2001-6000</th>\n",
       "      <td>0.777930</td>\n",
       "    </tr>\n",
       "  </tbody>\n",
       "</table>\n",
       "</div>"
      ],
      "text/plain": [
       "                  rmse\n",
       "review_group          \n",
       "11-20         0.857098\n",
       "21-30         0.856729\n",
       "31-40         0.835981\n",
       "41-50         0.880876\n",
       "51-100        0.893078\n",
       "101-200       0.949864\n",
       "201-500       1.077986\n",
       "501-1000      2.135085\n",
       "1001-2000     1.108471\n",
       "2001-6000     0.777930"
      ]
     },
     "execution_count": 11,
     "metadata": {},
     "output_type": "execute_result"
    }
   ],
   "source": [
    "#find the mean rmse by bin\n",
    "n_by_users[['rmse', 'review_group']].groupby('review_group').mean()"
   ]
  },
  {
   "cell_type": "code",
   "execution_count": 30,
   "metadata": {},
   "outputs": [
    {
     "data": {
      "text/plain": [
       "<matplotlib.axes._subplots.AxesSubplot at 0xf5c77fd0>"
      ]
     },
     "execution_count": 30,
     "metadata": {},
     "output_type": "execute_result"
    },
    {
     "data": {
      "image/png": "[encoded data removed]",
      "text/plain": [
       "<Figure size 432x288 with 1 Axes>"
      ]
     },
     "metadata": {
      "needs_background": "light"
     },
     "output_type": "display_data"
    }
   ],
   "source": [
    "#plot mean RMSE by user count (WITHOUT bins)\n",
    "rmse_by_reviewcount = n_by_users.groupby('n_reviews').mean()\n",
    "rmse_by_reviewcount.plot.line()"
   ]
  },
  {
   "cell_type": "code",
   "execution_count": 14,
   "metadata": {},
   "outputs": [
    {
     "data": {
      "text/html": [
       "<div>\n",
       "<style>\n",
       "    .dataframe thead tr:only-child th {\n",
       "        text-align: right;\n",
       "    }\n",
       "\n",
       "    .dataframe thead th {\n",
       "        text-align: left;\n",
       "    }\n",
       "\n",
       "    .dataframe tbody tr th {\n",
       "        vertical-align: top;\n",
       "    }\n",
       "</style>\n",
       "<table border=\"1\" class=\"dataframe\">\n",
       "  <thead>\n",
       "    <tr style=\"text-align: right;\">\n",
       "      <th></th>\n",
       "      <th>rmse</th>\n",
       "    </tr>\n",
       "    <tr>\n",
       "      <th>review_group</th>\n",
       "      <th></th>\n",
       "    </tr>\n",
       "  </thead>\n",
       "  <tbody>\n",
       "    <tr>\n",
       "      <th>11-20</th>\n",
       "      <td>0.857098</td>\n",
       "    </tr>\n",
       "    <tr>\n",
       "      <th>21-30</th>\n",
       "      <td>0.856729</td>\n",
       "    </tr>\n",
       "    <tr>\n",
       "      <th>31-40</th>\n",
       "      <td>0.835981</td>\n",
       "    </tr>\n",
       "    <tr>\n",
       "      <th>41-50</th>\n",
       "      <td>0.880876</td>\n",
       "    </tr>\n",
       "    <tr>\n",
       "      <th>51-100</th>\n",
       "      <td>0.893078</td>\n",
       "    </tr>\n",
       "    <tr>\n",
       "      <th>101-200</th>\n",
       "      <td>0.949864</td>\n",
       "    </tr>\n",
       "    <tr>\n",
       "      <th>201-500</th>\n",
       "      <td>1.077986</td>\n",
       "    </tr>\n",
       "    <tr>\n",
       "      <th>501-1000</th>\n",
       "      <td>2.135085</td>\n",
       "    </tr>\n",
       "    <tr>\n",
       "      <th>1001-2000</th>\n",
       "      <td>1.108471</td>\n",
       "    </tr>\n",
       "    <tr>\n",
       "      <th>2001-6000</th>\n",
       "      <td>0.777930</td>\n",
       "    </tr>\n",
       "  </tbody>\n",
       "</table>\n",
       "</div>"
      ],
      "text/plain": [
       "                  rmse\n",
       "review_group          \n",
       "11-20         0.857098\n",
       "21-30         0.856729\n",
       "31-40         0.835981\n",
       "41-50         0.880876\n",
       "51-100        0.893078\n",
       "101-200       0.949864\n",
       "201-500       1.077986\n",
       "501-1000      2.135085\n",
       "1001-2000     1.108471\n",
       "2001-6000     0.777930"
      ]
     },
     "execution_count": 14,
     "metadata": {},
     "output_type": "execute_result"
    }
   ],
   "source": [
    "#plot mean RMSE by user count (with bins)\n",
    "rmse_by_reviewgroup = n_by_users[['rmse', 'review_group']].groupby('review_group').mean()\n",
    "\n",
    "rmse_by_reviewgroup\n",
    "#rmse_by_reviewgroup.plot.line()"
   ]
  },
  {
   "cell_type": "markdown",
   "metadata": {},
   "source": [
    "### Building recommendations for a subset of users"
   ]
  },
  {
   "cell_type": "code",
   "execution_count": 21,
   "metadata": {},
   "outputs": [],
   "source": [
    "user_subset = [ ' bronco94', \n",
    "                ' t8s8l8', \n",
    "                ' kkrez', \n",
    "                ' SERENGETI', \n",
    "                ' uabigdaz',\n",
    "                ' dmbfrat420beers',\n",
    "                ' Graham21',\n",
    "                ' Roderick',\n",
    "                ' linnet',\n",
    "                ' clarkm04',\n",
    "                ' nickynick',\n",
    "                ' jdoncbus',\n",
    "                ' cavedave',\n",
    "                ' JohnnyDuvel',\n",
    "                ' craytonic',\n",
    "                ' Phelps',\n",
    "                ' rastaman',\n",
    "                ' twiggamortis420',\n",
    "                ' mikesgroove',\n",
    "                ' weeare138']"
   ]
  },
  {
   "cell_type": "code",
   "execution_count": 28,
   "metadata": {},
   "outputs": [],
   "source": [
    "user_recs = {}\n",
    "\n",
    "for user in user_subset:\n",
    "    #get the model for that user\n",
    "    model = user_reg[user]['model']\n",
    "    #find predicted scores for each beer\n",
    "    beer_scores = {}\n",
    "    for beer_id, features in tfidf_map.iteritems():\n",
    "        beer_scores[beer_id] = model.predict(features)[0]\n",
    "        \n",
    "    #user_beer_scores[user] = beer_scores\n",
    "    user_recs[user] = [x[0] for x in sorted(beer_scores.items(), key=operator.itemgetter(1), reverse = True)[0:10]]\n",
    "\n",
    "#pickle.dump(user_recs, open('text_recs.sav', 'wb'))"
   ]
  },
  {
   "cell_type": "code",
   "execution_count": 50,
   "metadata": {},
   "outputs": [
    {
     "name": "stdout",
     "output_type": "stream",
     "text": [
      " rastaman\n",
      "\t Bourbon Oaked Stout;  American Double / Imperial Stout\n",
      "\t Bourbon Barrel Big Stone Stout;  American Stout\n",
      "\t Barrel Aged Run For The Roses;  Irish Dry Stout\n",
      "\t Ole Woody;  American IPA\n",
      "\t Bourbon Barrel Aged Stout;  American Double / Imperial Stout\n",
      "\t Red Racer Bourbon Barrel Aged Imperial Porter;  Baltic Porter\n",
      "\t Bourbon Barrel Porter;  American Porter\n",
      "\t Smoked Goose (Barrel Aged);  Belgian Pale Ale\n",
      "\t Thomas Jefferson's Tavern Ale (Bourbon Barrel Aged);  American Strong Ale\n",
      "\t Bourbon Barrel Aged Espresso Stout;  American Stout\n",
      "\n",
      "\n",
      " dmbfrat420beers\n",
      "\t IPA;  English India Pale Ale (IPA)\n",
      "\t Ahopalypse Now IPA;  American IPA\n",
      "\t Old Salt IPA;  American IPA\n",
      "\t Black IPA;  American IPA\n",
      "\t Schlafly Centennial ESB;  Extra Special / Strong Bitter (ESB)\n",
      "\t Dry Stout;  Irish Dry Stout\n",
      "\t Starkers IPA;  American IPA\n",
      "\t I.P.A.;  American IPA\n",
      "\t Black Shag Stout;  Foreign / Export Stout\n",
      "\t India Export Ale;  English India Pale Ale (IPA)\n",
      "\n",
      "\n",
      " cavedave\n",
      "\t Skye Strong Ale;  American Double / Imperial IPA\n",
      "\t Oatmeal Stout;  Oatmeal Stout\n",
      "\t It's A Grand Day;  Herbed / Spiced Beer\n",
      "\t Indy's Strong Golden Ale;  American Strong Ale\n",
      "\t 1900 Spéciale Bonnes Fêtes;  Belgian Strong Pale Ale\n",
      "\t Riverside Red;  American Amber / Red Ale\n",
      "\t Red Bell Hefe Weizen;  Hefeweizen\n",
      "\t Mystery Tor;  English Bitter\n",
      "\t Trojan Pale Ale;  American Pale Ale (APA)\n",
      "\t Winter Wobbler 2010;  Baltic Porter\n",
      "\n",
      "\n",
      " JohnnyDuvel\n",
      "\t Special Reserve Ale;  American Pale Ale (APA)\n",
      "\t Connemara Irish Red Ale;  Irish Red Ale\n",
      "\t Traffic Jam Slam Dunkel;  Munich Dunkel Lager\n",
      "\t Peachball;  American Pale Wheat Ale\n",
      "\t Sas Pils;  Czech Pilsener\n",
      "\t South Peach;  Lambic - Fruit\n",
      "\t Auld Hemp;  English Bitter\n",
      "\t Titanium Wheat;  American Pale Wheat Ale\n",
      "\t Pure Pilsen;  German Pilsener\n",
      "\t Flying Monkeys Sailor’s Warning;  Saison / Farmhouse Ale\n",
      "\n",
      "\n",
      " jdoncbus\n",
      "\t Ramsbottom Strong Ale;  English Pale Ale\n",
      "\t Red;  American Amber / Red Ale\n",
      "\t Stocking Filler;  English Bitter\n",
      "\t Dark Chocolate Stout;  American Stout\n",
      "\t Fair Weather Pale Ale;  American Pale Ale (APA)\n",
      "\t Rye Rye Captain Golden Ale;  Rye Beer\n",
      "\t Berrow BBBB (4B - Berrow Brewery Best Bitter);  English Bitter\n",
      "\t 1060 EZ Taxation Ale;  Fruit / Vegetable Beer\n",
      "\t Old Granny Smith, Green Apple Ale;  Fruit / Vegetable Beer\n",
      "\t Motor City Motor Oil;  Flanders Oud Bruin\n",
      "\n",
      "\n",
      " clarkm04\n",
      "\t Chipotle Porter;  Chile Beer\n",
      "\t Church Brew Viper Spice Pale Ale;  American Pale Ale (APA)\n",
      "\t Northern Lights Honey Spice;  Herbed / Spiced Beer\n",
      "\t Tri-Pepper Pilsener;  Chile Beer\n",
      "\t Elm City Chili Cerveza;  Chile Beer\n",
      "\t JavaPeno Imperial Stout;  American Double / Imperial Stout\n",
      "\t Extra Special Pepper;  Chile Beer\n",
      "\t Kuhnhenn Alien Ale;  Chile Beer\n",
      "\t The Yaz;  Belgian Pale Ale\n",
      "\t Serrano Pepper Ale;  Chile Beer\n",
      "\n",
      "\n",
      " Phelps\n",
      "\t Harvard De Garde;  Bière de Garde\n",
      "\t Nelson Sauvin Golden Ale;  English Bitter\n",
      "\t MacLean's Barleymow Bitter;  English Bitter\n",
      "\t Piast Wroc&#322;awski;  Euro Pale Lager\n",
      "\t Brahva;  American Adjunct Lager\n",
      "\t Organic Belgian Pale;  Belgian Pale Ale\n",
      "\t Octoberfest;  Märzen / Oktoberfest\n",
      "\t Rousse D'Hiver;  Herbed / Spiced Beer\n",
      "\t Huber Weisses Leicht;  Hefeweizen\n",
      "\t Pacific Pearl - The All Black's Stout;  English Stout\n",
      "\n",
      "\n",
      " Graham21\n",
      "\t Doppel Ernst Imperial Alt;  Altbier\n",
      "\t Short's Saison;  Saison / Farmhouse Ale\n",
      "\t Zàgara;  Belgian Pale Ale\n",
      "\t Tribute Pale Ale;  American Pale Ale (APA)\n",
      "\t Big Muddy Vanilla Stout;  American Stout\n",
      "\t St. Nick's Treasure;  Herbed / Spiced Beer\n",
      "\t Partridge In A Spice Tree;  Herbed / Spiced Beer\n",
      "\t Magnificent Amber;  American Amber / Red Ale\n",
      "\t Alesmith Speedway Stout - Vanilla And Coconut;  American Double / Imperial Stout\n",
      "\t Belgian Wheat;  Witbier\n",
      "\n",
      "\n",
      " twiggamortis420\n",
      "\t Oatmeal Stout;  Oatmeal Stout\n",
      "\t Ye Olde Trout;  English Bitter\n",
      "\t McCoy's Oatmeal Stout;  Oatmeal Stout\n",
      "\t Zonker Stout 2002;  Foreign / Export Stout\n",
      "\t Creamy Stout;  English Stout\n",
      "\t Grizzly Peak Baltic Porter;  Baltic Porter\n",
      "\t Duits & Lauret Rook Dubbelbock;  Doppelbock\n",
      "\t The Redeye Irish Red Ale;  Irish Red Ale\n",
      "\t Hapi Super-Dried Corn Beer;  American Adjunct Lager\n",
      "\t Flat Rock Brewing Company - Inclined Plane Ale;  American Pale Ale (APA)\n",
      "\n",
      "\n",
      " nickynick\n",
      "\t Marzen Lager;  Märzen / Oktoberfest\n",
      "\t Eichbaum Maibock;  Maibock / Helles Bock\n",
      "\t Borodinskiy Kvas;  Kvass\n",
      "\t Vienna Lager;  Vienna Lager\n",
      "\t Belgian Gold;  Belgian Pale Ale\n",
      "\t Black Bull Russian Imperial Stout;  American Double / Imperial Stout\n",
      "\t Rusty Roadrunner Lager;  Munich Dunkel Lager\n",
      "\t Masthead Island Pils;  German Pilsener\n",
      "\t Charles River Porter With Cascade;  American Porter\n",
      "\t Belgian Grand Cru;  Belgian Pale Ale\n",
      "\n",
      "\n",
      " SERENGETI\n",
      "\t Jamesport Altbier;  Altbier\n",
      "\t Post Rock Pilsner;  Czech Pilsener\n",
      "\t Braumeister Pils - Saaz;  Czech Pilsener\n",
      "\t Reininghaus Jahrgangspils;  German Pilsener\n",
      "\t St. Hildegard Pils;  German Pilsener\n",
      "\t Marynka Pils;  Czech Pilsener\n",
      "\t Fürsten Pils;  German Pilsener\n",
      "\t CBC Braumeister Pils Select (Tettnanger Hops);  German Pilsener\n",
      "\t Kloster Pilsener;  German Pilsener\n",
      "\t Hallertauer Pils;  German Pilsener\n",
      "\n",
      "\n",
      " weeare138\n",
      "\t Milk Stout;  Milk / Sweet Stout\n",
      "\t Cambridge House Brown Cow Stout;  Milk / Sweet Stout\n",
      "\t Holy Herb;  Saison / Farmhouse Ale\n",
      "\t Flatbac;  English Bitter\n",
      "\t Mikey T's \"Black Helmet\" Schwartz Bier;  Schwarzbier\n",
      "\t Räuberchen Blond;  Dortmunder / Export Lager\n",
      "\t Longhop;  English Bitter\n",
      "\t Rousse D'Hiver;  Herbed / Spiced Beer\n",
      "\t Sky Chutes Strong Ale;  American IPA\n",
      "\t Final Frontier IIPA;  American Double / Imperial IPA\n",
      "\n",
      "\n",
      " Roderick\n",
      "\t Kapel Van Viven Bruin;  Flanders Oud Bruin\n",
      "\t Kongens Bryg;  Herbed / Spiced Beer\n",
      "\t IKALE;  Dortmunder / Export Lager\n",
      "\t Premium;  Euro Pale Lager\n",
      "\t Ben Franklin Brown;  English Brown Ale\n",
      "\t Double R Ale;  Belgian Strong Dark Ale\n",
      "\t Loteling Bruin;  Belgian Strong Dark Ale\n",
      "\t Henry Weinhard's Blackberry Wheat;  Fruit / Vegetable Beer\n",
      "\t Jet Black;  English Dark Mild Ale\n",
      "\t Catherine The Great W/Sour Cherries;  Belgian Strong Dark Ale\n",
      "\n",
      "\n",
      " t8s8l8\n",
      "\t Blue Skies In Brugge;  Fruit / Vegetable Beer\n",
      "\t Belgian Chicory Stout;  Belgian Dark Ale\n",
      "\t Holiday Belgian;  Belgian Strong Dark Ale\n",
      "\t La Morgat Blanche;  Witbier\n",
      "\t Mr. Punch;  Belgian Dark Ale\n",
      "\t Belgian Crush;  Belgian Pale Ale\n",
      "\t Tun Tavern Bullie's Brown Ale;  English Brown Ale\n",
      "\t Blonde;  Belgian Pale Ale\n",
      "\t Belgian Old Ale;  Belgian Strong Pale Ale\n",
      "\t Dark Horse Belgian Amber;  Belgian Dark Ale\n",
      "\n",
      "\n",
      " bronco94\n",
      "\t Wäls Quadruppel;  Quadrupel (Quad)\n",
      "\t Aiken Abbey Ale;  Dubbel\n",
      "\t Belgian Tripel;  Tripel\n",
      "\t Mild Brown;  American Brown Ale\n",
      "\t M Belgian-Style Barleywine;  American Barleywine\n",
      "\t Barefoot Buddha;  Belgian Strong Dark Ale\n",
      "\t Solebay Celebratory Beer;  English Barleywine\n",
      "\t Belgian Dubbel;  Dubbel\n",
      "\t Abbaye D'Aulne Alleluia;  Belgian Strong Dark Ale\n",
      "\t Dark Belgian Ale;  Belgian Strong Dark Ale\n",
      "\n",
      "\n",
      " uabigdaz\n",
      "\t Hop Light;  American Blonde Ale\n",
      "\t Summer Shot;  Happoshu\n",
      "\t Kirke;  English Bitter\n",
      "\t Flood Light;  Light Lager\n",
      "\t Rocky River Pirate Light;  American Blonde Ale\n",
      "\t Pacifico Light;  American Adjunct Lager\n",
      "\t The Novice Light;  Light Lager\n",
      "\t Irie IPA;  American IPA\n",
      "\t Double Elimination;  American Double / Imperial IPA\n",
      "\t Kire;  Happoshu\n",
      "\n",
      "\n",
      " craytonic\n",
      "\t Embrasse Peated Oak Aged;  Belgian Strong Dark Ale\n",
      "\t Gosser Radler;  Fruit / Vegetable Beer\n",
      "\t Red Ale;  American Amber / Red Ale\n",
      "\t Felony IPA;  American IPA\n",
      "\t Cucapá Imperio;  Belgian Strong Dark Ale\n",
      "\t Jager Dunkel;  Dunkelweizen\n",
      "\t Buckler 0%;  Low Alcohol Beer\n",
      "\t Imperial Fresh Hop Rye P.A.;  American Double / Imperial IPA\n",
      "\t Mother-Chugga';  American Amber / Red Ale\n",
      "\t Monumental;  English Pale Ale\n",
      "\n",
      "\n",
      " mikesgroove\n",
      "\t Apple Lambic;  Lambic - Fruit\n",
      "\t Tourmaline Abbey Ale;  Dubbel\n",
      "\t Abbaye D'Aulne Val De Sambre Ambrée 6°;  Belgian Pale Ale\n",
      "\t Dunkle;  Munich Dunkel Lager\n",
      "\t 13;  Fruit / Vegetable Beer\n",
      "\t Strawberry Cream;  Fruit / Vegetable Beer\n",
      "\t Undun Blonde;  American Blonde Ale\n",
      "\t Hefewiezen;  Hefeweizen\n",
      "\t Welly Weather;  English Bitter\n",
      "\t Bière I.P.A.;  American IPA\n",
      "\n",
      "\n",
      " linnet\n",
      "\t Java Joe's Porter;  American Porter\n",
      "\t Sputnik;  Russian Imperial Stout\n",
      "\t Old Percolator Coffee Porter;  American Porter\n",
      "\t Coffee Infused Imperial Stout Trooper;  American Double / Imperial Stout\n",
      "\t Roaster's Rebellion;  American Stout\n",
      "\t Picture City Porter;  American Porter\n",
      "\t Mocha Porter;  American Porter\n",
      "\t Edenton Coffee Stout;  American Double / Imperial Stout\n",
      "\t Victory Village;  American Brown Ale\n",
      "\t Coffee Stout;  American Stout\n",
      "\n",
      "\n",
      " kkrez\n",
      "\t Kadath Decoded;  American Double / Imperial Stout\n",
      "\t Barrel Aged Wee Heavy;  Scotch Ale / Wee Heavy\n",
      "\t Biertruppe Vintage;  American Barleywine\n",
      "\t Milly's Tennessee TNT;  American Barleywine\n",
      "\t Oak Aged Nut Brown (Wine Barrel Aged);  American Brown Ale\n",
      "\t Lemon Sour;  American Wild Ale\n",
      "\t Barrel-Aged Russian Imperial Stout;  Russian Imperial Stout\n",
      "\t Barrel Aged Aaaaah Bock;  Bock\n",
      "\t Monkfish Triple (Barrel Aged);  Tripel\n",
      "\t Cabby Boysenberry;  Dubbel\n",
      "\n",
      "\n"
     ]
    }
   ],
   "source": [
    "beer_id_map = data[['beer_name', 'beer_beerId', 'beer_style']].drop_duplicates().set_index('beer_beerId')\n",
    "\n",
    "text_recs = {}\n",
    "\n",
    "for user, recs in user_recs.iteritems():\n",
    "    top_10 = []\n",
    "    print user\n",
    "    for beer_id in recs:\n",
    "        beer_name = beer_id_map.loc[beer_id]['beer_name']\n",
    "        beer_style = beer_id_map.loc[beer_id]['beer_style']\n",
    "        top_10.append(beer_name)\n",
    "        print ('\\t' + beer_name+ '; ' + beer_style)\n",
    "    print '\\n'\n",
    "    text_recs[user] = top_10\n"
   ]
  },
  {
   "cell_type": "code",
   "execution_count": 52,
   "metadata": {},
   "outputs": [],
   "source": [
    "pickle.dump(text_recs, open('text_recs.sav', 'wb'))"
   ]
  }
 ],
 "metadata": {
  "kernelspec": {
   "display_name": "Python 2",
   "language": "python",
   "name": "python2"
  },
  "language_info": {
   "codemirror_mode": {
    "name": "ipython",
    "version": 2
   },
   "file_extension": ".py",
   "mimetype": "text/x-python",
   "name": "python",
   "nbconvert_exporter": "python",
   "pygments_lexer": "ipython2",
   "version": "2.7.13"
  }
 },
 "nbformat": 4,
 "nbformat_minor": 2
}
