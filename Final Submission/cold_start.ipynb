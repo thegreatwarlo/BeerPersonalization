{
 "cells": [
  {
   "cell_type": "markdown",
   "metadata": {},
   "source": [
    "# Cold Start Problem"
   ]
  },
  {
   "cell_type": "markdown",
   "metadata": {},
   "source": [
    "One of the Engineering concers that we faced during the project, was the Cold Start problem. The cold start problem is faced while trying to recommend beer to users about whom we do not have sufficient information to make an accurate predection. This problem is also faced when the recommendation have to be made for a new user who is using the application for the first time. So, we designed an algorithm which would take over recommending beers to users with no/less reviews, and the switch from cold start algorithm to the main recommendation algorithm would be made once the user has a certain number of review "
   ]
  },
  {
   "cell_type": "code",
   "execution_count": 1,
   "metadata": {},
   "outputs": [],
   "source": [
    "# read .csv into python\n",
    "import pandas as pd\n",
    "import numpy as np\n",
    "import operator\n",
    "import os\n",
    "import gzip\n",
    "import re"
   ]
  },
  {
   "cell_type": "code",
   "execution_count": 2,
   "metadata": {},
   "outputs": [],
   "source": [
    "with gzip.open('../Beeradvocate.txt.gz', 'r') as f:\n",
    "  rb_file = f.readlines()\n",
    "\n",
    "\n",
    "data = []\n",
    "row_out = []\n",
    "\n",
    "for i in rb_file:\n",
    "    row = i.decode('utf-8', errors = 'replace')\n",
    "    #print(row)\n",
    "    if row == '\\n':\n",
    "      data.append(row_out)\n",
    "      row_out = []\n",
    "      continue\n",
    "    cat, field = row.split(\":\", 1)\n",
    "    #remove leading white spaces\n",
    "    field = field.rstrip()\n",
    "    row_out.append(field)"
   ]
  },
  {
   "cell_type": "code",
   "execution_count": 3,
   "metadata": {},
   "outputs": [
    {
     "name": "stdout",
     "output_type": "stream",
     "text": [
      "(1586614, 5)\n"
     ]
    }
   ],
   "source": [
    "data = pd.DataFrame(data)\n",
    "\n",
    "data.columns = ['beer_name', 'beer_beerId', 'beer_brewer', 'beer_ABV', 'beer_style', \n",
    "                'review_appearance', 'review_aroma', 'review_palate', 'review_taste', \n",
    "                'review_overall', 'review_time', 'review_profileName', 'review_text']\n",
    "\n",
    "# keep 3 columns: user name, beer name, overall score\n",
    "data2 = data[['beer_name', 'review_profileName', 'review_overall', 'review_time', 'beer_style']]\n",
    "\n",
    "m = 33382 # number of users\n",
    "n = 56855 # Number of items\n",
    "# remove NA\n",
    "data2 = data2[pd.notnull(data2.beer_name)]\n",
    "data2 = data2[pd.notnull(data2.review_profileName)]\n",
    "data2 = data2[pd.notnull(data2.review_overall)]\n",
    "print(data2.shape)\n"
   ]
  },
  {
   "cell_type": "code",
   "execution_count": 4,
   "metadata": {
    "scrolled": true
   },
   "outputs": [
    {
     "name": "stdout",
     "output_type": "stream",
     "text": [
      "(1586606, 5)\n"
     ]
    }
   ],
   "source": [
    "# keep top 1000/33382 frequent users\n",
    "user = data2.review_profileName.value_counts()\n",
    "user_list = user.keys()[:m].tolist()\n",
    "\n",
    "# keep top 100/56855 most reviewed beer\n",
    "beer = data2.beer_name.value_counts()[:n]\n",
    "beer_list = beer.keys()[:n].tolist()\n",
    "\n",
    "# keep (beer&user) pair in (user_list) and (beer_list)\n",
    "subdata = data2[data2.beer_name.isin(beer_list)]\n",
    "subdata = subdata[subdata.review_profileName.isin(user_list)]\n",
    "\n",
    "# sort by user names\n",
    "subdata = subdata.sort_values(by=['review_profileName','beer_name','review_time','beer_style'])\n",
    "\n",
    "print(subdata.shape)"
   ]
  },
  {
   "cell_type": "markdown",
   "metadata": {},
   "source": [
    "## Pre-calculated values during downtime of the recommendation system or once a day (Batch) \n",
    "\n",
    "The below algorithm calculates the top 10 beers for each beer type based on its popularity. If a particular beer in a beer type has been reviewed for more than 50 times, the beer is considered for the popularity score calcuation. The popularity score is calucated by taking the average of all the reviews that the particular beer has been given. \n",
    "\n",
    "Apart from this, a separate overall top 10 beer based on the same popularity algorithm is also calculated.\n"
   ]
  },
  {
   "cell_type": "code",
   "execution_count": 5,
   "metadata": {},
   "outputs": [],
   "source": [
    "\n",
    "Beer_styles = list(set(subdata['beer_style']))\n",
    "Popular = {}\n",
    "popdict = {}\n",
    "for style in Beer_styles:\n",
    "    new_data = subdata[subdata['beer_style'] == style]\n",
    "    beers = list(set(new_data['beer_name']))\n",
    "    tempdict = {}\n",
    "    for beer in beers:\n",
    "        beerdata = new_data[new_data['beer_name'] == beer]\n",
    "        if len(beerdata) > 50:\n",
    "            val = (pd.to_numeric(beerdata['review_overall']).sum())/len(beerdata)\n",
    "            tempdict[beer] = val\n",
    "            popdict[beer] = val\n",
    "    newA = list(sorted(tempdict.items(), key=operator.itemgetter(1), reverse=True)[:10])\n",
    "    Popular[style] = newA\n",
    "\n",
    "Most_popular = list(sorted(popdict.items(), key=operator.itemgetter(1), reverse=True)[:10])\n",
    "\n",
    "   \n"
   ]
  },
  {
   "cell_type": "code",
   "execution_count": 6,
   "metadata": {
    "scrolled": true
   },
   "outputs": [
    {
     "data": {
      "text/plain": [
       "[(\" Armand'4 Oude Geuze Lente (Spring)\", 4.730769230769231),\n",
       " (' Hoppy Birthday', 4.684615384615385),\n",
       " (' Geuze Cuvée J&J (Joost En Jessie) Blauw (Blue)', 4.633802816901408),\n",
       " (' Citra DIPA', 4.630952380952381),\n",
       " (' Cantillon Blåbær Lambik', 4.628205128205129),\n",
       " (' Veritas 004', 4.626506024096385),\n",
       " (' Heady Topper', 4.6257995735607675),\n",
       " (' Deviation - Bottleworks 9th Anniversary', 4.620535714285714),\n",
       " (' Trappist Westvleteren 12', 4.617924528301887),\n",
       " (' King Henry', 4.61734693877551)]"
      ]
     },
     "execution_count": 6,
     "metadata": {},
     "output_type": "execute_result"
    }
   ],
   "source": [
    "Most_popular"
   ]
  },
  {
   "cell_type": "markdown",
   "metadata": {},
   "source": [
    "### List of all beer types "
   ]
  },
  {
   "cell_type": "code",
   "execution_count": 7,
   "metadata": {},
   "outputs": [
    {
     "name": "stdout",
     "output_type": "stream",
     "text": [
      "0 -  English Bitter\n",
      "1 -  Smoked Beer\n",
      "2 -  Bière de Garde\n",
      "3 -  English Barleywine\n",
      "4 -  American Double / Imperial Pilsner\n",
      "5 -  Belgian Dark Ale\n",
      "6 -  Herbed / Spiced Beer\n",
      "7 -  Oatmeal Stout\n",
      "8 -  English Pale Ale\n",
      "9 -  Märzen / Oktoberfest\n",
      "10 -  American Amber / Red Lager\n",
      "11 -  Lambic - Fruit\n",
      "12 -  Winter Warmer\n",
      "13 -  Scotch Ale / Wee Heavy\n",
      "14 -  Baltic Porter\n",
      "15 -  Munich Helles Lager\n",
      "16 -  Quadrupel (Quad)\n",
      "17 -  Cream Ale\n",
      "18 -  Rauchbier\n",
      "19 -  Belgian Strong Dark Ale\n",
      "20 -  Berliner Weissbier\n",
      "21 -  Flanders Red Ale\n",
      "22 -  Weizenbock\n",
      "23 -  Light Lager\n",
      "24 -  American IPA\n",
      "25 -  English Dark Mild Ale\n",
      "26 -  American Barleywine\n",
      "27 -  Irish Red Ale\n",
      "28 -  Munich Dunkel Lager\n",
      "29 -  Belgian Strong Pale Ale\n",
      "30 -  Faro\n",
      "31 -  American Double / Imperial IPA\n",
      "32 -  Kristalweizen\n",
      "33 -  Japanese Rice Lager\n",
      "34 -  Euro Dark Lager\n",
      "35 -  American Porter\n",
      "36 -  Foreign / Export Stout\n",
      "37 -  American Double / Imperial Stout\n",
      "38 -  Bock\n",
      "39 -  Saison / Farmhouse Ale\n",
      "40 -  American Strong Ale\n",
      "41 -  Lambic - Unblended\n",
      "42 -  Sahti\n",
      "43 -  American Pale Ale (APA)\n",
      "44 -  Scottish Gruit / Ancient Herbed Ale\n",
      "45 -  American Brown Ale\n",
      "46 -  Witbier\n",
      "47 -  American Dark Wheat Ale\n",
      "48 -  Dubbel\n",
      "49 -  Maibock / Helles Bock\n",
      "50 -  Dortmunder / Export Lager\n",
      "51 -  English Brown Ale\n",
      "52 -  English Stout\n",
      "53 -  Hefeweizen\n",
      "54 -  Gueuze\n",
      "55 -  Bière de Champagne / Bière Brut\n",
      "56 -  American Stout\n",
      "57 -  Tripel\n",
      "58 -  American Blonde Ale\n",
      "59 -  Rye Beer\n",
      "60 -  Scottish Ale\n",
      "61 -  Czech Pilsener\n",
      "62 -  Milk / Sweet Stout\n",
      "63 -  American Pale Lager\n",
      "64 -  Black & Tan\n",
      "65 -  California Common / Steam Beer\n",
      "66 -  Euro Pale Lager\n",
      "67 -  Dunkelweizen\n",
      "68 -  Doppelbock\n",
      "69 -  Keller Bier / Zwickel Bier\n",
      "70 -  American Wild Ale\n",
      "71 -  Belgian IPA\n",
      "72 -  Russian Imperial Stout\n",
      "73 -  Pumpkin Ale\n",
      "74 -  Kvass\n",
      "75 -  Irish Dry Stout\n",
      "76 -  Low Alcohol Beer\n",
      "77 -  Euro Strong Lager\n",
      "78 -  Schwarzbier\n",
      "79 -  German Pilsener\n",
      "80 -  Vienna Lager\n",
      "81 -  American Black Ale\n",
      "82 -  Gose\n",
      "83 -  Old Ale\n",
      "84 -  English Strong Ale\n",
      "85 -  Roggenbier\n",
      "86 -  Eisbock\n",
      "87 -  Fruit / Vegetable Beer\n",
      "88 -  American Pale Wheat Ale\n",
      "89 -  Altbier\n",
      "90 -  Wheatwine\n",
      "91 -  English India Pale Ale (IPA)\n",
      "92 -  Extra Special / Strong Bitter (ESB)\n",
      "93 -  Happoshu\n",
      "94 -  Kölsch\n",
      "95 -  American Malt Liquor\n",
      "96 -  American Amber / Red Ale\n",
      "97 -  Chile Beer\n",
      "98 -  English Pale Mild Ale\n",
      "99 -  Flanders Oud Bruin\n",
      "100 -  American Adjunct Lager\n",
      "101 -  English Porter\n",
      "102 -  Braggot\n",
      "103 -  Belgian Pale Ale\n"
     ]
    }
   ],
   "source": [
    "for i in range(len(Beer_styles)):\n",
    "    print(str(i) + \" - \" +Beer_styles[i])"
   ]
  },
  {
   "cell_type": "markdown",
   "metadata": {},
   "source": [
    "### Cold Start Algorithm \n",
    "\n",
    "The cold start algorithm has been designed in such a way that the recommendations are made based on the most popular beers available, as well as the users beer type preference. Let us look at the algorithm with a case by case basis.\n",
    "\n",
    "** 1 - New user **\n",
    "\n",
    "When a new user requests for a recommendation, the user is given a list of all the beer types. The user is expected to give 0, 1 or 2 beer types as input to the algorithm\n",
    "\n",
    "- If the user does not give any beer types, he is recommended the 10 most popular beers that are available.\n",
    "- If the user gives 1 beer type, then he is recommended the top 5 most popular beers and the top 5 most popular beer from the beer type that is opted for by the user. \n",
    "- If the user gives 2 beer types, then he is recommended the top 5 most popular beers, top 3 beers from the first selected beer type and 2 beers from the second selected beer type\n",
    "\n",
    "\n",
    "** 2 - Returning user with less than 30 reviews. **\n",
    "\n",
    "When a returning user with less than 30 review requests for a recomendation, the algorithm looks at the reviews that the user has already given to check the users preferred beer type. Based on the Beer type that the user has had the most, he is recommended the top 5 most popular beers and the top 5 most popular beer from that beer type.\n",
    "\n",
    "** 3 - Returning user with more than 30 reviews. **\n",
    "\n",
    "When a returning user with less than 30 review requests for a recomendation, the recomendation algorithm switches from the cold-start algorithm to other algorithms.\n",
    "\n",
    "\n",
    "- Note 1: The recommendation are not repetitive. If a beer is present in top 5 most popular beer, and the user selects it beer type, the next beer in order for the particular beer type will be recommended. \n",
    "\n",
    "- Note 2: If a beer type has less than number of beers to be suggested in its most popular beers, the rest of the slots in the recommendation ar filled by the most popular beer list. \n"
   ]
  },
  {
   "cell_type": "code",
   "execution_count": 8,
   "metadata": {},
   "outputs": [],
   "source": [
    "def cold_start(name, flag, demand = \"\"):\n",
    "    recommendation = [item[0] for item in Most_popular[:5]]\n",
    "    if flag == 0:\n",
    "        types = demand.split(\",\")\n",
    "        if demand == \"\": \n",
    "            recommendation = [item[0] for item in Most_popular[:10]]\n",
    "            \n",
    "        elif len(types) == 1:\n",
    "            i = 0\n",
    "            while((len(recommendation) < 10) and (len(Popular[Beer_styles[int(types[0])]]) > i)):\n",
    "                if Popular[Beer_styles[int(types[0])]][i][0] not in recommendation:\n",
    "                        recommendation.append(Popular[Beer_styles[int(types[0])]][i][0])\n",
    "                i = i + 1\n",
    "\n",
    "        elif len(types) == 2:\n",
    "            i = 0\n",
    "            while((len(recommendation) < 8) and (len(Popular[Beer_styles[int(types[0])]]) > i)):\n",
    "                if Popular[Beer_styles[int(types[0])]][i][0] not in recommendation:\n",
    "                    recommendation.append(Popular[Beer_styles[int(types[0])]][i][0])\n",
    "                i = i + 1\n",
    "                \n",
    "            while((len(recommendation) < 10) and (len(Popular[Beer_styles[int(types[1])]]) > i)):\n",
    "                if Popular[Beer_styles[int(types[1])]][i][0] not in recommendation:\n",
    "                    recommendation.append(Popular[Beer_styles[int(types[1])]][i][0])\n",
    "                i = i + 1\n",
    "        \n",
    "    elif flag == 1: \n",
    "        new_data = subdata[subdata['review_profileName'] == name]\n",
    "        main_beer_style = new_data.groupby(\"beer_style\")['beer_name'].count().reset_index(name='count').sort_values(['count'], ascending=False).head(1)\n",
    "        i = 0\n",
    "        while(len(recommendation) < 10):\n",
    "            if Popular[main_beer_style.iloc[0]['beer_style']][i][0] not in recommendation and Popular[main_beer_style.iloc[0]['beer_style']][i][0] not in new_data['beer_name'].values:\n",
    "                    recommendation.append(Popular[main_beer_style.iloc[0]['beer_style']][i][0])\n",
    "            i = i + 1\n",
    "    \n",
    "    i = 5\n",
    "    while(len(recommendation) < 10):\n",
    "        if Most_popular[i][0] not in recommendation:\n",
    "            recommendation.append(Most_popular[i][0])\n",
    "        i = i+ 1\n",
    "    return recommendation\n"
   ]
  },
  {
   "cell_type": "markdown",
   "metadata": {},
   "source": [
    "Now let us look at each of the cases mentioned above"
   ]
  },
  {
   "cell_type": "markdown",
   "metadata": {},
   "source": [
    "**Case 1 : New user with no beer type selected  **"
   ]
  },
  {
   "cell_type": "code",
   "execution_count": 9,
   "metadata": {},
   "outputs": [
    {
     "data": {
      "text/plain": [
       "[\" Armand'4 Oude Geuze Lente (Spring)\",\n",
       " ' Hoppy Birthday',\n",
       " ' Geuze Cuvée J&J (Joost En Jessie) Blauw (Blue)',\n",
       " ' Citra DIPA',\n",
       " ' Cantillon Blåbær Lambik',\n",
       " ' Veritas 004',\n",
       " ' Heady Topper',\n",
       " ' Deviation - Bottleworks 9th Anniversary',\n",
       " ' Trappist Westvleteren 12',\n",
       " ' King Henry']"
      ]
     },
     "execution_count": 9,
     "metadata": {},
     "output_type": "execute_result"
    }
   ],
   "source": [
    "cold_start(\"User 1\", 0 , \"\")"
   ]
  },
  {
   "cell_type": "markdown",
   "metadata": {},
   "source": [
    "As mentioned, the user here is recommended the most popular beer types"
   ]
  },
  {
   "cell_type": "markdown",
   "metadata": {},
   "source": [
    "**Case 2 : New user with 1 beer type selected. Let us assume the users optes for English India Pale Ale (IPA) - code 10**"
   ]
  },
  {
   "cell_type": "code",
   "execution_count": 10,
   "metadata": {},
   "outputs": [
    {
     "data": {
      "text/plain": [
       "[\" Armand'4 Oude Geuze Lente (Spring)\",\n",
       " ' Hoppy Birthday',\n",
       " ' Geuze Cuvée J&J (Joost En Jessie) Blauw (Blue)',\n",
       " ' Citra DIPA',\n",
       " ' Cantillon Blåbær Lambik',\n",
       " ' Brooklyn Lager',\n",
       " ' Hopfenmalz',\n",
       " ' Creemore Springs Premium Lager',\n",
       " ' Riverwest Stein Beer',\n",
       " ' Winter Skål']"
      ]
     },
     "execution_count": 10,
     "metadata": {},
     "output_type": "execute_result"
    }
   ],
   "source": [
    "cold_start(\"User 2\", 0 , \"10\")"
   ]
  },
  {
   "cell_type": "markdown",
   "metadata": {},
   "source": [
    "The first 5 recommendations are the from the most popular list and the next 5 recommendations are the top 5 from the English India Pale Ale (IPA) beer type"
   ]
  },
  {
   "cell_type": "markdown",
   "metadata": {},
   "source": [
    "**Case 3 : New user with 2 beer types selected. Let us assume the users optes for English India Pale Ale (IPA) - code 10 and American Dark Wheat Ale - code 25**"
   ]
  },
  {
   "cell_type": "code",
   "execution_count": 11,
   "metadata": {},
   "outputs": [
    {
     "data": {
      "text/plain": [
       "[\" Armand'4 Oude Geuze Lente (Spring)\",\n",
       " ' Hoppy Birthday',\n",
       " ' Geuze Cuvée J&J (Joost En Jessie) Blauw (Blue)',\n",
       " ' Citra DIPA',\n",
       " ' Cantillon Blåbær Lambik',\n",
       " ' Brooklyn Lager',\n",
       " ' Hopfenmalz',\n",
       " ' Creemore Springs Premium Lager',\n",
       " ' Harpoon Brown Session Ale',\n",
       " ' Brawler Pugilist Style Ale']"
      ]
     },
     "execution_count": 11,
     "metadata": {},
     "output_type": "execute_result"
    }
   ],
   "source": [
    "# for a new user\n",
    "cold_start(\"Assdas\", 0 , \"10,25\")\n"
   ]
  },
  {
   "cell_type": "markdown",
   "metadata": {},
   "source": [
    "The first 5 recommendations are the from the most popular list, the next 3 recommendations slots are filled by top 3 from the English India Pale Ale (IPA) beer type and the last 2 are filled from American Dark Wheat Ale beer type"
   ]
  },
  {
   "cell_type": "markdown",
   "metadata": {},
   "source": [
    "**For returning users with less than 30 reviews**\n",
    "\n",
    "Let us look at the case of Hayward who has 12 reivews. It really difficult to recommend beer with such a small set of information about the user. "
   ]
  },
  {
   "cell_type": "code",
   "execution_count": 12,
   "metadata": {
    "scrolled": true
   },
   "outputs": [
    {
     "name": "stdout",
     "output_type": "stream",
     "text": [
      "12\n"
     ]
    }
   ],
   "source": [
    "print(len(subdata[subdata[\"review_profileName\"] == \" Hayward\"]))\n"
   ]
  },
  {
   "cell_type": "code",
   "execution_count": 13,
   "metadata": {},
   "outputs": [
    {
     "data": {
      "text/html": [
       "<div>\n",
       "<style scoped>\n",
       "    .dataframe tbody tr th:only-of-type {\n",
       "        vertical-align: middle;\n",
       "    }\n",
       "\n",
       "    .dataframe tbody tr th {\n",
       "        vertical-align: top;\n",
       "    }\n",
       "\n",
       "    .dataframe thead th {\n",
       "        text-align: right;\n",
       "    }\n",
       "</style>\n",
       "<table border=\"1\" class=\"dataframe\">\n",
       "  <thead>\n",
       "    <tr style=\"text-align: right;\">\n",
       "      <th></th>\n",
       "      <th>beer_name</th>\n",
       "    </tr>\n",
       "    <tr>\n",
       "      <th>beer_style</th>\n",
       "      <th></th>\n",
       "    </tr>\n",
       "  </thead>\n",
       "  <tbody>\n",
       "    <tr>\n",
       "      <th>American Amber / Red Ale</th>\n",
       "      <td>1</td>\n",
       "    </tr>\n",
       "    <tr>\n",
       "      <th>American Brown Ale</th>\n",
       "      <td>1</td>\n",
       "    </tr>\n",
       "    <tr>\n",
       "      <th>American IPA</th>\n",
       "      <td>4</td>\n",
       "    </tr>\n",
       "    <tr>\n",
       "      <th>American Strong Ale</th>\n",
       "      <td>1</td>\n",
       "    </tr>\n",
       "    <tr>\n",
       "      <th>Dortmunder / Export Lager</th>\n",
       "      <td>1</td>\n",
       "    </tr>\n",
       "    <tr>\n",
       "      <th>German Pilsener</th>\n",
       "      <td>3</td>\n",
       "    </tr>\n",
       "    <tr>\n",
       "      <th>Maibock / Helles Bock</th>\n",
       "      <td>1</td>\n",
       "    </tr>\n",
       "  </tbody>\n",
       "</table>\n",
       "</div>"
      ],
      "text/plain": [
       "                            beer_name\n",
       "beer_style                           \n",
       " American Amber / Red Ale           1\n",
       " American Brown Ale                 1\n",
       " American IPA                       4\n",
       " American Strong Ale                1\n",
       " Dortmunder / Export Lager          1\n",
       " German Pilsener                    3\n",
       " Maibock / Helles Bock              1"
      ]
     },
     "execution_count": 13,
     "metadata": {},
     "output_type": "execute_result"
    }
   ],
   "source": [
    "subdata[subdata[\"review_profileName\"] == \" Hayward\"][[\"beer_style\", \"beer_name\"]].groupby(\"beer_style\").count()"
   ]
  },
  {
   "cell_type": "markdown",
   "metadata": {},
   "source": [
    "Hayward has had American IPA 4 times. Hence the algorithm selects that beer type as American IPA and recommends the most popular American IPA beers along with the most popular beers"
   ]
  },
  {
   "cell_type": "code",
   "execution_count": 14,
   "metadata": {
    "scrolled": true
   },
   "outputs": [
    {
     "data": {
      "text/plain": [
       "[\" Armand'4 Oude Geuze Lente (Spring)\",\n",
       " ' Hoppy Birthday',\n",
       " ' Geuze Cuvée J&J (Joost En Jessie) Blauw (Blue)',\n",
       " ' Citra DIPA',\n",
       " ' Cantillon Blåbær Lambik',\n",
       " ' Masala Mama India Pale Ale',\n",
       " \" O'Brien's IPA\",\n",
       " ' Sculpin India Pale Ale',\n",
       " ' White Rajah',\n",
       " ' Nelson']"
      ]
     },
     "execution_count": 14,
     "metadata": {},
     "output_type": "execute_result"
    }
   ],
   "source": [
    "# for a old user ( Assuming he has less reviews)\n",
    "cold_start(\" Hayward\", 1)\n"
   ]
  }
 ],
 "metadata": {
  "kernelspec": {
   "display_name": "Python 3",
   "language": "python",
   "name": "python3"
  },
  "language_info": {
   "codemirror_mode": {
    "name": "ipython",
    "version": 3
   },
   "file_extension": ".py",
   "mimetype": "text/x-python",
   "name": "python",
   "nbconvert_exporter": "python",
   "pygments_lexer": "ipython3",
   "version": "3.6.5"
  }
 },
 "nbformat": 4,
 "nbformat_minor": 2
}
